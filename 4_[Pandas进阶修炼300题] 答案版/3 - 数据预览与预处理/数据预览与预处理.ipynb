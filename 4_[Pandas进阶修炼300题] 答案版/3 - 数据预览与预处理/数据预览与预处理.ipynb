{
 "cells": [
  {
   "cell_type": "markdown",
   "metadata": {},
   "source": [
    "# pandas 进阶修炼 ｜早起Python\n",
    "<br>\n",
    "\n",
    "**本习题由公众号【早起Python & 可视化图鉴】 原创，转载及其他形式合作请与我们联系（微信号`sshs321`)，未经授权严禁搬运及二次创作，侵权必究！**\n",
    "\n",
    "\n",
    "\n",
    "本习题基于 `pandas` 版本 `1.1.3`，所有内容应当在 `Jupyter Notebook` 中执行以获得最佳效果。\n",
    "\n",
    "不同版本之间写法可能会有少许不同，如若碰到此情况，你应该学会如何自行检索解决。"
   ]
  },
  {
   "cell_type": "markdown",
   "metadata": {},
   "source": [
    "# 3 - 数据预览与预处理\n",
    "<br>\n",
    "\n",
    "在拿到数据第一步当然是对数据做一个大概的浏览，以及对缺失值重复值进行相关处理。\n",
    "\n",
    "本小节就将练习这部分的基本操作。\n",
    "\n",
    "注意1：为了尽可能多的介绍不同方法，因此本节部分操作不是必须的。\n",
    "\n",
    "注意2:当进入到 pandas 操作数据时，很多答案并非唯一也并非最优。\n",
    " "
   ]
  },
  {
   "cell_type": "markdown",
   "metadata": {},
   "source": [
    "## 初始化\n",
    "\n",
    "<br>\n",
    "\n",
    "该 `Notebook` 版本为**习题+答案版**\n",
    "\n",
    "\n",
    "请执行下方单元格以初始化读取本节习题的答案\n",
    "\n",
    "执行完毕后，你可以使用 `ans(1)` 来查看第 1 题的参考解答，其余习题类似。\n",
    "\n",
    "注意：所有答案并非固定（唯一），我提供的答案仅供参考（并非推荐答案或者最优解）\n",
    "\n",
    "如果发现任何错误或者你有更好的解答，可以微信搜索公众号「早起Python」提交以获得奖励！\n"
   ]
  },
  {
   "cell_type": "code",
   "execution_count": 105,
   "metadata": {},
   "outputs": [
    {
     "name": "stdout",
     "output_type": "stream",
     "text": [
      "***************正在初始化***************\n",
      "*************读取到配置文件*************\n",
      "***************初始化成功***************\n"
     ]
    }
   ],
   "source": [
    "import sys\n",
    "sys.path.append('../document/')\n",
    "from inits import initialize,ans\n",
    "\n",
    "res = initialize(\"../document/answer-3.txt\")"
   ]
  },
  {
   "cell_type": "markdown",
   "metadata": {},
   "source": [
    "## 加载数据"
   ]
  },
  {
   "cell_type": "code",
   "execution_count": null,
   "metadata": {},
   "outputs": [],
   "source": [
    "import pandas as pd\n",
    "df = pd.read_excel(\"TOP250.xlsx\")"
   ]
  },
  {
   "cell_type": "markdown",
   "metadata": {},
   "source": [
    "## 数据查看"
   ]
  },
  {
   "cell_type": "markdown",
   "metadata": {},
   "source": [
    "### 1 - 查看数据维度\n",
    "\n",
    "先看看数据多少行，多少列，对接下来的处理量心里有个数"
   ]
  },
  {
   "cell_type": "code",
   "execution_count": null,
   "metadata": {
    "scrolled": true
   },
   "outputs": [],
   "source": [
    "# 查看列\n",
    "df.shape[1]\n",
    "# 查看行\n",
    "df.shape[0]"
   ]
  },
  {
   "cell_type": "markdown",
   "metadata": {},
   "source": [
    "### 2 - 随机查看5条数据"
   ]
  },
  {
   "cell_type": "code",
   "execution_count": null,
   "metadata": {
    "scrolled": true
   },
   "outputs": [],
   "source": [
    "df.sample(5)"
   ]
  },
  {
   "cell_type": "markdown",
   "metadata": {},
   "source": [
    "### 3 - 查看数据前后5行"
   ]
  },
  {
   "cell_type": "code",
   "execution_count": null,
   "metadata": {
    "scrolled": true
   },
   "outputs": [],
   "source": [
    "# 前五行\n",
    "df.head(5)\n",
    "# 后5行\n",
    "df.tail(5)"
   ]
  },
  {
   "cell_type": "markdown",
   "metadata": {},
   "source": [
    "### 4 - 查看数据基本信息\n",
    "\n",
    "看看数据类型，有无缺失值什么的"
   ]
  },
  {
   "cell_type": "code",
   "execution_count": null,
   "metadata": {
    "scrolled": true
   },
   "outputs": [],
   "source": [
    "df.info()"
   ]
  },
  {
   "cell_type": "markdown",
   "metadata": {},
   "source": [
    "### 5 - 查看数据统计信息｜数值\n",
    "\n",
    "查看 **数值型** 列的统计信息，计数、均值什么的"
   ]
  },
  {
   "cell_type": "code",
   "execution_count": null,
   "metadata": {
    "scrolled": true
   },
   "outputs": [],
   "source": [
    "df.describe()\n",
    "# 转置\n",
    "df.describe().round(2).T"
   ]
  },
  {
   "cell_type": "markdown",
   "metadata": {},
   "source": [
    "### 6 - 查看数据统计信息｜离散\n",
    "\n",
    "查看 **离散型** 列的统计信息，计数、频率什么"
   ]
  },
  {
   "cell_type": "code",
   "execution_count": null,
   "metadata": {
    "scrolled": true
   },
   "outputs": [],
   "source": [
    "# include=['O']: 统计离散型变量的统计特征；include=['all']：数值型和离散型特征的统计都显示\n",
    "df.describe(include='O')\n",
    "# df.describe(include='all')"
   ]
  },
  {
   "cell_type": "markdown",
   "metadata": {},
   "source": [
    "### 7 - 查看数据统计信息｜整体\n",
    "\n",
    "查看 **全部** 列的统计信息"
   ]
  },
  {
   "cell_type": "code",
   "execution_count": null,
   "metadata": {
    "scrolled": true
   },
   "outputs": [],
   "source": [
    "df.describe(include='all')"
   ]
  },
  {
   "cell_type": "markdown",
   "metadata": {},
   "source": [
    "## 缺失值处理"
   ]
  },
  {
   "cell_type": "markdown",
   "metadata": {},
   "source": [
    "### 8 - 计算缺失值｜总计"
   ]
  },
  {
   "cell_type": "markdown",
   "metadata": {},
   "source": [
    "通过上面的查看，我们发现部分列是存在缺失值的，那么先看看一共存在多少个缺失值"
   ]
  },
  {
   "cell_type": "code",
   "execution_count": null,
   "metadata": {},
   "outputs": [],
   "source": [
    "df.isna().sum().sum()"
   ]
  },
  {
   "cell_type": "markdown",
   "metadata": {},
   "source": [
    "### 9 - 计算缺失值｜分列\n",
    "\n",
    "再看看具体每列有多少缺失值"
   ]
  },
  {
   "cell_type": "code",
   "execution_count": null,
   "metadata": {
    "scrolled": true
   },
   "outputs": [],
   "source": [
    "df.isna().sum()\n",
    "# df.isnull().sum()"
   ]
  },
  {
   "cell_type": "markdown",
   "metadata": {},
   "source": [
    "### 10 - 查看缺失值\n",
    "\n",
    "</br>\n",
    "\n",
    "为了后面更方便的处理缺失值，现在先看看全部缺失值所在的行"
   ]
  },
  {
   "cell_type": "code",
   "execution_count": 110,
   "metadata": {},
   "outputs": [
    {
     "data": {
      "text/html": [
       "<div>\n",
       "<style scoped>\n",
       "    .dataframe tbody tr th:only-of-type {\n",
       "        vertical-align: middle;\n",
       "    }\n",
       "\n",
       "    .dataframe tbody tr th {\n",
       "        vertical-align: top;\n",
       "    }\n",
       "\n",
       "    .dataframe thead th {\n",
       "        text-align: right;\n",
       "    }\n",
       "</style>\n",
       "<table border=\"1\" class=\"dataframe\">\n",
       "  <thead>\n",
       "    <tr style=\"text-align: right;\">\n",
       "      <th></th>\n",
       "      <th>片名</th>\n",
       "      <th>上映年份</th>\n",
       "      <th>评分</th>\n",
       "      <th>评价人数</th>\n",
       "      <th>导演</th>\n",
       "      <th>编剧</th>\n",
       "      <th>主演</th>\n",
       "      <th>类型</th>\n",
       "      <th>国家/地区</th>\n",
       "      <th>语言</th>\n",
       "      <th>时长(分钟)</th>\n",
       "    </tr>\n",
       "  </thead>\n",
       "  <tbody>\n",
       "    <tr>\n",
       "      <th>6</th>\n",
       "      <td>千与千寻</td>\n",
       "      <td>2001</td>\n",
       "      <td>9.4</td>\n",
       "      <td>1822369.0</td>\n",
       "      <td>宫崎骏</td>\n",
       "      <td>宫崎骏</td>\n",
       "      <td>柊瑠美 / 入野自由 / 夏木真理 / 菅原文太 / 中村彰男 / 玉井夕海 / 神木隆之介...</td>\n",
       "      <td>剧情 / 动画 / 奇幻</td>\n",
       "      <td>日本</td>\n",
       "      <td>日语</td>\n",
       "      <td>NaN</td>\n",
       "    </tr>\n",
       "    <tr>\n",
       "      <th>20</th>\n",
       "      <td>教父</td>\n",
       "      <td>1972</td>\n",
       "      <td>9.3</td>\n",
       "      <td>756991.0</td>\n",
       "      <td>弗朗西斯·福特·科波拉</td>\n",
       "      <td>马里奥·普佐 / 弗朗西斯·福特·科波拉</td>\n",
       "      <td>马龙·白兰度 / 阿尔·帕西诺 / 詹姆斯·肯恩 / 理查德·卡斯特尔诺 / 罗伯特·杜瓦尔...</td>\n",
       "      <td>剧情 / 犯罪</td>\n",
       "      <td>美国</td>\n",
       "      <td>英语</td>\n",
       "      <td>NaN</td>\n",
       "    </tr>\n",
       "    <tr>\n",
       "      <th>22</th>\n",
       "      <td>龙猫</td>\n",
       "      <td>1988</td>\n",
       "      <td>9.2</td>\n",
       "      <td>1032307.0</td>\n",
       "      <td>宫崎骏</td>\n",
       "      <td>宫崎骏</td>\n",
       "      <td>日高法子 / 坂本千夏 / 糸井重里 / 岛本须美 / 北林谷荣 / 高木均 / 雨笠利幸 ...</td>\n",
       "      <td>动画 / 奇幻 / 冒险</td>\n",
       "      <td>日本</td>\n",
       "      <td>日语</td>\n",
       "      <td>NaN</td>\n",
       "    </tr>\n",
       "    <tr>\n",
       "      <th>31</th>\n",
       "      <td>乱世佳人</td>\n",
       "      <td>1939</td>\n",
       "      <td>9.3</td>\n",
       "      <td>556888.0</td>\n",
       "      <td>维克多·弗莱明 / 乔治·库克 / 山姆·伍德</td>\n",
       "      <td>玛格丽特·米歇尔 / 西德尼·霍华德 / 奥利弗·H·P·加勒特 / 本·赫克特 / 乔·斯...</td>\n",
       "      <td>费雯·丽 / 克拉克·盖博 / 奥利维娅·德哈维兰 / 托马斯·米切尔 / 芭芭拉·欧内尔 ...</td>\n",
       "      <td>剧情 / 爱情 / 历史 / 战争</td>\n",
       "      <td>美国</td>\n",
       "      <td>英语</td>\n",
       "      <td>NaN</td>\n",
       "    </tr>\n",
       "    <tr>\n",
       "      <th>43</th>\n",
       "      <td>我不是药神</td>\n",
       "      <td>2018</td>\n",
       "      <td>9.0</td>\n",
       "      <td>1696301.0</td>\n",
       "      <td>文牧野</td>\n",
       "      <td>韩家女 / 钟伟 / 文牧野</td>\n",
       "      <td>徐峥 / 王传君 / 周一围 / 谭卓 / 章宇 / 杨新鸣 / 王佳佳 / 王砚辉 / 贾...</td>\n",
       "      <td>剧情 / 喜剧</td>\n",
       "      <td>NaN</td>\n",
       "      <td>汉语普通话</td>\n",
       "      <td>NaN</td>\n",
       "    </tr>\n",
       "    <tr>\n",
       "      <th>53</th>\n",
       "      <td>狮子王</td>\n",
       "      <td>1994</td>\n",
       "      <td>9.0</td>\n",
       "      <td>665020.0</td>\n",
       "      <td>罗杰·阿勒斯 / 罗伯·明可夫</td>\n",
       "      <td>艾琳·梅琪 / 乔纳森·罗伯特  / 琳达·伍尔芙顿</td>\n",
       "      <td>乔纳森·泰勒·托马斯 / 马修·布罗德里克 / 杰瑞米·艾恩斯 / 詹姆斯·厄尔·琼斯 / ...</td>\n",
       "      <td>动画 / 歌舞 / 冒险</td>\n",
       "      <td>NaN</td>\n",
       "      <td>英语</td>\n",
       "      <td>89.0</td>\n",
       "    </tr>\n",
       "    <tr>\n",
       "      <th>113</th>\n",
       "      <td>无人知晓</td>\n",
       "      <td>2004</td>\n",
       "      <td>9.1</td>\n",
       "      <td>233881.0</td>\n",
       "      <td>是枝裕和</td>\n",
       "      <td>是枝裕和</td>\n",
       "      <td>柳乐优弥 / 北浦爱 / 木村飞影 / 清水萌萌子 / 韩英惠 / 江原由希子 / 串田和美...</td>\n",
       "      <td>剧情</td>\n",
       "      <td>日本</td>\n",
       "      <td>日语</td>\n",
       "      <td>NaN</td>\n",
       "    </tr>\n",
       "    <tr>\n",
       "      <th>189</th>\n",
       "      <td>海街日记</td>\n",
       "      <td>2015</td>\n",
       "      <td>8.8</td>\n",
       "      <td>335964.0</td>\n",
       "      <td>是枝裕和</td>\n",
       "      <td>是枝裕和 / 吉田秋生</td>\n",
       "      <td>绫濑遥 / 长泽雅美 / 夏帆 / 广濑铃 / 大竹忍 / 堤真一 / 加濑亮 / 风吹淳 ...</td>\n",
       "      <td>剧情 / 家庭</td>\n",
       "      <td>NaN</td>\n",
       "      <td>日语</td>\n",
       "      <td>127.0</td>\n",
       "    </tr>\n",
       "    <tr>\n",
       "      <th>192</th>\n",
       "      <td>惊魂记</td>\n",
       "      <td>1960</td>\n",
       "      <td>9.0</td>\n",
       "      <td>202622.0</td>\n",
       "      <td>阿尔弗雷德·希区柯克</td>\n",
       "      <td>约瑟夫·斯蒂凡诺 / 罗伯特·布洛克</td>\n",
       "      <td>安东尼·博金斯 / 维拉·迈尔斯 / 约翰·加文 / 珍妮特·利 / 马丁·鲍尔萨姆 / 约...</td>\n",
       "      <td>悬疑 / 惊悚 / 恐怖</td>\n",
       "      <td>NaN</td>\n",
       "      <td>英语</td>\n",
       "      <td>109.0</td>\n",
       "    </tr>\n",
       "    <tr>\n",
       "      <th>197</th>\n",
       "      <td>冰川时代</td>\n",
       "      <td>2002</td>\n",
       "      <td>8.6</td>\n",
       "      <td>507275.0</td>\n",
       "      <td>卡洛斯·沙尔丹哈 / 克里斯·韦奇</td>\n",
       "      <td>迈克尔·伯格  / 迈克尔·J·威尔森 / 彼得·阿克曼</td>\n",
       "      <td>雷·罗马诺 / 约翰·雷吉扎莫 / 丹尼斯·利瑞 / 杰克·布莱克</td>\n",
       "      <td>喜剧 / 动画 / 冒险</td>\n",
       "      <td>NaN</td>\n",
       "      <td>英语</td>\n",
       "      <td>81.0</td>\n",
       "    </tr>\n",
       "    <tr>\n",
       "      <th>257</th>\n",
       "      <td>浪潮</td>\n",
       "      <td>2008</td>\n",
       "      <td>8.7</td>\n",
       "      <td>223511.0</td>\n",
       "      <td>丹尼斯·甘塞尔</td>\n",
       "      <td>丹尼斯·甘塞尔 / 彼得·图万斯 / 约翰尼·道金斯 / 罗恩·比恩巴赫 / 罗恩·琼斯</td>\n",
       "      <td>于尔根·福格尔 / 弗雷德里克·劳 / 马克思·雷迈特 / 詹妮弗·乌尔里希 / 克里斯蒂安...</td>\n",
       "      <td>剧情 / 惊悚</td>\n",
       "      <td>NaN</td>\n",
       "      <td>德语</td>\n",
       "      <td>107.0</td>\n",
       "    </tr>\n",
       "  </tbody>\n",
       "</table>\n",
       "</div>"
      ],
      "text/plain": [
       "        片名  上映年份   评分       评价人数                       导演  \\\n",
       "6     千与千寻  2001  9.4  1822369.0                      宫崎骏   \n",
       "20      教父  1972  9.3   756991.0              弗朗西斯·福特·科波拉   \n",
       "22      龙猫  1988  9.2  1032307.0                      宫崎骏   \n",
       "31    乱世佳人  1939  9.3   556888.0  维克多·弗莱明 / 乔治·库克 / 山姆·伍德   \n",
       "43   我不是药神  2018  9.0  1696301.0                      文牧野   \n",
       "53     狮子王  1994  9.0   665020.0          罗杰·阿勒斯 / 罗伯·明可夫   \n",
       "113   无人知晓  2004  9.1   233881.0                     是枝裕和   \n",
       "189   海街日记  2015  8.8   335964.0                     是枝裕和   \n",
       "192    惊魂记  1960  9.0   202622.0               阿尔弗雷德·希区柯克   \n",
       "197   冰川时代  2002  8.6   507275.0        卡洛斯·沙尔丹哈 / 克里斯·韦奇   \n",
       "257     浪潮  2008  8.7   223511.0                  丹尼斯·甘塞尔   \n",
       "\n",
       "                                                    编剧  \\\n",
       "6                                                  宫崎骏   \n",
       "20                                马里奥·普佐 / 弗朗西斯·福特·科波拉   \n",
       "22                                                 宫崎骏   \n",
       "31   玛格丽特·米歇尔 / 西德尼·霍华德 / 奥利弗·H·P·加勒特 / 本·赫克特 / 乔·斯...   \n",
       "43                                      韩家女 / 钟伟 / 文牧野   \n",
       "53                          艾琳·梅琪 / 乔纳森·罗伯特  / 琳达·伍尔芙顿   \n",
       "113                                               是枝裕和   \n",
       "189                                        是枝裕和 / 吉田秋生   \n",
       "192                                 约瑟夫·斯蒂凡诺 / 罗伯特·布洛克   \n",
       "197                       迈克尔·伯格  / 迈克尔·J·威尔森 / 彼得·阿克曼   \n",
       "257       丹尼斯·甘塞尔 / 彼得·图万斯 / 约翰尼·道金斯 / 罗恩·比恩巴赫 / 罗恩·琼斯   \n",
       "\n",
       "                                                    主演                 类型  \\\n",
       "6    柊瑠美 / 入野自由 / 夏木真理 / 菅原文太 / 中村彰男 / 玉井夕海 / 神木隆之介...       剧情 / 动画 / 奇幻   \n",
       "20   马龙·白兰度 / 阿尔·帕西诺 / 詹姆斯·肯恩 / 理查德·卡斯特尔诺 / 罗伯特·杜瓦尔...            剧情 / 犯罪   \n",
       "22   日高法子 / 坂本千夏 / 糸井重里 / 岛本须美 / 北林谷荣 / 高木均 / 雨笠利幸 ...       动画 / 奇幻 / 冒险   \n",
       "31   费雯·丽 / 克拉克·盖博 / 奥利维娅·德哈维兰 / 托马斯·米切尔 / 芭芭拉·欧内尔 ...  剧情 / 爱情 / 历史 / 战争   \n",
       "43   徐峥 / 王传君 / 周一围 / 谭卓 / 章宇 / 杨新鸣 / 王佳佳 / 王砚辉 / 贾...            剧情 / 喜剧   \n",
       "53   乔纳森·泰勒·托马斯 / 马修·布罗德里克 / 杰瑞米·艾恩斯 / 詹姆斯·厄尔·琼斯 / ...       动画 / 歌舞 / 冒险   \n",
       "113  柳乐优弥 / 北浦爱 / 木村飞影 / 清水萌萌子 / 韩英惠 / 江原由希子 / 串田和美...                 剧情   \n",
       "189  绫濑遥 / 长泽雅美 / 夏帆 / 广濑铃 / 大竹忍 / 堤真一 / 加濑亮 / 风吹淳 ...            剧情 / 家庭   \n",
       "192  安东尼·博金斯 / 维拉·迈尔斯 / 约翰·加文 / 珍妮特·利 / 马丁·鲍尔萨姆 / 约...       悬疑 / 惊悚 / 恐怖   \n",
       "197                  雷·罗马诺 / 约翰·雷吉扎莫 / 丹尼斯·利瑞 / 杰克·布莱克       喜剧 / 动画 / 冒险   \n",
       "257  于尔根·福格尔 / 弗雷德里克·劳 / 马克思·雷迈特 / 詹妮弗·乌尔里希 / 克里斯蒂安...            剧情 / 惊悚   \n",
       "\n",
       "    国家/地区      语言  时长(分钟)  \n",
       "6      日本      日语     NaN  \n",
       "20     美国     英语      NaN  \n",
       "22     日本      日语     NaN  \n",
       "31     美国      英语     NaN  \n",
       "43    NaN  汉语普通话      NaN  \n",
       "53    NaN     英语     89.0  \n",
       "113    日本      日语     NaN  \n",
       "189   NaN      日语   127.0  \n",
       "192   NaN      英语   109.0  \n",
       "197   NaN     英语     81.0  \n",
       "257   NaN      德语   107.0  "
      ]
     },
     "execution_count": 110,
     "metadata": {},
     "output_type": "execute_result"
    }
   ],
   "source": [
    "# 筛选包含缺失值的行\n",
    "# df[df.isnull().any(axis=1) == True]\n",
    "df[df.isnull().T.any() == True]\n",
    "# df[df.isnull().values==True]\n",
    "# 筛选包含缺失值的列\n",
    "# df.T[df.T.isnull().T.any() == True]"
   ]
  },
  {
   "cell_type": "markdown",
   "metadata": {},
   "source": [
    "### 11- 高亮缺失值"
   ]
  },
  {
   "cell_type": "markdown",
   "metadata": {},
   "source": [
    "很明显，虽然上一题找到了全部缺失值所在的行，但是看的很头疼\n",
    "\n",
    "-> 现在将缺失值进行高亮进一步查看\n",
    "\n",
    "指路：<font color = '#E36C07'>**2-15**</font>"
   ]
  },
  {
   "cell_type": "code",
   "execution_count": null,
   "metadata": {},
   "outputs": [],
   "source": [
    "df[df.isna().T.any()==True].style.highlight_null(\"red\")"
   ]
  },
  {
   "cell_type": "markdown",
   "metadata": {},
   "source": [
    "### 12 - 删除缺失值\n",
    "\n",
    "<br>\n",
    "\n",
    "处理缺失值最简单的方式，当然是将缺失值出现的行全部删掉～\n",
    "\n",
    "-> 现在，将缺失值出现的行全部删掉"
   ]
  },
  {
   "cell_type": "code",
   "execution_count": null,
   "metadata": {},
   "outputs": [],
   "source": [
    "# DataFrame.dropna(self, axis=0, how='any', thresh=None, subset=None, inplace=False)[source]\n",
    "## axis: 0-行存在缺失，删除行；1-列存在缺失，删除列\n",
    "## how: any-行或列出现缺失值就丢弃；all-行列全部为缺失值才丢弃\n",
    "## thresh: 阈值设定，当行列中出现非缺省值的数量少于给定的值就将该行丢弃\n",
    "## subset: 部分标签中删除某行列\n",
    "## inplace: bool取值，默认False，当inplace=True，即对原数据操作，没有返回值\n",
    "df.dropna(axis=0)"
   ]
  },
  {
   "cell_type": "markdown",
   "metadata": {},
   "source": [
    "### 13 - 缺失值补全｜整体填充\n",
    "\n",
    "<br>\n",
    "\n",
    "除了删除缺失值最省事之外，将全部缺失值替换为一个 **固定的值/文本** 也是一个较为省事的方法'\n",
    "\n",
    "-> 现在，将全部缺失值替换为 `*`"
   ]
  },
  {
   "cell_type": "code",
   "execution_count": null,
   "metadata": {},
   "outputs": [],
   "source": [
    "# fillna(value=None, method=None, axis=None, inplace=False, limit=None)\n",
    "## value: 表示填充的值，可以是一个指定值，也可以是字典, Series或DataFrame\n",
    "## method：填充的方式，默认为None。有 ffill，pad，bfill，backfill 四种填充方式可以使用，ffill 和 pad 表示用缺失值的前一个值填充，如果axis=0，则用空值上一行的值填充，如果axis=1，则用空值左边的值填充。假如空值在第一行或第一列，以及空值前面的值全都是空值，则无法获取到可用的填充值，填充后依然保持空值。bfill 和 backfill 表示用缺失值的后一个值填充，axis的用法以及找不到填充值的情况同 ffill 和 pad \n",
    "## axis: 通常配合method参数使用，axis=0表示按行，axis=1表示按列。\n",
    "## limit: 表示填充执行的次数。如果是按行填充，则填充一行表示执行一次，按列同理。\n",
    "df.fillna(\"*\")"
   ]
  },
  {
   "cell_type": "markdown",
   "metadata": {},
   "source": [
    "### 14 - 缺失值补全｜向上填充"
   ]
  },
  {
   "cell_type": "markdown",
   "metadata": {},
   "source": [
    "从上一小节的查看数据中，不难发现整理数据是按照评分进行降序排列的\n",
    "\n",
    "因此对于评分列的缺失值处理，我们可以用上一个电影的评分进行填充\n",
    "\n",
    "-> 现在将评分列的缺失值，替换为上一个电影的评分"
   ]
  },
  {
   "cell_type": "code",
   "execution_count": null,
   "metadata": {},
   "outputs": [],
   "source": [
    "df['评分'] = df['评分'].fillna(axis=0, method=\"pad\")"
   ]
  },
  {
   "cell_type": "markdown",
   "metadata": {},
   "source": [
    "### 15 - 缺失值补全｜整体均值填充"
   ]
  },
  {
   "cell_type": "markdown",
   "metadata": {},
   "source": [
    "对于评价人数列的缺失值处理，我们可以使用整列的均值进行填充\n",
    "\n",
    "-> 现在，将评价人数列的缺失值，用整列的均值进行填充"
   ]
  },
  {
   "cell_type": "code",
   "execution_count": null,
   "metadata": {},
   "outputs": [],
   "source": [
    "df['评价人数'].fillna(df['评价人数'].mean())"
   ]
  },
  {
   "cell_type": "markdown",
   "metadata": {},
   "source": [
    "### 16 - 缺失值补全｜上下均值填充\n",
    "\n",
    "<br>\n",
    "\n",
    "除了可以使用整列的均值进行填充，也可以使用缺失值位置的上下均值进行填充、\n",
    "\n",
    "-> 现在，将评价人数列的缺失值，用上下数字的均值进行填充"
   ]
  },
  {
   "cell_type": "code",
   "execution_count": null,
   "metadata": {},
   "outputs": [],
   "source": [
    "# 插值函数interpolate：\n",
    "# DataFrame.interpolate(method=‘linear’, axis=0, limit=None, inplace=False, limit_direction=None, limit_area=None, downcast=None, **kwargs)\n",
    "## method: 默认为‘linear’使用插值方法,忽略索引，线性等距插值。这是MultiIndexes支持的唯一方法。 \n",
    "## axis: 0-行；1-列；沿轴进行interpolate\n",
    "## limit: 要填充的连续NAN的最大数量，必须大于0\n",
    "## inplace: 默认False，如果inplace=True，改变原数据，没有返回值\n",
    "## limit_direction:  {'forward'，'backward'，'both'}，默认为'forward'；如果指定了限制，则将沿该方向填充连续的NaN。\n",
    "## limit_area ： {None, ‘inside’, ‘outside’}, 默认为None；如果指定了限制，则连续的NaN将填充此限制。 None：无填充限制。 ‘inside’：仅填充有效值包围的NaN。\n",
    "## downcast ： 可选， ‘infer’ 或None，默认为None;如果可能，请向下转换dtype\n",
    "df['评价人数'] = df['评价人数'].fillna(df['评价人数'].interpolate())"
   ]
  },
  {
   "cell_type": "markdown",
   "metadata": {},
   "source": [
    "### 17 -缺失值补全｜匹配填充\n",
    "\n",
    "<br>\n",
    "\n",
    "除了利用均值填充，有时还需要根据另一列的值进行匹配填充\n",
    "\n",
    "-> 现在填充 “语言” 列的缺失值，要求根据 “国家/地区” 列的值进行填充\n",
    "\n",
    "> 例如 《海上钢琴师》国家/地区为 意大利，根据其他意大利国家对应的语言来看，应填充为 意大利语\n",
    "\n",
    "**注意：此题会有多种解法**"
   ]
  },
  {
   "cell_type": "code",
   "execution_count": null,
   "metadata": {
    "scrolled": true
   },
   "outputs": [],
   "source": [
    "df['语言'] = df.groupby('国家/地区').语言.bfill()"
   ]
  },
  {
   "cell_type": "markdown",
   "metadata": {},
   "source": [
    "微信搜索公众号「早起Python」，关注后可以获得更多资源！"
   ]
  },
  {
   "cell_type": "code",
   "execution_count": null,
   "metadata": {},
   "outputs": [],
   "source": []
  },
  {
   "cell_type": "markdown",
   "metadata": {},
   "source": [
    "## 重复值处理"
   ]
  },
  {
   "cell_type": "markdown",
   "metadata": {},
   "source": [
    "### 18 - 查找重复值\n",
    "\n",
    "<br>\n",
    "\n",
    "将全部重复值所在的行筛选出来\n",
    "\n",
    "**注意：此题会有多种解法**"
   ]
  },
  {
   "cell_type": "code",
   "execution_count": null,
   "metadata": {},
   "outputs": [],
   "source": [
    "df[df.duplicated()]"
   ]
  },
  {
   "cell_type": "markdown",
   "metadata": {},
   "source": [
    "### 19 -查找重复值｜指定\n",
    "\n",
    "上面是所有列完全重复的情况，但有时我们只需要根据某列查找重复值\n",
    "\n",
    "-> 查找 片名 列全部重复值\n",
    "\n",
    "**注意：此题会有多种解法**\n"
   ]
  },
  {
   "cell_type": "code",
   "execution_count": null,
   "metadata": {},
   "outputs": [],
   "source": [
    "# df[df['片名'].duplicated()]\n",
    "df[df.duplicated('片名')]"
   ]
  },
  {
   "cell_type": "markdown",
   "metadata": {},
   "source": [
    "### 20 - 删除重复值"
   ]
  },
  {
   "cell_type": "markdown",
   "metadata": {},
   "source": [
    "删除全部的重复值"
   ]
  },
  {
   "cell_type": "code",
   "execution_count": null,
   "metadata": {},
   "outputs": [],
   "source": [
    "# drop_duplicate(self, subset=None, keep='first', inplace=False)\n",
    "## subset: 考虑用于标识重复行的列标签或标签序列\n",
    "## keep: 允许的值{first,last,False},默认为first，表示删除除第一行以外的重复行；last表示删除除最后一行以外的重复行；False表示删除所有重复行\n",
    "df = df.drop_duplicates()"
   ]
  },
  {
   "cell_type": "markdown",
   "metadata": {},
   "source": [
    "### 21 - 删除重复值｜指定"
   ]
  },
  {
   "cell_type": "markdown",
   "metadata": {},
   "source": [
    "删除全部的重复值，但保留最后一次出现的值"
   ]
  },
  {
   "cell_type": "code",
   "execution_count": null,
   "metadata": {},
   "outputs": [],
   "source": [
    "ans(21)"
   ]
  },
  {
   "cell_type": "code",
   "execution_count": null,
   "metadata": {},
   "outputs": [],
   "source": [
    "df = df.drop_duplicates(keep = 'last')"
   ]
  },
  {
   "cell_type": "markdown",
   "metadata": {},
   "source": [
    "![](http://liuzaoqi.oss-cn-beijing.aliyuncs.com/2021/09/16/16317972442543.jpg?域名/sample.jpg?x-oss-process=style/stylename)"
   ]
  },
  {
   "cell_type": "code",
   "execution_count": null,
   "metadata": {},
   "outputs": [],
   "source": []
  },
  {
   "cell_type": "code",
   "execution_count": null,
   "metadata": {},
   "outputs": [],
   "source": []
  },
  {
   "cell_type": "code",
   "execution_count": null,
   "metadata": {},
   "outputs": [],
   "source": []
  }
 ],
 "metadata": {
  "kernelspec": {
   "display_name": "Python 3 (ipykernel)",
   "language": "python",
   "name": "python3"
  },
  "language_info": {
   "codemirror_mode": {
    "name": "ipython",
    "version": 3
   },
   "file_extension": ".py",
   "mimetype": "text/x-python",
   "name": "python",
   "nbconvert_exporter": "python",
   "pygments_lexer": "ipython3",
   "version": "3.7.5"
  },
  "toc": {
   "base_numbering": 1,
   "nav_menu": {},
   "number_sections": false,
   "sideBar": true,
   "skip_h1_title": false,
   "title_cell": "Table of Contents",
   "title_sidebar": "Contents",
   "toc_cell": false,
   "toc_position": {
    "height": "calc(100% - 180px)",
    "left": "10px",
    "top": "150px",
    "width": "384px"
   },
   "toc_section_display": true,
   "toc_window_display": true
  }
 },
 "nbformat": 4,
 "nbformat_minor": 4
}
