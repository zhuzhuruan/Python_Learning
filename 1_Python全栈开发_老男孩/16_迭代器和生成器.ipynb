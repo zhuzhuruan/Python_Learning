{
 "cells": [
  {
   "cell_type": "markdown",
   "id": "af8d535c",
   "metadata": {},
   "source": [
    "# 16 - 迭代器和生成器"
   ]
  },
  {
   "cell_type": "markdown",
   "id": "9f207347",
   "metadata": {},
   "source": [
    "## 一、什么是迭代器"
   ]
  },
  {
   "cell_type": "markdown",
   "id": "fcb856d3",
   "metadata": {},
   "source": [
    "迭代器指的是迭代取值的工具，迭代是一个重复的过程，每次重复都是基于上一次的结果继续的，单纯的重复并不是迭代。"
   ]
  },
  {
   "cell_type": "code",
   "execution_count": null,
   "id": "c33ee3ae",
   "metadata": {},
   "outputs": [],
   "source": [
    "# 单纯的重复\n",
    "while True:                     \n",
    "    name = input(\"请输入您的姓名:\")"
   ]
  },
  {
   "cell_type": "code",
   "execution_count": null,
   "id": "e8f170cf",
   "metadata": {},
   "outputs": [],
   "source": [
    "# 迭代，每次重复都是基于上一次的结果\n",
    "count = 0    \n",
    "while count < 5:            \n",
    "    print(count)\n",
    "    count += 1"
   ]
  },
  {
   "cell_type": "markdown",
   "id": "a5c1e962",
   "metadata": {},
   "source": [
    "## 二、为什么要有迭代器"
   ]
  },
  {
   "cell_type": "markdown",
   "id": "321f027b",
   "metadata": {},
   "source": [
    "迭代器是用来迭代取值的工具，而涉及到把多个值循环取出来的数据类型包括：列表、字符串、元组、字典、集合、文件等。\n",
    "    \n",
    "实现了迭代取值的目的，但是这种迭代取值的方式只适用于有索引的数据类型：列表、字符串、元组。\n",
    "        \n",
    "因此为了解决基于索引迭代取值的局限性，Python必须提供一种能够不依赖与索引的取值方式，这就是迭代器 。 "
   ]
  },
  {
   "cell_type": "code",
   "execution_count": null,
   "id": "22d7322d",
   "metadata": {},
   "outputs": [],
   "source": [
    "lst = ['apple', 'banana', 'orange']\n",
    "i = 0\n",
    "while i < len(lst):\n",
    "    print(lst[i])\n",
    "    i += 1    "
   ]
  },
  {
   "cell_type": "markdown",
   "id": "c6275fb5",
   "metadata": {},
   "source": [
    "## 三、如何使用迭代器   "
   ]
  },
  {
   "cell_type": "markdown",
   "id": "3f8b8671",
   "metadata": {},
   "source": [
    "### 1、可迭代对象"
   ]
  },
  {
   "cell_type": "markdown",
   "id": "48c1191e",
   "metadata": {},
   "source": [
    "可迭代对象(可以扎转换成迭代器的对象)：但凡内置有\\_\\_iter__方法的都称之为可迭代对象\n",
    "\n",
    "可迭代对象.\\_\\_iter__(): 得到可迭代对象的迭代器对象\n",
    "    \n",
    "    str.__iter__()\n",
    "\n",
    "    [].__iter__()\n",
    "\n",
    "    {}.__iter__()\n",
    "\n",
    "    ().__iter__()\n",
    "\n",
    "    with open('file.txt', 'rt', encoding='utf-8') as f:\n",
    "        f.__iter__()"
   ]
  },
  {
   "cell_type": "markdown",
   "id": "ac287853",
   "metadata": {},
   "source": [
    "### 2、迭代器对象"
   ]
  },
  {
   "cell_type": "markdown",
   "id": "978f6644",
   "metadata": {},
   "source": [
    "迭代器对象：内置有\\__next__()方法，并且内置有\\__iter__()方法的对象\n",
    "    \n",
    "    （1）迭代器对象.__next__(): 得到迭代器的下一个值\n",
    "    （2）迭代器对象.__iter__(): 得到迭代器本身\n",
    "    \n",
    "**问题**：可迭代对象调用迭代器对象\\_\\_iter__()方法是为了得到他对应的迭代器对象，但是迭代器对象调用\\_\\_iter__()方法得到的是他本身，那么为什么迭代器对象要有\\_\\_iter__()方法？\n",
    "   \n",
    "**解答**：目的为了让for循环的工作原理统一起来。对于可迭代对象，可以通过可迭代对像.\\_\\_iter__()获得迭代器对象；如果对于的是迭代器对象，也可以通过迭代器对象.\\_\\_iter__()来得到迭代器对象本身，这样就可以不需要对可迭代对象或者迭代器对象进行区分，统一原理。\n",
    "         \n",
    "         for item in 可迭代对象.__iter__():\n",
    "            pass\n",
    "         \n",
    "         for item in 迭代器对象.__iter__():\n",
    "            pass\n",
    "    \n",
    "总结：**可迭代对象不是迭代器对象（不具备\\_\\_next__()方法），迭代器对象是可迭代对象(具备\\_\\_iter__()方法)** "
   ]
  },
  {
   "cell_type": "markdown",
   "id": "7c143f86",
   "metadata": {},
   "source": [
    "调用可迭代对象的\\_\\_iter__()方法，会将其转换成迭代器对象，再使用可迭代对象的\\_\\_next__()方法，可以逐个获取可迭代对象的每个元素"
   ]
  },
  {
   "cell_type": "code",
   "execution_count": null,
   "id": "e844edad",
   "metadata": {},
   "outputs": [],
   "source": [
    "# 方式一\n",
    "dic = {'name':'cyy', 'age':18, 'gender':'female'}\n",
    "dic_iterator = dic.__iter__()\n",
    "print(dic_iterator)"
   ]
  },
  {
   "cell_type": "code",
   "execution_count": null,
   "id": "22d6e20b",
   "metadata": {
    "scrolled": false
   },
   "outputs": [],
   "source": [
    "# StopIteration：超出可迭代对象的数量时，抛出异常\n",
    "print(dic_iterator.__next__())"
   ]
  },
  {
   "cell_type": "code",
   "execution_count": null,
   "id": "393d4807",
   "metadata": {},
   "outputs": [],
   "source": [
    "# 优化\n",
    "dic = {'name':'cyy', 'age':18, 'gender':'female'}\n",
    "dic_iterator = dic.__iter__()\n",
    "while True:\n",
    "    try:\n",
    "        print(dic_iterator.__next__())\n",
    "    except StopIteration:\n",
    "        break\n"
   ]
  },
  {
   "cell_type": "code",
   "execution_count": null,
   "id": "946d8f53",
   "metadata": {},
   "outputs": [],
   "source": [
    "while True:                 # 报错          \n",
    "            try:                  \n",
    "                print(dic_iterator.__next__())\n",
    "            except StopIteration:\n",
    "                break"
   ]
  },
  {
   "cell_type": "markdown",
   "id": "77808bee",
   "metadata": {},
   "source": [
    "对同一个迭代器迭代取值只能取一次，可以类比老母鸡，一只老母鸡一生只能下100个蛋，迭代一下下完这100个蛋，就不能再进行下一次了, 所以如果要再迭代一次，就要再转换一次迭代器对象   "
   ]
  },
  {
   "cell_type": "code",
   "execution_count": null,
   "id": "edc42bd8",
   "metadata": {},
   "outputs": [],
   "source": [
    "dic = {'name':'cyy', 'age':18, 'gender':'female'}\n",
    "dic_iterator = dic.__iter__()\n",
    "while True:\n",
    "    try:\n",
    "        print(dic_iterator.__next__())\n",
    "    except StopIteration:\n",
    "        break\n",
    "        \n",
    "dic_iterator = dic.__iter__()        \n",
    "while True:             \n",
    "    try:\n",
    "        print(dic_iterator.__next__())\n",
    "    except StopIteration:\n",
    "        break"
   ]
  },
  {
   "cell_type": "markdown",
   "id": "7fb61aa0",
   "metadata": {},
   "source": [
    "## 四、for循环的工作原理"
   ]
  },
  {
   "cell_type": "markdown",
   "id": "f3906920",
   "metadata": {},
   "source": [
    "工作原理：\n",
    "\n",
    "    （1）通过dic.__iter__()得到一个迭代器对象\n",
    "    （2）通过迭代器对象.__next__()得到一个返回值，并且把该返回值赋值给key\n",
    "    （3）循环往复（2），知道抛出StopIteration异常，for循环会捕捉异常然后结束循环    "
   ]
  },
  {
   "cell_type": "code",
   "execution_count": null,
   "id": "7030dcb1",
   "metadata": {},
   "outputs": [],
   "source": [
    "# 需求：循环取出字典中的元素\n",
    "# 通过迭代器对象\n",
    "dic = {'name':'cyy', 'age':18, 'gender':'female'}\n",
    "dic_iterator = dic.__iter__()\n",
    "while True:\n",
    "    try:\n",
    "        print(dic_iterator.__next__())\n",
    "    except StopIteration:\n",
    "        break\n"
   ]
  },
  {
   "cell_type": "code",
   "execution_count": null,
   "id": "864d43a3",
   "metadata": {},
   "outputs": [],
   "source": [
    "# 直接使用for循环\n",
    "dic = {'name':'cyy', 'age':18, 'gender':'female'}\n",
    "for key in dic:\n",
    "    print(key)"
   ]
  },
  {
   "cell_type": "markdown",
   "id": "a7baf518",
   "metadata": {},
   "source": [
    " 总结：\n",
    " \n",
    "     （1）可迭代对象：字符串、列表、集合、字典、元组、文件\n",
    "     （2）迭代器对象：文件(python规定的)\n",
    "       \n",
    "            ''.__iter__()\n",
    "            [].__iter__()\n",
    "            {}.__iter__()\n",
    "            {}.__iter__()\n",
    "            ().__iter__()\n",
    "            with open('file.txt', 'rt', encoding='utf-8') as f:\n",
    "                f.__iter__()\n",
    "                f.__next__()"
   ]
  },
  {
   "cell_type": "markdown",
   "id": "f8cad8bf",
   "metadata": {},
   "source": [
    "## 五、迭代器优缺点"
   ]
  },
  {
   "cell_type": "markdown",
   "id": "c52860bc",
   "metadata": {},
   "source": [
    "1、优点\n",
    "\n",
    "   （1）为序列和非序列类型提供了一种统一的迭代取值方式\n",
    "    \n",
    "   （2）惰性计算：迭代器对象表示的是一个数据流，可以只在需要时才去调用next来计算一个值，就迭代器本身来说，同一时刻内存中只有一个值，因而可以存放无限大的数据流，而对于其他容器类型，如列表，需要把所有的元素都存放在内存中，受内存大小的限制，可以存放的值得个数是有限的（但是我们上述说到的迭代器都是通过可迭代对象例如列表.\\_\\_iter__()方法生成的迭代器对象，列表本身的元素个数就已经受到了限制，和迭代器本身可以存放无限大的数据流有矛盾，所以需要直接创建一个本身就是迭代器对象的东西，也就是自定义迭代器（生成器），见下章）\n",
    "\n",
    "2、缺点\n",
    "\n",
    "   （1）除非取尽，否则无法获取迭代器的长度\n",
    "   \n",
    "   （2）只能取下一个值，不能回到开始，更像是“一次性的”，迭代器产生的唯一目标就是重复执行next方法知道值取尽，否则就会停留在某个位置，等待下一次调用next；若是要再次迭代同个对象，只能重新调用\\_\\_iter__()方法去创建一个新的迭代器对象，如果有两个或者多个循环使用同一个迭代器，必然只会有一个循环能取到值。 "
   ]
  },
  {
   "cell_type": "markdown",
   "id": "4977fbe5",
   "metadata": {},
   "source": [
    "## 六、什么是生成器"
   ]
  },
  {
   "cell_type": "markdown",
   "id": "6501f95d",
   "metadata": {},
   "source": [
    "使用了 yield 的函数被称为生成器（generator）。\n",
    "    \n",
    "跟普通函数不同的是，生成器是一个返回迭代器的函数，只能用于迭代操作，调用函数并不会执行函数体代码，而是返回一个生成器对象，更简单点理解生成器就是一个迭代器。        \n",
    "                   \n",
    "**总结**：在调用生成器运行的过程中，每次遇到 yield 时函数会暂停并保存当前所有的运行信息，返回 yield 的值, 并在下一次执行\\_\\_next__()方法时从当前位置继续运行。\n",
    "\n",
    "调用一个生成器函数，返回的是一个迭代器对象。  \n",
    "       \n",
    "有了yield关键字，就有了一种自定义迭代器的实现方式。yield可以用于返回值，但不同于return，函数一旦遇到return就结束了，而yield可以保存函数的运行状态挂起函数，用来返回多次值。"
   ]
  },
  {
   "cell_type": "code",
   "execution_count": null,
   "id": "17eecec0",
   "metadata": {},
   "outputs": [],
   "source": [
    "def func():\n",
    "    print('第一次执行')\n",
    "    yield 'First'.center(50, '-')       # 遇到yield暂停，执行上面的代码，并通过__next__()获得yield的返回值\n",
    "    print('第二次执行')\n",
    "    yield 'Second'.center(50, '-')\n",
    "    print('第三次执行')\n",
    "    yield 'Third'.center(50, '-')\n",
    "    print('第四次执行')          # 没有yield，抛出StopIteration异常"
   ]
  },
  {
   "cell_type": "code",
   "execution_count": null,
   "id": "85430da6",
   "metadata": {},
   "outputs": [],
   "source": [
    "func_iterator = func()      # func_iterator是返回的迭代器\n",
    "res1 = func_iterator.__next__()\n",
    "print(res1)\n",
    "res2 = func_iterator.__next__()\n",
    "print(res2)\n",
    "res3 = func_iterator.__next__()\n",
    "print(res3)\n",
    "res4 = func_iterator.__next__()"
   ]
  },
  {
   "cell_type": "markdown",
   "id": "010b7f1f",
   "metadata": {},
   "source": [
    "### 案例"
   ]
  },
  {
   "cell_type": "code",
   "execution_count": null,
   "id": "5bdb78d5",
   "metadata": {},
   "outputs": [],
   "source": [
    "# 实现range()的功能   \n",
    "def func(start, end, step):\n",
    "    while start < end:\n",
    "        yield start\n",
    "        start += step\n",
    "\n",
    "range_func = func(1, 5, 2)\n",
    "\n",
    "while True:\n",
    "    try:\n",
    "        print(range_func.__next__())\n",
    "    except StopIteration:\n",
    "        break"
   ]
  },
  {
   "cell_type": "code",
   "execution_count": null,
   "id": "1a57eb70",
   "metadata": {},
   "outputs": [],
   "source": [
    "# 斐波那契数列\n",
    "import sys\n",
    "\n",
    "def fibonacci(n):               # 生成器函数 - 斐波那契\n",
    "    a, b, counter = 0, 1, 0\n",
    "    while True:\n",
    "        if counter > n:\n",
    "            return\n",
    "        yield a\n",
    "        a, b = b, a+b\n",
    "        counter += 1\n",
    "\n",
    "f = fibonacci(10)       # f 是一个迭代器，由生成器返回生成\n",
    "\n",
    "while True:\n",
    "    try:\n",
    "        print(f.__next__(), end=\" \")\n",
    "    except StopIteration:\n",
    "        sys.exit()"
   ]
  },
  {
   "cell_type": "code",
   "execution_count": null,
   "id": "f927a4f6",
   "metadata": {},
   "outputs": [],
   "source": []
  }
 ],
 "metadata": {
  "kernelspec": {
   "display_name": "Python 3 (ipykernel)",
   "language": "python",
   "name": "python3"
  },
  "language_info": {
   "codemirror_mode": {
    "name": "ipython",
    "version": 3
   },
   "file_extension": ".py",
   "mimetype": "text/x-python",
   "name": "python",
   "nbconvert_exporter": "python",
   "pygments_lexer": "ipython3",
   "version": "3.9.13"
  }
 },
 "nbformat": 4,
 "nbformat_minor": 5
}
