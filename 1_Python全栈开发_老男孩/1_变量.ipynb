{
 "cells": [
  {
   "cell_type": "markdown",
   "id": "c6ade88f",
   "metadata": {},
   "source": [
    "# 1 - 变量和常量"
   ]
  },
  {
   "cell_type": "markdown",
   "id": "e5e420b8",
   "metadata": {},
   "source": [
    "## 一、变量"
   ]
  },
  {
   "cell_type": "markdown",
   "id": "e902a1ab",
   "metadata": {},
   "source": [
    "1、定义：变量就是可以变化的量，实际指代的是内存中的一段空间，量指的是事物的状态，比如人的年龄、性别，游戏角色的等级、金钱等等。\n",
    "\n",
    "2、目的：变量的存在是为了让计算机能够像人一样去记忆事物的某种状态，并且状态是可以发生变化的。"
   ]
  },
  {
   "cell_type": "markdown",
   "id": "a9817b39",
   "metadata": {},
   "source": [
    "### 1.1 基本原则"
   ]
  },
  {
   "cell_type": "markdown",
   "id": "13634bf8",
   "metadata": {},
   "source": [
    "先定义、后引用"
   ]
  },
  {
   "cell_type": "markdown",
   "id": "c20bdb76",
   "metadata": {},
   "source": [
    "### 1.2 内存管理"
   ]
  },
  {
   "cell_type": "markdown",
   "id": "d365da9b",
   "metadata": {},
   "source": [
    "1、垃圾回收机制：\n",
    "\n",
    "   - 垃圾：当一个变量值被绑定的变量名的个数为0时，该变量值无法被访问到，就是垃圾\n",
    "   - 垃圾回收机制（GC）：是python解释器自带一种机制，专门用来回收不可用的变量值所占用的内存空间。\n",
    "\n",
    "2、引用计数：变量值被绑定的变量名的个数\n",
    "\n",
    "   - 直接引用：指的是从栈区直接出发引用到的内存地址。\n",
    "   - 间接引用：指的是从栈区出发引用到堆区后，再通过进一步引用到堆区后，再通过进一步引用才能到达的内存地址。\n",
    "\n",
    "            增加：x = 10 ; y = x, z = x\n",
    "            减少：del x (解除变量名x与值10的绑定关系)\n",
    "\n",
    "3、标记清除：用来解决循环引用带来的内存泄漏问题。\n",
    "\n",
    "4、分代回收：用来降低引用计数的扫描频率，提升垃圾回收的效率。\n",
    "\n",
    "   - 分代：根据存活的时间来为变量划分不同等级。\n",
    "   - 回收：使用引用计数作为回收的依据。\n",
    "\n",
    "**当变量值绑定的变量名都与它解除关系后，该变量值就会被Python的回收机制回收。**"
   ]
  },
  {
   "cell_type": "markdown",
   "id": "f8c6cacb",
   "metadata": {},
   "source": [
    "### 1.3 变量的三大组成部分"
   ]
  },
  {
   "cell_type": "markdown",
   "id": "fa521934",
   "metadata": {},
   "source": [
    "- 变量名\n",
    "    - 指向等号右侧的内存地址，用来访问等号右侧的值\n",
    "\n",
    "- 赋值符号\n",
    "    - 将变量值的内存地址绑定给变量名\n",
    "    \n",
    "- 变量值\n",
    "    - 代表记录事物的状态\n",
    "    \n",
    "**变量名与值内存地址的关联关系存放于栈区。变量值存放于堆区，内存管理回收的则是堆区的内容。**"
   ]
  },
  {
   "cell_type": "markdown",
   "id": "fda69e49",
   "metadata": {},
   "source": [
    "### 1.4 变量值的重要特征"
   ]
  },
  {
   "cell_type": "markdown",
   "id": "b0df3ba6",
   "metadata": {},
   "source": [
    "- ID\n",
    "    - 反映的是变量值的内存地址，内存地址不同，对应的ID则不同\n",
    "        \n",
    "        - id(变量名)\n",
    "- Type:\n",
    "    - 不同类型的值用来表示记录不同的状态\n",
    "        \n",
    "        - type(变量名)"
   ]
  },
  {
   "cell_type": "markdown",
   "id": "6190e2b0",
   "metadata": {},
   "source": [
    "### 1.5 身份运算is和=="
   ]
  },
  {
   "cell_type": "markdown",
   "id": "ec9de1cd",
   "metadata": {},
   "source": [
    "is：比较左右两个值身份id是否相等\n",
    "\n",
    "==：比较左右两个值他们的值是否相等\n",
    "\n",
    "- id不同的情况下，值有可能相同，即两块不同的内存空间里可以存相同的值。\n",
    "\n",
    "- id相同的情况下，值一定相同，x is y成立，x == y也必然成立。\n",
    "\n",
    "        x = 10 ; y = 10      # x和y两块不同的内存空间\n",
    "        x = 10 ; y = x       # x和y指向的都是同一块内存空间\n",
    "        x = 10 ; y = 10 ; id(x)和id(y)的值相等，这是为什么呢？\n",
    "\n",
    "- 了解：小整数池[-5,256]，从python解释器启动那一刻开始，就会在内存中事先申请好一系列内存空间存放好常用的整数。"
   ]
  },
  {
   "cell_type": "markdown",
   "id": "94765bb4",
   "metadata": {},
   "source": [
    "## 二、常量"
   ]
  },
  {
   "cell_type": "markdown",
   "id": "a889fb2f",
   "metadata": {},
   "source": [
    "python中没有常量的概念，但是在程序开发的过程中会涉及到常量\n",
    "\n",
    "小写字母全为大写代表常量，这只是一种约定、规范\n",
    "\n",
    "       - PIE = 3.1415926\n",
    "       - 当他人看见这样的表示时就明白这是作为代码中的常量，不应该去修改"
   ]
  },
  {
   "cell_type": "code",
   "execution_count": null,
   "id": "aa800a6e",
   "metadata": {},
   "outputs": [],
   "source": []
  }
 ],
 "metadata": {
  "kernelspec": {
   "display_name": "Python 3 (ipykernel)",
   "language": "python",
   "name": "python3"
  },
  "language_info": {
   "codemirror_mode": {
    "name": "ipython",
    "version": 3
   },
   "file_extension": ".py",
   "mimetype": "text/x-python",
   "name": "python",
   "nbconvert_exporter": "python",
   "pygments_lexer": "ipython3",
   "version": "3.9.13"
  }
 },
 "nbformat": 4,
 "nbformat_minor": 5
}
