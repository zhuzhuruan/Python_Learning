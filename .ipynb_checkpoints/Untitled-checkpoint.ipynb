{
 "cells": [
  {
   "cell_type": "markdown",
   "id": "af8d535c",
   "metadata": {},
   "source": [
    "# 16 - 迭代器"
   ]
  },
  {
   "cell_type": "markdown",
   "id": "9f207347",
   "metadata": {},
   "source": [
    "## 一、什么是迭代器"
   ]
  },
  {
   "cell_type": "markdown",
   "id": "fcb856d3",
   "metadata": {},
   "source": [
    "迭代器指的是迭代取值的工具，迭代是一个重复的过程，每次重复都是基于上一次的结果继续的，单纯的重复并不是迭代。"
   ]
  },
  {
   "cell_type": "code",
   "execution_count": null,
   "id": "c33ee3ae",
   "metadata": {},
   "outputs": [],
   "source": [
    "# 单纯的重复\n",
    "while True:                     \n",
    "    name = input(\"请输入您的姓名:\")"
   ]
  },
  {
   "cell_type": "code",
   "execution_count": null,
   "id": "e8f170cf",
   "metadata": {},
   "outputs": [],
   "source": [
    "# 迭代，每次重复都是基于上一次的结果\n",
    "count = 0    \n",
    "while count < 5:            \n",
    "    print(count)\n",
    "    count += 1"
   ]
  },
  {
   "cell_type": "markdown",
   "id": "a5c1e962",
   "metadata": {},
   "source": [
    "## 二、为什么要有迭代器"
   ]
  },
  {
   "cell_type": "markdown",
   "id": "321f027b",
   "metadata": {},
   "source": [
    "迭代器是用来迭代取值的工具，而涉及到把多个值循环取出来的数据类型包括：列表、字符串、元组、字典、集合、文件等。\n",
    "    \n",
    "实现了迭代取值的目的，但是这种迭代取值的方式只适用于有索引的数据类型：列表、字符串、元组。\n",
    "        \n",
    "因此为了解决基于索引迭代取值的局限性，Python必须提供一种能够不依赖与索引的取值方式，这就是迭代器 。 "
   ]
  },
  {
   "cell_type": "code",
   "execution_count": 2,
   "id": "22d7322d",
   "metadata": {},
   "outputs": [
    {
     "name": "stdout",
     "output_type": "stream",
     "text": [
      "apple\n",
      "banana\n",
      "orange\n"
     ]
    }
   ],
   "source": [
    "lst = ['apple', 'banana', 'orange']\n",
    "i = 0\n",
    "while i < len(lst):\n",
    "    print(lst[i])\n",
    "    i += 1    "
   ]
  },
  {
   "cell_type": "markdown",
   "id": "c6275fb5",
   "metadata": {},
   "source": [
    "## 三、如何使用迭代器   "
   ]
  },
  {
   "cell_type": "markdown",
   "id": "3f8b8671",
   "metadata": {},
   "source": [
    "### 1、可迭代对象"
   ]
  },
  {
   "cell_type": "markdown",
   "id": "48c1191e",
   "metadata": {},
   "source": [
    "可迭代对象(可以扎转换成迭代器的对象)：但凡内置有\\_\\_iter__方法的都称之为可迭代对象\n",
    "\n",
    "可迭代对象.\\_\\_iter__(): 得到可迭代对象的迭代器对象\n",
    "    \n",
    "    str.__iter__()\n",
    "\n",
    "    [].__iter__()\n",
    "\n",
    "    {}.__iter__()\n",
    "\n",
    "    ().__iter__()\n",
    "\n",
    "    with open('file.txt', 'rt', encoding='utf-8') as f:\n",
    "        f.__iter__()"
   ]
  },
  {
   "cell_type": "markdown",
   "id": "ac287853",
   "metadata": {},
   "source": [
    "### 2、迭代器对象"
   ]
  },
  {
   "cell_type": "markdown",
   "id": "978f6644",
   "metadata": {},
   "source": [
    "迭代器对象：内置有\\__next__()方法，并且内置有\\__iter__()方法的对象\n",
    "    \n",
    "    （1）迭代器对象.__next__(): 得到迭代器的下一个值\n",
    "    （2）迭代器对象.__iter__(): 得到迭代器本身\n",
    "    \n",
    "**问题**：可迭代对象调用迭代器对象\\_\\_iter__()方法是为了得到他对应的迭代器对象，但是迭代器对象调用\\_\\_iter__()方法得到的是他本身，那么为什么迭代器对象要有\\_\\_iter__()方法？\n",
    "   \n",
    "**解答**：目的为了让for循环的工作原理统一起来。对于可迭代对象，可以通过可迭代对像.\\_\\_iter__()获得迭代器对象；如果对于的是迭代器对象，也可以通过迭代器对象.\\_\\_iter__()来得到迭代器对象本身，这样就可以不需要对可迭代对象或者迭代器对象进行区分，统一原理。\n",
    "         \n",
    "         for item in 可迭代对象.__iter__():\n",
    "            pass\n",
    "         \n",
    "         for item in 迭代器对象.__iter__():\n",
    "            pass\n",
    "    \n",
    "总结：**可迭代对象不是迭代器对象（不具备\\_\\_next__()方法），迭代器对象是可迭代对象(具备\\_\\_iter__()方法)** "
   ]
  },
  {
   "cell_type": "markdown",
   "id": "7c143f86",
   "metadata": {},
   "source": [
    "调用可迭代对象的\\_\\_iter__()方法，会将其转换成迭代器对象，再使用可迭代对象的\\_\\_next__()方法，可以逐个获取可迭代对象的每个元素"
   ]
  },
  {
   "cell_type": "code",
   "execution_count": null,
   "id": "e844edad",
   "metadata": {},
   "outputs": [],
   "source": [
    "dic = {'name':'cyy', 'age':18, 'gender':'female'}"
   ]
  }
 ],
 "metadata": {
  "kernelspec": {
   "display_name": "Python 3 (ipykernel)",
   "language": "python",
   "name": "python3"
  },
  "language_info": {
   "codemirror_mode": {
    "name": "ipython",
    "version": 3
   },
   "file_extension": ".py",
   "mimetype": "text/x-python",
   "name": "python",
   "nbconvert_exporter": "python",
   "pygments_lexer": "ipython3",
   "version": "3.9.13"
  }
 },
 "nbformat": 4,
 "nbformat_minor": 5
}
