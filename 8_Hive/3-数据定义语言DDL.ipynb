{
 "cells": [
  {
   "cell_type": "markdown",
   "id": "9c8ba951",
   "metadata": {},
   "source": [
    "# 数据定义语言DDL概述"
   ]
  },
  {
   "cell_type": "markdown",
   "id": "2592bd51",
   "metadata": {},
   "source": [
    "# 1 SQL中DDL语法的作用"
   ]
  },
  {
   "cell_type": "markdown",
   "id": "bfc808c1",
   "metadata": {},
   "source": [
    "- <font color=\"#86BD77\">数据定义语言</font>(Data Definition Language,DDL)，是SQL语言集中对数据库内部的<font color=\"#FF2121\">对象结构进行创建，删除，修改</font>等的操作语言，这些数据库对象包括database、table等。DDL核心语法由CREATE、ALTER与DROP三个所组成。<font color=\"#FF2121\">**DDL并不涉及表内部数据的操作**</font>。"
   ]
  },
  {
   "cell_type": "markdown",
   "id": "44732c6a",
   "metadata": {},
   "source": [
    "# 2 Hive SQL DDL建表语法"
   ]
  },
  {
   "cell_type": "markdown",
   "id": "0b70a219",
   "metadata": {},
   "source": [
    "## 2.1 完整语法树"
   ]
  },
  {
   "cell_type": "code",
   "execution_count": null,
   "id": "c7a6d115",
   "metadata": {},
   "outputs": [],
   "source": []
  }
 ],
 "metadata": {
  "kernelspec": {
   "display_name": "Python 3 (ipykernel)",
   "language": "python",
   "name": "python3"
  },
  "language_info": {
   "codemirror_mode": {
    "name": "ipython",
    "version": 3
   },
   "file_extension": ".py",
   "mimetype": "text/x-python",
   "name": "python",
   "nbconvert_exporter": "python",
   "pygments_lexer": "ipython3",
   "version": "3.7.5"
  }
 },
 "nbformat": 4,
 "nbformat_minor": 5
}
