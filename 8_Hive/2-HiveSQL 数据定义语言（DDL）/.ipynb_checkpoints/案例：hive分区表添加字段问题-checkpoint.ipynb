{
 "cells": [
  {
   "cell_type": "markdown",
   "id": "6838f64f",
   "metadata": {},
   "source": [
    "# 案例：hive分区表添加字段问题"
   ]
  },
  {
   "cell_type": "markdown",
   "id": "7123720f",
   "metadata": {},
   "source": [
    "## 1 问题"
   ]
  },
  {
   "cell_type": "markdown",
   "id": "d618e6a5",
   "metadata": {},
   "source": [
    "在开发过程中，向hive分区表新增字段，发现查询新增字段的值为NULL"
   ]
  },
  {
   "cell_type": "markdown",
   "id": "88ea30aa",
   "metadata": {},
   "source": [
    "## 2 问题复现"
   ]
  },
  {
   "cell_type": "code",
   "execution_count": null,
   "id": "fb23713e",
   "metadata": {},
   "outputs": [],
   "source": [
    "## 创建分区表\n",
    "CREATE TABLE testtmp.denglg(\n",
    "    c1 string, \n",
    "    c2 string\n",
    ")\n",
    "PARTITIONED BY (step string);\n",
    "\n",
    "# 插入数据\n",
    "insert into table testtmp.denglg partition(step='1') select'1','2' from default.dual;\n",
    "insert into table testtmp.denglg partition(step='2') select'11','22' from default.dual;\n",
    "\n",
    "# 查看数据\n",
    "select * from testtmp.denglg where step in ('1', '2');"
   ]
  },
  {
   "attachments": {
    "%E6%A1%88%E4%BE%8B%E5%A4%8D%E7%8E%B01.png": {
     "image/png": "[encoded data removed]"
    }
   },
   "cell_type": "markdown",
   "id": "d7169554",
   "metadata": {},
   "source": [
    "![%E6%A1%88%E4%BE%8B%E5%A4%8D%E7%8E%B01.png](attachment:%E6%A1%88%E4%BE%8B%E5%A4%8D%E7%8E%B01.png)"
   ]
  },
  {
   "cell_type": "code",
   "execution_count": null,
   "id": "cf105b81",
   "metadata": {},
   "outputs": [],
   "source": [
    "# 新增字段c3\n",
    "alter table testtmp.denglg add columns(c3 string);\n",
    "\n",
    "# 向三个分区插入数据\n",
    "insert into table testtmp.denglg partition(step='1') select '1','2','3' from default.dual;\n",
    "insert into table testtmp.denglg partition(step='2') select '11','22','33' from default.dual;\n",
    "insert into table testtmp.denglg partition(step='3') select '111','222','333' from default.dual;\n",
    "\n",
    "# 查看数据\n",
    "select * from testtmp.denglg where step in ('1', '2', '3');"
   ]
  },
  {
   "attachments": {
    "%E6%A1%88%E4%BE%8B%E5%A4%8D%E7%8E%B02.png": {
     "image/png": "[encoded data removed]"
    }
   },
   "cell_type": "markdown",
   "id": "2b42b36c",
   "metadata": {},
   "source": [
    "![%E6%A1%88%E4%BE%8B%E5%A4%8D%E7%8E%B02.png](attachment:%E6%A1%88%E4%BE%8B%E5%A4%8D%E7%8E%B02.png)"
   ]
  },
  {
   "cell_type": "markdown",
   "id": "190ab498",
   "metadata": {},
   "source": [
    "## 3 结论"
   ]
  },
  {
   "cell_type": "markdown",
   "id": "257fe010",
   "metadata": {},
   "source": [
    "- 分区在增加字段前存在，会出现查询新增字段值为NULL的情况\n",
    "\n",
    "- 分区在增加字段前不存在，正常"
   ]
  },
  {
   "cell_type": "markdown",
   "id": "a08f8ffe",
   "metadata": {},
   "source": [
    "## 4 解决办法"
   ]
  },
  {
   "cell_type": "markdown",
   "id": "c15d902e",
   "metadata": {},
   "source": [
    "对于在增加字段前已经存在的分区，必须再执行"
   ]
  },
  {
   "cell_type": "code",
   "execution_count": null,
   "id": "0cf0d36b",
   "metadata": {},
   "outputs": [],
   "source": [
    "# 对已存在的分区增加新字段\n",
    "alter table testtmp.denglg partition(step='1') add columns(c3 string);"
   ]
  }
 ],
 "metadata": {
  "kernelspec": {
   "display_name": "Python 3 (ipykernel)",
   "language": "python",
   "name": "python3"
  },
  "language_info": {
   "codemirror_mode": {
    "name": "ipython",
    "version": 3
   },
   "file_extension": ".py",
   "mimetype": "text/x-python",
   "name": "python",
   "nbconvert_exporter": "python",
   "pygments_lexer": "ipython3",
   "version": "3.9.13"
  }
 },
 "nbformat": 4,
 "nbformat_minor": 5
}
