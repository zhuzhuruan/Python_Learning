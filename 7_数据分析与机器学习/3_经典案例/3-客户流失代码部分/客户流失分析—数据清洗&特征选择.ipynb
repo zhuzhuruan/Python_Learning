{
 "cells": [
  {
   "cell_type": "markdown",
   "id": "3d8c9842",
   "metadata": {},
   "source": [
    "# app客户流失及客户行为偏好分析"
   ]
  },
  {
   "cell_type": "markdown",
   "id": "728a2e08",
   "metadata": {},
   "source": [
    "分类信息app，通过数据挖掘分析影响用户流失的关键因素、深入了解用户行为偏好以此做出调整，提升客户留存率，增强客户黏性，并通过随机森林算法预测客户流失，通过特征创造使模型分数提高2个百分点。\n",
    "\n",
    "**项目内容:**\n",
    "\n",
    "探索数据分布，缺失情况，针对性的进行缺失值填补，对于缺失较少的重要特征选择随机森林缺失填补法，使用3sigma、箱型图分析等对异常值进行处理，对分类型变量进行编码。\n",
    "使用方差过滤、F检验过滤掉一部分特征，进行WOE分箱，对每个特征分箱结果进行可视化，分析每个特征分箱情况并以此分析 用户行为偏好，使用各个特征的IV值进一步筛选特征。\n",
    "训练随机森林模型，模型调参、评估，输出模型，以此模型对用户流失进行预测，以便针对性地挽留用户。训练逻辑回归模型，通过其算法可解释性强的特点(特征系数)来对用户流失关键因素进行阐述。\n",
    "\n",
    "**使用工具:**\n",
    "\n",
    "python、pandas、numpy、matplotlib、seaborn、sklearn库"
   ]
  },
  {
   "cell_type": "markdown",
   "id": "1aa88ca6",
   "metadata": {},
   "source": [
    "# 1 项目背景"
   ]
  },
  {
   "cell_type": "markdown",
   "id": "f75ac701",
   "metadata": {},
   "source": [
    "## 1.1 项目目的\n",
    "\n",
    "深入了解用户画像及行为偏好，挖掘出影响用户流失的关键因素，并通过算法预测客户访问的转化结果，从而更好地完善产品设计、提升用户体验！"
   ]
  },
  {
   "cell_type": "markdown",
   "id": "ad2aaeaf",
   "metadata": {},
   "source": [
    "## 1.2 数据说明\n",
    "\n",
    "此次数据是携程用户一周的访问数据，为保护客户隐私，已经将数据经过了脱敏，和实际商品的订单量、浏览量、转化率等有一些差距，不影响问题的可解性。"
   ]
  },
  {
   "cell_type": "code",
   "execution_count": null,
   "id": "bc29c7e4",
   "metadata": {},
   "outputs": [],
   "source": [
    "import pandas as pd\n",
    "import numpy as np\n",
    "import matplotlib.pyplot as plt\n",
    "%matplotlib inline"
   ]
  },
  {
   "cell_type": "code",
   "execution_count": null,
   "id": "df76ebb1",
   "metadata": {},
   "outputs": [],
   "source": [
    "columns = pd.read_excel(\"./file/字段说明.xlsx\")\n",
    "columns"
   ]
  },
  {
   "cell_type": "markdown",
   "id": "6be9c0a1",
   "metadata": {},
   "source": [
    "## 1.3 模型选择\n",
    "\n",
    "本次项目主要从三个方面来分析，客户流失、客户转化和客户价值。\n",
    "\n",
    "- 客户流失\n",
    "    - 目标变量label表示是否流失，是0-1二分类问题，目的是需要挖掘出关键因素，拟选用逻辑回归做模型训练及预测。\n",
    "\n",
    "- 客户转化\n",
    "    - 预测客户转化率，是连续型变量预测问题，拟选择集成数模型——随机森林回归。\n",
    "\n",
    "- 客户价值\n",
    "    - 为了更加细致的挖掘客户价值，选择RFM客户价值模型进行分析。"
   ]
  },
  {
   "cell_type": "markdown",
   "id": "2b9954cb",
   "metadata": {},
   "source": [
    "# 2 数据清洗"
   ]
  },
  {
   "cell_type": "code",
   "execution_count": null,
   "id": "abb675c4",
   "metadata": {},
   "outputs": [],
   "source": [
    "plt.rcParams[\"font.family\"] = [\"Arial Unicode MS\"]\n",
    "plt.rcParams['axes.unicode_minus']=False"
   ]
  },
  {
   "cell_type": "markdown",
   "id": "524dfa84",
   "metadata": {},
   "source": [
    "## 2.1 导入数据"
   ]
  },
  {
   "cell_type": "code",
   "execution_count": null,
   "id": "66ad880c",
   "metadata": {},
   "outputs": [],
   "source": [
    "data = pd.read_table(\"./file/userlostprob.txt\")\n",
    "data.head()"
   ]
  },
  {
   "cell_type": "markdown",
   "id": "f2c158b5",
   "metadata": {},
   "source": [
    "## 2.2 数据探索性分析"
   ]
  },
  {
   "cell_type": "code",
   "execution_count": null,
   "id": "f385db45",
   "metadata": {},
   "outputs": [],
   "source": [
    "data.shape"
   ]
  },
  {
   "cell_type": "code",
   "execution_count": null,
   "id": "5de6684b",
   "metadata": {},
   "outputs": [],
   "source": [
    "data.info()"
   ]
  },
  {
   "cell_type": "markdown",
   "id": "ea0e81da",
   "metadata": {},
   "source": [
    "### 重复值"
   ]
  },
  {
   "cell_type": "code",
   "execution_count": null,
   "id": "a25c4186",
   "metadata": {},
   "outputs": [],
   "source": [
    "data.drop_duplicates(inplace=True)\n",
    "data.shape"
   ]
  },
  {
   "cell_type": "markdown",
   "id": "7d36d5ed",
   "metadata": {},
   "source": [
    "### 缺失值"
   ]
  },
  {
   "cell_type": "code",
   "execution_count": null,
   "id": "f76502bf",
   "metadata": {},
   "outputs": [],
   "source": [
    "null_ = data.isna().mean().reset_index().sort_values(by=0)\n",
    "null_1 = null_.rename(columns = {\"index\":\"特征\", 0:\"缺失比\"}).reset_index(drop=True)"
   ]
  },
  {
   "cell_type": "code",
   "execution_count": null,
   "id": "cf7470ab",
   "metadata": {},
   "outputs": [],
   "source": [
    "null_1"
   ]
  },
  {
   "cell_type": "code",
   "execution_count": null,
   "id": "328fe244",
   "metadata": {},
   "outputs": [],
   "source": [
    "plt.figure(figsize=(6, 6))\n",
    "plt.barh(null_1.特征, null_1.缺失比, label=\"缺失比\")\n",
    "plt.legend(loc=4)\n",
    "plt.ylabel(\"特征变量\", fontsize=15)"
   ]
  },
  {
   "cell_type": "code",
   "execution_count": null,
   "id": "87a4228b",
   "metadata": {},
   "outputs": [],
   "source": [
    "null_.rename(columns={\"index\":\"特征\", 0:\"缺失比\"}).set_index(\"特征\")"
   ]
  },
  {
   "cell_type": "code",
   "execution_count": null,
   "id": "d259a30b",
   "metadata": {},
   "outputs": [],
   "source": [
    "# 可视化缺失值\n",
    "import missingno as msno\n",
    "msno.matrix(data, labels=True)"
   ]
  },
  {
   "cell_type": "code",
   "execution_count": null,
   "id": "aaf5065b",
   "metadata": {},
   "outputs": [],
   "source": [
    "# 删除缺失比例最高的列\n",
    "data = data.drop(columns=[\"historyvisit_7ordernum\"])"
   ]
  },
  {
   "cell_type": "markdown",
   "id": "7c2565d7",
   "metadata": {},
   "source": [
    "### 异常值"
   ]
  },
  {
   "cell_type": "code",
   "execution_count": null,
   "id": "7661e82c",
   "metadata": {
    "scrolled": true
   },
   "outputs": [],
   "source": [
    "data.describe(percentiles=[0.01, 0.25, 0.5, 0.75, 0.99], include=\"all\").T"
   ]
  },
  {
   "cell_type": "code",
   "execution_count": null,
   "id": "6f4c70da",
   "metadata": {},
   "outputs": [],
   "source": [
    "# 箱线图\n",
    "import seaborn as sns\n",
    "\n",
    "sns.violinplot(x=data['lasthtlordergap'])"
   ]
  },
  {
   "cell_type": "markdown",
   "id": "588cdf90",
   "metadata": {},
   "source": [
    "#### 定义盖帽法处理异常值"
   ]
  },
  {
   "cell_type": "code",
   "execution_count": null,
   "id": "70b5db91",
   "metadata": {},
   "outputs": [],
   "source": [
    "data.loc[:, ['lowestprice','lowestprice_pre']].describe(percentiles=[0.1, 0.25, 0.5, 0.75, 0.99]).T"
   ]
  },
  {
   "cell_type": "code",
   "execution_count": null,
   "id": "6f4089cb",
   "metadata": {},
   "outputs": [],
   "source": [
    "def block_lower(x):\n",
    "    # x是输⼊入的Series对象,替换1%分位数\n",
    "    q1 = x.quantile(.99)\n",
    "    out = x.mask(x<q1)\n",
    "    return out\n",
    "\n",
    "def block_upper(x):\n",
    "    # x是输⼊入的Series对象,l替换99%分位数\n",
    "    qu = x.quantile(.99)\n",
    "    out = x.mask(x>qu, qu)\n",
    "    return(out)"
   ]
  },
  {
   "cell_type": "code",
   "execution_count": null,
   "id": "39a88b9e",
   "metadata": {},
   "outputs": [],
   "source": [
    "# 应用盖帽法\n",
    "data.loc[:, ['lowestprice','lowestprice_pre']] = data.loc[:, ['lowestprice','lowestprice_pre']].apply(block_lower)\n",
    "data.loc[:, ['lowestprice','lowestprice_pre']] = data.loc[:, ['lowestprice','lowestprice_pre']].apply(block_upper)"
   ]
  },
  {
   "cell_type": "code",
   "execution_count": null,
   "id": "ea7ffb3d",
   "metadata": {},
   "outputs": [],
   "source": [
    "data.loc[:, ['lowestprice','lowestprice_pre']].describe(percentiles=[0.1, 0.25, 0.5, 0.75, 0.99]).T"
   ]
  },
  {
   "cell_type": "markdown",
   "id": "80a8dc34",
   "metadata": {},
   "source": [
    "# 3 划分测试集和训练集"
   ]
  },
  {
   "cell_type": "code",
   "execution_count": null,
   "id": "9c703724",
   "metadata": {},
   "outputs": [],
   "source": [
    "# 备份数据\n",
    "data_copy = data.copy()"
   ]
  },
  {
   "cell_type": "code",
   "execution_count": null,
   "id": "6f7a3760",
   "metadata": {},
   "outputs": [],
   "source": [
    "from sklearn.model_selection import train_test_split\n",
    "\n",
    "X = data_copy.iloc[:,2:]   # 特征\n",
    "y = data_copy.label    # 目标值\n",
    "X_train, X_test, y_train, y_test = train_test_split(X, y, test_size=0.3, random_state=666)"
   ]
  },
  {
   "cell_type": "code",
   "execution_count": null,
   "id": "b63c9c66",
   "metadata": {},
   "outputs": [],
   "source": [
    "# 特征创造\n",
    "date_train = X_train.iloc[:, :2]\n",
    "date_test = X_test.iloc[:, :2]\n",
    "date_train.reset_index(drop=True)\n",
    "date_test.reset_index(drop=True)"
   ]
  },
  {
   "cell_type": "markdown",
   "id": "c384e826",
   "metadata": {},
   "source": [
    "**知识点：object数据类型是dataframe中特殊的数据类型,当某一列出现数字、字符串、特殊字符和时间格式两种及以上时,就会出现object类型,即便把不同类型的拆分开,仍然是object类型.**"
   ]
  },
  {
   "cell_type": "code",
   "execution_count": null,
   "id": "50c6c2fc",
   "metadata": {},
   "outputs": [],
   "source": [
    "col_no = ['sid', 'iforderpv_24h', 'h']    # 没有缺失值的特征\n",
    "col_clf = ['decisionhabit_user']    # 分类型变量\n",
    "# 筛选包含负值的列\n",
    "dfc = pd.DataFrame([{k: False if str(t) == \"object\" else (data.loc[:, [k]]<0).any().all() for k, t in data.dtypes.to_dict().items()}]).T.reset_index().rename(columns={\"index\":\"column_name\", 0:\"isnegative\"})\n",
    "col_neg = dfc[dfc[\"isnegative\"]==True].column_name.to_list()\n",
    "# std>100\n",
    "col_std = data.columns[data.describe(include=\"all\").T[\"std\"] > 100].to_list()   \n",
    "col_std.remove(\"sampleid\")\n",
    "col_std.remove(\"delta_price1\")\n",
    "col_std.remove(\"delta_price2\")\n",
    "col_std.remove(\"lasthtlordergap\")"
   ]
  },
  {
   "cell_type": "code",
   "execution_count": null,
   "id": "88ddb649",
   "metadata": {
    "scrolled": true
   },
   "outputs": [],
   "source": [
    "col_35 = null_1[(null_1.缺失比 >= 0.35) & (null_1.缺失比 <= 0.55)].特征.to_list()"
   ]
  },
  {
   "cell_type": "code",
   "execution_count": null,
   "id": "88b781ee",
   "metadata": {},
   "outputs": [],
   "source": [
    "cols = X.columns.to_list()\n",
    "col_norm = list(set(cols)-set(col_clf + col_std + col_neg + col_no +col_35))\n",
    "col_norm.remove(\"d\")\n",
    "col_norm.remove(\"arrival\")\n",
    "col_norm"
   ]
  },
  {
   "cell_type": "markdown",
   "id": "77119f6d",
   "metadata": {},
   "source": [
    "# 4 缺失值填补"
   ]
  },
  {
   "cell_type": "markdown",
   "id": "a773b7ea",
   "metadata": {},
   "source": [
    "- 分类型变量用 '众数填补' —— col_clf\n",
    "- 含有负数的特征用 '中值填补' —— col_neg\n",
    "- std > 100 方差大于100的连续型变量用 '中值填补' —— col_std\n",
    "- 缺失35%——55%用 '常数 -1 填充' 单独做一类\n",
    "- 其余变量用 '均值填补' —— col_norm"
   ]
  },
  {
   "cell_type": "markdown",
   "id": "2b5ddcc5",
   "metadata": {},
   "source": [
    "**知识点：过拟合：算法具有高方差（用比较多的变量x去拟合数据集，但是数据量不足以多去约束这些变量，导致这个算法用到新的样本集中去时，表现效果不好，即泛化能力差）。**"
   ]
  },
  {
   "cell_type": "code",
   "execution_count": null,
   "id": "01ef9d8d",
   "metadata": {},
   "outputs": [],
   "source": [
    "X_train.loc[:, col_clf] = X_train.loc[:, col_clf].fillna(X_train.loc[:, col_clf].mode())\n",
    "X_train.loc[:, col_neg] = X_train.loc[:, col_neg].fillna(X_train.loc[:, col_neg].median())\n",
    "X_train.loc[:, col_std] = X_train.loc[:, col_std].fillna(X_train.loc[:, col_std].median())\n",
    "X_train.loc[:, col_35] = X_train.loc[:, col_35].fillna(-1)\n",
    "X_train.loc[:, col_norm] = X_train.loc[:, col_norm].fillna(X_train.loc[:, col_norm].mean())"
   ]
  },
  {
   "cell_type": "code",
   "execution_count": null,
   "id": "18d178e9",
   "metadata": {},
   "outputs": [],
   "source": [
    "X_test.loc[:,col_clf] = X_test.loc[:, col_clf].fillna(X_test.loc[:, col_clf].mode())\n",
    "X_test.loc[:, col_neg] = X_test.loc[:, col_neg].fillna(X_test.loc[:, col_neg].median())\n",
    "X_test.loc[:, col_std] = X_test.loc[:, col_std].fillna(X_test.loc[:, col_std].median())\n",
    "X_test.loc[:, col_35] = X_test.loc[:, col_35].fillna(-1)\n",
    "X_test.loc[:, col_norm] = X_test.loc[:, col_norm].fillna(X_test.loc[:, col_norm].mean())"
   ]
  },
  {
   "cell_type": "markdown",
   "id": "b1e73aa1",
   "metadata": {},
   "source": [
    "#### 检查缺失值填补情况"
   ]
  },
  {
   "cell_type": "code",
   "execution_count": null,
   "id": "9779e8bc",
   "metadata": {},
   "outputs": [],
   "source": [
    "X_train.isna().any().sum()"
   ]
  },
  {
   "cell_type": "code",
   "execution_count": null,
   "id": "597b191e",
   "metadata": {},
   "outputs": [],
   "source": [
    "X_test.isna().any().sum()"
   ]
  },
  {
   "cell_type": "markdown",
   "id": "7b31ac99",
   "metadata": {},
   "source": [
    "# 5 特征选择"
   ]
  },
  {
   "cell_type": "code",
   "execution_count": null,
   "id": "0c296b4c",
   "metadata": {},
   "outputs": [],
   "source": [
    "y.value_counts()"
   ]
  },
  {
   "cell_type": "code",
   "execution_count": null,
   "id": "de71d97c",
   "metadata": {},
   "outputs": [],
   "source": [
    "500588/189357"
   ]
  },
  {
   "cell_type": "code",
   "execution_count": null,
   "id": "7e77b984",
   "metadata": {},
   "outputs": [],
   "source": [
    "y.shape"
   ]
  },
  {
   "cell_type": "code",
   "execution_count": null,
   "id": "2882ea3b",
   "metadata": {},
   "outputs": [],
   "source": [
    "X.shape"
   ]
  },
  {
   "cell_type": "code",
   "execution_count": null,
   "id": "8d764a65",
   "metadata": {},
   "outputs": [],
   "source": [
    "X_train.describe().T"
   ]
  },
  {
   "cell_type": "markdown",
   "id": "ef8c4ba7",
   "metadata": {},
   "source": [
    "本次选用简单粗暴的方差过滤、F_检验、 以及嵌入法特征选择，利用树模型的特征重要性输出结合模型效果，选择对模型贡献最大的那个几个变量。事实证明，此方法效果明显，最后成功选择出8个特征。\n",
    "\n",
    "| 方法 |\t说明 |\n",
    "| :------: | :------: |\n",
    "| 方差过滤\t| 方差等于0 的直接过滤，结果无过滤特征 |\n",
    "| F_检验\t| 过滤没有相关性的变量。pvalues_f < 0.01 直接过滤，过滤掉6个特征 |\n",
    "| 嵌入法特征选择 | 经过选择，等到贡献最大的8个特征 |"
   ]
  },
  {
   "cell_type": "markdown",
   "id": "ccab6df9",
   "metadata": {},
   "source": [
    "### 方差过滤"
   ]
  },
  {
   "cell_type": "code",
   "execution_count": null,
   "id": "a2016dc6",
   "metadata": {},
   "outputs": [],
   "source": [
    "from sklearn.feature_selection import VarianceThreshold\n",
    "selector = VarianceThreshold()\n",
    "X_train_var0 = selector.fit_transform(X_train.iloc[:,2:])\n",
    "X_train_var0.shape"
   ]
  },
  {
   "cell_type": "code",
   "execution_count": null,
   "id": "9c247c61",
   "metadata": {},
   "outputs": [],
   "source": [
    "X_train.iloc[:,2:].shape"
   ]
  },
  {
   "cell_type": "code",
   "execution_count": null,
   "id": "4bb6924a",
   "metadata": {},
   "outputs": [],
   "source": [
    "selector.feature_names_in_     # 查看模型拟合时导入的特征名称\n",
    "selector.get_feature_names_out()     # 查看被留下特征的字符名称\n",
    "selector.variances_    # 每个特征对应的方差值"
   ]
  },
  {
   "cell_type": "code",
   "execution_count": null,
   "id": "e2783a10",
   "metadata": {},
   "outputs": [],
   "source": []
  },
  {
   "cell_type": "code",
   "execution_count": null,
   "id": "b3a85799",
   "metadata": {},
   "outputs": [],
   "source": []
  }
 ],
 "metadata": {
  "kernelspec": {
   "display_name": "Python 3 (ipykernel)",
   "language": "python",
   "name": "python3"
  },
  "language_info": {
   "codemirror_mode": {
    "name": "ipython",
    "version": 3
   },
   "file_extension": ".py",
   "mimetype": "text/x-python",
   "name": "python",
   "nbconvert_exporter": "python",
   "pygments_lexer": "ipython3",
   "version": "3.9.13"
  }
 },
 "nbformat": 4,
 "nbformat_minor": 5
}
