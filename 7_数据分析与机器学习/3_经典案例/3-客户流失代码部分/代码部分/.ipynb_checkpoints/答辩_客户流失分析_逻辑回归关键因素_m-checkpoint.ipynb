{
 "cells": [
  {
   "cell_type": "markdown",
   "metadata": {},
   "source": [
    "深入了解用户画像及行为偏好，挖掘出影响用户流失的关键因素"
   ]
  },
  {
   "cell_type": "markdown",
   "metadata": {},
   "source": [
    "作者：云朵君  \n",
    "公众号：数据STUDIO  \n",
    "代码仓促整理，若有问题，请及时联系云朵君  "
   ]
  },
  {
   "cell_type": "code",
   "execution_count": 1,
   "metadata": {},
   "outputs": [],
   "source": [
    "import pandas as pd\n",
    "import numpy as np\n",
    "import matplotlib.pyplot as plt\n",
    "%matplotlib inline"
   ]
  },
  {
   "cell_type": "code",
   "execution_count": 2,
   "metadata": {},
   "outputs": [],
   "source": [
    "plt.rcParams['font.family'] = ['Arial Unicode MS']#显示中文,解决图中无法显示中文的问题\n",
    "plt.rcParams['axes.unicode_minus']=False"
   ]
  },
  {
   "cell_type": "markdown",
   "metadata": {},
   "source": [
    "# 数据清洗"
   ]
  },
  {
   "cell_type": "markdown",
   "metadata": {},
   "source": [
    "## 导入数据"
   ]
  },
  {
   "cell_type": "code",
   "execution_count": 3,
   "metadata": {},
   "outputs": [],
   "source": [
    "Xtrain_new = pd.read_csv('Xtrain_new.csv',index_col=0)\n",
    "Xtest_new = pd.read_csv('Xtest_new.csv',index_col=0)\n",
    "Ytrain = pd.read_csv('Ytrain.csv',index_col=0,header=None)\n",
    "Ytest = pd.read_csv('Ytest.csv',index_col=0,header=None)"
   ]
  },
  {
   "cell_type": "code",
   "execution_count": 4,
   "metadata": {},
   "outputs": [],
   "source": [
    "Ytest = Ytest.reset_index(drop=True)"
   ]
  },
  {
   "cell_type": "code",
   "execution_count": 5,
   "metadata": {},
   "outputs": [],
   "source": [
    "Ytest = pd.Series(Ytest.values.reshape(1,-1)[0],name='label')"
   ]
  },
  {
   "cell_type": "code",
   "execution_count": 6,
   "metadata": {},
   "outputs": [],
   "source": [
    "Ytrain = pd.Series(Ytrain.values.reshape(1,-1)[0])"
   ]
  },
  {
   "cell_type": "code",
   "execution_count": 149,
   "metadata": {},
   "outputs": [],
   "source": [
    "date_train = pd.read_csv('date_train.csv',index_col=0)\n",
    "date_test = pd.read_csv('date_test.csv',index_col=0)"
   ]
  },
  {
   "cell_type": "code",
   "execution_count": 150,
   "metadata": {},
   "outputs": [
    {
     "data": {
      "text/plain": [
       "(453215, 7)"
      ]
     },
     "execution_count": 150,
     "metadata": {},
     "output_type": "execute_result"
    }
   ],
   "source": [
    "Xtrain_new.shape"
   ]
  },
  {
   "cell_type": "code",
   "execution_count": 151,
   "metadata": {},
   "outputs": [
    {
     "data": {
      "text/plain": [
       "(453215, 2)"
      ]
     },
     "execution_count": 151,
     "metadata": {},
     "output_type": "execute_result"
    }
   ],
   "source": [
    "date_train.shape"
   ]
  },
  {
   "cell_type": "markdown",
   "metadata": {},
   "source": [
    "## 分箱"
   ]
  },
  {
   "cell_type": "code",
   "execution_count": 7,
   "metadata": {},
   "outputs": [],
   "source": [
    "features =  {'lasthtlordergap':'一年内距离上次下单时长'\n",
    "             ,'cityorders':'昨日提交当前城市同入住日期的app订单数','lastpvgap':'一年内距上次访问时长'\n",
    "            ,'cr':'用户转化率','sid':'会话id，sid=1可认为是新访','visitnum_oneyear':'年访问次数'\n",
    "            ,'h':'访问时间点'}"
   ]
  },
  {
   "cell_type": "code",
   "execution_count": 112,
   "metadata": {},
   "outputs": [
    {
     "data": {
      "text/plain": [
       "lasthtlordergap              一年内距离上次下单时长\n",
       "cityorders          昨日提交当前城市同入住日期的app订单数\n",
       "lastpvgap                     一年内距上次访问时长\n",
       "cr                                 用户转化率\n",
       "sid                     会话id，sid=1可认为是新访\n",
       "visitnum_oneyear                   年访问次数\n",
       "h                                  访问时间点\n",
       "dtype: object"
      ]
     },
     "execution_count": 112,
     "metadata": {},
     "output_type": "execute_result"
    }
   ],
   "source": [
    "pd.Series(features)"
   ]
  },
  {
   "cell_type": "code",
   "execution_count": 9,
   "metadata": {},
   "outputs": [
    {
     "data": {
      "text/plain": [
       "0    325450\n",
       "1    127765\n",
       "dtype: int64"
      ]
     },
     "execution_count": 9,
     "metadata": {},
     "output_type": "execute_result"
    }
   ],
   "source": [
    "Ytrain.value_counts()"
   ]
  },
  {
   "cell_type": "markdown",
   "metadata": {},
   "source": [
    "- 连续型变量分箱：lasthtlordergap/lastpvgap  --时长\n",
    "- 分类型变量分箱：sid / h"
   ]
  },
  {
   "cell_type": "code",
   "execution_count": 10,
   "metadata": {},
   "outputs": [],
   "source": [
    "%run smob.py"
   ]
  },
  {
   "cell_type": "code",
   "execution_count": 11,
   "metadata": {},
   "outputs": [],
   "source": [
    "ytrain = 1-Ytrain\n",
    "ytest = 1-Ytest"
   ]
  },
  {
   "cell_type": "code",
   "execution_count": 12,
   "metadata": {},
   "outputs": [],
   "source": [
    "train_data = pd.concat([Xtrain_new,ytrain],axis=1)\n",
    "train_data.rename(columns = {0:'label'},inplace=True)\n",
    "y = 'label'"
   ]
  },
  {
   "cell_type": "code",
   "execution_count": 13,
   "metadata": {},
   "outputs": [
    {
     "data": {
      "text/html": [
       "<div>\n",
       "<style scoped>\n",
       "    .dataframe tbody tr th:only-of-type {\n",
       "        vertical-align: middle;\n",
       "    }\n",
       "\n",
       "    .dataframe tbody tr th {\n",
       "        vertical-align: top;\n",
       "    }\n",
       "\n",
       "    .dataframe thead th {\n",
       "        text-align: right;\n",
       "    }\n",
       "</style>\n",
       "<table border=\"1\" class=\"dataframe\">\n",
       "  <thead>\n",
       "    <tr style=\"text-align: right;\">\n",
       "      <th></th>\n",
       "      <th>lasthtlordergap</th>\n",
       "      <th>cityorders</th>\n",
       "      <th>lastpvgap</th>\n",
       "      <th>cr</th>\n",
       "      <th>sid</th>\n",
       "      <th>visitnum_oneyear</th>\n",
       "      <th>h</th>\n",
       "      <th>label</th>\n",
       "    </tr>\n",
       "  </thead>\n",
       "  <tbody>\n",
       "    <tr>\n",
       "      <td>0</td>\n",
       "      <td>-1.0</td>\n",
       "      <td>0.133</td>\n",
       "      <td>0.0</td>\n",
       "      <td>1.139221</td>\n",
       "      <td>27.0</td>\n",
       "      <td>1050.0</td>\n",
       "      <td>0.0</td>\n",
       "      <td>1</td>\n",
       "    </tr>\n",
       "    <tr>\n",
       "      <td>1</td>\n",
       "      <td>23823.0</td>\n",
       "      <td>3.353</td>\n",
       "      <td>1753.0</td>\n",
       "      <td>1.139221</td>\n",
       "      <td>257.0</td>\n",
       "      <td>5780.0</td>\n",
       "      <td>14.0</td>\n",
       "      <td>0</td>\n",
       "    </tr>\n",
       "    <tr>\n",
       "      <td>2</td>\n",
       "      <td>30793.0</td>\n",
       "      <td>1.613</td>\n",
       "      <td>30792.0</td>\n",
       "      <td>1.200000</td>\n",
       "      <td>205.0</td>\n",
       "      <td>3616.0</td>\n",
       "      <td>11.0</td>\n",
       "      <td>1</td>\n",
       "    </tr>\n",
       "    <tr>\n",
       "      <td>3</td>\n",
       "      <td>355113.0</td>\n",
       "      <td>0.140</td>\n",
       "      <td>806.0</td>\n",
       "      <td>1.000000</td>\n",
       "      <td>184.0</td>\n",
       "      <td>1064.0</td>\n",
       "      <td>13.0</td>\n",
       "      <td>1</td>\n",
       "    </tr>\n",
       "    <tr>\n",
       "      <td>4</td>\n",
       "      <td>161858.0</td>\n",
       "      <td>0.007</td>\n",
       "      <td>19664.0</td>\n",
       "      <td>1.000000</td>\n",
       "      <td>286.0</td>\n",
       "      <td>1468.0</td>\n",
       "      <td>14.0</td>\n",
       "      <td>1</td>\n",
       "    </tr>\n",
       "  </tbody>\n",
       "</table>\n",
       "</div>"
      ],
      "text/plain": [
       "   lasthtlordergap  cityorders  lastpvgap        cr    sid  visitnum_oneyear  \\\n",
       "0             -1.0       0.133        0.0  1.139221   27.0            1050.0   \n",
       "1          23823.0       3.353     1753.0  1.139221  257.0            5780.0   \n",
       "2          30793.0       1.613    30792.0  1.200000  205.0            3616.0   \n",
       "3         355113.0       0.140      806.0  1.000000  184.0            1064.0   \n",
       "4         161858.0       0.007    19664.0  1.000000  286.0            1468.0   \n",
       "\n",
       "      h  label  \n",
       "0   0.0      1  \n",
       "1  14.0      0  \n",
       "2  11.0      1  \n",
       "3  13.0      1  \n",
       "4  14.0      1  "
      ]
     },
     "execution_count": 13,
     "metadata": {},
     "output_type": "execute_result"
    }
   ],
   "source": [
    "train_data.head()"
   ]
  },
  {
   "cell_type": "code",
   "execution_count": 14,
   "metadata": {},
   "outputs": [
    {
     "data": {
      "text/html": [
       "<div>\n",
       "<style scoped>\n",
       "    .dataframe tbody tr th:only-of-type {\n",
       "        vertical-align: middle;\n",
       "    }\n",
       "\n",
       "    .dataframe tbody tr th {\n",
       "        vertical-align: top;\n",
       "    }\n",
       "\n",
       "    .dataframe thead th {\n",
       "        text-align: right;\n",
       "    }\n",
       "</style>\n",
       "<table border=\"1\" class=\"dataframe\">\n",
       "  <thead>\n",
       "    <tr style=\"text-align: right;\">\n",
       "      <th></th>\n",
       "      <th>lasthtlordergap</th>\n",
       "      <th>cityorders</th>\n",
       "      <th>lastpvgap</th>\n",
       "      <th>cr</th>\n",
       "      <th>sid</th>\n",
       "      <th>visitnum_oneyear</th>\n",
       "      <th>h</th>\n",
       "      <th>label</th>\n",
       "    </tr>\n",
       "  </thead>\n",
       "  <tbody>\n",
       "    <tr>\n",
       "      <td>0</td>\n",
       "      <td>1116.0</td>\n",
       "      <td>12.653</td>\n",
       "      <td>19.0</td>\n",
       "      <td>1.020000</td>\n",
       "      <td>814</td>\n",
       "      <td>6408.0</td>\n",
       "      <td>5</td>\n",
       "      <td>1</td>\n",
       "    </tr>\n",
       "    <tr>\n",
       "      <td>1</td>\n",
       "      <td>-1.0</td>\n",
       "      <td>0.280</td>\n",
       "      <td>2862.0</td>\n",
       "      <td>1.138505</td>\n",
       "      <td>2</td>\n",
       "      <td>1292.0</td>\n",
       "      <td>11</td>\n",
       "      <td>1</td>\n",
       "    </tr>\n",
       "    <tr>\n",
       "      <td>2</td>\n",
       "      <td>198614.0</td>\n",
       "      <td>3.133</td>\n",
       "      <td>8856.0</td>\n",
       "      <td>1.000000</td>\n",
       "      <td>73</td>\n",
       "      <td>345.0</td>\n",
       "      <td>23</td>\n",
       "      <td>1</td>\n",
       "    </tr>\n",
       "    <tr>\n",
       "      <td>3</td>\n",
       "      <td>16440.0</td>\n",
       "      <td>4.913</td>\n",
       "      <td>222.0</td>\n",
       "      <td>1.250000</td>\n",
       "      <td>33</td>\n",
       "      <td>325.0</td>\n",
       "      <td>15</td>\n",
       "      <td>0</td>\n",
       "    </tr>\n",
       "    <tr>\n",
       "      <td>4</td>\n",
       "      <td>5079.0</td>\n",
       "      <td>0.020</td>\n",
       "      <td>1869.0</td>\n",
       "      <td>1.190000</td>\n",
       "      <td>85</td>\n",
       "      <td>9218.0</td>\n",
       "      <td>16</td>\n",
       "      <td>1</td>\n",
       "    </tr>\n",
       "  </tbody>\n",
       "</table>\n",
       "</div>"
      ],
      "text/plain": [
       "   lasthtlordergap  cityorders  lastpvgap        cr  sid  visitnum_oneyear  \\\n",
       "0           1116.0      12.653       19.0  1.020000  814            6408.0   \n",
       "1             -1.0       0.280     2862.0  1.138505    2            1292.0   \n",
       "2         198614.0       3.133     8856.0  1.000000   73             345.0   \n",
       "3          16440.0       4.913      222.0  1.250000   33             325.0   \n",
       "4           5079.0       0.020     1869.0  1.190000   85            9218.0   \n",
       "\n",
       "    h  label  \n",
       "0   5      1  \n",
       "1  11      1  \n",
       "2  23      1  \n",
       "3  15      0  \n",
       "4  16      1  "
      ]
     },
     "execution_count": 14,
     "metadata": {},
     "output_type": "execute_result"
    }
   ],
   "source": [
    "test_data = pd.concat([Xtest_new,ytest],axis=1)\n",
    "test_data.rename(columns = {0:'label'},inplace=True)\n",
    "test_data.head()"
   ]
  },
  {
   "cell_type": "code",
   "execution_count": 115,
   "metadata": {},
   "outputs": [],
   "source": [
    "import seaborn as sns"
   ]
  },
  {
   "cell_type": "code",
   "execution_count": 117,
   "metadata": {},
   "outputs": [],
   "source": [
    "l_ = ['一年内距离上次下单时长'\n",
    ",'昨日提交当前城市同入住日期的app订单数'\n",
    ",'一年内距上次访问时长'\n",
    ",'用户转化率'\n",
    ",'会话id,sid=1可认为是新访'\n",
    " ,'年访问次数'\n",
    " ,'访问时间点']"
   ]
  },
  {
   "cell_type": "code",
   "execution_count": 118,
   "metadata": {},
   "outputs": [
    {
     "data": {
      "image/png": "[encoded data removed]",
      "text/plain": [
       "<Figure size 576x1080 with 7 Axes>"
      ]
     },
     "metadata": {
      "needs_background": "light"
     },
     "output_type": "display_data"
    }
   ],
   "source": [
    "ax = plt.figure(figsize=(8,15))\n",
    "for i in range(len(train_data.columns[:-1])):\n",
    "    ax.add_subplot(8,1,i+1)\n",
    "    sns.kdeplot(train_data.iloc[:,i],shade=True)\n",
    "    plt.title(l_[i])\n",
    "plt.tight_layout();"
   ]
  },
  {
   "cell_type": "code",
   "execution_count": 15,
   "metadata": {},
   "outputs": [
    {
     "data": {
      "image/png": "[encoded data removed]",
      "text/plain": [
       "<Figure size 576x1080 with 7 Axes>"
      ]
     },
     "metadata": {
      "needs_background": "light"
     },
     "output_type": "display_data"
    }
   ],
   "source": [
    "ax = plt.figure(figsize=(8,15))\n",
    "for i in range(len(train_data.columns[:-1])):\n",
    "    ax.add_subplot(8,1,i+1)\n",
    "    train_data.iloc[:,i].plot(kind='hist',bins=20)\n",
    "plt.tight_layout();"
   ]
  },
  {
   "cell_type": "code",
   "execution_count": 16,
   "metadata": {},
   "outputs": [
    {
     "data": {
      "text/plain": [
       "7"
      ]
     },
     "execution_count": 16,
     "metadata": {},
     "output_type": "execute_result"
    }
   ],
   "source": [
    "len(train_data.columns[:-1])"
   ]
  },
  {
   "cell_type": "markdown",
   "metadata": {},
   "source": [
    "### WOE分箱"
   ]
  },
  {
   "cell_type": "code",
   "execution_count": 17,
   "metadata": {},
   "outputs": [],
   "source": [
    "iv_all = pd.Series()"
   ]
  },
  {
   "cell_type": "code",
   "execution_count": 18,
   "metadata": {},
   "outputs": [
    {
     "name": "stderr",
     "output_type": "stream",
     "text": [
      "/Users/jim/opt/anaconda3/lib/python3.7/site-packages/sklearn/model_selection/_search.py:823: FutureWarning: The parameter 'iid' is deprecated in 0.22 and will be removed in 0.24.\n",
      "  \"removed in 0.24.\", FutureWarning\n"
     ]
    },
    {
     "data": {
      "image/png": "[encoded data removed]",
      "text/plain": [
       "<Figure size 1152x720 with 1 Axes>"
      ]
     },
     "metadata": {
      "needs_background": "light"
     },
     "output_type": "display_data"
    }
   ],
   "source": [
    "ordergap = smbin(train_data,y,'lasthtlordergap',max_bin = 8)"
   ]
  },
  {
   "cell_type": "code",
   "execution_count": 19,
   "metadata": {},
   "outputs": [
    {
     "data": {
      "text/html": [
       "<div>\n",
       "<style scoped>\n",
       "    .dataframe tbody tr th:only-of-type {\n",
       "        vertical-align: middle;\n",
       "    }\n",
       "\n",
       "    .dataframe tbody tr th {\n",
       "        vertical-align: top;\n",
       "    }\n",
       "\n",
       "    .dataframe thead th {\n",
       "        text-align: right;\n",
       "    }\n",
       "</style>\n",
       "<table border=\"1\" class=\"dataframe\">\n",
       "  <thead>\n",
       "    <tr style=\"text-align: right;\">\n",
       "      <th></th>\n",
       "      <th>Bins</th>\n",
       "      <th>CntRec</th>\n",
       "      <th>CntGood</th>\n",
       "      <th>CntBad</th>\n",
       "      <th>PctRec</th>\n",
       "      <th>PctGood</th>\n",
       "      <th>PctBad</th>\n",
       "      <th>WOE</th>\n",
       "      <th>IV</th>\n",
       "    </tr>\n",
       "  </thead>\n",
       "  <tbody>\n",
       "    <tr>\n",
       "      <td>0</td>\n",
       "      <td>(-1.001, 2.5]</td>\n",
       "      <td>157672</td>\n",
       "      <td>124908</td>\n",
       "      <td>32764</td>\n",
       "      <td>0.347897</td>\n",
       "      <td>0.383801</td>\n",
       "      <td>0.256440</td>\n",
       "      <td>0.4032</td>\n",
       "      <td>0.0514</td>\n",
       "    </tr>\n",
       "    <tr>\n",
       "      <td>1</td>\n",
       "      <td>(2.5, 1327.0]</td>\n",
       "      <td>12524</td>\n",
       "      <td>6269</td>\n",
       "      <td>6255</td>\n",
       "      <td>0.027634</td>\n",
       "      <td>0.019263</td>\n",
       "      <td>0.048957</td>\n",
       "      <td>-0.9328</td>\n",
       "      <td>0.0277</td>\n",
       "    </tr>\n",
       "    <tr>\n",
       "      <td>2</td>\n",
       "      <td>(1327.0, 6267.5]</td>\n",
       "      <td>31205</td>\n",
       "      <td>17759</td>\n",
       "      <td>13446</td>\n",
       "      <td>0.068853</td>\n",
       "      <td>0.054568</td>\n",
       "      <td>0.105240</td>\n",
       "      <td>-0.6568</td>\n",
       "      <td>0.0333</td>\n",
       "    </tr>\n",
       "    <tr>\n",
       "      <td>3</td>\n",
       "      <td>(6267.5, 17620.5]</td>\n",
       "      <td>36647</td>\n",
       "      <td>22496</td>\n",
       "      <td>14151</td>\n",
       "      <td>0.080860</td>\n",
       "      <td>0.069123</td>\n",
       "      <td>0.110758</td>\n",
       "      <td>-0.4715</td>\n",
       "      <td>0.0196</td>\n",
       "    </tr>\n",
       "    <tr>\n",
       "      <td>4</td>\n",
       "      <td>(17620.5, 37972.5]</td>\n",
       "      <td>53022</td>\n",
       "      <td>35330</td>\n",
       "      <td>17692</td>\n",
       "      <td>0.116991</td>\n",
       "      <td>0.108557</td>\n",
       "      <td>0.138473</td>\n",
       "      <td>-0.2434</td>\n",
       "      <td>0.0073</td>\n",
       "    </tr>\n",
       "    <tr>\n",
       "      <td>5</td>\n",
       "      <td>(37972.5, 61189.5]</td>\n",
       "      <td>31138</td>\n",
       "      <td>21445</td>\n",
       "      <td>9693</td>\n",
       "      <td>0.068705</td>\n",
       "      <td>0.065893</td>\n",
       "      <td>0.075866</td>\n",
       "      <td>-0.1409</td>\n",
       "      <td>0.0014</td>\n",
       "    </tr>\n",
       "    <tr>\n",
       "      <td>6</td>\n",
       "      <td>(61189.5, 118090.0]</td>\n",
       "      <td>44571</td>\n",
       "      <td>31964</td>\n",
       "      <td>12607</td>\n",
       "      <td>0.098344</td>\n",
       "      <td>0.098215</td>\n",
       "      <td>0.098673</td>\n",
       "      <td>-0.0047</td>\n",
       "      <td>0.0000</td>\n",
       "    </tr>\n",
       "    <tr>\n",
       "      <td>7</td>\n",
       "      <td>(118090.0, 527026.0]</td>\n",
       "      <td>86436</td>\n",
       "      <td>65279</td>\n",
       "      <td>21157</td>\n",
       "      <td>0.190717</td>\n",
       "      <td>0.200581</td>\n",
       "      <td>0.165593</td>\n",
       "      <td>0.1917</td>\n",
       "      <td>0.0067</td>\n",
       "    </tr>\n",
       "    <tr>\n",
       "      <td>8</td>\n",
       "      <td>Total</td>\n",
       "      <td>453215</td>\n",
       "      <td>325450</td>\n",
       "      <td>127765</td>\n",
       "      <td>1.000000</td>\n",
       "      <td>1.000000</td>\n",
       "      <td>1.000000</td>\n",
       "      <td>NaN</td>\n",
       "      <td>0.1474</td>\n",
       "    </tr>\n",
       "  </tbody>\n",
       "</table>\n",
       "</div>"
      ],
      "text/plain": [
       "                   Bins  CntRec  CntGood  CntBad    PctRec   PctGood  \\\n",
       "0         (-1.001, 2.5]  157672   124908   32764  0.347897  0.383801   \n",
       "1         (2.5, 1327.0]   12524     6269    6255  0.027634  0.019263   \n",
       "2      (1327.0, 6267.5]   31205    17759   13446  0.068853  0.054568   \n",
       "3     (6267.5, 17620.5]   36647    22496   14151  0.080860  0.069123   \n",
       "4    (17620.5, 37972.5]   53022    35330   17692  0.116991  0.108557   \n",
       "5    (37972.5, 61189.5]   31138    21445    9693  0.068705  0.065893   \n",
       "6   (61189.5, 118090.0]   44571    31964   12607  0.098344  0.098215   \n",
       "7  (118090.0, 527026.0]   86436    65279   21157  0.190717  0.200581   \n",
       "8                 Total  453215   325450  127765  1.000000  1.000000   \n",
       "\n",
       "     PctBad     WOE      IV  \n",
       "0  0.256440  0.4032  0.0514  \n",
       "1  0.048957 -0.9328  0.0277  \n",
       "2  0.105240 -0.6568  0.0333  \n",
       "3  0.110758 -0.4715  0.0196  \n",
       "4  0.138473 -0.2434  0.0073  \n",
       "5  0.075866 -0.1409  0.0014  \n",
       "6  0.098673 -0.0047  0.0000  \n",
       "7  0.165593  0.1917  0.0067  \n",
       "8  1.000000     NaN  0.1474  "
      ]
     },
     "execution_count": 19,
     "metadata": {},
     "output_type": "execute_result"
    }
   ],
   "source": [
    "ordergap.IVtable"
   ]
  },
  {
   "cell_type": "code",
   "execution_count": 20,
   "metadata": {},
   "outputs": [
    {
     "data": {
      "text/plain": [
       "lasthtlordergap    0.1474\n",
       "dtype: float64"
      ]
     },
     "execution_count": 20,
     "metadata": {},
     "output_type": "execute_result"
    }
   ],
   "source": [
    "iv_all = iv_all.append(pd.Series({'lasthtlordergap':ordergap.IV}))\n",
    "iv_all"
   ]
  },
  {
   "cell_type": "markdown",
   "metadata": {},
   "source": [
    "**lasthtlordergap 8 箱**"
   ]
  },
  {
   "cell_type": "code",
   "execution_count": 21,
   "metadata": {},
   "outputs": [
    {
     "name": "stderr",
     "output_type": "stream",
     "text": [
      "/Users/jim/opt/anaconda3/lib/python3.7/site-packages/sklearn/model_selection/_search.py:823: FutureWarning: The parameter 'iid' is deprecated in 0.22 and will be removed in 0.24.\n",
      "  \"removed in 0.24.\", FutureWarning\n"
     ]
    },
    {
     "data": {
      "image/png": "[encoded data removed]",
      "text/plain": [
       "<Figure size 1152x720 with 1 Axes>"
      ]
     },
     "metadata": {
      "needs_background": "light"
     },
     "output_type": "display_data"
    }
   ],
   "source": [
    "cityorders = smbin(train_data,y,'cityorders',max_bin=8)"
   ]
  },
  {
   "cell_type": "code",
   "execution_count": 22,
   "metadata": {},
   "outputs": [
    {
     "data": {
      "text/html": [
       "<div>\n",
       "<style scoped>\n",
       "    .dataframe tbody tr th:only-of-type {\n",
       "        vertical-align: middle;\n",
       "    }\n",
       "\n",
       "    .dataframe tbody tr th {\n",
       "        vertical-align: top;\n",
       "    }\n",
       "\n",
       "    .dataframe thead th {\n",
       "        text-align: right;\n",
       "    }\n",
       "</style>\n",
       "<table border=\"1\" class=\"dataframe\">\n",
       "  <thead>\n",
       "    <tr style=\"text-align: right;\">\n",
       "      <th></th>\n",
       "      <th>Bins</th>\n",
       "      <th>CntRec</th>\n",
       "      <th>CntGood</th>\n",
       "      <th>CntBad</th>\n",
       "      <th>PctRec</th>\n",
       "      <th>PctGood</th>\n",
       "      <th>PctBad</th>\n",
       "      <th>WOE</th>\n",
       "      <th>IV</th>\n",
       "    </tr>\n",
       "  </thead>\n",
       "  <tbody>\n",
       "    <tr>\n",
       "      <td>0</td>\n",
       "      <td>(0.006, 0.23]</td>\n",
       "      <td>144340</td>\n",
       "      <td>113134</td>\n",
       "      <td>31206</td>\n",
       "      <td>0.318480</td>\n",
       "      <td>0.347623</td>\n",
       "      <td>0.244245</td>\n",
       "      <td>0.3529</td>\n",
       "      <td>0.0365</td>\n",
       "    </tr>\n",
       "    <tr>\n",
       "      <td>1</td>\n",
       "      <td>(0.23, 0.37]</td>\n",
       "      <td>32760</td>\n",
       "      <td>24676</td>\n",
       "      <td>8084</td>\n",
       "      <td>0.072284</td>\n",
       "      <td>0.075821</td>\n",
       "      <td>0.063272</td>\n",
       "      <td>0.1809</td>\n",
       "      <td>0.0023</td>\n",
       "    </tr>\n",
       "    <tr>\n",
       "      <td>2</td>\n",
       "      <td>(0.37, 0.843]</td>\n",
       "      <td>60354</td>\n",
       "      <td>42962</td>\n",
       "      <td>17392</td>\n",
       "      <td>0.133169</td>\n",
       "      <td>0.132008</td>\n",
       "      <td>0.136125</td>\n",
       "      <td>-0.0307</td>\n",
       "      <td>0.0001</td>\n",
       "    </tr>\n",
       "    <tr>\n",
       "      <td>3</td>\n",
       "      <td>(0.843, 2.25]</td>\n",
       "      <td>67206</td>\n",
       "      <td>45482</td>\n",
       "      <td>21724</td>\n",
       "      <td>0.148287</td>\n",
       "      <td>0.139751</td>\n",
       "      <td>0.170031</td>\n",
       "      <td>-0.1961</td>\n",
       "      <td>0.0059</td>\n",
       "    </tr>\n",
       "    <tr>\n",
       "      <td>4</td>\n",
       "      <td>(2.25, 2.294]</td>\n",
       "      <td>24135</td>\n",
       "      <td>19580</td>\n",
       "      <td>4555</td>\n",
       "      <td>0.053253</td>\n",
       "      <td>0.060163</td>\n",
       "      <td>0.035651</td>\n",
       "      <td>0.5233</td>\n",
       "      <td>0.0128</td>\n",
       "    </tr>\n",
       "    <tr>\n",
       "      <td>5</td>\n",
       "      <td>(2.294, 2.61]</td>\n",
       "      <td>7760</td>\n",
       "      <td>5570</td>\n",
       "      <td>2190</td>\n",
       "      <td>0.017122</td>\n",
       "      <td>0.017115</td>\n",
       "      <td>0.017141</td>\n",
       "      <td>-0.0015</td>\n",
       "      <td>0.0000</td>\n",
       "    </tr>\n",
       "    <tr>\n",
       "      <td>6</td>\n",
       "      <td>(2.61, 3.606]</td>\n",
       "      <td>30052</td>\n",
       "      <td>19921</td>\n",
       "      <td>10131</td>\n",
       "      <td>0.066308</td>\n",
       "      <td>0.061211</td>\n",
       "      <td>0.079294</td>\n",
       "      <td>-0.2588</td>\n",
       "      <td>0.0047</td>\n",
       "    </tr>\n",
       "    <tr>\n",
       "      <td>7</td>\n",
       "      <td>(3.606, 14.507]</td>\n",
       "      <td>86608</td>\n",
       "      <td>54125</td>\n",
       "      <td>32483</td>\n",
       "      <td>0.191097</td>\n",
       "      <td>0.166308</td>\n",
       "      <td>0.254240</td>\n",
       "      <td>-0.4244</td>\n",
       "      <td>0.0373</td>\n",
       "    </tr>\n",
       "    <tr>\n",
       "      <td>8</td>\n",
       "      <td>Total</td>\n",
       "      <td>453215</td>\n",
       "      <td>325450</td>\n",
       "      <td>127765</td>\n",
       "      <td>1.000000</td>\n",
       "      <td>1.000000</td>\n",
       "      <td>1.000000</td>\n",
       "      <td>NaN</td>\n",
       "      <td>0.0996</td>\n",
       "    </tr>\n",
       "  </tbody>\n",
       "</table>\n",
       "</div>"
      ],
      "text/plain": [
       "              Bins  CntRec  CntGood  CntBad    PctRec   PctGood    PctBad  \\\n",
       "0    (0.006, 0.23]  144340   113134   31206  0.318480  0.347623  0.244245   \n",
       "1     (0.23, 0.37]   32760    24676    8084  0.072284  0.075821  0.063272   \n",
       "2    (0.37, 0.843]   60354    42962   17392  0.133169  0.132008  0.136125   \n",
       "3    (0.843, 2.25]   67206    45482   21724  0.148287  0.139751  0.170031   \n",
       "4    (2.25, 2.294]   24135    19580    4555  0.053253  0.060163  0.035651   \n",
       "5    (2.294, 2.61]    7760     5570    2190  0.017122  0.017115  0.017141   \n",
       "6    (2.61, 3.606]   30052    19921   10131  0.066308  0.061211  0.079294   \n",
       "7  (3.606, 14.507]   86608    54125   32483  0.191097  0.166308  0.254240   \n",
       "8            Total  453215   325450  127765  1.000000  1.000000  1.000000   \n",
       "\n",
       "      WOE      IV  \n",
       "0  0.3529  0.0365  \n",
       "1  0.1809  0.0023  \n",
       "2 -0.0307  0.0001  \n",
       "3 -0.1961  0.0059  \n",
       "4  0.5233  0.0128  \n",
       "5 -0.0015  0.0000  \n",
       "6 -0.2588  0.0047  \n",
       "7 -0.4244  0.0373  \n",
       "8     NaN  0.0996  "
      ]
     },
     "execution_count": 22,
     "metadata": {},
     "output_type": "execute_result"
    }
   ],
   "source": [
    "cityorders.IVtable"
   ]
  },
  {
   "cell_type": "code",
   "execution_count": 23,
   "metadata": {},
   "outputs": [
    {
     "data": {
      "text/plain": [
       "lasthtlordergap    0.1474\n",
       "cityorders         0.0996\n",
       "dtype: float64"
      ]
     },
     "execution_count": 23,
     "metadata": {},
     "output_type": "execute_result"
    }
   ],
   "source": [
    "iv_all = iv_all.append(pd.Series({'cityorders':cityorders.IV}))\n",
    "iv_all"
   ]
  },
  {
   "cell_type": "code",
   "execution_count": 24,
   "metadata": {},
   "outputs": [
    {
     "name": "stderr",
     "output_type": "stream",
     "text": [
      "/Users/jim/opt/anaconda3/lib/python3.7/site-packages/sklearn/model_selection/_search.py:823: FutureWarning: The parameter 'iid' is deprecated in 0.22 and will be removed in 0.24.\n",
      "  \"removed in 0.24.\", FutureWarning\n"
     ]
    },
    {
     "data": {
      "image/png": "[encoded data removed]",
      "text/plain": [
       "<Figure size 1152x720 with 1 Axes>"
      ]
     },
     "metadata": {
      "needs_background": "light"
     },
     "output_type": "display_data"
    }
   ],
   "source": [
    "lastpvgap = smbin(train_data,y,'lastpvgap',max_bin=10)"
   ]
  },
  {
   "cell_type": "code",
   "execution_count": 25,
   "metadata": {},
   "outputs": [
    {
     "data": {
      "text/html": [
       "<div>\n",
       "<style scoped>\n",
       "    .dataframe tbody tr th:only-of-type {\n",
       "        vertical-align: middle;\n",
       "    }\n",
       "\n",
       "    .dataframe tbody tr th {\n",
       "        vertical-align: top;\n",
       "    }\n",
       "\n",
       "    .dataframe thead th {\n",
       "        text-align: right;\n",
       "    }\n",
       "</style>\n",
       "<table border=\"1\" class=\"dataframe\">\n",
       "  <thead>\n",
       "    <tr style=\"text-align: right;\">\n",
       "      <th></th>\n",
       "      <th>Bins</th>\n",
       "      <th>CntRec</th>\n",
       "      <th>CntGood</th>\n",
       "      <th>CntBad</th>\n",
       "      <th>PctRec</th>\n",
       "      <th>PctGood</th>\n",
       "      <th>PctBad</th>\n",
       "      <th>WOE</th>\n",
       "      <th>IV</th>\n",
       "    </tr>\n",
       "  </thead>\n",
       "  <tbody>\n",
       "    <tr>\n",
       "      <td>0</td>\n",
       "      <td>(-0.001, 0.5]</td>\n",
       "      <td>4958</td>\n",
       "      <td>3826</td>\n",
       "      <td>1132</td>\n",
       "      <td>0.010940</td>\n",
       "      <td>0.011756</td>\n",
       "      <td>0.008860</td>\n",
       "      <td>0.2828</td>\n",
       "      <td>0.0008</td>\n",
       "    </tr>\n",
       "    <tr>\n",
       "      <td>1</td>\n",
       "      <td>(0.5, 93.5]</td>\n",
       "      <td>26011</td>\n",
       "      <td>18766</td>\n",
       "      <td>7245</td>\n",
       "      <td>0.057392</td>\n",
       "      <td>0.057662</td>\n",
       "      <td>0.056706</td>\n",
       "      <td>0.0167</td>\n",
       "      <td>0.0000</td>\n",
       "    </tr>\n",
       "    <tr>\n",
       "      <td>2</td>\n",
       "      <td>(93.5, 768.5]</td>\n",
       "      <td>85898</td>\n",
       "      <td>59713</td>\n",
       "      <td>26185</td>\n",
       "      <td>0.189530</td>\n",
       "      <td>0.183478</td>\n",
       "      <td>0.204947</td>\n",
       "      <td>-0.1107</td>\n",
       "      <td>0.0024</td>\n",
       "    </tr>\n",
       "    <tr>\n",
       "      <td>3</td>\n",
       "      <td>(768.5, 1012.5]</td>\n",
       "      <td>14761</td>\n",
       "      <td>10585</td>\n",
       "      <td>4176</td>\n",
       "      <td>0.032570</td>\n",
       "      <td>0.032524</td>\n",
       "      <td>0.032685</td>\n",
       "      <td>-0.0049</td>\n",
       "      <td>0.0000</td>\n",
       "    </tr>\n",
       "    <tr>\n",
       "      <td>4</td>\n",
       "      <td>(1012.5, 1609.5]</td>\n",
       "      <td>19046</td>\n",
       "      <td>14447</td>\n",
       "      <td>4599</td>\n",
       "      <td>0.042024</td>\n",
       "      <td>0.044391</td>\n",
       "      <td>0.035996</td>\n",
       "      <td>0.2096</td>\n",
       "      <td>0.0018</td>\n",
       "    </tr>\n",
       "    <tr>\n",
       "      <td>5</td>\n",
       "      <td>(1609.5, 2509.5]</td>\n",
       "      <td>41861</td>\n",
       "      <td>29314</td>\n",
       "      <td>12547</td>\n",
       "      <td>0.092365</td>\n",
       "      <td>0.090072</td>\n",
       "      <td>0.098204</td>\n",
       "      <td>-0.0864</td>\n",
       "      <td>0.0007</td>\n",
       "    </tr>\n",
       "    <tr>\n",
       "      <td>6</td>\n",
       "      <td>(2509.5, 6649.5]</td>\n",
       "      <td>135037</td>\n",
       "      <td>98118</td>\n",
       "      <td>36919</td>\n",
       "      <td>0.297954</td>\n",
       "      <td>0.301484</td>\n",
       "      <td>0.288960</td>\n",
       "      <td>0.0424</td>\n",
       "      <td>0.0005</td>\n",
       "    </tr>\n",
       "    <tr>\n",
       "      <td>7</td>\n",
       "      <td>(6649.5, 7455.5]</td>\n",
       "      <td>5188</td>\n",
       "      <td>4104</td>\n",
       "      <td>1084</td>\n",
       "      <td>0.011447</td>\n",
       "      <td>0.012610</td>\n",
       "      <td>0.008484</td>\n",
       "      <td>0.3963</td>\n",
       "      <td>0.0016</td>\n",
       "    </tr>\n",
       "    <tr>\n",
       "      <td>8</td>\n",
       "      <td>(7455.5, 19136.5]</td>\n",
       "      <td>57131</td>\n",
       "      <td>42146</td>\n",
       "      <td>14985</td>\n",
       "      <td>0.126057</td>\n",
       "      <td>0.129501</td>\n",
       "      <td>0.117286</td>\n",
       "      <td>0.0991</td>\n",
       "      <td>0.0012</td>\n",
       "    </tr>\n",
       "    <tr>\n",
       "      <td>9</td>\n",
       "      <td>(19136.5, 194386.0]</td>\n",
       "      <td>63324</td>\n",
       "      <td>44431</td>\n",
       "      <td>18893</td>\n",
       "      <td>0.139722</td>\n",
       "      <td>0.136522</td>\n",
       "      <td>0.147873</td>\n",
       "      <td>-0.0799</td>\n",
       "      <td>0.0009</td>\n",
       "    </tr>\n",
       "    <tr>\n",
       "      <td>10</td>\n",
       "      <td>Total</td>\n",
       "      <td>453215</td>\n",
       "      <td>325450</td>\n",
       "      <td>127765</td>\n",
       "      <td>1.000000</td>\n",
       "      <td>1.000000</td>\n",
       "      <td>1.000000</td>\n",
       "      <td>NaN</td>\n",
       "      <td>0.0099</td>\n",
       "    </tr>\n",
       "  </tbody>\n",
       "</table>\n",
       "</div>"
      ],
      "text/plain": [
       "                   Bins  CntRec  CntGood  CntBad    PctRec   PctGood  \\\n",
       "0         (-0.001, 0.5]    4958     3826    1132  0.010940  0.011756   \n",
       "1           (0.5, 93.5]   26011    18766    7245  0.057392  0.057662   \n",
       "2         (93.5, 768.5]   85898    59713   26185  0.189530  0.183478   \n",
       "3       (768.5, 1012.5]   14761    10585    4176  0.032570  0.032524   \n",
       "4      (1012.5, 1609.5]   19046    14447    4599  0.042024  0.044391   \n",
       "5      (1609.5, 2509.5]   41861    29314   12547  0.092365  0.090072   \n",
       "6      (2509.5, 6649.5]  135037    98118   36919  0.297954  0.301484   \n",
       "7      (6649.5, 7455.5]    5188     4104    1084  0.011447  0.012610   \n",
       "8     (7455.5, 19136.5]   57131    42146   14985  0.126057  0.129501   \n",
       "9   (19136.5, 194386.0]   63324    44431   18893  0.139722  0.136522   \n",
       "10                Total  453215   325450  127765  1.000000  1.000000   \n",
       "\n",
       "      PctBad     WOE      IV  \n",
       "0   0.008860  0.2828  0.0008  \n",
       "1   0.056706  0.0167  0.0000  \n",
       "2   0.204947 -0.1107  0.0024  \n",
       "3   0.032685 -0.0049  0.0000  \n",
       "4   0.035996  0.2096  0.0018  \n",
       "5   0.098204 -0.0864  0.0007  \n",
       "6   0.288960  0.0424  0.0005  \n",
       "7   0.008484  0.3963  0.0016  \n",
       "8   0.117286  0.0991  0.0012  \n",
       "9   0.147873 -0.0799  0.0009  \n",
       "10  1.000000     NaN  0.0099  "
      ]
     },
     "execution_count": 25,
     "metadata": {},
     "output_type": "execute_result"
    }
   ],
   "source": [
    "lastpvgap.IVtable"
   ]
  },
  {
   "cell_type": "code",
   "execution_count": 26,
   "metadata": {},
   "outputs": [
    {
     "data": {
      "text/plain": [
       "lasthtlordergap    0.1474\n",
       "cityorders         0.0996\n",
       "lastpvgap          0.0099\n",
       "dtype: float64"
      ]
     },
     "execution_count": 26,
     "metadata": {},
     "output_type": "execute_result"
    }
   ],
   "source": [
    "iv_all = iv_all.append(pd.Series({'lastpvgap':lastpvgap.IV}))\n",
    "iv_all"
   ]
  },
  {
   "cell_type": "code",
   "execution_count": 27,
   "metadata": {},
   "outputs": [
    {
     "name": "stderr",
     "output_type": "stream",
     "text": [
      "/Users/jim/opt/anaconda3/lib/python3.7/site-packages/sklearn/model_selection/_search.py:823: FutureWarning: The parameter 'iid' is deprecated in 0.22 and will be removed in 0.24.\n",
      "  \"removed in 0.24.\", FutureWarning\n"
     ]
    },
    {
     "data": {
      "image/png": "[encoded data removed]",
      "text/plain": [
       "<Figure size 1152x720 with 1 Axes>"
      ]
     },
     "metadata": {
      "needs_background": "light"
     },
     "output_type": "display_data"
    }
   ],
   "source": [
    "cr = smbin(train_data,y,'cr',max_bin =8)"
   ]
  },
  {
   "cell_type": "code",
   "execution_count": 28,
   "metadata": {},
   "outputs": [
    {
     "data": {
      "text/html": [
       "<div>\n",
       "<style scoped>\n",
       "    .dataframe tbody tr th:only-of-type {\n",
       "        vertical-align: middle;\n",
       "    }\n",
       "\n",
       "    .dataframe tbody tr th {\n",
       "        vertical-align: top;\n",
       "    }\n",
       "\n",
       "    .dataframe thead th {\n",
       "        text-align: right;\n",
       "    }\n",
       "</style>\n",
       "<table border=\"1\" class=\"dataframe\">\n",
       "  <thead>\n",
       "    <tr style=\"text-align: right;\">\n",
       "      <th></th>\n",
       "      <th>Bins</th>\n",
       "      <th>CntRec</th>\n",
       "      <th>CntGood</th>\n",
       "      <th>CntBad</th>\n",
       "      <th>PctRec</th>\n",
       "      <th>PctGood</th>\n",
       "      <th>PctBad</th>\n",
       "      <th>WOE</th>\n",
       "      <th>IV</th>\n",
       "    </tr>\n",
       "  </thead>\n",
       "  <tbody>\n",
       "    <tr>\n",
       "      <td>0</td>\n",
       "      <td>(0.999, 1.075]</td>\n",
       "      <td>160017</td>\n",
       "      <td>127718</td>\n",
       "      <td>32299</td>\n",
       "      <td>0.353071</td>\n",
       "      <td>0.392435</td>\n",
       "      <td>0.252800</td>\n",
       "      <td>0.4398</td>\n",
       "      <td>0.0614</td>\n",
       "    </tr>\n",
       "    <tr>\n",
       "      <td>1</td>\n",
       "      <td>(1.075, 1.14]</td>\n",
       "      <td>180885</td>\n",
       "      <td>132680</td>\n",
       "      <td>48205</td>\n",
       "      <td>0.399115</td>\n",
       "      <td>0.407682</td>\n",
       "      <td>0.377294</td>\n",
       "      <td>0.0775</td>\n",
       "      <td>0.0024</td>\n",
       "    </tr>\n",
       "    <tr>\n",
       "      <td>2</td>\n",
       "      <td>(1.14, 1.175]</td>\n",
       "      <td>20107</td>\n",
       "      <td>13813</td>\n",
       "      <td>6294</td>\n",
       "      <td>0.044365</td>\n",
       "      <td>0.042443</td>\n",
       "      <td>0.049262</td>\n",
       "      <td>-0.1490</td>\n",
       "      <td>0.0010</td>\n",
       "    </tr>\n",
       "    <tr>\n",
       "      <td>3</td>\n",
       "      <td>(1.175, 1.255]</td>\n",
       "      <td>32222</td>\n",
       "      <td>20104</td>\n",
       "      <td>12118</td>\n",
       "      <td>0.071096</td>\n",
       "      <td>0.061773</td>\n",
       "      <td>0.094846</td>\n",
       "      <td>-0.4288</td>\n",
       "      <td>0.0142</td>\n",
       "    </tr>\n",
       "    <tr>\n",
       "      <td>4</td>\n",
       "      <td>(1.255, 1.335]</td>\n",
       "      <td>23184</td>\n",
       "      <td>13192</td>\n",
       "      <td>9992</td>\n",
       "      <td>0.051155</td>\n",
       "      <td>0.040535</td>\n",
       "      <td>0.078206</td>\n",
       "      <td>-0.6572</td>\n",
       "      <td>0.0248</td>\n",
       "    </tr>\n",
       "    <tr>\n",
       "      <td>5</td>\n",
       "      <td>(1.335, 1.505]</td>\n",
       "      <td>24274</td>\n",
       "      <td>12202</td>\n",
       "      <td>12072</td>\n",
       "      <td>0.053560</td>\n",
       "      <td>0.037493</td>\n",
       "      <td>0.094486</td>\n",
       "      <td>-0.9243</td>\n",
       "      <td>0.0527</td>\n",
       "    </tr>\n",
       "    <tr>\n",
       "      <td>6</td>\n",
       "      <td>(1.505, 1.925]</td>\n",
       "      <td>7840</td>\n",
       "      <td>3068</td>\n",
       "      <td>4772</td>\n",
       "      <td>0.017299</td>\n",
       "      <td>0.009427</td>\n",
       "      <td>0.037350</td>\n",
       "      <td>-1.3768</td>\n",
       "      <td>0.0384</td>\n",
       "    </tr>\n",
       "    <tr>\n",
       "      <td>7</td>\n",
       "      <td>(1.925, 11.0]</td>\n",
       "      <td>4686</td>\n",
       "      <td>2673</td>\n",
       "      <td>2013</td>\n",
       "      <td>0.010339</td>\n",
       "      <td>0.008213</td>\n",
       "      <td>0.015755</td>\n",
       "      <td>-0.6514</td>\n",
       "      <td>0.0049</td>\n",
       "    </tr>\n",
       "    <tr>\n",
       "      <td>8</td>\n",
       "      <td>Total</td>\n",
       "      <td>453215</td>\n",
       "      <td>325450</td>\n",
       "      <td>127765</td>\n",
       "      <td>1.000000</td>\n",
       "      <td>1.000000</td>\n",
       "      <td>1.000000</td>\n",
       "      <td>NaN</td>\n",
       "      <td>0.1998</td>\n",
       "    </tr>\n",
       "  </tbody>\n",
       "</table>\n",
       "</div>"
      ],
      "text/plain": [
       "             Bins  CntRec  CntGood  CntBad    PctRec   PctGood    PctBad  \\\n",
       "0  (0.999, 1.075]  160017   127718   32299  0.353071  0.392435  0.252800   \n",
       "1   (1.075, 1.14]  180885   132680   48205  0.399115  0.407682  0.377294   \n",
       "2   (1.14, 1.175]   20107    13813    6294  0.044365  0.042443  0.049262   \n",
       "3  (1.175, 1.255]   32222    20104   12118  0.071096  0.061773  0.094846   \n",
       "4  (1.255, 1.335]   23184    13192    9992  0.051155  0.040535  0.078206   \n",
       "5  (1.335, 1.505]   24274    12202   12072  0.053560  0.037493  0.094486   \n",
       "6  (1.505, 1.925]    7840     3068    4772  0.017299  0.009427  0.037350   \n",
       "7   (1.925, 11.0]    4686     2673    2013  0.010339  0.008213  0.015755   \n",
       "8           Total  453215   325450  127765  1.000000  1.000000  1.000000   \n",
       "\n",
       "      WOE      IV  \n",
       "0  0.4398  0.0614  \n",
       "1  0.0775  0.0024  \n",
       "2 -0.1490  0.0010  \n",
       "3 -0.4288  0.0142  \n",
       "4 -0.6572  0.0248  \n",
       "5 -0.9243  0.0527  \n",
       "6 -1.3768  0.0384  \n",
       "7 -0.6514  0.0049  \n",
       "8     NaN  0.1998  "
      ]
     },
     "execution_count": 28,
     "metadata": {},
     "output_type": "execute_result"
    }
   ],
   "source": [
    "cr.IVtable"
   ]
  },
  {
   "cell_type": "code",
   "execution_count": 29,
   "metadata": {},
   "outputs": [
    {
     "data": {
      "text/plain": [
       "lasthtlordergap    0.1474\n",
       "cityorders         0.0996\n",
       "lastpvgap          0.0099\n",
       "cr                 0.1998\n",
       "dtype: float64"
      ]
     },
     "execution_count": 29,
     "metadata": {},
     "output_type": "execute_result"
    }
   ],
   "source": [
    "iv_all = iv_all.append(pd.Series({'cr':cr.IV}))\n",
    "iv_all"
   ]
  },
  {
   "cell_type": "code",
   "execution_count": 30,
   "metadata": {},
   "outputs": [
    {
     "name": "stderr",
     "output_type": "stream",
     "text": [
      "/Users/jim/opt/anaconda3/lib/python3.7/site-packages/sklearn/model_selection/_search.py:823: FutureWarning: The parameter 'iid' is deprecated in 0.22 and will be removed in 0.24.\n",
      "  \"removed in 0.24.\", FutureWarning\n"
     ]
    },
    {
     "data": {
      "image/png": "[encoded data removed]",
      "text/plain": [
       "<Figure size 1152x720 with 1 Axes>"
      ]
     },
     "metadata": {
      "needs_background": "light"
     },
     "output_type": "display_data"
    }
   ],
   "source": [
    "sid  =smbin(train_data,y,'sid',max_bin=10)"
   ]
  },
  {
   "cell_type": "code",
   "execution_count": 31,
   "metadata": {},
   "outputs": [
    {
     "data": {
      "text/html": [
       "<div>\n",
       "<style scoped>\n",
       "    .dataframe tbody tr th:only-of-type {\n",
       "        vertical-align: middle;\n",
       "    }\n",
       "\n",
       "    .dataframe tbody tr th {\n",
       "        vertical-align: top;\n",
       "    }\n",
       "\n",
       "    .dataframe thead th {\n",
       "        text-align: right;\n",
       "    }\n",
       "</style>\n",
       "<table border=\"1\" class=\"dataframe\">\n",
       "  <thead>\n",
       "    <tr style=\"text-align: right;\">\n",
       "      <th></th>\n",
       "      <th>Bins</th>\n",
       "      <th>CntRec</th>\n",
       "      <th>CntGood</th>\n",
       "      <th>CntBad</th>\n",
       "      <th>PctRec</th>\n",
       "      <th>PctGood</th>\n",
       "      <th>PctBad</th>\n",
       "      <th>WOE</th>\n",
       "      <th>IV</th>\n",
       "    </tr>\n",
       "  </thead>\n",
       "  <tbody>\n",
       "    <tr>\n",
       "      <td>0</td>\n",
       "      <td>(-0.001, 1.5]</td>\n",
       "      <td>22523</td>\n",
       "      <td>17521</td>\n",
       "      <td>5002</td>\n",
       "      <td>0.049696</td>\n",
       "      <td>0.053836</td>\n",
       "      <td>0.039150</td>\n",
       "      <td>0.3185</td>\n",
       "      <td>0.0047</td>\n",
       "    </tr>\n",
       "    <tr>\n",
       "      <td>1</td>\n",
       "      <td>(1.5, 6.5]</td>\n",
       "      <td>37900</td>\n",
       "      <td>27385</td>\n",
       "      <td>10515</td>\n",
       "      <td>0.083625</td>\n",
       "      <td>0.084145</td>\n",
       "      <td>0.082300</td>\n",
       "      <td>0.0222</td>\n",
       "      <td>0.0000</td>\n",
       "    </tr>\n",
       "    <tr>\n",
       "      <td>2</td>\n",
       "      <td>(6.5, 12.5]</td>\n",
       "      <td>32261</td>\n",
       "      <td>22600</td>\n",
       "      <td>9661</td>\n",
       "      <td>0.071183</td>\n",
       "      <td>0.069442</td>\n",
       "      <td>0.075615</td>\n",
       "      <td>-0.0852</td>\n",
       "      <td>0.0005</td>\n",
       "    </tr>\n",
       "    <tr>\n",
       "      <td>3</td>\n",
       "      <td>(12.5, 39.5]</td>\n",
       "      <td>88595</td>\n",
       "      <td>64613</td>\n",
       "      <td>23982</td>\n",
       "      <td>0.195481</td>\n",
       "      <td>0.198534</td>\n",
       "      <td>0.187704</td>\n",
       "      <td>0.0561</td>\n",
       "      <td>0.0006</td>\n",
       "    </tr>\n",
       "    <tr>\n",
       "      <td>4</td>\n",
       "      <td>(39.5, 172.5]</td>\n",
       "      <td>153591</td>\n",
       "      <td>110231</td>\n",
       "      <td>43360</td>\n",
       "      <td>0.338892</td>\n",
       "      <td>0.338703</td>\n",
       "      <td>0.339373</td>\n",
       "      <td>-0.0020</td>\n",
       "      <td>0.0000</td>\n",
       "    </tr>\n",
       "    <tr>\n",
       "      <td>5</td>\n",
       "      <td>(172.5, 283.5]</td>\n",
       "      <td>47952</td>\n",
       "      <td>33937</td>\n",
       "      <td>14015</td>\n",
       "      <td>0.105804</td>\n",
       "      <td>0.104277</td>\n",
       "      <td>0.109694</td>\n",
       "      <td>-0.0506</td>\n",
       "      <td>0.0003</td>\n",
       "    </tr>\n",
       "    <tr>\n",
       "      <td>6</td>\n",
       "      <td>(283.5, 299.5]</td>\n",
       "      <td>4666</td>\n",
       "      <td>3134</td>\n",
       "      <td>1532</td>\n",
       "      <td>0.010295</td>\n",
       "      <td>0.009630</td>\n",
       "      <td>0.011991</td>\n",
       "      <td>-0.2193</td>\n",
       "      <td>0.0005</td>\n",
       "    </tr>\n",
       "    <tr>\n",
       "      <td>7</td>\n",
       "      <td>(299.5, 336.5]</td>\n",
       "      <td>8881</td>\n",
       "      <td>6339</td>\n",
       "      <td>2542</td>\n",
       "      <td>0.019596</td>\n",
       "      <td>0.019478</td>\n",
       "      <td>0.019896</td>\n",
       "      <td>-0.0212</td>\n",
       "      <td>0.0000</td>\n",
       "    </tr>\n",
       "    <tr>\n",
       "      <td>8</td>\n",
       "      <td>(336.5, 1187.0]</td>\n",
       "      <td>52125</td>\n",
       "      <td>36221</td>\n",
       "      <td>15904</td>\n",
       "      <td>0.115012</td>\n",
       "      <td>0.111295</td>\n",
       "      <td>0.124479</td>\n",
       "      <td>-0.1119</td>\n",
       "      <td>0.0015</td>\n",
       "    </tr>\n",
       "    <tr>\n",
       "      <td>9</td>\n",
       "      <td>(1187.0, 9956.0]</td>\n",
       "      <td>4721</td>\n",
       "      <td>3469</td>\n",
       "      <td>1252</td>\n",
       "      <td>0.010417</td>\n",
       "      <td>0.010659</td>\n",
       "      <td>0.009799</td>\n",
       "      <td>0.0841</td>\n",
       "      <td>0.0001</td>\n",
       "    </tr>\n",
       "    <tr>\n",
       "      <td>10</td>\n",
       "      <td>Total</td>\n",
       "      <td>453215</td>\n",
       "      <td>325450</td>\n",
       "      <td>127765</td>\n",
       "      <td>1.000000</td>\n",
       "      <td>1.000000</td>\n",
       "      <td>1.000000</td>\n",
       "      <td>NaN</td>\n",
       "      <td>0.0082</td>\n",
       "    </tr>\n",
       "  </tbody>\n",
       "</table>\n",
       "</div>"
      ],
      "text/plain": [
       "                Bins  CntRec  CntGood  CntBad    PctRec   PctGood    PctBad  \\\n",
       "0      (-0.001, 1.5]   22523    17521    5002  0.049696  0.053836  0.039150   \n",
       "1         (1.5, 6.5]   37900    27385   10515  0.083625  0.084145  0.082300   \n",
       "2        (6.5, 12.5]   32261    22600    9661  0.071183  0.069442  0.075615   \n",
       "3       (12.5, 39.5]   88595    64613   23982  0.195481  0.198534  0.187704   \n",
       "4      (39.5, 172.5]  153591   110231   43360  0.338892  0.338703  0.339373   \n",
       "5     (172.5, 283.5]   47952    33937   14015  0.105804  0.104277  0.109694   \n",
       "6     (283.5, 299.5]    4666     3134    1532  0.010295  0.009630  0.011991   \n",
       "7     (299.5, 336.5]    8881     6339    2542  0.019596  0.019478  0.019896   \n",
       "8    (336.5, 1187.0]   52125    36221   15904  0.115012  0.111295  0.124479   \n",
       "9   (1187.0, 9956.0]    4721     3469    1252  0.010417  0.010659  0.009799   \n",
       "10             Total  453215   325450  127765  1.000000  1.000000  1.000000   \n",
       "\n",
       "       WOE      IV  \n",
       "0   0.3185  0.0047  \n",
       "1   0.0222  0.0000  \n",
       "2  -0.0852  0.0005  \n",
       "3   0.0561  0.0006  \n",
       "4  -0.0020  0.0000  \n",
       "5  -0.0506  0.0003  \n",
       "6  -0.2193  0.0005  \n",
       "7  -0.0212  0.0000  \n",
       "8  -0.1119  0.0015  \n",
       "9   0.0841  0.0001  \n",
       "10     NaN  0.0082  "
      ]
     },
     "execution_count": 31,
     "metadata": {},
     "output_type": "execute_result"
    }
   ],
   "source": [
    "sid.IVtable"
   ]
  },
  {
   "cell_type": "code",
   "execution_count": 32,
   "metadata": {},
   "outputs": [
    {
     "data": {
      "text/plain": [
       "lasthtlordergap    0.1474\n",
       "cityorders         0.0996\n",
       "lastpvgap          0.0099\n",
       "cr                 0.1998\n",
       "sid                0.0082\n",
       "dtype: float64"
      ]
     },
     "execution_count": 32,
     "metadata": {},
     "output_type": "execute_result"
    }
   ],
   "source": [
    "iv_all = iv_all.append(pd.Series({'sid':sid.IV}))\n",
    "iv_all"
   ]
  },
  {
   "cell_type": "code",
   "execution_count": 33,
   "metadata": {},
   "outputs": [
    {
     "name": "stderr",
     "output_type": "stream",
     "text": [
      "/Users/jim/opt/anaconda3/lib/python3.7/site-packages/sklearn/model_selection/_search.py:823: FutureWarning: The parameter 'iid' is deprecated in 0.22 and will be removed in 0.24.\n",
      "  \"removed in 0.24.\", FutureWarning\n"
     ]
    },
    {
     "data": {
      "image/png": "[encoded data removed]",
      "text/plain": [
       "<Figure size 1152x720 with 1 Axes>"
      ]
     },
     "metadata": {
      "needs_background": "light"
     },
     "output_type": "display_data"
    }
   ],
   "source": [
    "visitnum = smbin(train_data,y,'visitnum_oneyear',max_bin=7)"
   ]
  },
  {
   "cell_type": "code",
   "execution_count": 34,
   "metadata": {},
   "outputs": [
    {
     "data": {
      "text/html": [
       "<div>\n",
       "<style scoped>\n",
       "    .dataframe tbody tr th:only-of-type {\n",
       "        vertical-align: middle;\n",
       "    }\n",
       "\n",
       "    .dataframe tbody tr th {\n",
       "        vertical-align: top;\n",
       "    }\n",
       "\n",
       "    .dataframe thead th {\n",
       "        text-align: right;\n",
       "    }\n",
       "</style>\n",
       "<table border=\"1\" class=\"dataframe\">\n",
       "  <thead>\n",
       "    <tr style=\"text-align: right;\">\n",
       "      <th></th>\n",
       "      <th>Bins</th>\n",
       "      <th>CntRec</th>\n",
       "      <th>CntGood</th>\n",
       "      <th>CntBad</th>\n",
       "      <th>PctRec</th>\n",
       "      <th>PctGood</th>\n",
       "      <th>PctBad</th>\n",
       "      <th>WOE</th>\n",
       "      <th>IV</th>\n",
       "    </tr>\n",
       "  </thead>\n",
       "  <tbody>\n",
       "    <tr>\n",
       "      <td>0</td>\n",
       "      <td>(0.999, 37.5]</td>\n",
       "      <td>8134</td>\n",
       "      <td>5634</td>\n",
       "      <td>2500</td>\n",
       "      <td>0.017947</td>\n",
       "      <td>0.017311</td>\n",
       "      <td>0.019567</td>\n",
       "      <td>-0.1225</td>\n",
       "      <td>0.0003</td>\n",
       "    </tr>\n",
       "    <tr>\n",
       "      <td>1</td>\n",
       "      <td>(37.5, 61.5]</td>\n",
       "      <td>6386</td>\n",
       "      <td>4892</td>\n",
       "      <td>1494</td>\n",
       "      <td>0.014090</td>\n",
       "      <td>0.015031</td>\n",
       "      <td>0.011693</td>\n",
       "      <td>0.2511</td>\n",
       "      <td>0.0008</td>\n",
       "    </tr>\n",
       "    <tr>\n",
       "      <td>2</td>\n",
       "      <td>(61.5, 1360.5]</td>\n",
       "      <td>248576</td>\n",
       "      <td>180039</td>\n",
       "      <td>68537</td>\n",
       "      <td>0.548473</td>\n",
       "      <td>0.553200</td>\n",
       "      <td>0.536430</td>\n",
       "      <td>0.0308</td>\n",
       "      <td>0.0005</td>\n",
       "    </tr>\n",
       "    <tr>\n",
       "      <td>3</td>\n",
       "      <td>(1360.5, 7484.5]</td>\n",
       "      <td>158975</td>\n",
       "      <td>110894</td>\n",
       "      <td>48081</td>\n",
       "      <td>0.350772</td>\n",
       "      <td>0.340741</td>\n",
       "      <td>0.376324</td>\n",
       "      <td>-0.0993</td>\n",
       "      <td>0.0035</td>\n",
       "    </tr>\n",
       "    <tr>\n",
       "      <td>4</td>\n",
       "      <td>(7484.5, 15003.0]</td>\n",
       "      <td>19593</td>\n",
       "      <td>14307</td>\n",
       "      <td>5286</td>\n",
       "      <td>0.043231</td>\n",
       "      <td>0.043961</td>\n",
       "      <td>0.041373</td>\n",
       "      <td>0.0607</td>\n",
       "      <td>0.0002</td>\n",
       "    </tr>\n",
       "    <tr>\n",
       "      <td>5</td>\n",
       "      <td>(15003.0, 61650.0]</td>\n",
       "      <td>5833</td>\n",
       "      <td>4560</td>\n",
       "      <td>1273</td>\n",
       "      <td>0.012870</td>\n",
       "      <td>0.014011</td>\n",
       "      <td>0.009964</td>\n",
       "      <td>0.3409</td>\n",
       "      <td>0.0014</td>\n",
       "    </tr>\n",
       "    <tr>\n",
       "      <td>6</td>\n",
       "      <td>(61650.0, 9651192.0]</td>\n",
       "      <td>5718</td>\n",
       "      <td>5124</td>\n",
       "      <td>594</td>\n",
       "      <td>0.012617</td>\n",
       "      <td>0.015744</td>\n",
       "      <td>0.004649</td>\n",
       "      <td>1.2198</td>\n",
       "      <td>0.0135</td>\n",
       "    </tr>\n",
       "    <tr>\n",
       "      <td>7</td>\n",
       "      <td>Total</td>\n",
       "      <td>453215</td>\n",
       "      <td>325450</td>\n",
       "      <td>127765</td>\n",
       "      <td>1.000000</td>\n",
       "      <td>1.000000</td>\n",
       "      <td>1.000000</td>\n",
       "      <td>NaN</td>\n",
       "      <td>0.0202</td>\n",
       "    </tr>\n",
       "  </tbody>\n",
       "</table>\n",
       "</div>"
      ],
      "text/plain": [
       "                   Bins  CntRec  CntGood  CntBad    PctRec   PctGood  \\\n",
       "0         (0.999, 37.5]    8134     5634    2500  0.017947  0.017311   \n",
       "1          (37.5, 61.5]    6386     4892    1494  0.014090  0.015031   \n",
       "2        (61.5, 1360.5]  248576   180039   68537  0.548473  0.553200   \n",
       "3      (1360.5, 7484.5]  158975   110894   48081  0.350772  0.340741   \n",
       "4     (7484.5, 15003.0]   19593    14307    5286  0.043231  0.043961   \n",
       "5    (15003.0, 61650.0]    5833     4560    1273  0.012870  0.014011   \n",
       "6  (61650.0, 9651192.0]    5718     5124     594  0.012617  0.015744   \n",
       "7                 Total  453215   325450  127765  1.000000  1.000000   \n",
       "\n",
       "     PctBad     WOE      IV  \n",
       "0  0.019567 -0.1225  0.0003  \n",
       "1  0.011693  0.2511  0.0008  \n",
       "2  0.536430  0.0308  0.0005  \n",
       "3  0.376324 -0.0993  0.0035  \n",
       "4  0.041373  0.0607  0.0002  \n",
       "5  0.009964  0.3409  0.0014  \n",
       "6  0.004649  1.2198  0.0135  \n",
       "7  1.000000     NaN  0.0202  "
      ]
     },
     "execution_count": 34,
     "metadata": {},
     "output_type": "execute_result"
    }
   ],
   "source": [
    "visitnum.IVtable"
   ]
  },
  {
   "cell_type": "code",
   "execution_count": 35,
   "metadata": {},
   "outputs": [
    {
     "data": {
      "text/plain": [
       "lasthtlordergap    0.1474\n",
       "cityorders         0.0996\n",
       "lastpvgap          0.0099\n",
       "cr                 0.1998\n",
       "sid                0.0082\n",
       "visitnum           0.0202\n",
       "dtype: float64"
      ]
     },
     "execution_count": 35,
     "metadata": {},
     "output_type": "execute_result"
    }
   ],
   "source": [
    "iv_all = iv_all.append(pd.Series({'visitnum':visitnum.IV}))\n",
    "iv_all"
   ]
  },
  {
   "cell_type": "code",
   "execution_count": 36,
   "metadata": {},
   "outputs": [
    {
     "name": "stderr",
     "output_type": "stream",
     "text": [
      "/Users/jim/opt/anaconda3/lib/python3.7/site-packages/sklearn/model_selection/_search.py:823: FutureWarning: The parameter 'iid' is deprecated in 0.22 and will be removed in 0.24.\n",
      "  \"removed in 0.24.\", FutureWarning\n"
     ]
    },
    {
     "data": {
      "image/png": "[encoded data removed]",
      "text/plain": [
       "<Figure size 1152x720 with 1 Axes>"
      ]
     },
     "metadata": {
      "needs_background": "light"
     },
     "output_type": "display_data"
    }
   ],
   "source": [
    "h = smbin(train_data,y,'h',max_bin=8)"
   ]
  },
  {
   "cell_type": "code",
   "execution_count": 37,
   "metadata": {},
   "outputs": [
    {
     "data": {
      "text/html": [
       "<div>\n",
       "<style scoped>\n",
       "    .dataframe tbody tr th:only-of-type {\n",
       "        vertical-align: middle;\n",
       "    }\n",
       "\n",
       "    .dataframe tbody tr th {\n",
       "        vertical-align: top;\n",
       "    }\n",
       "\n",
       "    .dataframe thead th {\n",
       "        text-align: right;\n",
       "    }\n",
       "</style>\n",
       "<table border=\"1\" class=\"dataframe\">\n",
       "  <thead>\n",
       "    <tr style=\"text-align: right;\">\n",
       "      <th></th>\n",
       "      <th>Bins</th>\n",
       "      <th>CntRec</th>\n",
       "      <th>CntGood</th>\n",
       "      <th>CntBad</th>\n",
       "      <th>PctRec</th>\n",
       "      <th>PctGood</th>\n",
       "      <th>PctBad</th>\n",
       "      <th>WOE</th>\n",
       "      <th>IV</th>\n",
       "    </tr>\n",
       "  </thead>\n",
       "  <tbody>\n",
       "    <tr>\n",
       "      <td>0</td>\n",
       "      <td>(-0.001, 6.5]</td>\n",
       "      <td>50722</td>\n",
       "      <td>36681</td>\n",
       "      <td>14041</td>\n",
       "      <td>0.111916</td>\n",
       "      <td>0.112709</td>\n",
       "      <td>0.109897</td>\n",
       "      <td>0.0253</td>\n",
       "      <td>0.0001</td>\n",
       "    </tr>\n",
       "    <tr>\n",
       "      <td>1</td>\n",
       "      <td>(6.5, 12.5]</td>\n",
       "      <td>105381</td>\n",
       "      <td>69974</td>\n",
       "      <td>35407</td>\n",
       "      <td>0.232519</td>\n",
       "      <td>0.215007</td>\n",
       "      <td>0.277126</td>\n",
       "      <td>-0.2538</td>\n",
       "      <td>0.0158</td>\n",
       "    </tr>\n",
       "    <tr>\n",
       "      <td>2</td>\n",
       "      <td>(12.5, 17.5]</td>\n",
       "      <td>128181</td>\n",
       "      <td>87542</td>\n",
       "      <td>40639</td>\n",
       "      <td>0.282826</td>\n",
       "      <td>0.268988</td>\n",
       "      <td>0.318076</td>\n",
       "      <td>-0.1676</td>\n",
       "      <td>0.0082</td>\n",
       "    </tr>\n",
       "    <tr>\n",
       "      <td>3</td>\n",
       "      <td>(17.5, 19.5]</td>\n",
       "      <td>49407</td>\n",
       "      <td>35002</td>\n",
       "      <td>14405</td>\n",
       "      <td>0.109014</td>\n",
       "      <td>0.107550</td>\n",
       "      <td>0.112746</td>\n",
       "      <td>-0.0472</td>\n",
       "      <td>0.0002</td>\n",
       "    </tr>\n",
       "    <tr>\n",
       "      <td>4</td>\n",
       "      <td>(19.5, 20.5]</td>\n",
       "      <td>27042</td>\n",
       "      <td>19852</td>\n",
       "      <td>7190</td>\n",
       "      <td>0.059667</td>\n",
       "      <td>0.060999</td>\n",
       "      <td>0.056275</td>\n",
       "      <td>0.0806</td>\n",
       "      <td>0.0004</td>\n",
       "    </tr>\n",
       "    <tr>\n",
       "      <td>5</td>\n",
       "      <td>(20.5, 21.5]</td>\n",
       "      <td>30399</td>\n",
       "      <td>23477</td>\n",
       "      <td>6922</td>\n",
       "      <td>0.067074</td>\n",
       "      <td>0.072137</td>\n",
       "      <td>0.054178</td>\n",
       "      <td>0.2863</td>\n",
       "      <td>0.0051</td>\n",
       "    </tr>\n",
       "    <tr>\n",
       "      <td>6</td>\n",
       "      <td>(21.5, 22.5]</td>\n",
       "      <td>33540</td>\n",
       "      <td>27419</td>\n",
       "      <td>6121</td>\n",
       "      <td>0.074005</td>\n",
       "      <td>0.084250</td>\n",
       "      <td>0.047908</td>\n",
       "      <td>0.5645</td>\n",
       "      <td>0.0205</td>\n",
       "    </tr>\n",
       "    <tr>\n",
       "      <td>7</td>\n",
       "      <td>(22.5, 23.0]</td>\n",
       "      <td>28543</td>\n",
       "      <td>25503</td>\n",
       "      <td>3040</td>\n",
       "      <td>0.062979</td>\n",
       "      <td>0.078362</td>\n",
       "      <td>0.023794</td>\n",
       "      <td>1.1919</td>\n",
       "      <td>0.0650</td>\n",
       "    </tr>\n",
       "    <tr>\n",
       "      <td>8</td>\n",
       "      <td>Total</td>\n",
       "      <td>453215</td>\n",
       "      <td>325450</td>\n",
       "      <td>127765</td>\n",
       "      <td>1.000000</td>\n",
       "      <td>1.000000</td>\n",
       "      <td>1.000000</td>\n",
       "      <td>NaN</td>\n",
       "      <td>0.1153</td>\n",
       "    </tr>\n",
       "  </tbody>\n",
       "</table>\n",
       "</div>"
      ],
      "text/plain": [
       "            Bins  CntRec  CntGood  CntBad    PctRec   PctGood    PctBad  \\\n",
       "0  (-0.001, 6.5]   50722    36681   14041  0.111916  0.112709  0.109897   \n",
       "1    (6.5, 12.5]  105381    69974   35407  0.232519  0.215007  0.277126   \n",
       "2   (12.5, 17.5]  128181    87542   40639  0.282826  0.268988  0.318076   \n",
       "3   (17.5, 19.5]   49407    35002   14405  0.109014  0.107550  0.112746   \n",
       "4   (19.5, 20.5]   27042    19852    7190  0.059667  0.060999  0.056275   \n",
       "5   (20.5, 21.5]   30399    23477    6922  0.067074  0.072137  0.054178   \n",
       "6   (21.5, 22.5]   33540    27419    6121  0.074005  0.084250  0.047908   \n",
       "7   (22.5, 23.0]   28543    25503    3040  0.062979  0.078362  0.023794   \n",
       "8          Total  453215   325450  127765  1.000000  1.000000  1.000000   \n",
       "\n",
       "      WOE      IV  \n",
       "0  0.0253  0.0001  \n",
       "1 -0.2538  0.0158  \n",
       "2 -0.1676  0.0082  \n",
       "3 -0.0472  0.0002  \n",
       "4  0.0806  0.0004  \n",
       "5  0.2863  0.0051  \n",
       "6  0.5645  0.0205  \n",
       "7  1.1919  0.0650  \n",
       "8     NaN  0.1153  "
      ]
     },
     "execution_count": 37,
     "metadata": {},
     "output_type": "execute_result"
    }
   ],
   "source": [
    "h.IVtable"
   ]
  },
  {
   "cell_type": "code",
   "execution_count": 38,
   "metadata": {},
   "outputs": [
    {
     "data": {
      "text/plain": [
       "lasthtlordergap    0.1474\n",
       "cityorders         0.0996\n",
       "lastpvgap          0.0099\n",
       "cr                 0.1998\n",
       "sid                0.0082\n",
       "visitnum           0.0202\n",
       "h                  0.1153\n",
       "dtype: float64"
      ]
     },
     "execution_count": 38,
     "metadata": {},
     "output_type": "execute_result"
    }
   ],
   "source": [
    "iv_all = iv_all.append(pd.Series({'h':h.IV}))\n",
    "iv_all"
   ]
  },
  {
   "cell_type": "markdown",
   "metadata": {},
   "source": [
    "**除去IV < 0.02的变量**"
   ]
  },
  {
   "cell_type": "code",
   "execution_count": 39,
   "metadata": {},
   "outputs": [],
   "source": [
    "bin_list = [ordergap,cityorders,cr,visitnum,h]"
   ]
  },
  {
   "cell_type": "code",
   "execution_count": 121,
   "metadata": {},
   "outputs": [
    {
     "data": {
      "text/plain": [
       "<matplotlib.axes._subplots.AxesSubplot at 0x1a241f32d0>"
      ]
     },
     "execution_count": 121,
     "metadata": {},
     "output_type": "execute_result"
    },
    {
     "data": {
      "image/png": "[encoded data removed]",
      "text/plain": [
       "<Figure size 432x288 with 1 Axes>"
      ]
     },
     "metadata": {
      "needs_background": "light"
     },
     "output_type": "display_data"
    }
   ],
   "source": [
    "iv_all.sort_values().plot(kind='barh')"
   ]
  },
  {
   "cell_type": "code",
   "execution_count": 40,
   "metadata": {},
   "outputs": [
    {
     "data": {
      "text/plain": [
       "Index(['sid', 'lastpvgap'], dtype='object')"
      ]
     },
     "execution_count": 40,
     "metadata": {},
     "output_type": "execute_result"
    }
   ],
   "source": [
    "out = iv_all.sort_values(ascending=False).index[:-3:-1]\n",
    "out"
   ]
  },
  {
   "cell_type": "code",
   "execution_count": 41,
   "metadata": {},
   "outputs": [],
   "source": [
    "iv_list = iv_all.drop(index=out)"
   ]
  },
  {
   "cell_type": "markdown",
   "metadata": {},
   "source": [
    "## 模型构建"
   ]
  },
  {
   "cell_type": "code",
   "execution_count": 42,
   "metadata": {},
   "outputs": [],
   "source": [
    "features_02 =  {'lasthtlordergap':'一年内距离上次下单时长'\n",
    "             ,'cityorders':'昨日提交当前城市同入住日期的app订单数'\n",
    "            ,'cr':'用户转化率','visitnum_oneyear':'年访问次数','h':'访问时间点'}\n",
    "#'lastpvgap':'一年内距上次访问时长','sid':'会话id，sid=1可认为是新访',"
   ]
  },
  {
   "cell_type": "code",
   "execution_count": 43,
   "metadata": {},
   "outputs": [
    {
     "data": {
      "text/html": [
       "<div>\n",
       "<style scoped>\n",
       "    .dataframe tbody tr th:only-of-type {\n",
       "        vertical-align: middle;\n",
       "    }\n",
       "\n",
       "    .dataframe tbody tr th {\n",
       "        vertical-align: top;\n",
       "    }\n",
       "\n",
       "    .dataframe thead th {\n",
       "        text-align: right;\n",
       "    }\n",
       "</style>\n",
       "<table border=\"1\" class=\"dataframe\">\n",
       "  <thead>\n",
       "    <tr style=\"text-align: right;\">\n",
       "      <th></th>\n",
       "      <th>lasthtlordergap</th>\n",
       "      <th>cityorders</th>\n",
       "      <th>lastpvgap</th>\n",
       "      <th>cr</th>\n",
       "      <th>sid</th>\n",
       "      <th>visitnum_oneyear</th>\n",
       "      <th>h</th>\n",
       "      <th>label</th>\n",
       "    </tr>\n",
       "  </thead>\n",
       "  <tbody>\n",
       "    <tr>\n",
       "      <td>0</td>\n",
       "      <td>-1.0</td>\n",
       "      <td>0.133</td>\n",
       "      <td>0.0</td>\n",
       "      <td>1.139221</td>\n",
       "      <td>27.0</td>\n",
       "      <td>1050.0</td>\n",
       "      <td>0.0</td>\n",
       "      <td>1</td>\n",
       "    </tr>\n",
       "    <tr>\n",
       "      <td>1</td>\n",
       "      <td>23823.0</td>\n",
       "      <td>3.353</td>\n",
       "      <td>1753.0</td>\n",
       "      <td>1.139221</td>\n",
       "      <td>257.0</td>\n",
       "      <td>5780.0</td>\n",
       "      <td>14.0</td>\n",
       "      <td>0</td>\n",
       "    </tr>\n",
       "    <tr>\n",
       "      <td>2</td>\n",
       "      <td>30793.0</td>\n",
       "      <td>1.613</td>\n",
       "      <td>30792.0</td>\n",
       "      <td>1.200000</td>\n",
       "      <td>205.0</td>\n",
       "      <td>3616.0</td>\n",
       "      <td>11.0</td>\n",
       "      <td>1</td>\n",
       "    </tr>\n",
       "    <tr>\n",
       "      <td>3</td>\n",
       "      <td>355113.0</td>\n",
       "      <td>0.140</td>\n",
       "      <td>806.0</td>\n",
       "      <td>1.000000</td>\n",
       "      <td>184.0</td>\n",
       "      <td>1064.0</td>\n",
       "      <td>13.0</td>\n",
       "      <td>1</td>\n",
       "    </tr>\n",
       "    <tr>\n",
       "      <td>4</td>\n",
       "      <td>161858.0</td>\n",
       "      <td>0.007</td>\n",
       "      <td>19664.0</td>\n",
       "      <td>1.000000</td>\n",
       "      <td>286.0</td>\n",
       "      <td>1468.0</td>\n",
       "      <td>14.0</td>\n",
       "      <td>1</td>\n",
       "    </tr>\n",
       "  </tbody>\n",
       "</table>\n",
       "</div>"
      ],
      "text/plain": [
       "   lasthtlordergap  cityorders  lastpvgap        cr    sid  visitnum_oneyear  \\\n",
       "0             -1.0       0.133        0.0  1.139221   27.0            1050.0   \n",
       "1          23823.0       3.353     1753.0  1.139221  257.0            5780.0   \n",
       "2          30793.0       1.613    30792.0  1.200000  205.0            3616.0   \n",
       "3         355113.0       0.140      806.0  1.000000  184.0            1064.0   \n",
       "4         161858.0       0.007    19664.0  1.000000  286.0            1468.0   \n",
       "\n",
       "      h  label  \n",
       "0   0.0      1  \n",
       "1  14.0      0  \n",
       "2  11.0      1  \n",
       "3  13.0      1  \n",
       "4  14.0      1  "
      ]
     },
     "execution_count": 43,
     "metadata": {},
     "output_type": "execute_result"
    }
   ],
   "source": [
    "train_data.head()"
   ]
  },
  {
   "cell_type": "code",
   "execution_count": 44,
   "metadata": {},
   "outputs": [],
   "source": [
    "train_data_ = train_data.drop(columns=out,axis=1)"
   ]
  },
  {
   "cell_type": "code",
   "execution_count": 122,
   "metadata": {},
   "outputs": [
    {
     "data": {
      "text/html": [
       "<div>\n",
       "<style scoped>\n",
       "    .dataframe tbody tr th:only-of-type {\n",
       "        vertical-align: middle;\n",
       "    }\n",
       "\n",
       "    .dataframe tbody tr th {\n",
       "        vertical-align: top;\n",
       "    }\n",
       "\n",
       "    .dataframe thead th {\n",
       "        text-align: right;\n",
       "    }\n",
       "</style>\n",
       "<table border=\"1\" class=\"dataframe\">\n",
       "  <thead>\n",
       "    <tr style=\"text-align: right;\">\n",
       "      <th></th>\n",
       "      <th>lasthtlordergap</th>\n",
       "      <th>cityorders</th>\n",
       "      <th>cr</th>\n",
       "      <th>visitnum_oneyear</th>\n",
       "      <th>h</th>\n",
       "      <th>label</th>\n",
       "    </tr>\n",
       "  </thead>\n",
       "  <tbody>\n",
       "    <tr>\n",
       "      <td>0</td>\n",
       "      <td>-1.0</td>\n",
       "      <td>0.133</td>\n",
       "      <td>1.139221</td>\n",
       "      <td>1050.0</td>\n",
       "      <td>0.0</td>\n",
       "      <td>1</td>\n",
       "    </tr>\n",
       "    <tr>\n",
       "      <td>1</td>\n",
       "      <td>23823.0</td>\n",
       "      <td>3.353</td>\n",
       "      <td>1.139221</td>\n",
       "      <td>5780.0</td>\n",
       "      <td>14.0</td>\n",
       "      <td>0</td>\n",
       "    </tr>\n",
       "    <tr>\n",
       "      <td>2</td>\n",
       "      <td>30793.0</td>\n",
       "      <td>1.613</td>\n",
       "      <td>1.200000</td>\n",
       "      <td>3616.0</td>\n",
       "      <td>11.0</td>\n",
       "      <td>1</td>\n",
       "    </tr>\n",
       "    <tr>\n",
       "      <td>3</td>\n",
       "      <td>355113.0</td>\n",
       "      <td>0.140</td>\n",
       "      <td>1.000000</td>\n",
       "      <td>1064.0</td>\n",
       "      <td>13.0</td>\n",
       "      <td>1</td>\n",
       "    </tr>\n",
       "    <tr>\n",
       "      <td>4</td>\n",
       "      <td>161858.0</td>\n",
       "      <td>0.007</td>\n",
       "      <td>1.000000</td>\n",
       "      <td>1468.0</td>\n",
       "      <td>14.0</td>\n",
       "      <td>1</td>\n",
       "    </tr>\n",
       "  </tbody>\n",
       "</table>\n",
       "</div>"
      ],
      "text/plain": [
       "   lasthtlordergap  cityorders        cr  visitnum_oneyear     h  label\n",
       "0             -1.0       0.133  1.139221            1050.0   0.0      1\n",
       "1          23823.0       3.353  1.139221            5780.0  14.0      0\n",
       "2          30793.0       1.613  1.200000            3616.0  11.0      1\n",
       "3         355113.0       0.140  1.000000            1064.0  13.0      1\n",
       "4         161858.0       0.007  1.000000            1468.0  14.0      1"
      ]
     },
     "execution_count": 122,
     "metadata": {},
     "output_type": "execute_result"
    }
   ],
   "source": [
    "train_data_.head()"
   ]
  },
  {
   "cell_type": "code",
   "execution_count": 45,
   "metadata": {},
   "outputs": [
    {
     "data": {
      "text/html": [
       "<div>\n",
       "<style scoped>\n",
       "    .dataframe tbody tr th:only-of-type {\n",
       "        vertical-align: middle;\n",
       "    }\n",
       "\n",
       "    .dataframe tbody tr th {\n",
       "        vertical-align: top;\n",
       "    }\n",
       "\n",
       "    .dataframe thead th {\n",
       "        text-align: right;\n",
       "    }\n",
       "</style>\n",
       "<table border=\"1\" class=\"dataframe\">\n",
       "  <thead>\n",
       "    <tr style=\"text-align: right;\">\n",
       "      <th></th>\n",
       "      <th>lasthtlordergap</th>\n",
       "      <th>cityorders</th>\n",
       "      <th>cr</th>\n",
       "      <th>visitnum_oneyear</th>\n",
       "      <th>h</th>\n",
       "      <th>label</th>\n",
       "      <th>lasthtlordergap_woe</th>\n",
       "      <th>cityorders_woe</th>\n",
       "      <th>cr_woe</th>\n",
       "      <th>visitnum_oneyear_woe</th>\n",
       "      <th>h_woe</th>\n",
       "    </tr>\n",
       "  </thead>\n",
       "  <tbody>\n",
       "    <tr>\n",
       "      <td>0</td>\n",
       "      <td>-1.0</td>\n",
       "      <td>0.133</td>\n",
       "      <td>1.139221</td>\n",
       "      <td>1050.0</td>\n",
       "      <td>0.0</td>\n",
       "      <td>1</td>\n",
       "      <td>0.4032</td>\n",
       "      <td>0.3529</td>\n",
       "      <td>0.0775</td>\n",
       "      <td>0.0308</td>\n",
       "      <td>0.0253</td>\n",
       "    </tr>\n",
       "    <tr>\n",
       "      <td>1</td>\n",
       "      <td>23823.0</td>\n",
       "      <td>3.353</td>\n",
       "      <td>1.139221</td>\n",
       "      <td>5780.0</td>\n",
       "      <td>14.0</td>\n",
       "      <td>0</td>\n",
       "      <td>-0.2434</td>\n",
       "      <td>-0.2588</td>\n",
       "      <td>0.0775</td>\n",
       "      <td>-0.0993</td>\n",
       "      <td>-0.1676</td>\n",
       "    </tr>\n",
       "    <tr>\n",
       "      <td>2</td>\n",
       "      <td>30793.0</td>\n",
       "      <td>1.613</td>\n",
       "      <td>1.200000</td>\n",
       "      <td>3616.0</td>\n",
       "      <td>11.0</td>\n",
       "      <td>1</td>\n",
       "      <td>-0.2434</td>\n",
       "      <td>-0.1961</td>\n",
       "      <td>-0.4288</td>\n",
       "      <td>-0.0993</td>\n",
       "      <td>-0.2538</td>\n",
       "    </tr>\n",
       "    <tr>\n",
       "      <td>3</td>\n",
       "      <td>355113.0</td>\n",
       "      <td>0.140</td>\n",
       "      <td>1.000000</td>\n",
       "      <td>1064.0</td>\n",
       "      <td>13.0</td>\n",
       "      <td>1</td>\n",
       "      <td>0.1917</td>\n",
       "      <td>0.3529</td>\n",
       "      <td>0.4398</td>\n",
       "      <td>0.0308</td>\n",
       "      <td>-0.1676</td>\n",
       "    </tr>\n",
       "    <tr>\n",
       "      <td>4</td>\n",
       "      <td>161858.0</td>\n",
       "      <td>0.007</td>\n",
       "      <td>1.000000</td>\n",
       "      <td>1468.0</td>\n",
       "      <td>14.0</td>\n",
       "      <td>1</td>\n",
       "      <td>0.1917</td>\n",
       "      <td>0.3529</td>\n",
       "      <td>0.4398</td>\n",
       "      <td>-0.0993</td>\n",
       "      <td>-0.1676</td>\n",
       "    </tr>\n",
       "  </tbody>\n",
       "</table>\n",
       "</div>"
      ],
      "text/plain": [
       "   lasthtlordergap  cityorders        cr  visitnum_oneyear     h  label  \\\n",
       "0             -1.0       0.133  1.139221            1050.0   0.0      1   \n",
       "1          23823.0       3.353  1.139221            5780.0  14.0      0   \n",
       "2          30793.0       1.613  1.200000            3616.0  11.0      1   \n",
       "3         355113.0       0.140  1.000000            1064.0  13.0      1   \n",
       "4         161858.0       0.007  1.000000            1468.0  14.0      1   \n",
       "\n",
       "   lasthtlordergap_woe  cityorders_woe  cr_woe  visitnum_oneyear_woe   h_woe  \n",
       "0               0.4032          0.3529  0.0775                0.0308  0.0253  \n",
       "1              -0.2434         -0.2588  0.0775               -0.0993 -0.1676  \n",
       "2              -0.2434         -0.1961 -0.4288               -0.0993 -0.2538  \n",
       "3               0.1917          0.3529  0.4398                0.0308 -0.1676  \n",
       "4               0.1917          0.3529  0.4398               -0.0993 -0.1676  "
      ]
     },
     "execution_count": 45,
     "metadata": {},
     "output_type": "execute_result"
    }
   ],
   "source": [
    "data_woe = smgen(train_data_,bin_list)\n",
    "data_woe.head()"
   ]
  },
  {
   "cell_type": "code",
   "execution_count": 46,
   "metadata": {},
   "outputs": [
    {
     "data": {
      "text/html": [
       "<div>\n",
       "<style scoped>\n",
       "    .dataframe tbody tr th:only-of-type {\n",
       "        vertical-align: middle;\n",
       "    }\n",
       "\n",
       "    .dataframe tbody tr th {\n",
       "        vertical-align: top;\n",
       "    }\n",
       "\n",
       "    .dataframe thead th {\n",
       "        text-align: right;\n",
       "    }\n",
       "</style>\n",
       "<table border=\"1\" class=\"dataframe\">\n",
       "  <thead>\n",
       "    <tr style=\"text-align: right;\">\n",
       "      <th></th>\n",
       "      <th>lasthtlordergap_woe</th>\n",
       "      <th>cityorders_woe</th>\n",
       "      <th>cr_woe</th>\n",
       "      <th>visitnum_oneyear_woe</th>\n",
       "      <th>h_woe</th>\n",
       "    </tr>\n",
       "  </thead>\n",
       "  <tbody>\n",
       "    <tr>\n",
       "      <td>0</td>\n",
       "      <td>0.4032</td>\n",
       "      <td>0.3529</td>\n",
       "      <td>0.0775</td>\n",
       "      <td>0.0308</td>\n",
       "      <td>0.0253</td>\n",
       "    </tr>\n",
       "    <tr>\n",
       "      <td>1</td>\n",
       "      <td>-0.2434</td>\n",
       "      <td>-0.2588</td>\n",
       "      <td>0.0775</td>\n",
       "      <td>-0.0993</td>\n",
       "      <td>-0.1676</td>\n",
       "    </tr>\n",
       "    <tr>\n",
       "      <td>2</td>\n",
       "      <td>-0.2434</td>\n",
       "      <td>-0.1961</td>\n",
       "      <td>-0.4288</td>\n",
       "      <td>-0.0993</td>\n",
       "      <td>-0.2538</td>\n",
       "    </tr>\n",
       "    <tr>\n",
       "      <td>3</td>\n",
       "      <td>0.1917</td>\n",
       "      <td>0.3529</td>\n",
       "      <td>0.4398</td>\n",
       "      <td>0.0308</td>\n",
       "      <td>-0.1676</td>\n",
       "    </tr>\n",
       "    <tr>\n",
       "      <td>4</td>\n",
       "      <td>0.1917</td>\n",
       "      <td>0.3529</td>\n",
       "      <td>0.4398</td>\n",
       "      <td>-0.0993</td>\n",
       "      <td>-0.1676</td>\n",
       "    </tr>\n",
       "  </tbody>\n",
       "</table>\n",
       "</div>"
      ],
      "text/plain": [
       "   lasthtlordergap_woe  cityorders_woe  cr_woe  visitnum_oneyear_woe   h_woe\n",
       "0               0.4032          0.3529  0.0775                0.0308  0.0253\n",
       "1              -0.2434         -0.2588  0.0775               -0.0993 -0.1676\n",
       "2              -0.2434         -0.1961 -0.4288               -0.0993 -0.2538\n",
       "3               0.1917          0.3529  0.4398                0.0308 -0.1676\n",
       "4               0.1917          0.3529  0.4398               -0.0993 -0.1676"
      ]
     },
     "execution_count": 46,
     "metadata": {},
     "output_type": "execute_result"
    }
   ],
   "source": [
    "X_train = data_woe.iloc[:,-len(bin_list):]\n",
    "X_train.head()"
   ]
  },
  {
   "cell_type": "code",
   "execution_count": 47,
   "metadata": {},
   "outputs": [
    {
     "data": {
      "text/plain": [
       "0         1\n",
       "1         0\n",
       "2         1\n",
       "3         1\n",
       "4         1\n",
       "         ..\n",
       "453210    1\n",
       "453211    0\n",
       "453212    1\n",
       "453213    1\n",
       "453214    1\n",
       "Name: label, Length: 453215, dtype: int64"
      ]
     },
     "execution_count": 47,
     "metadata": {},
     "output_type": "execute_result"
    }
   ],
   "source": [
    "Y_train = data_woe[y]\n",
    "Y_train"
   ]
  },
  {
   "cell_type": "code",
   "execution_count": 48,
   "metadata": {},
   "outputs": [],
   "source": [
    "from sklearn.linear_model import LogisticRegression\n",
    "LR = LogisticRegression().fit(X_train,Y_train)"
   ]
  },
  {
   "cell_type": "code",
   "execution_count": 78,
   "metadata": {},
   "outputs": [],
   "source": [
    "LR = LogisticRegression().fit(X_train,Y_train)"
   ]
  },
  {
   "cell_type": "code",
   "execution_count": 50,
   "metadata": {},
   "outputs": [
    {
     "data": {
      "text/plain": [
       "0.7282834857628278"
      ]
     },
     "execution_count": 50,
     "metadata": {},
     "output_type": "execute_result"
    }
   ],
   "source": [
    "LR.score(X_train,Y_train)"
   ]
  },
  {
   "cell_type": "code",
   "execution_count": 51,
   "metadata": {},
   "outputs": [
    {
     "data": {
      "text/plain": [
       "array([[0.46177821, 0.87778132, 0.73092729, 0.7068417 , 0.96329493]])"
      ]
     },
     "execution_count": 51,
     "metadata": {},
     "output_type": "execute_result"
    }
   ],
   "source": [
    "LR.coef_"
   ]
  },
  {
   "cell_type": "code",
   "execution_count": 137,
   "metadata": {},
   "outputs": [
    {
     "data": {
      "text/html": [
       "<div>\n",
       "<style scoped>\n",
       "    .dataframe tbody tr th:only-of-type {\n",
       "        vertical-align: middle;\n",
       "    }\n",
       "\n",
       "    .dataframe tbody tr th {\n",
       "        vertical-align: top;\n",
       "    }\n",
       "\n",
       "    .dataframe thead th {\n",
       "        text-align: right;\n",
       "    }\n",
       "</style>\n",
       "<table border=\"1\" class=\"dataframe\">\n",
       "  <thead>\n",
       "    <tr style=\"text-align: right;\">\n",
       "      <th></th>\n",
       "      <th>intercept_</th>\n",
       "    </tr>\n",
       "  </thead>\n",
       "  <tbody>\n",
       "    <tr>\n",
       "      <td>coef_</td>\n",
       "      <td>0.932952</td>\n",
       "    </tr>\n",
       "  </tbody>\n",
       "</table>\n",
       "</div>"
      ],
      "text/plain": [
       "       intercept_\n",
       "coef_    0.932952"
      ]
     },
     "execution_count": 137,
     "metadata": {},
     "output_type": "execute_result"
    }
   ],
   "source": [
    "aa = pd.DataFrame({'LR.score(X_train,Y_train)':LR.score(X_train,Y_train),'LR.score(X_test,Y_test)':LR.score(X_test,Y_test)},index=['score'])\n",
    "\n",
    "bb = pd.DataFrame({'intercept_':LR.intercept_[0]},index=['coef_'])\n",
    "bb"
   ]
  },
  {
   "cell_type": "code",
   "execution_count": 142,
   "metadata": {},
   "outputs": [
    {
     "data": {
      "text/html": [
       "<div>\n",
       "<style scoped>\n",
       "    .dataframe tbody tr th:only-of-type {\n",
       "        vertical-align: middle;\n",
       "    }\n",
       "\n",
       "    .dataframe tbody tr th {\n",
       "        vertical-align: top;\n",
       "    }\n",
       "\n",
       "    .dataframe thead th {\n",
       "        text-align: right;\n",
       "    }\n",
       "</style>\n",
       "<table border=\"1\" class=\"dataframe\">\n",
       "  <thead>\n",
       "    <tr style=\"text-align: right;\">\n",
       "      <th></th>\n",
       "      <th>LR.score(X_train,Y_train)</th>\n",
       "      <th>LR.score(X_test,Y_test)</th>\n",
       "    </tr>\n",
       "  </thead>\n",
       "  <tbody>\n",
       "    <tr>\n",
       "      <td>score</td>\n",
       "      <td>0.728283</td>\n",
       "      <td>0.726898</td>\n",
       "    </tr>\n",
       "  </tbody>\n",
       "</table>\n",
       "</div>"
      ],
      "text/plain": [
       "       LR.score(X_train,Y_train)  LR.score(X_test,Y_test)\n",
       "score                   0.728283                 0.726898"
      ]
     },
     "execution_count": 142,
     "metadata": {},
     "output_type": "execute_result"
    }
   ],
   "source": [
    "aa"
   ]
  },
  {
   "cell_type": "code",
   "execution_count": 138,
   "metadata": {},
   "outputs": [
    {
     "data": {
      "text/html": [
       "<div>\n",
       "<style scoped>\n",
       "    .dataframe tbody tr th:only-of-type {\n",
       "        vertical-align: middle;\n",
       "    }\n",
       "\n",
       "    .dataframe tbody tr th {\n",
       "        vertical-align: top;\n",
       "    }\n",
       "\n",
       "    .dataframe thead th {\n",
       "        text-align: right;\n",
       "    }\n",
       "</style>\n",
       "<table border=\"1\" class=\"dataframe\">\n",
       "  <thead>\n",
       "    <tr style=\"text-align: right;\">\n",
       "      <th></th>\n",
       "      <th>lasthtlordergap_woe</th>\n",
       "      <th>cityorders_woe</th>\n",
       "      <th>cr_woe</th>\n",
       "      <th>visitnum_oneyear_woe</th>\n",
       "      <th>h_woe</th>\n",
       "      <th>intercept_</th>\n",
       "    </tr>\n",
       "  </thead>\n",
       "  <tbody>\n",
       "    <tr>\n",
       "      <td>coef_</td>\n",
       "      <td>0.461778</td>\n",
       "      <td>0.877781</td>\n",
       "      <td>0.730927</td>\n",
       "      <td>0.706842</td>\n",
       "      <td>0.963295</td>\n",
       "      <td>0.932952</td>\n",
       "    </tr>\n",
       "  </tbody>\n",
       "</table>\n",
       "</div>"
      ],
      "text/plain": [
       "       lasthtlordergap_woe  cityorders_woe    cr_woe  visitnum_oneyear_woe  \\\n",
       "coef_             0.461778        0.877781  0.730927              0.706842   \n",
       "\n",
       "          h_woe  intercept_  \n",
       "coef_  0.963295    0.932952  "
      ]
     },
     "execution_count": 138,
     "metadata": {},
     "output_type": "execute_result"
    }
   ],
   "source": [
    "pd.concat([pd.DataFrame(dict(zip(X_train.columns,LR.coef_[0])),index=['coef_']),bb],axis=1)"
   ]
  },
  {
   "cell_type": "code",
   "execution_count": 127,
   "metadata": {},
   "outputs": [
    {
     "data": {
      "text/html": [
       "<div>\n",
       "<style scoped>\n",
       "    .dataframe tbody tr th:only-of-type {\n",
       "        vertical-align: middle;\n",
       "    }\n",
       "\n",
       "    .dataframe tbody tr th {\n",
       "        vertical-align: top;\n",
       "    }\n",
       "\n",
       "    .dataframe thead th {\n",
       "        text-align: right;\n",
       "    }\n",
       "</style>\n",
       "<table border=\"1\" class=\"dataframe\">\n",
       "  <thead>\n",
       "    <tr style=\"text-align: right;\">\n",
       "      <th></th>\n",
       "      <th>lasthtlordergap_woe</th>\n",
       "      <th>cityorders_woe</th>\n",
       "      <th>cr_woe</th>\n",
       "      <th>visitnum_oneyear_woe</th>\n",
       "      <th>h_woe</th>\n",
       "    </tr>\n",
       "  </thead>\n",
       "  <tbody>\n",
       "    <tr>\n",
       "      <td>coef_</td>\n",
       "      <td>0.461778</td>\n",
       "      <td>0.877781</td>\n",
       "      <td>0.730927</td>\n",
       "      <td>0.706842</td>\n",
       "      <td>0.963295</td>\n",
       "    </tr>\n",
       "  </tbody>\n",
       "</table>\n",
       "</div>"
      ],
      "text/plain": [
       "       lasthtlordergap_woe  cityorders_woe    cr_woe  visitnum_oneyear_woe  \\\n",
       "coef_             0.461778        0.877781  0.730927              0.706842   \n",
       "\n",
       "          h_woe  \n",
       "coef_  0.963295  "
      ]
     },
     "execution_count": 127,
     "metadata": {},
     "output_type": "execute_result"
    }
   ],
   "source": [
    "pd.DataFrame(dict(zip(X_train.columns,LR.coef_[0])),index=['coef_'])"
   ]
  },
  {
   "cell_type": "markdown",
   "metadata": {},
   "source": [
    "## 模型评估"
   ]
  },
  {
   "cell_type": "code",
   "execution_count": 54,
   "metadata": {},
   "outputs": [],
   "source": [
    "test_data = test_data.drop(columns=out,axis=1)"
   ]
  },
  {
   "cell_type": "code",
   "execution_count": 55,
   "metadata": {},
   "outputs": [
    {
     "data": {
      "text/html": [
       "<div>\n",
       "<style scoped>\n",
       "    .dataframe tbody tr th:only-of-type {\n",
       "        vertical-align: middle;\n",
       "    }\n",
       "\n",
       "    .dataframe tbody tr th {\n",
       "        vertical-align: top;\n",
       "    }\n",
       "\n",
       "    .dataframe thead th {\n",
       "        text-align: right;\n",
       "    }\n",
       "</style>\n",
       "<table border=\"1\" class=\"dataframe\">\n",
       "  <thead>\n",
       "    <tr style=\"text-align: right;\">\n",
       "      <th></th>\n",
       "      <th>lasthtlordergap</th>\n",
       "      <th>cityorders</th>\n",
       "      <th>cr</th>\n",
       "      <th>visitnum_oneyear</th>\n",
       "      <th>h</th>\n",
       "      <th>label</th>\n",
       "      <th>lasthtlordergap_woe</th>\n",
       "      <th>cityorders_woe</th>\n",
       "      <th>cr_woe</th>\n",
       "      <th>visitnum_oneyear_woe</th>\n",
       "      <th>h_woe</th>\n",
       "    </tr>\n",
       "  </thead>\n",
       "  <tbody>\n",
       "    <tr>\n",
       "      <td>0</td>\n",
       "      <td>1116.0</td>\n",
       "      <td>12.653</td>\n",
       "      <td>1.020000</td>\n",
       "      <td>6408.0</td>\n",
       "      <td>5</td>\n",
       "      <td>1</td>\n",
       "      <td>-0.9328</td>\n",
       "      <td>-0.4244</td>\n",
       "      <td>0.4398</td>\n",
       "      <td>-0.0993</td>\n",
       "      <td>0.0253</td>\n",
       "    </tr>\n",
       "    <tr>\n",
       "      <td>1</td>\n",
       "      <td>-1.0</td>\n",
       "      <td>0.280</td>\n",
       "      <td>1.138505</td>\n",
       "      <td>1292.0</td>\n",
       "      <td>11</td>\n",
       "      <td>1</td>\n",
       "      <td>0.4032</td>\n",
       "      <td>0.1809</td>\n",
       "      <td>0.0775</td>\n",
       "      <td>0.0308</td>\n",
       "      <td>-0.2538</td>\n",
       "    </tr>\n",
       "    <tr>\n",
       "      <td>2</td>\n",
       "      <td>198614.0</td>\n",
       "      <td>3.133</td>\n",
       "      <td>1.000000</td>\n",
       "      <td>345.0</td>\n",
       "      <td>23</td>\n",
       "      <td>1</td>\n",
       "      <td>0.1917</td>\n",
       "      <td>-0.2588</td>\n",
       "      <td>0.4398</td>\n",
       "      <td>0.0308</td>\n",
       "      <td>1.1919</td>\n",
       "    </tr>\n",
       "    <tr>\n",
       "      <td>3</td>\n",
       "      <td>16440.0</td>\n",
       "      <td>4.913</td>\n",
       "      <td>1.250000</td>\n",
       "      <td>325.0</td>\n",
       "      <td>15</td>\n",
       "      <td>0</td>\n",
       "      <td>-0.4715</td>\n",
       "      <td>-0.4244</td>\n",
       "      <td>-0.4288</td>\n",
       "      <td>0.0308</td>\n",
       "      <td>-0.1676</td>\n",
       "    </tr>\n",
       "    <tr>\n",
       "      <td>4</td>\n",
       "      <td>5079.0</td>\n",
       "      <td>0.020</td>\n",
       "      <td>1.190000</td>\n",
       "      <td>9218.0</td>\n",
       "      <td>16</td>\n",
       "      <td>1</td>\n",
       "      <td>-0.6568</td>\n",
       "      <td>0.3529</td>\n",
       "      <td>-0.4288</td>\n",
       "      <td>0.0607</td>\n",
       "      <td>-0.1676</td>\n",
       "    </tr>\n",
       "  </tbody>\n",
       "</table>\n",
       "</div>"
      ],
      "text/plain": [
       "   lasthtlordergap  cityorders        cr  visitnum_oneyear   h  label  \\\n",
       "0           1116.0      12.653  1.020000            6408.0   5      1   \n",
       "1             -1.0       0.280  1.138505            1292.0  11      1   \n",
       "2         198614.0       3.133  1.000000             345.0  23      1   \n",
       "3          16440.0       4.913  1.250000             325.0  15      0   \n",
       "4           5079.0       0.020  1.190000            9218.0  16      1   \n",
       "\n",
       "   lasthtlordergap_woe  cityorders_woe  cr_woe  visitnum_oneyear_woe   h_woe  \n",
       "0              -0.9328         -0.4244  0.4398               -0.0993  0.0253  \n",
       "1               0.4032          0.1809  0.0775                0.0308 -0.2538  \n",
       "2               0.1917         -0.2588  0.4398                0.0308  1.1919  \n",
       "3              -0.4715         -0.4244 -0.4288                0.0308 -0.1676  \n",
       "4              -0.6568          0.3529 -0.4288                0.0607 -0.1676  "
      ]
     },
     "execution_count": 55,
     "metadata": {},
     "output_type": "execute_result"
    }
   ],
   "source": [
    "test_woe = smgennew(test_data,bin_list)\n",
    "test_woe.head()"
   ]
  },
  {
   "cell_type": "code",
   "execution_count": 56,
   "metadata": {},
   "outputs": [],
   "source": [
    "X_test = test_woe.iloc[:,-len(bin_list):]"
   ]
  },
  {
   "cell_type": "code",
   "execution_count": 57,
   "metadata": {},
   "outputs": [
    {
     "data": {
      "text/html": [
       "<div>\n",
       "<style scoped>\n",
       "    .dataframe tbody tr th:only-of-type {\n",
       "        vertical-align: middle;\n",
       "    }\n",
       "\n",
       "    .dataframe tbody tr th {\n",
       "        vertical-align: top;\n",
       "    }\n",
       "\n",
       "    .dataframe thead th {\n",
       "        text-align: right;\n",
       "    }\n",
       "</style>\n",
       "<table border=\"1\" class=\"dataframe\">\n",
       "  <thead>\n",
       "    <tr style=\"text-align: right;\">\n",
       "      <th></th>\n",
       "      <th>lasthtlordergap_woe</th>\n",
       "      <th>cityorders_woe</th>\n",
       "      <th>cr_woe</th>\n",
       "      <th>visitnum_oneyear_woe</th>\n",
       "      <th>h_woe</th>\n",
       "    </tr>\n",
       "  </thead>\n",
       "  <tbody>\n",
       "    <tr>\n",
       "      <td>0</td>\n",
       "      <td>-0.9328</td>\n",
       "      <td>-0.4244</td>\n",
       "      <td>0.4398</td>\n",
       "      <td>-0.0993</td>\n",
       "      <td>0.0253</td>\n",
       "    </tr>\n",
       "    <tr>\n",
       "      <td>1</td>\n",
       "      <td>0.4032</td>\n",
       "      <td>0.1809</td>\n",
       "      <td>0.0775</td>\n",
       "      <td>0.0308</td>\n",
       "      <td>-0.2538</td>\n",
       "    </tr>\n",
       "    <tr>\n",
       "      <td>2</td>\n",
       "      <td>0.1917</td>\n",
       "      <td>-0.2588</td>\n",
       "      <td>0.4398</td>\n",
       "      <td>0.0308</td>\n",
       "      <td>1.1919</td>\n",
       "    </tr>\n",
       "    <tr>\n",
       "      <td>3</td>\n",
       "      <td>-0.4715</td>\n",
       "      <td>-0.4244</td>\n",
       "      <td>-0.4288</td>\n",
       "      <td>0.0308</td>\n",
       "      <td>-0.1676</td>\n",
       "    </tr>\n",
       "    <tr>\n",
       "      <td>4</td>\n",
       "      <td>-0.6568</td>\n",
       "      <td>0.3529</td>\n",
       "      <td>-0.4288</td>\n",
       "      <td>0.0607</td>\n",
       "      <td>-0.1676</td>\n",
       "    </tr>\n",
       "    <tr>\n",
       "      <td>...</td>\n",
       "      <td>...</td>\n",
       "      <td>...</td>\n",
       "      <td>...</td>\n",
       "      <td>...</td>\n",
       "      <td>...</td>\n",
       "    </tr>\n",
       "    <tr>\n",
       "      <td>194230</td>\n",
       "      <td>0.4032</td>\n",
       "      <td>0.3529</td>\n",
       "      <td>0.0775</td>\n",
       "      <td>-0.0993</td>\n",
       "      <td>0.0253</td>\n",
       "    </tr>\n",
       "    <tr>\n",
       "      <td>194231</td>\n",
       "      <td>0.1917</td>\n",
       "      <td>-0.0307</td>\n",
       "      <td>0.4398</td>\n",
       "      <td>-0.0993</td>\n",
       "      <td>-0.1676</td>\n",
       "    </tr>\n",
       "    <tr>\n",
       "      <td>194232</td>\n",
       "      <td>0.4032</td>\n",
       "      <td>0.3529</td>\n",
       "      <td>0.0775</td>\n",
       "      <td>0.0308</td>\n",
       "      <td>-0.0472</td>\n",
       "    </tr>\n",
       "    <tr>\n",
       "      <td>194233</td>\n",
       "      <td>0.1917</td>\n",
       "      <td>-0.2588</td>\n",
       "      <td>0.0775</td>\n",
       "      <td>0.0308</td>\n",
       "      <td>-0.1676</td>\n",
       "    </tr>\n",
       "    <tr>\n",
       "      <td>194234</td>\n",
       "      <td>0.4032</td>\n",
       "      <td>-0.2588</td>\n",
       "      <td>0.0775</td>\n",
       "      <td>-0.1225</td>\n",
       "      <td>0.0253</td>\n",
       "    </tr>\n",
       "  </tbody>\n",
       "</table>\n",
       "<p>194235 rows × 5 columns</p>\n",
       "</div>"
      ],
      "text/plain": [
       "        lasthtlordergap_woe  cityorders_woe  cr_woe  visitnum_oneyear_woe  \\\n",
       "0                   -0.9328         -0.4244  0.4398               -0.0993   \n",
       "1                    0.4032          0.1809  0.0775                0.0308   \n",
       "2                    0.1917         -0.2588  0.4398                0.0308   \n",
       "3                   -0.4715         -0.4244 -0.4288                0.0308   \n",
       "4                   -0.6568          0.3529 -0.4288                0.0607   \n",
       "...                     ...             ...     ...                   ...   \n",
       "194230               0.4032          0.3529  0.0775               -0.0993   \n",
       "194231               0.1917         -0.0307  0.4398               -0.0993   \n",
       "194232               0.4032          0.3529  0.0775                0.0308   \n",
       "194233               0.1917         -0.2588  0.0775                0.0308   \n",
       "194234               0.4032         -0.2588  0.0775               -0.1225   \n",
       "\n",
       "         h_woe  \n",
       "0       0.0253  \n",
       "1      -0.2538  \n",
       "2       1.1919  \n",
       "3      -0.1676  \n",
       "4      -0.1676  \n",
       "...        ...  \n",
       "194230  0.0253  \n",
       "194231 -0.1676  \n",
       "194232 -0.0472  \n",
       "194233 -0.1676  \n",
       "194234  0.0253  \n",
       "\n",
       "[194235 rows x 5 columns]"
      ]
     },
     "execution_count": 57,
     "metadata": {},
     "output_type": "execute_result"
    }
   ],
   "source": [
    "X_test"
   ]
  },
  {
   "cell_type": "code",
   "execution_count": 58,
   "metadata": {},
   "outputs": [
    {
     "data": {
      "text/plain": [
       "0         1\n",
       "1         1\n",
       "2         1\n",
       "3         0\n",
       "4         1\n",
       "         ..\n",
       "194230    1\n",
       "194231    1\n",
       "194232    1\n",
       "194233    1\n",
       "194234    1\n",
       "Name: label, Length: 194235, dtype: int64"
      ]
     },
     "execution_count": 58,
     "metadata": {},
     "output_type": "execute_result"
    }
   ],
   "source": [
    "Y_test = test_woe.loc[:,y]\n",
    "Y_test"
   ]
  },
  {
   "cell_type": "code",
   "execution_count": 59,
   "metadata": {},
   "outputs": [
    {
     "data": {
      "text/plain": [
       "0.7268978299482586"
      ]
     },
     "execution_count": 59,
     "metadata": {},
     "output_type": "execute_result"
    }
   ],
   "source": [
    "LR.score(X_test,Y_test)"
   ]
  },
  {
   "cell_type": "code",
   "execution_count": 60,
   "metadata": {},
   "outputs": [],
   "source": [
    "from sklearn.metrics import auc, roc_curve"
   ]
  },
  {
   "cell_type": "code",
   "execution_count": 105,
   "metadata": {},
   "outputs": [
    {
     "data": {
      "text/plain": [
       "array([[0.40003526, 0.59996474],\n",
       "       [0.24752346, 0.75247654],\n",
       "       [0.0923152 , 0.9076848 ],\n",
       "       ...,\n",
       "       [0.18818307, 0.81181693],\n",
       "       [0.3293174 , 0.6706826 ],\n",
       "       [0.29185313, 0.70814687]])"
      ]
     },
     "execution_count": 105,
     "metadata": {},
     "output_type": "execute_result"
    }
   ],
   "source": [
    "y_score"
   ]
  },
  {
   "cell_type": "code",
   "execution_count": 106,
   "metadata": {},
   "outputs": [
    {
     "data": {
      "text/plain": [
       "array([1, 1, 1, ..., 1, 1, 1], dtype=int64)"
      ]
     },
     "execution_count": 106,
     "metadata": {},
     "output_type": "execute_result"
    }
   ],
   "source": [
    "y_pred"
   ]
  },
  {
   "cell_type": "code",
   "execution_count": 61,
   "metadata": {},
   "outputs": [
    {
     "data": {
      "image/png": "[encoded data removed]",
      "text/plain": [
       "<Figure size 504x396 with 1 Axes>"
      ]
     },
     "metadata": {
      "needs_background": "light"
     },
     "output_type": "display_data"
    }
   ],
   "source": [
    "# ROC\n",
    "y_score = LR.predict_proba(X_test)  # 随机森林\n",
    "fpr, tpr, thresholds = roc_curve(Y_test, y_score[:, 1])\n",
    "roc_auc = auc(fpr, tpr)\n",
    "def drawRoc(roc_auc,fpr,tpr):\n",
    "    plt.subplots(figsize=(7, 5.5))\n",
    "    plt.plot(fpr, tpr, color='darkorange', lw=2, label='ROC curve (area = %0.2f)' % roc_auc)\n",
    "    plt.plot([0, 1], [0, 1], color='navy', lw=2, linestyle='--')\n",
    "    plt.xlim([0.0, 1.0])\n",
    "    plt.ylim([0.0, 1.05])\n",
    "    plt.xlabel('False Positive Rate')\n",
    "    plt.ylabel('True Positive Rate')\n",
    "    plt.title('ROC Curve')\n",
    "    plt.legend(loc=\"lower right\")\n",
    "    plt.show()\n",
    "drawRoc(roc_auc, fpr, tpr)"
   ]
  },
  {
   "cell_type": "code",
   "execution_count": 100,
   "metadata": {},
   "outputs": [],
   "source": [
    "from sklearn.metrics import accuracy_score, auc, confusion_matrix, f1_score, \\\n",
    "    precision_score, recall_score, roc_curve\n",
    "import prettytable"
   ]
  },
  {
   "cell_type": "code",
   "execution_count": 102,
   "metadata": {},
   "outputs": [],
   "source": [
    "y_pred = LR.predict(X_test)"
   ]
  },
  {
   "cell_type": "code",
   "execution_count": 104,
   "metadata": {},
   "outputs": [
    {
     "name": "stdout",
     "output_type": "stream",
     "text": [
      "core metrics\n",
      " +--------------------+----------+-----------+--------+-------+\n",
      "|        auc         | accuracy | precision | recall |   f1  |\n",
      "+--------------------+----------+-----------+--------+-------+\n",
      "| 0.6758501429431267 |  0.727   |   0.741   | 0.951  | 0.833 |\n",
      "+--------------------+----------+-----------+--------+-------+\n"
     ]
    }
   ],
   "source": [
    "y_score = LR.predict_proba(X_test)  # 随机森林\n",
    "fpr, tpr, thresholds = roc_curve(Y_test, y_score[:, 1])\n",
    "roc_auc = auc(fpr, tpr)\n",
    "y_pred = LR.predict(X_test)\n",
    "scores = [round(i(Y_test, y_pred),3 )for  i in (accuracy_score,precision_score,\\\n",
    "                                     recall_score,f1_score)]\n",
    "scores.insert(0,roc_auc)\n",
    "core_metrics = prettytable.PrettyTable()  # 创建表格实例\n",
    "core_metrics.field_names = ['auc', 'accuracy', 'precision', 'recall', 'f1']  # 定义表格列名\n",
    "core_metrics.add_row(scores)  # 增加数据\n",
    "print('core metrics\\n',core_metrics)"
   ]
  },
  {
   "cell_type": "markdown",
   "metadata": {},
   "source": [
    "# 特征创造1"
   ]
  },
  {
   "cell_type": "code",
   "execution_count": null,
   "metadata": {},
   "outputs": [],
   "source": []
  },
  {
   "cell_type": "code",
   "execution_count": null,
   "metadata": {},
   "outputs": [],
   "source": [
    "M_train = pd.read_csv('M_train.csv',index_col=0,header=None)"
   ]
  },
  {
   "cell_type": "code",
   "execution_count": 85,
   "metadata": {},
   "outputs": [],
   "source": [
    "M_test = pd.read_csv('M_test.csv',index_col=0,header=None)"
   ]
  },
  {
   "cell_type": "code",
   "execution_count": 63,
   "metadata": {},
   "outputs": [
    {
     "data": {
      "text/html": [
       "<div>\n",
       "<style scoped>\n",
       "    .dataframe tbody tr th:only-of-type {\n",
       "        vertical-align: middle;\n",
       "    }\n",
       "\n",
       "    .dataframe tbody tr th {\n",
       "        vertical-align: top;\n",
       "    }\n",
       "\n",
       "    .dataframe thead th {\n",
       "        text-align: right;\n",
       "    }\n",
       "</style>\n",
       "<table border=\"1\" class=\"dataframe\">\n",
       "  <thead>\n",
       "    <tr style=\"text-align: right;\">\n",
       "      <th></th>\n",
       "      <th>1</th>\n",
       "    </tr>\n",
       "    <tr>\n",
       "      <th>0</th>\n",
       "      <th></th>\n",
       "    </tr>\n",
       "  </thead>\n",
       "  <tbody>\n",
       "    <tr>\n",
       "      <td>0</td>\n",
       "      <td>-349.0</td>\n",
       "    </tr>\n",
       "    <tr>\n",
       "      <td>1</td>\n",
       "      <td>7826.0</td>\n",
       "    </tr>\n",
       "    <tr>\n",
       "      <td>2</td>\n",
       "      <td>10464.0</td>\n",
       "    </tr>\n",
       "    <tr>\n",
       "      <td>3</td>\n",
       "      <td>386.0</td>\n",
       "    </tr>\n",
       "    <tr>\n",
       "      <td>4</td>\n",
       "      <td>2056.0</td>\n",
       "    </tr>\n",
       "    <tr>\n",
       "      <td>...</td>\n",
       "      <td>...</td>\n",
       "    </tr>\n",
       "    <tr>\n",
       "      <td>453210</td>\n",
       "      <td>1095.0</td>\n",
       "    </tr>\n",
       "    <tr>\n",
       "      <td>453211</td>\n",
       "      <td>23310.0</td>\n",
       "    </tr>\n",
       "    <tr>\n",
       "      <td>453212</td>\n",
       "      <td>-349.0</td>\n",
       "    </tr>\n",
       "    <tr>\n",
       "      <td>453213</td>\n",
       "      <td>442.0</td>\n",
       "    </tr>\n",
       "    <tr>\n",
       "      <td>453214</td>\n",
       "      <td>687.0</td>\n",
       "    </tr>\n",
       "  </tbody>\n",
       "</table>\n",
       "<p>453215 rows × 1 columns</p>\n",
       "</div>"
      ],
      "text/plain": [
       "              1\n",
       "0              \n",
       "0        -349.0\n",
       "1        7826.0\n",
       "2       10464.0\n",
       "3         386.0\n",
       "4        2056.0\n",
       "...         ...\n",
       "453210   1095.0\n",
       "453211  23310.0\n",
       "453212   -349.0\n",
       "453213    442.0\n",
       "453214    687.0\n",
       "\n",
       "[453215 rows x 1 columns]"
      ]
     },
     "execution_count": 63,
     "metadata": {},
     "output_type": "execute_result"
    }
   ],
   "source": [
    "M_train"
   ]
  },
  {
   "cell_type": "code",
   "execution_count": 64,
   "metadata": {},
   "outputs": [
    {
     "data": {
      "text/html": [
       "<div>\n",
       "<style scoped>\n",
       "    .dataframe tbody tr th:only-of-type {\n",
       "        vertical-align: middle;\n",
       "    }\n",
       "\n",
       "    .dataframe tbody tr th {\n",
       "        vertical-align: top;\n",
       "    }\n",
       "\n",
       "    .dataframe thead th {\n",
       "        text-align: right;\n",
       "    }\n",
       "</style>\n",
       "<table border=\"1\" class=\"dataframe\">\n",
       "  <thead>\n",
       "    <tr style=\"text-align: right;\">\n",
       "      <th></th>\n",
       "      <th>lasthtlordergap</th>\n",
       "      <th>cityorders</th>\n",
       "      <th>lastpvgap</th>\n",
       "      <th>cr</th>\n",
       "      <th>sid</th>\n",
       "      <th>visitnum_oneyear</th>\n",
       "      <th>h</th>\n",
       "      <th>label</th>\n",
       "    </tr>\n",
       "  </thead>\n",
       "  <tbody>\n",
       "    <tr>\n",
       "      <td>0</td>\n",
       "      <td>-1.0</td>\n",
       "      <td>0.133</td>\n",
       "      <td>0.0</td>\n",
       "      <td>1.139221</td>\n",
       "      <td>27.0</td>\n",
       "      <td>1050.0</td>\n",
       "      <td>0.0</td>\n",
       "      <td>1</td>\n",
       "    </tr>\n",
       "    <tr>\n",
       "      <td>1</td>\n",
       "      <td>23823.0</td>\n",
       "      <td>3.353</td>\n",
       "      <td>1753.0</td>\n",
       "      <td>1.139221</td>\n",
       "      <td>257.0</td>\n",
       "      <td>5780.0</td>\n",
       "      <td>14.0</td>\n",
       "      <td>0</td>\n",
       "    </tr>\n",
       "    <tr>\n",
       "      <td>2</td>\n",
       "      <td>30793.0</td>\n",
       "      <td>1.613</td>\n",
       "      <td>30792.0</td>\n",
       "      <td>1.200000</td>\n",
       "      <td>205.0</td>\n",
       "      <td>3616.0</td>\n",
       "      <td>11.0</td>\n",
       "      <td>1</td>\n",
       "    </tr>\n",
       "    <tr>\n",
       "      <td>3</td>\n",
       "      <td>355113.0</td>\n",
       "      <td>0.140</td>\n",
       "      <td>806.0</td>\n",
       "      <td>1.000000</td>\n",
       "      <td>184.0</td>\n",
       "      <td>1064.0</td>\n",
       "      <td>13.0</td>\n",
       "      <td>1</td>\n",
       "    </tr>\n",
       "    <tr>\n",
       "      <td>4</td>\n",
       "      <td>161858.0</td>\n",
       "      <td>0.007</td>\n",
       "      <td>19664.0</td>\n",
       "      <td>1.000000</td>\n",
       "      <td>286.0</td>\n",
       "      <td>1468.0</td>\n",
       "      <td>14.0</td>\n",
       "      <td>1</td>\n",
       "    </tr>\n",
       "  </tbody>\n",
       "</table>\n",
       "</div>"
      ],
      "text/plain": [
       "   lasthtlordergap  cityorders  lastpvgap        cr    sid  visitnum_oneyear  \\\n",
       "0             -1.0       0.133        0.0  1.139221   27.0            1050.0   \n",
       "1          23823.0       3.353     1753.0  1.139221  257.0            5780.0   \n",
       "2          30793.0       1.613    30792.0  1.200000  205.0            3616.0   \n",
       "3         355113.0       0.140      806.0  1.000000  184.0            1064.0   \n",
       "4         161858.0       0.007    19664.0  1.000000  286.0            1468.0   \n",
       "\n",
       "      h  label  \n",
       "0   0.0      1  \n",
       "1  14.0      0  \n",
       "2  11.0      1  \n",
       "3  13.0      1  \n",
       "4  14.0      1  "
      ]
     },
     "execution_count": 64,
     "metadata": {},
     "output_type": "execute_result"
    }
   ],
   "source": [
    "train_data.head()"
   ]
  },
  {
   "cell_type": "code",
   "execution_count": 65,
   "metadata": {},
   "outputs": [],
   "source": [
    "train_data_m = pd.concat([train_data,M_train],axis=1)"
   ]
  },
  {
   "cell_type": "code",
   "execution_count": 67,
   "metadata": {},
   "outputs": [
    {
     "data": {
      "text/html": [
       "<div>\n",
       "<style scoped>\n",
       "    .dataframe tbody tr th:only-of-type {\n",
       "        vertical-align: middle;\n",
       "    }\n",
       "\n",
       "    .dataframe tbody tr th {\n",
       "        vertical-align: top;\n",
       "    }\n",
       "\n",
       "    .dataframe thead th {\n",
       "        text-align: right;\n",
       "    }\n",
       "</style>\n",
       "<table border=\"1\" class=\"dataframe\">\n",
       "  <thead>\n",
       "    <tr style=\"text-align: right;\">\n",
       "      <th></th>\n",
       "      <th>lasthtlordergap</th>\n",
       "      <th>cityorders</th>\n",
       "      <th>lastpvgap</th>\n",
       "      <th>cr</th>\n",
       "      <th>sid</th>\n",
       "      <th>visitnum_oneyear</th>\n",
       "      <th>h</th>\n",
       "      <th>label</th>\n",
       "      <th>M</th>\n",
       "    </tr>\n",
       "  </thead>\n",
       "  <tbody>\n",
       "    <tr>\n",
       "      <td>0</td>\n",
       "      <td>-1.0</td>\n",
       "      <td>0.133</td>\n",
       "      <td>0.0</td>\n",
       "      <td>1.139221</td>\n",
       "      <td>27.0</td>\n",
       "      <td>1050.0</td>\n",
       "      <td>0.0</td>\n",
       "      <td>1</td>\n",
       "      <td>-349.0</td>\n",
       "    </tr>\n",
       "    <tr>\n",
       "      <td>1</td>\n",
       "      <td>23823.0</td>\n",
       "      <td>3.353</td>\n",
       "      <td>1753.0</td>\n",
       "      <td>1.139221</td>\n",
       "      <td>257.0</td>\n",
       "      <td>5780.0</td>\n",
       "      <td>14.0</td>\n",
       "      <td>0</td>\n",
       "      <td>7826.0</td>\n",
       "    </tr>\n",
       "    <tr>\n",
       "      <td>2</td>\n",
       "      <td>30793.0</td>\n",
       "      <td>1.613</td>\n",
       "      <td>30792.0</td>\n",
       "      <td>1.200000</td>\n",
       "      <td>205.0</td>\n",
       "      <td>3616.0</td>\n",
       "      <td>11.0</td>\n",
       "      <td>1</td>\n",
       "      <td>10464.0</td>\n",
       "    </tr>\n",
       "    <tr>\n",
       "      <td>3</td>\n",
       "      <td>355113.0</td>\n",
       "      <td>0.140</td>\n",
       "      <td>806.0</td>\n",
       "      <td>1.000000</td>\n",
       "      <td>184.0</td>\n",
       "      <td>1064.0</td>\n",
       "      <td>13.0</td>\n",
       "      <td>1</td>\n",
       "      <td>386.0</td>\n",
       "    </tr>\n",
       "    <tr>\n",
       "      <td>4</td>\n",
       "      <td>161858.0</td>\n",
       "      <td>0.007</td>\n",
       "      <td>19664.0</td>\n",
       "      <td>1.000000</td>\n",
       "      <td>286.0</td>\n",
       "      <td>1468.0</td>\n",
       "      <td>14.0</td>\n",
       "      <td>1</td>\n",
       "      <td>2056.0</td>\n",
       "    </tr>\n",
       "  </tbody>\n",
       "</table>\n",
       "</div>"
      ],
      "text/plain": [
       "   lasthtlordergap  cityorders  lastpvgap        cr    sid  visitnum_oneyear  \\\n",
       "0             -1.0       0.133        0.0  1.139221   27.0            1050.0   \n",
       "1          23823.0       3.353     1753.0  1.139221  257.0            5780.0   \n",
       "2          30793.0       1.613    30792.0  1.200000  205.0            3616.0   \n",
       "3         355113.0       0.140      806.0  1.000000  184.0            1064.0   \n",
       "4         161858.0       0.007    19664.0  1.000000  286.0            1468.0   \n",
       "\n",
       "      h  label        M  \n",
       "0   0.0      1   -349.0  \n",
       "1  14.0      0   7826.0  \n",
       "2  11.0      1  10464.0  \n",
       "3  13.0      1    386.0  \n",
       "4  14.0      1   2056.0  "
      ]
     },
     "execution_count": 67,
     "metadata": {},
     "output_type": "execute_result"
    }
   ],
   "source": [
    "train_data_m.rename(columns = {1:'M'},inplace=True)\n",
    "train_data_m.head()"
   ]
  },
  {
   "cell_type": "code",
   "execution_count": 70,
   "metadata": {},
   "outputs": [
    {
     "name": "stderr",
     "output_type": "stream",
     "text": [
      "/Users/jim/opt/anaconda3/lib/python3.7/site-packages/sklearn/model_selection/_search.py:823: FutureWarning: The parameter 'iid' is deprecated in 0.22 and will be removed in 0.24.\n",
      "  \"removed in 0.24.\", FutureWarning\n"
     ]
    },
    {
     "data": {
      "image/png": "[encoded data removed]",
      "text/plain": [
       "<Figure size 1152x720 with 1 Axes>"
      ]
     },
     "metadata": {
      "needs_background": "light"
     },
     "output_type": "display_data"
    }
   ],
   "source": [
    "M = smbin(train_data_m,y,'M',max_bin=8)"
   ]
  },
  {
   "cell_type": "code",
   "execution_count": 71,
   "metadata": {},
   "outputs": [
    {
     "data": {
      "text/html": [
       "<div>\n",
       "<style scoped>\n",
       "    .dataframe tbody tr th:only-of-type {\n",
       "        vertical-align: middle;\n",
       "    }\n",
       "\n",
       "    .dataframe tbody tr th {\n",
       "        vertical-align: top;\n",
       "    }\n",
       "\n",
       "    .dataframe thead th {\n",
       "        text-align: right;\n",
       "    }\n",
       "</style>\n",
       "<table border=\"1\" class=\"dataframe\">\n",
       "  <thead>\n",
       "    <tr style=\"text-align: right;\">\n",
       "      <th></th>\n",
       "      <th>Bins</th>\n",
       "      <th>CntRec</th>\n",
       "      <th>CntGood</th>\n",
       "      <th>CntBad</th>\n",
       "      <th>PctRec</th>\n",
       "      <th>PctGood</th>\n",
       "      <th>PctBad</th>\n",
       "      <th>WOE</th>\n",
       "      <th>IV</th>\n",
       "    </tr>\n",
       "  </thead>\n",
       "  <tbody>\n",
       "    <tr>\n",
       "      <td>0</td>\n",
       "      <td>(-5106.001, -328.5]</td>\n",
       "      <td>147714</td>\n",
       "      <td>117487</td>\n",
       "      <td>30227</td>\n",
       "      <td>0.325925</td>\n",
       "      <td>0.360999</td>\n",
       "      <td>0.236583</td>\n",
       "      <td>0.4226</td>\n",
       "      <td>0.0526</td>\n",
       "    </tr>\n",
       "    <tr>\n",
       "      <td>1</td>\n",
       "      <td>(-328.5, 787.5]</td>\n",
       "      <td>90952</td>\n",
       "      <td>66728</td>\n",
       "      <td>24224</td>\n",
       "      <td>0.200682</td>\n",
       "      <td>0.205033</td>\n",
       "      <td>0.189598</td>\n",
       "      <td>0.0783</td>\n",
       "      <td>0.0012</td>\n",
       "    </tr>\n",
       "    <tr>\n",
       "      <td>2</td>\n",
       "      <td>(787.5, 2574.5]</td>\n",
       "      <td>84880</td>\n",
       "      <td>60259</td>\n",
       "      <td>24621</td>\n",
       "      <td>0.187284</td>\n",
       "      <td>0.185156</td>\n",
       "      <td>0.192705</td>\n",
       "      <td>-0.0400</td>\n",
       "      <td>0.0003</td>\n",
       "    </tr>\n",
       "    <tr>\n",
       "      <td>3</td>\n",
       "      <td>(2574.5, 4115.5]</td>\n",
       "      <td>34565</td>\n",
       "      <td>23441</td>\n",
       "      <td>11124</td>\n",
       "      <td>0.076266</td>\n",
       "      <td>0.072026</td>\n",
       "      <td>0.087066</td>\n",
       "      <td>-0.1896</td>\n",
       "      <td>0.0029</td>\n",
       "    </tr>\n",
       "    <tr>\n",
       "      <td>4</td>\n",
       "      <td>(4115.5, 6103.5]</td>\n",
       "      <td>26773</td>\n",
       "      <td>17609</td>\n",
       "      <td>9164</td>\n",
       "      <td>0.059074</td>\n",
       "      <td>0.054107</td>\n",
       "      <td>0.071725</td>\n",
       "      <td>-0.2819</td>\n",
       "      <td>0.0050</td>\n",
       "    </tr>\n",
       "    <tr>\n",
       "      <td>5</td>\n",
       "      <td>(6103.5, 15662.0]</td>\n",
       "      <td>46476</td>\n",
       "      <td>28422</td>\n",
       "      <td>18054</td>\n",
       "      <td>0.102547</td>\n",
       "      <td>0.087331</td>\n",
       "      <td>0.141306</td>\n",
       "      <td>-0.4812</td>\n",
       "      <td>0.0260</td>\n",
       "    </tr>\n",
       "    <tr>\n",
       "      <td>6</td>\n",
       "      <td>(15662.0, 34793.5]</td>\n",
       "      <td>17299</td>\n",
       "      <td>9366</td>\n",
       "      <td>7933</td>\n",
       "      <td>0.038170</td>\n",
       "      <td>0.028779</td>\n",
       "      <td>0.062091</td>\n",
       "      <td>-0.7690</td>\n",
       "      <td>0.0256</td>\n",
       "    </tr>\n",
       "    <tr>\n",
       "      <td>7</td>\n",
       "      <td>(34793.5, 301760.0]</td>\n",
       "      <td>4556</td>\n",
       "      <td>2138</td>\n",
       "      <td>2418</td>\n",
       "      <td>0.010053</td>\n",
       "      <td>0.006569</td>\n",
       "      <td>0.018925</td>\n",
       "      <td>-1.0581</td>\n",
       "      <td>0.0131</td>\n",
       "    </tr>\n",
       "    <tr>\n",
       "      <td>8</td>\n",
       "      <td>Total</td>\n",
       "      <td>453215</td>\n",
       "      <td>325450</td>\n",
       "      <td>127765</td>\n",
       "      <td>1.000000</td>\n",
       "      <td>1.000000</td>\n",
       "      <td>1.000000</td>\n",
       "      <td>NaN</td>\n",
       "      <td>0.1267</td>\n",
       "    </tr>\n",
       "  </tbody>\n",
       "</table>\n",
       "</div>"
      ],
      "text/plain": [
       "                  Bins  CntRec  CntGood  CntBad    PctRec   PctGood    PctBad  \\\n",
       "0  (-5106.001, -328.5]  147714   117487   30227  0.325925  0.360999  0.236583   \n",
       "1      (-328.5, 787.5]   90952    66728   24224  0.200682  0.205033  0.189598   \n",
       "2      (787.5, 2574.5]   84880    60259   24621  0.187284  0.185156  0.192705   \n",
       "3     (2574.5, 4115.5]   34565    23441   11124  0.076266  0.072026  0.087066   \n",
       "4     (4115.5, 6103.5]   26773    17609    9164  0.059074  0.054107  0.071725   \n",
       "5    (6103.5, 15662.0]   46476    28422   18054  0.102547  0.087331  0.141306   \n",
       "6   (15662.0, 34793.5]   17299     9366    7933  0.038170  0.028779  0.062091   \n",
       "7  (34793.5, 301760.0]    4556     2138    2418  0.010053  0.006569  0.018925   \n",
       "8                Total  453215   325450  127765  1.000000  1.000000  1.000000   \n",
       "\n",
       "      WOE      IV  \n",
       "0  0.4226  0.0526  \n",
       "1  0.0783  0.0012  \n",
       "2 -0.0400  0.0003  \n",
       "3 -0.1896  0.0029  \n",
       "4 -0.2819  0.0050  \n",
       "5 -0.4812  0.0260  \n",
       "6 -0.7690  0.0256  \n",
       "7 -1.0581  0.0131  \n",
       "8     NaN  0.1267  "
      ]
     },
     "execution_count": 71,
     "metadata": {},
     "output_type": "execute_result"
    }
   ],
   "source": [
    "M.IVtable"
   ]
  },
  {
   "cell_type": "code",
   "execution_count": 248,
   "metadata": {},
   "outputs": [
    {
     "data": {
      "text/plain": [
       "lasthtlordergap    0.1474\n",
       "cityorders         0.0996\n",
       "lastpvgap          0.0099\n",
       "cr                 0.1998\n",
       "sid                0.0082\n",
       "visitnum           0.0202\n",
       "h                  0.1153\n",
       "M                  0.1267\n",
       "dtype: float64"
      ]
     },
     "execution_count": 248,
     "metadata": {},
     "output_type": "execute_result"
    }
   ],
   "source": [
    "iv_all.append(pd.Series({\"M\":M.IV}))"
   ]
  },
  {
   "cell_type": "code",
   "execution_count": null,
   "metadata": {},
   "outputs": [],
   "source": []
  },
  {
   "cell_type": "code",
   "execution_count": null,
   "metadata": {},
   "outputs": [],
   "source": []
  },
  {
   "cell_type": "code",
   "execution_count": 73,
   "metadata": {},
   "outputs": [],
   "source": [
    "bin_list_m = [ordergap,cityorders,cr,visitnum,h,M]"
   ]
  },
  {
   "cell_type": "code",
   "execution_count": 74,
   "metadata": {},
   "outputs": [],
   "source": [
    "train_data_m_ = train_data_m.drop(columns=out,axis=1)"
   ]
  },
  {
   "cell_type": "code",
   "execution_count": 75,
   "metadata": {},
   "outputs": [
    {
     "data": {
      "text/html": [
       "<div>\n",
       "<style scoped>\n",
       "    .dataframe tbody tr th:only-of-type {\n",
       "        vertical-align: middle;\n",
       "    }\n",
       "\n",
       "    .dataframe tbody tr th {\n",
       "        vertical-align: top;\n",
       "    }\n",
       "\n",
       "    .dataframe thead th {\n",
       "        text-align: right;\n",
       "    }\n",
       "</style>\n",
       "<table border=\"1\" class=\"dataframe\">\n",
       "  <thead>\n",
       "    <tr style=\"text-align: right;\">\n",
       "      <th></th>\n",
       "      <th>lasthtlordergap</th>\n",
       "      <th>cityorders</th>\n",
       "      <th>cr</th>\n",
       "      <th>visitnum_oneyear</th>\n",
       "      <th>h</th>\n",
       "      <th>label</th>\n",
       "      <th>M</th>\n",
       "      <th>lasthtlordergap_woe</th>\n",
       "      <th>cityorders_woe</th>\n",
       "      <th>cr_woe</th>\n",
       "      <th>visitnum_oneyear_woe</th>\n",
       "      <th>h_woe</th>\n",
       "      <th>M_woe</th>\n",
       "    </tr>\n",
       "  </thead>\n",
       "  <tbody>\n",
       "    <tr>\n",
       "      <td>0</td>\n",
       "      <td>-1.0</td>\n",
       "      <td>0.133</td>\n",
       "      <td>1.139221</td>\n",
       "      <td>1050.0</td>\n",
       "      <td>0.0</td>\n",
       "      <td>1</td>\n",
       "      <td>-349.0</td>\n",
       "      <td>0.4032</td>\n",
       "      <td>0.3529</td>\n",
       "      <td>0.0775</td>\n",
       "      <td>0.0308</td>\n",
       "      <td>0.0253</td>\n",
       "      <td>0.4226</td>\n",
       "    </tr>\n",
       "    <tr>\n",
       "      <td>1</td>\n",
       "      <td>23823.0</td>\n",
       "      <td>3.353</td>\n",
       "      <td>1.139221</td>\n",
       "      <td>5780.0</td>\n",
       "      <td>14.0</td>\n",
       "      <td>0</td>\n",
       "      <td>7826.0</td>\n",
       "      <td>-0.2434</td>\n",
       "      <td>-0.2588</td>\n",
       "      <td>0.0775</td>\n",
       "      <td>-0.0993</td>\n",
       "      <td>-0.1676</td>\n",
       "      <td>-0.4812</td>\n",
       "    </tr>\n",
       "    <tr>\n",
       "      <td>2</td>\n",
       "      <td>30793.0</td>\n",
       "      <td>1.613</td>\n",
       "      <td>1.200000</td>\n",
       "      <td>3616.0</td>\n",
       "      <td>11.0</td>\n",
       "      <td>1</td>\n",
       "      <td>10464.0</td>\n",
       "      <td>-0.2434</td>\n",
       "      <td>-0.1961</td>\n",
       "      <td>-0.4288</td>\n",
       "      <td>-0.0993</td>\n",
       "      <td>-0.2538</td>\n",
       "      <td>-0.4812</td>\n",
       "    </tr>\n",
       "    <tr>\n",
       "      <td>3</td>\n",
       "      <td>355113.0</td>\n",
       "      <td>0.140</td>\n",
       "      <td>1.000000</td>\n",
       "      <td>1064.0</td>\n",
       "      <td>13.0</td>\n",
       "      <td>1</td>\n",
       "      <td>386.0</td>\n",
       "      <td>0.1917</td>\n",
       "      <td>0.3529</td>\n",
       "      <td>0.4398</td>\n",
       "      <td>0.0308</td>\n",
       "      <td>-0.1676</td>\n",
       "      <td>0.0783</td>\n",
       "    </tr>\n",
       "    <tr>\n",
       "      <td>4</td>\n",
       "      <td>161858.0</td>\n",
       "      <td>0.007</td>\n",
       "      <td>1.000000</td>\n",
       "      <td>1468.0</td>\n",
       "      <td>14.0</td>\n",
       "      <td>1</td>\n",
       "      <td>2056.0</td>\n",
       "      <td>0.1917</td>\n",
       "      <td>0.3529</td>\n",
       "      <td>0.4398</td>\n",
       "      <td>-0.0993</td>\n",
       "      <td>-0.1676</td>\n",
       "      <td>-0.0400</td>\n",
       "    </tr>\n",
       "  </tbody>\n",
       "</table>\n",
       "</div>"
      ],
      "text/plain": [
       "   lasthtlordergap  cityorders        cr  visitnum_oneyear     h  label  \\\n",
       "0             -1.0       0.133  1.139221            1050.0   0.0      1   \n",
       "1          23823.0       3.353  1.139221            5780.0  14.0      0   \n",
       "2          30793.0       1.613  1.200000            3616.0  11.0      1   \n",
       "3         355113.0       0.140  1.000000            1064.0  13.0      1   \n",
       "4         161858.0       0.007  1.000000            1468.0  14.0      1   \n",
       "\n",
       "         M  lasthtlordergap_woe  cityorders_woe  cr_woe  visitnum_oneyear_woe  \\\n",
       "0   -349.0               0.4032          0.3529  0.0775                0.0308   \n",
       "1   7826.0              -0.2434         -0.2588  0.0775               -0.0993   \n",
       "2  10464.0              -0.2434         -0.1961 -0.4288               -0.0993   \n",
       "3    386.0               0.1917          0.3529  0.4398                0.0308   \n",
       "4   2056.0               0.1917          0.3529  0.4398               -0.0993   \n",
       "\n",
       "    h_woe   M_woe  \n",
       "0  0.0253  0.4226  \n",
       "1 -0.1676 -0.4812  \n",
       "2 -0.2538 -0.4812  \n",
       "3 -0.1676  0.0783  \n",
       "4 -0.1676 -0.0400  "
      ]
     },
     "execution_count": 75,
     "metadata": {},
     "output_type": "execute_result"
    }
   ],
   "source": [
    "data_woe_m = smgen(train_data_m_,bin_list_m)\n",
    "data_woe_m.head()"
   ]
  },
  {
   "cell_type": "code",
   "execution_count": 76,
   "metadata": {},
   "outputs": [
    {
     "data": {
      "text/html": [
       "<div>\n",
       "<style scoped>\n",
       "    .dataframe tbody tr th:only-of-type {\n",
       "        vertical-align: middle;\n",
       "    }\n",
       "\n",
       "    .dataframe tbody tr th {\n",
       "        vertical-align: top;\n",
       "    }\n",
       "\n",
       "    .dataframe thead th {\n",
       "        text-align: right;\n",
       "    }\n",
       "</style>\n",
       "<table border=\"1\" class=\"dataframe\">\n",
       "  <thead>\n",
       "    <tr style=\"text-align: right;\">\n",
       "      <th></th>\n",
       "      <th>lasthtlordergap_woe</th>\n",
       "      <th>cityorders_woe</th>\n",
       "      <th>cr_woe</th>\n",
       "      <th>visitnum_oneyear_woe</th>\n",
       "      <th>h_woe</th>\n",
       "      <th>M_woe</th>\n",
       "    </tr>\n",
       "  </thead>\n",
       "  <tbody>\n",
       "    <tr>\n",
       "      <td>0</td>\n",
       "      <td>0.4032</td>\n",
       "      <td>0.3529</td>\n",
       "      <td>0.0775</td>\n",
       "      <td>0.0308</td>\n",
       "      <td>0.0253</td>\n",
       "      <td>0.4226</td>\n",
       "    </tr>\n",
       "    <tr>\n",
       "      <td>1</td>\n",
       "      <td>-0.2434</td>\n",
       "      <td>-0.2588</td>\n",
       "      <td>0.0775</td>\n",
       "      <td>-0.0993</td>\n",
       "      <td>-0.1676</td>\n",
       "      <td>-0.4812</td>\n",
       "    </tr>\n",
       "    <tr>\n",
       "      <td>2</td>\n",
       "      <td>-0.2434</td>\n",
       "      <td>-0.1961</td>\n",
       "      <td>-0.4288</td>\n",
       "      <td>-0.0993</td>\n",
       "      <td>-0.2538</td>\n",
       "      <td>-0.4812</td>\n",
       "    </tr>\n",
       "    <tr>\n",
       "      <td>3</td>\n",
       "      <td>0.1917</td>\n",
       "      <td>0.3529</td>\n",
       "      <td>0.4398</td>\n",
       "      <td>0.0308</td>\n",
       "      <td>-0.1676</td>\n",
       "      <td>0.0783</td>\n",
       "    </tr>\n",
       "    <tr>\n",
       "      <td>4</td>\n",
       "      <td>0.1917</td>\n",
       "      <td>0.3529</td>\n",
       "      <td>0.4398</td>\n",
       "      <td>-0.0993</td>\n",
       "      <td>-0.1676</td>\n",
       "      <td>-0.0400</td>\n",
       "    </tr>\n",
       "  </tbody>\n",
       "</table>\n",
       "</div>"
      ],
      "text/plain": [
       "   lasthtlordergap_woe  cityorders_woe  cr_woe  visitnum_oneyear_woe   h_woe  \\\n",
       "0               0.4032          0.3529  0.0775                0.0308  0.0253   \n",
       "1              -0.2434         -0.2588  0.0775               -0.0993 -0.1676   \n",
       "2              -0.2434         -0.1961 -0.4288               -0.0993 -0.2538   \n",
       "3               0.1917          0.3529  0.4398                0.0308 -0.1676   \n",
       "4               0.1917          0.3529  0.4398               -0.0993 -0.1676   \n",
       "\n",
       "    M_woe  \n",
       "0  0.4226  \n",
       "1 -0.4812  \n",
       "2 -0.4812  \n",
       "3  0.0783  \n",
       "4 -0.0400  "
      ]
     },
     "execution_count": 76,
     "metadata": {},
     "output_type": "execute_result"
    }
   ],
   "source": [
    "X_train_m = data_woe_m.iloc[:,-len(bin_list_m):]\n",
    "X_train_m.head()"
   ]
  },
  {
   "cell_type": "code",
   "execution_count": 79,
   "metadata": {},
   "outputs": [],
   "source": [
    "LR_m = LogisticRegression().fit(X_train_m,Y_train)"
   ]
  },
  {
   "cell_type": "code",
   "execution_count": 80,
   "metadata": {},
   "outputs": [
    {
     "data": {
      "text/plain": [
       "0.7296603157441832"
      ]
     },
     "execution_count": 80,
     "metadata": {},
     "output_type": "execute_result"
    }
   ],
   "source": [
    "LR_m.score(X_train_m,Y_train)"
   ]
  },
  {
   "cell_type": "code",
   "execution_count": 86,
   "metadata": {},
   "outputs": [
    {
     "data": {
      "text/html": [
       "<div>\n",
       "<style scoped>\n",
       "    .dataframe tbody tr th:only-of-type {\n",
       "        vertical-align: middle;\n",
       "    }\n",
       "\n",
       "    .dataframe tbody tr th {\n",
       "        vertical-align: top;\n",
       "    }\n",
       "\n",
       "    .dataframe thead th {\n",
       "        text-align: right;\n",
       "    }\n",
       "</style>\n",
       "<table border=\"1\" class=\"dataframe\">\n",
       "  <thead>\n",
       "    <tr style=\"text-align: right;\">\n",
       "      <th></th>\n",
       "      <th>lasthtlordergap</th>\n",
       "      <th>cityorders</th>\n",
       "      <th>cr</th>\n",
       "      <th>visitnum_oneyear</th>\n",
       "      <th>h</th>\n",
       "      <th>label</th>\n",
       "      <th>M</th>\n",
       "    </tr>\n",
       "  </thead>\n",
       "  <tbody>\n",
       "    <tr>\n",
       "      <td>0</td>\n",
       "      <td>1116.0</td>\n",
       "      <td>12.653</td>\n",
       "      <td>1.020000</td>\n",
       "      <td>6408.0</td>\n",
       "      <td>5</td>\n",
       "      <td>1</td>\n",
       "      <td>1080.0</td>\n",
       "    </tr>\n",
       "    <tr>\n",
       "      <td>1</td>\n",
       "      <td>-1.0</td>\n",
       "      <td>0.280</td>\n",
       "      <td>1.138505</td>\n",
       "      <td>1292.0</td>\n",
       "      <td>11</td>\n",
       "      <td>1</td>\n",
       "      <td>-349.0</td>\n",
       "    </tr>\n",
       "    <tr>\n",
       "      <td>2</td>\n",
       "      <td>198614.0</td>\n",
       "      <td>3.133</td>\n",
       "      <td>1.000000</td>\n",
       "      <td>345.0</td>\n",
       "      <td>23</td>\n",
       "      <td>1</td>\n",
       "      <td>160.0</td>\n",
       "    </tr>\n",
       "    <tr>\n",
       "      <td>3</td>\n",
       "      <td>16440.0</td>\n",
       "      <td>4.913</td>\n",
       "      <td>1.250000</td>\n",
       "      <td>325.0</td>\n",
       "      <td>15</td>\n",
       "      <td>0</td>\n",
       "      <td>854.0</td>\n",
       "    </tr>\n",
       "    <tr>\n",
       "      <td>4</td>\n",
       "      <td>5079.0</td>\n",
       "      <td>0.020</td>\n",
       "      <td>1.190000</td>\n",
       "      <td>9218.0</td>\n",
       "      <td>16</td>\n",
       "      <td>1</td>\n",
       "      <td>19824.0</td>\n",
       "    </tr>\n",
       "  </tbody>\n",
       "</table>\n",
       "</div>"
      ],
      "text/plain": [
       "   lasthtlordergap  cityorders        cr  visitnum_oneyear   h  label        M\n",
       "0           1116.0      12.653  1.020000            6408.0   5      1   1080.0\n",
       "1             -1.0       0.280  1.138505            1292.0  11      1   -349.0\n",
       "2         198614.0       3.133  1.000000             345.0  23      1    160.0\n",
       "3          16440.0       4.913  1.250000             325.0  15      0    854.0\n",
       "4           5079.0       0.020  1.190000            9218.0  16      1  19824.0"
      ]
     },
     "execution_count": 86,
     "metadata": {},
     "output_type": "execute_result"
    }
   ],
   "source": [
    "test_data_m = pd.concat([test_data,M_test],axis=1)\n",
    "test_data_m.rename(columns = {1:'M'},inplace=True)\n",
    "test_data_m.head()"
   ]
  },
  {
   "cell_type": "code",
   "execution_count": 89,
   "metadata": {},
   "outputs": [
    {
     "data": {
      "text/html": [
       "<div>\n",
       "<style scoped>\n",
       "    .dataframe tbody tr th:only-of-type {\n",
       "        vertical-align: middle;\n",
       "    }\n",
       "\n",
       "    .dataframe tbody tr th {\n",
       "        vertical-align: top;\n",
       "    }\n",
       "\n",
       "    .dataframe thead th {\n",
       "        text-align: right;\n",
       "    }\n",
       "</style>\n",
       "<table border=\"1\" class=\"dataframe\">\n",
       "  <thead>\n",
       "    <tr style=\"text-align: right;\">\n",
       "      <th></th>\n",
       "      <th>lasthtlordergap</th>\n",
       "      <th>cityorders</th>\n",
       "      <th>cr</th>\n",
       "      <th>visitnum_oneyear</th>\n",
       "      <th>h</th>\n",
       "      <th>label</th>\n",
       "      <th>M</th>\n",
       "      <th>lasthtlordergap_woe</th>\n",
       "      <th>cityorders_woe</th>\n",
       "      <th>cr_woe</th>\n",
       "      <th>visitnum_oneyear_woe</th>\n",
       "      <th>h_woe</th>\n",
       "      <th>M_woe</th>\n",
       "    </tr>\n",
       "  </thead>\n",
       "  <tbody>\n",
       "    <tr>\n",
       "      <td>0</td>\n",
       "      <td>1116.0</td>\n",
       "      <td>12.653</td>\n",
       "      <td>1.020000</td>\n",
       "      <td>6408.0</td>\n",
       "      <td>5</td>\n",
       "      <td>1</td>\n",
       "      <td>1080.0</td>\n",
       "      <td>-0.9328</td>\n",
       "      <td>-0.4244</td>\n",
       "      <td>0.4398</td>\n",
       "      <td>-0.0993</td>\n",
       "      <td>0.0253</td>\n",
       "      <td>-0.0400</td>\n",
       "    </tr>\n",
       "    <tr>\n",
       "      <td>1</td>\n",
       "      <td>-1.0</td>\n",
       "      <td>0.280</td>\n",
       "      <td>1.138505</td>\n",
       "      <td>1292.0</td>\n",
       "      <td>11</td>\n",
       "      <td>1</td>\n",
       "      <td>-349.0</td>\n",
       "      <td>0.4032</td>\n",
       "      <td>0.1809</td>\n",
       "      <td>0.0775</td>\n",
       "      <td>0.0308</td>\n",
       "      <td>-0.2538</td>\n",
       "      <td>0.4226</td>\n",
       "    </tr>\n",
       "    <tr>\n",
       "      <td>2</td>\n",
       "      <td>198614.0</td>\n",
       "      <td>3.133</td>\n",
       "      <td>1.000000</td>\n",
       "      <td>345.0</td>\n",
       "      <td>23</td>\n",
       "      <td>1</td>\n",
       "      <td>160.0</td>\n",
       "      <td>0.1917</td>\n",
       "      <td>-0.2588</td>\n",
       "      <td>0.4398</td>\n",
       "      <td>0.0308</td>\n",
       "      <td>1.1919</td>\n",
       "      <td>0.0783</td>\n",
       "    </tr>\n",
       "    <tr>\n",
       "      <td>3</td>\n",
       "      <td>16440.0</td>\n",
       "      <td>4.913</td>\n",
       "      <td>1.250000</td>\n",
       "      <td>325.0</td>\n",
       "      <td>15</td>\n",
       "      <td>0</td>\n",
       "      <td>854.0</td>\n",
       "      <td>-0.4715</td>\n",
       "      <td>-0.4244</td>\n",
       "      <td>-0.4288</td>\n",
       "      <td>0.0308</td>\n",
       "      <td>-0.1676</td>\n",
       "      <td>-0.0400</td>\n",
       "    </tr>\n",
       "    <tr>\n",
       "      <td>4</td>\n",
       "      <td>5079.0</td>\n",
       "      <td>0.020</td>\n",
       "      <td>1.190000</td>\n",
       "      <td>9218.0</td>\n",
       "      <td>16</td>\n",
       "      <td>1</td>\n",
       "      <td>19824.0</td>\n",
       "      <td>-0.6568</td>\n",
       "      <td>0.3529</td>\n",
       "      <td>-0.4288</td>\n",
       "      <td>0.0607</td>\n",
       "      <td>-0.1676</td>\n",
       "      <td>-0.7690</td>\n",
       "    </tr>\n",
       "  </tbody>\n",
       "</table>\n",
       "</div>"
      ],
      "text/plain": [
       "   lasthtlordergap  cityorders        cr  visitnum_oneyear   h  label  \\\n",
       "0           1116.0      12.653  1.020000            6408.0   5      1   \n",
       "1             -1.0       0.280  1.138505            1292.0  11      1   \n",
       "2         198614.0       3.133  1.000000             345.0  23      1   \n",
       "3          16440.0       4.913  1.250000             325.0  15      0   \n",
       "4           5079.0       0.020  1.190000            9218.0  16      1   \n",
       "\n",
       "         M  lasthtlordergap_woe  cityorders_woe  cr_woe  visitnum_oneyear_woe  \\\n",
       "0   1080.0              -0.9328         -0.4244  0.4398               -0.0993   \n",
       "1   -349.0               0.4032          0.1809  0.0775                0.0308   \n",
       "2    160.0               0.1917         -0.2588  0.4398                0.0308   \n",
       "3    854.0              -0.4715         -0.4244 -0.4288                0.0308   \n",
       "4  19824.0              -0.6568          0.3529 -0.4288                0.0607   \n",
       "\n",
       "    h_woe   M_woe  \n",
       "0  0.0253 -0.0400  \n",
       "1 -0.2538  0.4226  \n",
       "2  1.1919  0.0783  \n",
       "3 -0.1676 -0.0400  \n",
       "4 -0.1676 -0.7690  "
      ]
     },
     "execution_count": 89,
     "metadata": {},
     "output_type": "execute_result"
    }
   ],
   "source": [
    "test_woe_m = smgennew(test_data_m,bin_list_m)\n",
    "test_woe_m.head()"
   ]
  },
  {
   "cell_type": "code",
   "execution_count": 94,
   "metadata": {},
   "outputs": [
    {
     "data": {
      "text/html": [
       "<div>\n",
       "<style scoped>\n",
       "    .dataframe tbody tr th:only-of-type {\n",
       "        vertical-align: middle;\n",
       "    }\n",
       "\n",
       "    .dataframe tbody tr th {\n",
       "        vertical-align: top;\n",
       "    }\n",
       "\n",
       "    .dataframe thead th {\n",
       "        text-align: right;\n",
       "    }\n",
       "</style>\n",
       "<table border=\"1\" class=\"dataframe\">\n",
       "  <thead>\n",
       "    <tr style=\"text-align: right;\">\n",
       "      <th></th>\n",
       "      <th>lasthtlordergap_woe</th>\n",
       "      <th>cityorders_woe</th>\n",
       "      <th>cr_woe</th>\n",
       "      <th>visitnum_oneyear_woe</th>\n",
       "      <th>h_woe</th>\n",
       "      <th>M_woe</th>\n",
       "    </tr>\n",
       "  </thead>\n",
       "  <tbody>\n",
       "    <tr>\n",
       "      <td>0</td>\n",
       "      <td>-0.9328</td>\n",
       "      <td>-0.4244</td>\n",
       "      <td>0.4398</td>\n",
       "      <td>-0.0993</td>\n",
       "      <td>0.0253</td>\n",
       "      <td>-0.0400</td>\n",
       "    </tr>\n",
       "    <tr>\n",
       "      <td>1</td>\n",
       "      <td>0.4032</td>\n",
       "      <td>0.1809</td>\n",
       "      <td>0.0775</td>\n",
       "      <td>0.0308</td>\n",
       "      <td>-0.2538</td>\n",
       "      <td>0.4226</td>\n",
       "    </tr>\n",
       "    <tr>\n",
       "      <td>2</td>\n",
       "      <td>0.1917</td>\n",
       "      <td>-0.2588</td>\n",
       "      <td>0.4398</td>\n",
       "      <td>0.0308</td>\n",
       "      <td>1.1919</td>\n",
       "      <td>0.0783</td>\n",
       "    </tr>\n",
       "    <tr>\n",
       "      <td>3</td>\n",
       "      <td>-0.4715</td>\n",
       "      <td>-0.4244</td>\n",
       "      <td>-0.4288</td>\n",
       "      <td>0.0308</td>\n",
       "      <td>-0.1676</td>\n",
       "      <td>-0.0400</td>\n",
       "    </tr>\n",
       "    <tr>\n",
       "      <td>4</td>\n",
       "      <td>-0.6568</td>\n",
       "      <td>0.3529</td>\n",
       "      <td>-0.4288</td>\n",
       "      <td>0.0607</td>\n",
       "      <td>-0.1676</td>\n",
       "      <td>-0.7690</td>\n",
       "    </tr>\n",
       "  </tbody>\n",
       "</table>\n",
       "</div>"
      ],
      "text/plain": [
       "   lasthtlordergap_woe  cityorders_woe  cr_woe  visitnum_oneyear_woe   h_woe  \\\n",
       "0              -0.9328         -0.4244  0.4398               -0.0993  0.0253   \n",
       "1               0.4032          0.1809  0.0775                0.0308 -0.2538   \n",
       "2               0.1917         -0.2588  0.4398                0.0308  1.1919   \n",
       "3              -0.4715         -0.4244 -0.4288                0.0308 -0.1676   \n",
       "4              -0.6568          0.3529 -0.4288                0.0607 -0.1676   \n",
       "\n",
       "    M_woe  \n",
       "0 -0.0400  \n",
       "1  0.4226  \n",
       "2  0.0783  \n",
       "3 -0.0400  \n",
       "4 -0.7690  "
      ]
     },
     "execution_count": 94,
     "metadata": {},
     "output_type": "execute_result"
    }
   ],
   "source": [
    "X_test_m = test_woe_m.iloc[:,-len(bin_list_m):]\n",
    "X_test_m.head()"
   ]
  },
  {
   "cell_type": "code",
   "execution_count": 92,
   "metadata": {},
   "outputs": [
    {
     "data": {
      "text/plain": [
       "(194235,)"
      ]
     },
     "execution_count": 92,
     "metadata": {},
     "output_type": "execute_result"
    }
   ],
   "source": [
    "Y_test.shape"
   ]
  },
  {
   "cell_type": "code",
   "execution_count": 95,
   "metadata": {},
   "outputs": [
    {
     "data": {
      "text/plain": [
       "(194235, 6)"
      ]
     },
     "execution_count": 95,
     "metadata": {},
     "output_type": "execute_result"
    }
   ],
   "source": [
    "X_test_m.shape"
   ]
  },
  {
   "cell_type": "code",
   "execution_count": 96,
   "metadata": {},
   "outputs": [
    {
     "data": {
      "text/plain": [
       "0.7279738461142431"
      ]
     },
     "execution_count": 96,
     "metadata": {},
     "output_type": "execute_result"
    }
   ],
   "source": [
    "LR_m.score(X_test_m,Y_test)"
   ]
  },
  {
   "cell_type": "code",
   "execution_count": 98,
   "metadata": {},
   "outputs": [
    {
     "data": {
      "image/png": "[encoded data removed]",
      "text/plain": [
       "<Figure size 504x396 with 1 Axes>"
      ]
     },
     "metadata": {
      "needs_background": "light"
     },
     "output_type": "display_data"
    }
   ],
   "source": [
    "# ROC\n",
    "y_score_m = LR_m.predict_proba(X_test_m)  # 随机森林\n",
    "fpr, tpr, thresholds = roc_curve(Y_test, y_score_m[:, 1])\n",
    "roc_auc = auc(fpr, tpr)\n",
    "def drawRoc(roc_auc,fpr,tpr):\n",
    "    plt.subplots(figsize=(7, 5.5))\n",
    "    plt.plot(fpr, tpr, color='darkorange', lw=2, label='ROC curve (area = %0.2f)' % roc_auc)\n",
    "    plt.plot([0, 1], [0, 1], color='navy', lw=2, linestyle='--')\n",
    "    plt.xlim([0.0, 1.0])\n",
    "    plt.ylim([0.0, 1.05])\n",
    "    plt.xlabel('False Positive Rate')\n",
    "    plt.ylabel('True Positive Rate')\n",
    "    plt.title('ROC Curve')\n",
    "    plt.legend(loc=\"lower right\")\n",
    "    plt.show()\n",
    "drawRoc(roc_auc, fpr, tpr)"
   ]
  },
  {
   "cell_type": "code",
   "execution_count": 143,
   "metadata": {},
   "outputs": [],
   "source": [
    "bbb = pd.DataFrame({'intercept_':LR_m.intercept_[0]},index=['coef_'])\n",
    "bbb\n",
    "\n",
    "pd.concat([pd.DataFrame(dict(zip(X_train_m.columns,LR_m.coef_[0])),index=['coef_']),bbb],axis=1)\n",
    "\n",
    "bbb\n",
    "\n",
    "aaa = pd.DataFrame({'LR.score(X_train,Y_train)':LR_m.score(X_train_m,Y_train),'LR.score(X_test,Y_test)':LR_m.score(X_test_m,Y_test)},index=['score'])"
   ]
  },
  {
   "cell_type": "code",
   "execution_count": 146,
   "metadata": {},
   "outputs": [
    {
     "data": {
      "text/html": [
       "<div>\n",
       "<style scoped>\n",
       "    .dataframe tbody tr th:only-of-type {\n",
       "        vertical-align: middle;\n",
       "    }\n",
       "\n",
       "    .dataframe tbody tr th {\n",
       "        vertical-align: top;\n",
       "    }\n",
       "\n",
       "    .dataframe thead th {\n",
       "        text-align: right;\n",
       "    }\n",
       "</style>\n",
       "<table border=\"1\" class=\"dataframe\">\n",
       "  <thead>\n",
       "    <tr style=\"text-align: right;\">\n",
       "      <th></th>\n",
       "      <th>LR.score(X_train,Y_train)</th>\n",
       "      <th>LR.score(X_test,Y_test)</th>\n",
       "    </tr>\n",
       "  </thead>\n",
       "  <tbody>\n",
       "    <tr>\n",
       "      <td>score</td>\n",
       "      <td>0.72966</td>\n",
       "      <td>0.727974</td>\n",
       "    </tr>\n",
       "  </tbody>\n",
       "</table>\n",
       "</div>"
      ],
      "text/plain": [
       "       LR.score(X_train,Y_train)  LR.score(X_test,Y_test)\n",
       "score                    0.72966                 0.727974"
      ]
     },
     "execution_count": 146,
     "metadata": {},
     "output_type": "execute_result"
    }
   ],
   "source": [
    "aaa"
   ]
  },
  {
   "cell_type": "code",
   "execution_count": 148,
   "metadata": {},
   "outputs": [
    {
     "name": "stdout",
     "output_type": "stream",
     "text": [
      "core metrics\n",
      " +--------------------+----------+-----------+--------+-------+\n",
      "|        auc         | accuracy | precision | recall |   f1  |\n",
      "+--------------------+----------+-----------+--------+-------+\n",
      "| 0.6758501429431267 |  0.728   |   0.742   | 0.951  | 0.834 |\n",
      "+--------------------+----------+-----------+--------+-------+\n"
     ]
    }
   ],
   "source": [
    "y_score = LR_m.predict_proba(X_test_m)  # 随机森林\n",
    "fpr, tpr, thresholds = roc_curve(Y_test, y_score[:, 1])\n",
    "roc_auc = auc(fpr, tpr)\n",
    "y_pred = LR_m.predict(X_test_m)\n",
    "scores = [round(i(Y_test, y_pred),3 )for  i in (accuracy_score,precision_score,\\\n",
    "                                     recall_score,f1_score)]\n",
    "scores.insert(0,roc_auc)\n",
    "core_metrics = prettytable.PrettyTable()  # 创建表格实例\n",
    "core_metrics.field_names = ['auc', 'accuracy', 'precision', 'recall', 'f1']  # 定义表格列名\n",
    "core_metrics.add_row(scores)  # 增加数据\n",
    "print('core metrics\\n',core_metrics)"
   ]
  },
  {
   "cell_type": "markdown",
   "metadata": {},
   "source": [
    "# 特征创造2"
   ]
  },
  {
   "cell_type": "code",
   "execution_count": null,
   "metadata": {},
   "outputs": [],
   "source": []
  },
  {
   "cell_type": "code",
   "execution_count": 157,
   "metadata": {},
   "outputs": [],
   "source": [
    "import datetime"
   ]
  },
  {
   "cell_type": "code",
   "execution_count": 173,
   "metadata": {},
   "outputs": [
    {
     "data": {
      "text/html": [
       "<div>\n",
       "<style scoped>\n",
       "    .dataframe tbody tr th:only-of-type {\n",
       "        vertical-align: middle;\n",
       "    }\n",
       "\n",
       "    .dataframe tbody tr th {\n",
       "        vertical-align: top;\n",
       "    }\n",
       "\n",
       "    .dataframe thead th {\n",
       "        text-align: right;\n",
       "    }\n",
       "</style>\n",
       "<table border=\"1\" class=\"dataframe\">\n",
       "  <thead>\n",
       "    <tr style=\"text-align: right;\">\n",
       "      <th></th>\n",
       "      <th>d</th>\n",
       "      <th>arrival</th>\n",
       "    </tr>\n",
       "  </thead>\n",
       "  <tbody>\n",
       "    <tr>\n",
       "      <td>165853</td>\n",
       "      <td>2016-05-15</td>\n",
       "      <td>2016-06-08</td>\n",
       "    </tr>\n",
       "    <tr>\n",
       "      <td>619623</td>\n",
       "      <td>2016-05-19</td>\n",
       "      <td>2016-05-21</td>\n",
       "    </tr>\n",
       "    <tr>\n",
       "      <td>572934</td>\n",
       "      <td>2016-05-20</td>\n",
       "      <td>2016-05-21</td>\n",
       "    </tr>\n",
       "    <tr>\n",
       "      <td>232247</td>\n",
       "      <td>2016-05-15</td>\n",
       "      <td>2016-06-08</td>\n",
       "    </tr>\n",
       "    <tr>\n",
       "      <td>523733</td>\n",
       "      <td>2016-05-20</td>\n",
       "      <td>2016-05-20</td>\n",
       "    </tr>\n",
       "    <tr>\n",
       "      <td>...</td>\n",
       "      <td>...</td>\n",
       "      <td>...</td>\n",
       "    </tr>\n",
       "    <tr>\n",
       "      <td>395591</td>\n",
       "      <td>2016-05-19</td>\n",
       "      <td>2016-05-29</td>\n",
       "    </tr>\n",
       "    <tr>\n",
       "      <td>342697</td>\n",
       "      <td>2016-05-16</td>\n",
       "      <td>2016-05-16</td>\n",
       "    </tr>\n",
       "    <tr>\n",
       "      <td>323151</td>\n",
       "      <td>2016-05-15</td>\n",
       "      <td>2016-05-16</td>\n",
       "    </tr>\n",
       "    <tr>\n",
       "      <td>3054</td>\n",
       "      <td>2016-05-20</td>\n",
       "      <td>2016-05-20</td>\n",
       "    </tr>\n",
       "    <tr>\n",
       "      <td>360102</td>\n",
       "      <td>2016-05-19</td>\n",
       "      <td>2016-05-28</td>\n",
       "    </tr>\n",
       "  </tbody>\n",
       "</table>\n",
       "<p>453215 rows × 2 columns</p>\n",
       "</div>"
      ],
      "text/plain": [
       "                 d     arrival\n",
       "165853  2016-05-15  2016-06-08\n",
       "619623  2016-05-19  2016-05-21\n",
       "572934  2016-05-20  2016-05-21\n",
       "232247  2016-05-15  2016-06-08\n",
       "523733  2016-05-20  2016-05-20\n",
       "...            ...         ...\n",
       "395591  2016-05-19  2016-05-29\n",
       "342697  2016-05-16  2016-05-16\n",
       "323151  2016-05-15  2016-05-16\n",
       "3054    2016-05-20  2016-05-20\n",
       "360102  2016-05-19  2016-05-28\n",
       "\n",
       "[453215 rows x 2 columns]"
      ]
     },
     "execution_count": 173,
     "metadata": {},
     "output_type": "execute_result"
    }
   ],
   "source": [
    "date_train"
   ]
  },
  {
   "cell_type": "code",
   "execution_count": 178,
   "metadata": {},
   "outputs": [
    {
     "data": {
      "text/plain": [
       "165853    2016-06-08\n",
       "619623    2016-05-21\n",
       "572934    2016-05-21\n",
       "232247    2016-06-08\n",
       "523733    2016-05-20\n",
       "             ...    \n",
       "395591    2016-05-29\n",
       "342697    2016-05-16\n",
       "323151    2016-05-16\n",
       "3054      2016-05-20\n",
       "360102    2016-05-28\n",
       "Name: arrival, Length: 453215, dtype: object"
      ]
     },
     "execution_count": 178,
     "metadata": {},
     "output_type": "execute_result"
    }
   ],
   "source": [
    "date_train.d.apply(str_date)\n",
    "date_train.arrival.apply(str_date)"
   ]
  },
  {
   "cell_type": "code",
   "execution_count": 183,
   "metadata": {},
   "outputs": [],
   "source": [
    "date_test['delta'] = date_test.arrival.map(str_date) - date_test.d.map(str_date)"
   ]
  },
  {
   "cell_type": "code",
   "execution_count": null,
   "metadata": {},
   "outputs": [],
   "source": [
    "date_train['delta'] = date_train.arrival.map(str_date) - date_train.d.map(str_date)\n",
    "\n",
    "date_train['delta'] = date_train['delta'].dt.days"
   ]
  },
  {
   "cell_type": "code",
   "execution_count": 188,
   "metadata": {},
   "outputs": [],
   "source": [
    "date_train = date_train.reset_index(drop=True)"
   ]
  },
  {
   "cell_type": "code",
   "execution_count": 189,
   "metadata": {},
   "outputs": [],
   "source": [
    "date_test = date_test.reset_index(drop=True)"
   ]
  },
  {
   "cell_type": "code",
   "execution_count": null,
   "metadata": {},
   "outputs": [],
   "source": []
  },
  {
   "cell_type": "code",
   "execution_count": 181,
   "metadata": {},
   "outputs": [],
   "source": [
    "def str_date(x):\n",
    "    out = datetime.datetime.strptime(x,\"%Y-%m-%d\").date()\n",
    "    return out"
   ]
  },
  {
   "cell_type": "code",
   "execution_count": 194,
   "metadata": {},
   "outputs": [],
   "source": [
    "def date_str(x):\n",
    "    out = int(x)\n",
    "    return out"
   ]
  },
  {
   "cell_type": "code",
   "execution_count": 182,
   "metadata": {},
   "outputs": [
    {
     "data": {
      "text/plain": [
       "datetime.date(2010, 10, 9)"
      ]
     },
     "execution_count": 182,
     "metadata": {},
     "output_type": "execute_result"
    }
   ],
   "source": [
    "str_date('2010-10-9')"
   ]
  },
  {
   "cell_type": "code",
   "execution_count": 190,
   "metadata": {},
   "outputs": [],
   "source": [
    "train_data_d = pd.concat([train_data_m,date_train.delta],axis=1)"
   ]
  },
  {
   "cell_type": "code",
   "execution_count": 191,
   "metadata": {},
   "outputs": [],
   "source": [
    "test_data_d = pd.concat([test_data_m,date_test.delta],axis=1)"
   ]
  },
  {
   "cell_type": "code",
   "execution_count": 211,
   "metadata": {},
   "outputs": [],
   "source": [
    "train_data_d['delta'] = train_data_d['delta'].dt.days"
   ]
  },
  {
   "cell_type": "code",
   "execution_count": 222,
   "metadata": {},
   "outputs": [],
   "source": [
    "bin_list_d = [ordergap,cityorders,cr,visitnum,h,M,delta]"
   ]
  },
  {
   "cell_type": "code",
   "execution_count": 217,
   "metadata": {},
   "outputs": [
    {
     "name": "stderr",
     "output_type": "stream",
     "text": [
      "/Users/jim/opt/anaconda3/lib/python3.7/site-packages/sklearn/model_selection/_search.py:823: FutureWarning: The parameter 'iid' is deprecated in 0.22 and will be removed in 0.24.\n",
      "  \"removed in 0.24.\", FutureWarning\n"
     ]
    },
    {
     "data": {
      "image/png": "[encoded data removed]",
      "text/plain": [
       "<Figure size 1152x720 with 1 Axes>"
      ]
     },
     "metadata": {
      "needs_background": "light"
     },
     "output_type": "display_data"
    }
   ],
   "source": [
    "delta = smbin(train_data_d,y,'delta',max_bin=7)"
   ]
  },
  {
   "cell_type": "code",
   "execution_count": 218,
   "metadata": {},
   "outputs": [
    {
     "data": {
      "text/html": [
       "<div>\n",
       "<style scoped>\n",
       "    .dataframe tbody tr th:only-of-type {\n",
       "        vertical-align: middle;\n",
       "    }\n",
       "\n",
       "    .dataframe tbody tr th {\n",
       "        vertical-align: top;\n",
       "    }\n",
       "\n",
       "    .dataframe thead th {\n",
       "        text-align: right;\n",
       "    }\n",
       "</style>\n",
       "<table border=\"1\" class=\"dataframe\">\n",
       "  <thead>\n",
       "    <tr style=\"text-align: right;\">\n",
       "      <th></th>\n",
       "      <th>Bins</th>\n",
       "      <th>CntRec</th>\n",
       "      <th>CntGood</th>\n",
       "      <th>CntBad</th>\n",
       "      <th>PctRec</th>\n",
       "      <th>PctGood</th>\n",
       "      <th>PctBad</th>\n",
       "      <th>WOE</th>\n",
       "      <th>IV</th>\n",
       "    </tr>\n",
       "  </thead>\n",
       "  <tbody>\n",
       "    <tr>\n",
       "      <td>0</td>\n",
       "      <td>(-0.001, 1.5]</td>\n",
       "      <td>287152</td>\n",
       "      <td>190359</td>\n",
       "      <td>96793</td>\n",
       "      <td>0.633589</td>\n",
       "      <td>0.584910</td>\n",
       "      <td>0.757586</td>\n",
       "      <td>-0.2587</td>\n",
       "      <td>0.0447</td>\n",
       "    </tr>\n",
       "    <tr>\n",
       "      <td>1</td>\n",
       "      <td>(1.5, 2.5]</td>\n",
       "      <td>27612</td>\n",
       "      <td>19706</td>\n",
       "      <td>7906</td>\n",
       "      <td>0.060925</td>\n",
       "      <td>0.060550</td>\n",
       "      <td>0.061879</td>\n",
       "      <td>-0.0217</td>\n",
       "      <td>0.0000</td>\n",
       "    </tr>\n",
       "    <tr>\n",
       "      <td>2</td>\n",
       "      <td>(2.5, 4.5]</td>\n",
       "      <td>35351</td>\n",
       "      <td>27307</td>\n",
       "      <td>8044</td>\n",
       "      <td>0.078001</td>\n",
       "      <td>0.083905</td>\n",
       "      <td>0.062959</td>\n",
       "      <td>0.2872</td>\n",
       "      <td>0.0060</td>\n",
       "    </tr>\n",
       "    <tr>\n",
       "      <td>3</td>\n",
       "      <td>(4.5, 7.5]</td>\n",
       "      <td>27042</td>\n",
       "      <td>22020</td>\n",
       "      <td>5022</td>\n",
       "      <td>0.059667</td>\n",
       "      <td>0.067660</td>\n",
       "      <td>0.039307</td>\n",
       "      <td>0.5431</td>\n",
       "      <td>0.0154</td>\n",
       "    </tr>\n",
       "    <tr>\n",
       "      <td>4</td>\n",
       "      <td>(7.5, 20.5]</td>\n",
       "      <td>49535</td>\n",
       "      <td>43057</td>\n",
       "      <td>6478</td>\n",
       "      <td>0.109297</td>\n",
       "      <td>0.132300</td>\n",
       "      <td>0.050702</td>\n",
       "      <td>0.9591</td>\n",
       "      <td>0.0783</td>\n",
       "    </tr>\n",
       "    <tr>\n",
       "      <td>5</td>\n",
       "      <td>(20.5, 25.5]</td>\n",
       "      <td>19973</td>\n",
       "      <td>16939</td>\n",
       "      <td>3034</td>\n",
       "      <td>0.044070</td>\n",
       "      <td>0.052048</td>\n",
       "      <td>0.023747</td>\n",
       "      <td>0.7847</td>\n",
       "      <td>0.0222</td>\n",
       "    </tr>\n",
       "    <tr>\n",
       "      <td>6</td>\n",
       "      <td>(25.5, 30.0]</td>\n",
       "      <td>6550</td>\n",
       "      <td>6062</td>\n",
       "      <td>488</td>\n",
       "      <td>0.014452</td>\n",
       "      <td>0.018627</td>\n",
       "      <td>0.003820</td>\n",
       "      <td>1.5845</td>\n",
       "      <td>0.0235</td>\n",
       "    </tr>\n",
       "    <tr>\n",
       "      <td>7</td>\n",
       "      <td>Total</td>\n",
       "      <td>453215</td>\n",
       "      <td>325450</td>\n",
       "      <td>127765</td>\n",
       "      <td>1.000000</td>\n",
       "      <td>1.000000</td>\n",
       "      <td>1.000000</td>\n",
       "      <td>NaN</td>\n",
       "      <td>0.1901</td>\n",
       "    </tr>\n",
       "  </tbody>\n",
       "</table>\n",
       "</div>"
      ],
      "text/plain": [
       "            Bins  CntRec  CntGood  CntBad    PctRec   PctGood    PctBad  \\\n",
       "0  (-0.001, 1.5]  287152   190359   96793  0.633589  0.584910  0.757586   \n",
       "1     (1.5, 2.5]   27612    19706    7906  0.060925  0.060550  0.061879   \n",
       "2     (2.5, 4.5]   35351    27307    8044  0.078001  0.083905  0.062959   \n",
       "3     (4.5, 7.5]   27042    22020    5022  0.059667  0.067660  0.039307   \n",
       "4    (7.5, 20.5]   49535    43057    6478  0.109297  0.132300  0.050702   \n",
       "5   (20.5, 25.5]   19973    16939    3034  0.044070  0.052048  0.023747   \n",
       "6   (25.5, 30.0]    6550     6062     488  0.014452  0.018627  0.003820   \n",
       "7          Total  453215   325450  127765  1.000000  1.000000  1.000000   \n",
       "\n",
       "      WOE      IV  \n",
       "0 -0.2587  0.0447  \n",
       "1 -0.0217  0.0000  \n",
       "2  0.2872  0.0060  \n",
       "3  0.5431  0.0154  \n",
       "4  0.9591  0.0783  \n",
       "5  0.7847  0.0222  \n",
       "6  1.5845  0.0235  \n",
       "7     NaN  0.1901  "
      ]
     },
     "execution_count": 218,
     "metadata": {},
     "output_type": "execute_result"
    }
   ],
   "source": [
    "delta.IVtable"
   ]
  },
  {
   "cell_type": "code",
   "execution_count": 249,
   "metadata": {},
   "outputs": [
    {
     "data": {
      "text/plain": [
       "lasthtlordergap    0.1474\n",
       "cityorders         0.0996\n",
       "lastpvgap          0.0099\n",
       "cr                 0.1998\n",
       "sid                0.0082\n",
       "visitnum           0.0202\n",
       "h                  0.1153\n",
       "delta              0.1901\n",
       "dtype: float64"
      ]
     },
     "execution_count": 249,
     "metadata": {},
     "output_type": "execute_result"
    }
   ],
   "source": [
    "iv_all.append(pd.Series({\"delta\":delta.IV}))"
   ]
  },
  {
   "cell_type": "code",
   "execution_count": 260,
   "metadata": {},
   "outputs": [
    {
     "data": {
      "image/png": "[encoded data removed]",
      "text/plain": [
       "<Figure size 576x432 with 1 Axes>"
      ]
     },
     "metadata": {
      "needs_background": "light"
     },
     "output_type": "display_data"
    }
   ],
   "source": [
    "plt.figure(figsize=(8,6))\n",
    "iv_all.sort_values().plot.barh(label='IV值')\n",
    "plt.yticks(fontsize=15)\n",
    "plt.xticks(fontsize=13)\n",
    "plt.legend();"
   ]
  },
  {
   "cell_type": "code",
   "execution_count": null,
   "metadata": {},
   "outputs": [],
   "source": []
  },
  {
   "cell_type": "code",
   "execution_count": 220,
   "metadata": {},
   "outputs": [],
   "source": [
    "train_data_d_ = train_data_d.drop(columns=out,axis=1)"
   ]
  },
  {
   "cell_type": "code",
   "execution_count": 223,
   "metadata": {},
   "outputs": [
    {
     "data": {
      "text/html": [
       "<div>\n",
       "<style scoped>\n",
       "    .dataframe tbody tr th:only-of-type {\n",
       "        vertical-align: middle;\n",
       "    }\n",
       "\n",
       "    .dataframe tbody tr th {\n",
       "        vertical-align: top;\n",
       "    }\n",
       "\n",
       "    .dataframe thead th {\n",
       "        text-align: right;\n",
       "    }\n",
       "</style>\n",
       "<table border=\"1\" class=\"dataframe\">\n",
       "  <thead>\n",
       "    <tr style=\"text-align: right;\">\n",
       "      <th></th>\n",
       "      <th>lasthtlordergap</th>\n",
       "      <th>cityorders</th>\n",
       "      <th>cr</th>\n",
       "      <th>visitnum_oneyear</th>\n",
       "      <th>h</th>\n",
       "      <th>label</th>\n",
       "      <th>M</th>\n",
       "      <th>delta</th>\n",
       "      <th>lasthtlordergap_woe</th>\n",
       "      <th>cityorders_woe</th>\n",
       "      <th>cr_woe</th>\n",
       "      <th>visitnum_oneyear_woe</th>\n",
       "      <th>h_woe</th>\n",
       "      <th>M_woe</th>\n",
       "      <th>delta_woe</th>\n",
       "    </tr>\n",
       "  </thead>\n",
       "  <tbody>\n",
       "    <tr>\n",
       "      <td>0</td>\n",
       "      <td>-1.0</td>\n",
       "      <td>0.133</td>\n",
       "      <td>1.139221</td>\n",
       "      <td>1050.0</td>\n",
       "      <td>0.0</td>\n",
       "      <td>1</td>\n",
       "      <td>-349.0</td>\n",
       "      <td>24</td>\n",
       "      <td>0.4032</td>\n",
       "      <td>0.3529</td>\n",
       "      <td>0.0775</td>\n",
       "      <td>0.0308</td>\n",
       "      <td>0.0253</td>\n",
       "      <td>0.4226</td>\n",
       "      <td>0.7847</td>\n",
       "    </tr>\n",
       "    <tr>\n",
       "      <td>1</td>\n",
       "      <td>23823.0</td>\n",
       "      <td>3.353</td>\n",
       "      <td>1.139221</td>\n",
       "      <td>5780.0</td>\n",
       "      <td>14.0</td>\n",
       "      <td>0</td>\n",
       "      <td>7826.0</td>\n",
       "      <td>2</td>\n",
       "      <td>-0.2434</td>\n",
       "      <td>-0.2588</td>\n",
       "      <td>0.0775</td>\n",
       "      <td>-0.0993</td>\n",
       "      <td>-0.1676</td>\n",
       "      <td>-0.4812</td>\n",
       "      <td>-0.0217</td>\n",
       "    </tr>\n",
       "    <tr>\n",
       "      <td>2</td>\n",
       "      <td>30793.0</td>\n",
       "      <td>1.613</td>\n",
       "      <td>1.200000</td>\n",
       "      <td>3616.0</td>\n",
       "      <td>11.0</td>\n",
       "      <td>1</td>\n",
       "      <td>10464.0</td>\n",
       "      <td>1</td>\n",
       "      <td>-0.2434</td>\n",
       "      <td>-0.1961</td>\n",
       "      <td>-0.4288</td>\n",
       "      <td>-0.0993</td>\n",
       "      <td>-0.2538</td>\n",
       "      <td>-0.4812</td>\n",
       "      <td>-0.2587</td>\n",
       "    </tr>\n",
       "    <tr>\n",
       "      <td>3</td>\n",
       "      <td>355113.0</td>\n",
       "      <td>0.140</td>\n",
       "      <td>1.000000</td>\n",
       "      <td>1064.0</td>\n",
       "      <td>13.0</td>\n",
       "      <td>1</td>\n",
       "      <td>386.0</td>\n",
       "      <td>24</td>\n",
       "      <td>0.1917</td>\n",
       "      <td>0.3529</td>\n",
       "      <td>0.4398</td>\n",
       "      <td>0.0308</td>\n",
       "      <td>-0.1676</td>\n",
       "      <td>0.0783</td>\n",
       "      <td>0.7847</td>\n",
       "    </tr>\n",
       "    <tr>\n",
       "      <td>4</td>\n",
       "      <td>161858.0</td>\n",
       "      <td>0.007</td>\n",
       "      <td>1.000000</td>\n",
       "      <td>1468.0</td>\n",
       "      <td>14.0</td>\n",
       "      <td>1</td>\n",
       "      <td>2056.0</td>\n",
       "      <td>0</td>\n",
       "      <td>0.1917</td>\n",
       "      <td>0.3529</td>\n",
       "      <td>0.4398</td>\n",
       "      <td>-0.0993</td>\n",
       "      <td>-0.1676</td>\n",
       "      <td>-0.0400</td>\n",
       "      <td>-0.2587</td>\n",
       "    </tr>\n",
       "  </tbody>\n",
       "</table>\n",
       "</div>"
      ],
      "text/plain": [
       "   lasthtlordergap  cityorders        cr  visitnum_oneyear     h  label  \\\n",
       "0             -1.0       0.133  1.139221            1050.0   0.0      1   \n",
       "1          23823.0       3.353  1.139221            5780.0  14.0      0   \n",
       "2          30793.0       1.613  1.200000            3616.0  11.0      1   \n",
       "3         355113.0       0.140  1.000000            1064.0  13.0      1   \n",
       "4         161858.0       0.007  1.000000            1468.0  14.0      1   \n",
       "\n",
       "         M  delta  lasthtlordergap_woe  cityorders_woe  cr_woe  \\\n",
       "0   -349.0     24               0.4032          0.3529  0.0775   \n",
       "1   7826.0      2              -0.2434         -0.2588  0.0775   \n",
       "2  10464.0      1              -0.2434         -0.1961 -0.4288   \n",
       "3    386.0     24               0.1917          0.3529  0.4398   \n",
       "4   2056.0      0               0.1917          0.3529  0.4398   \n",
       "\n",
       "   visitnum_oneyear_woe   h_woe   M_woe  delta_woe  \n",
       "0                0.0308  0.0253  0.4226     0.7847  \n",
       "1               -0.0993 -0.1676 -0.4812    -0.0217  \n",
       "2               -0.0993 -0.2538 -0.4812    -0.2587  \n",
       "3                0.0308 -0.1676  0.0783     0.7847  \n",
       "4               -0.0993 -0.1676 -0.0400    -0.2587  "
      ]
     },
     "execution_count": 223,
     "metadata": {},
     "output_type": "execute_result"
    }
   ],
   "source": [
    "data_woe_d = smgen(train_data_d_,bin_list_d)\n",
    "data_woe_d.head()"
   ]
  },
  {
   "cell_type": "code",
   "execution_count": 224,
   "metadata": {},
   "outputs": [
    {
     "data": {
      "text/html": [
       "<div>\n",
       "<style scoped>\n",
       "    .dataframe tbody tr th:only-of-type {\n",
       "        vertical-align: middle;\n",
       "    }\n",
       "\n",
       "    .dataframe tbody tr th {\n",
       "        vertical-align: top;\n",
       "    }\n",
       "\n",
       "    .dataframe thead th {\n",
       "        text-align: right;\n",
       "    }\n",
       "</style>\n",
       "<table border=\"1\" class=\"dataframe\">\n",
       "  <thead>\n",
       "    <tr style=\"text-align: right;\">\n",
       "      <th></th>\n",
       "      <th>lasthtlordergap_woe</th>\n",
       "      <th>cityorders_woe</th>\n",
       "      <th>cr_woe</th>\n",
       "      <th>visitnum_oneyear_woe</th>\n",
       "      <th>h_woe</th>\n",
       "      <th>M_woe</th>\n",
       "      <th>delta_woe</th>\n",
       "    </tr>\n",
       "  </thead>\n",
       "  <tbody>\n",
       "    <tr>\n",
       "      <td>0</td>\n",
       "      <td>0.4032</td>\n",
       "      <td>0.3529</td>\n",
       "      <td>0.0775</td>\n",
       "      <td>0.0308</td>\n",
       "      <td>0.0253</td>\n",
       "      <td>0.4226</td>\n",
       "      <td>0.7847</td>\n",
       "    </tr>\n",
       "    <tr>\n",
       "      <td>1</td>\n",
       "      <td>-0.2434</td>\n",
       "      <td>-0.2588</td>\n",
       "      <td>0.0775</td>\n",
       "      <td>-0.0993</td>\n",
       "      <td>-0.1676</td>\n",
       "      <td>-0.4812</td>\n",
       "      <td>-0.0217</td>\n",
       "    </tr>\n",
       "    <tr>\n",
       "      <td>2</td>\n",
       "      <td>-0.2434</td>\n",
       "      <td>-0.1961</td>\n",
       "      <td>-0.4288</td>\n",
       "      <td>-0.0993</td>\n",
       "      <td>-0.2538</td>\n",
       "      <td>-0.4812</td>\n",
       "      <td>-0.2587</td>\n",
       "    </tr>\n",
       "    <tr>\n",
       "      <td>3</td>\n",
       "      <td>0.1917</td>\n",
       "      <td>0.3529</td>\n",
       "      <td>0.4398</td>\n",
       "      <td>0.0308</td>\n",
       "      <td>-0.1676</td>\n",
       "      <td>0.0783</td>\n",
       "      <td>0.7847</td>\n",
       "    </tr>\n",
       "    <tr>\n",
       "      <td>4</td>\n",
       "      <td>0.1917</td>\n",
       "      <td>0.3529</td>\n",
       "      <td>0.4398</td>\n",
       "      <td>-0.0993</td>\n",
       "      <td>-0.1676</td>\n",
       "      <td>-0.0400</td>\n",
       "      <td>-0.2587</td>\n",
       "    </tr>\n",
       "  </tbody>\n",
       "</table>\n",
       "</div>"
      ],
      "text/plain": [
       "   lasthtlordergap_woe  cityorders_woe  cr_woe  visitnum_oneyear_woe   h_woe  \\\n",
       "0               0.4032          0.3529  0.0775                0.0308  0.0253   \n",
       "1              -0.2434         -0.2588  0.0775               -0.0993 -0.1676   \n",
       "2              -0.2434         -0.1961 -0.4288               -0.0993 -0.2538   \n",
       "3               0.1917          0.3529  0.4398                0.0308 -0.1676   \n",
       "4               0.1917          0.3529  0.4398               -0.0993 -0.1676   \n",
       "\n",
       "    M_woe  delta_woe  \n",
       "0  0.4226     0.7847  \n",
       "1 -0.4812    -0.0217  \n",
       "2 -0.4812    -0.2587  \n",
       "3  0.0783     0.7847  \n",
       "4 -0.0400    -0.2587  "
      ]
     },
     "execution_count": 224,
     "metadata": {},
     "output_type": "execute_result"
    }
   ],
   "source": [
    "X_train_d = data_woe_d.iloc[:,-len(bin_list_d):]\n",
    "X_train_d.head()"
   ]
  },
  {
   "cell_type": "code",
   "execution_count": 227,
   "metadata": {},
   "outputs": [],
   "source": [
    "LR_d = LogisticRegression().fit(X_train_d,Y_train)"
   ]
  },
  {
   "cell_type": "code",
   "execution_count": 228,
   "metadata": {},
   "outputs": [
    {
     "data": {
      "text/plain": [
       "0.7323190979998455"
      ]
     },
     "execution_count": 228,
     "metadata": {},
     "output_type": "execute_result"
    }
   ],
   "source": [
    "LR_d.score(X_train_d,Y_train)"
   ]
  },
  {
   "cell_type": "code",
   "execution_count": 234,
   "metadata": {},
   "outputs": [],
   "source": [
    "date_test['delta'] = date_test['delta'].dt.days"
   ]
  },
  {
   "cell_type": "code",
   "execution_count": 235,
   "metadata": {},
   "outputs": [],
   "source": [
    "test_data_d = pd.concat([test_data_m,date_test['delta']],axis=1)"
   ]
  },
  {
   "cell_type": "code",
   "execution_count": 236,
   "metadata": {},
   "outputs": [
    {
     "data": {
      "text/html": [
       "<div>\n",
       "<style scoped>\n",
       "    .dataframe tbody tr th:only-of-type {\n",
       "        vertical-align: middle;\n",
       "    }\n",
       "\n",
       "    .dataframe tbody tr th {\n",
       "        vertical-align: top;\n",
       "    }\n",
       "\n",
       "    .dataframe thead th {\n",
       "        text-align: right;\n",
       "    }\n",
       "</style>\n",
       "<table border=\"1\" class=\"dataframe\">\n",
       "  <thead>\n",
       "    <tr style=\"text-align: right;\">\n",
       "      <th></th>\n",
       "      <th>lasthtlordergap</th>\n",
       "      <th>cityorders</th>\n",
       "      <th>cr</th>\n",
       "      <th>visitnum_oneyear</th>\n",
       "      <th>h</th>\n",
       "      <th>label</th>\n",
       "      <th>M</th>\n",
       "      <th>delta</th>\n",
       "    </tr>\n",
       "  </thead>\n",
       "  <tbody>\n",
       "    <tr>\n",
       "      <td>0</td>\n",
       "      <td>1116.0</td>\n",
       "      <td>12.653</td>\n",
       "      <td>1.020000</td>\n",
       "      <td>6408.0</td>\n",
       "      <td>5</td>\n",
       "      <td>1</td>\n",
       "      <td>1080.0</td>\n",
       "      <td>0</td>\n",
       "    </tr>\n",
       "    <tr>\n",
       "      <td>1</td>\n",
       "      <td>-1.0</td>\n",
       "      <td>0.280</td>\n",
       "      <td>1.138505</td>\n",
       "      <td>1292.0</td>\n",
       "      <td>11</td>\n",
       "      <td>1</td>\n",
       "      <td>-349.0</td>\n",
       "      <td>2</td>\n",
       "    </tr>\n",
       "    <tr>\n",
       "      <td>2</td>\n",
       "      <td>198614.0</td>\n",
       "      <td>3.133</td>\n",
       "      <td>1.000000</td>\n",
       "      <td>345.0</td>\n",
       "      <td>23</td>\n",
       "      <td>1</td>\n",
       "      <td>160.0</td>\n",
       "      <td>1</td>\n",
       "    </tr>\n",
       "    <tr>\n",
       "      <td>3</td>\n",
       "      <td>16440.0</td>\n",
       "      <td>4.913</td>\n",
       "      <td>1.250000</td>\n",
       "      <td>325.0</td>\n",
       "      <td>15</td>\n",
       "      <td>0</td>\n",
       "      <td>854.0</td>\n",
       "      <td>0</td>\n",
       "    </tr>\n",
       "    <tr>\n",
       "      <td>4</td>\n",
       "      <td>5079.0</td>\n",
       "      <td>0.020</td>\n",
       "      <td>1.190000</td>\n",
       "      <td>9218.0</td>\n",
       "      <td>16</td>\n",
       "      <td>1</td>\n",
       "      <td>19824.0</td>\n",
       "      <td>3</td>\n",
       "    </tr>\n",
       "  </tbody>\n",
       "</table>\n",
       "</div>"
      ],
      "text/plain": [
       "   lasthtlordergap  cityorders        cr  visitnum_oneyear   h  label  \\\n",
       "0           1116.0      12.653  1.020000            6408.0   5      1   \n",
       "1             -1.0       0.280  1.138505            1292.0  11      1   \n",
       "2         198614.0       3.133  1.000000             345.0  23      1   \n",
       "3          16440.0       4.913  1.250000             325.0  15      0   \n",
       "4           5079.0       0.020  1.190000            9218.0  16      1   \n",
       "\n",
       "         M  delta  \n",
       "0   1080.0      0  \n",
       "1   -349.0      2  \n",
       "2    160.0      1  \n",
       "3    854.0      0  \n",
       "4  19824.0      3  "
      ]
     },
     "execution_count": 236,
     "metadata": {},
     "output_type": "execute_result"
    }
   ],
   "source": [
    "test_data_d.head()"
   ]
  },
  {
   "cell_type": "code",
   "execution_count": 237,
   "metadata": {},
   "outputs": [
    {
     "data": {
      "text/html": [
       "<div>\n",
       "<style scoped>\n",
       "    .dataframe tbody tr th:only-of-type {\n",
       "        vertical-align: middle;\n",
       "    }\n",
       "\n",
       "    .dataframe tbody tr th {\n",
       "        vertical-align: top;\n",
       "    }\n",
       "\n",
       "    .dataframe thead th {\n",
       "        text-align: right;\n",
       "    }\n",
       "</style>\n",
       "<table border=\"1\" class=\"dataframe\">\n",
       "  <thead>\n",
       "    <tr style=\"text-align: right;\">\n",
       "      <th></th>\n",
       "      <th>lasthtlordergap</th>\n",
       "      <th>cityorders</th>\n",
       "      <th>cr</th>\n",
       "      <th>visitnum_oneyear</th>\n",
       "      <th>h</th>\n",
       "      <th>label</th>\n",
       "      <th>M</th>\n",
       "      <th>delta</th>\n",
       "      <th>lasthtlordergap_woe</th>\n",
       "      <th>cityorders_woe</th>\n",
       "      <th>cr_woe</th>\n",
       "      <th>visitnum_oneyear_woe</th>\n",
       "      <th>h_woe</th>\n",
       "      <th>M_woe</th>\n",
       "      <th>delta_woe</th>\n",
       "    </tr>\n",
       "  </thead>\n",
       "  <tbody>\n",
       "    <tr>\n",
       "      <td>0</td>\n",
       "      <td>1116.0</td>\n",
       "      <td>12.653</td>\n",
       "      <td>1.020000</td>\n",
       "      <td>6408.0</td>\n",
       "      <td>5</td>\n",
       "      <td>1</td>\n",
       "      <td>1080.0</td>\n",
       "      <td>0</td>\n",
       "      <td>-0.9328</td>\n",
       "      <td>-0.4244</td>\n",
       "      <td>0.4398</td>\n",
       "      <td>-0.0993</td>\n",
       "      <td>0.0253</td>\n",
       "      <td>-0.0400</td>\n",
       "      <td>-0.2587</td>\n",
       "    </tr>\n",
       "    <tr>\n",
       "      <td>1</td>\n",
       "      <td>-1.0</td>\n",
       "      <td>0.280</td>\n",
       "      <td>1.138505</td>\n",
       "      <td>1292.0</td>\n",
       "      <td>11</td>\n",
       "      <td>1</td>\n",
       "      <td>-349.0</td>\n",
       "      <td>2</td>\n",
       "      <td>0.4032</td>\n",
       "      <td>0.1809</td>\n",
       "      <td>0.0775</td>\n",
       "      <td>0.0308</td>\n",
       "      <td>-0.2538</td>\n",
       "      <td>0.4226</td>\n",
       "      <td>-0.0217</td>\n",
       "    </tr>\n",
       "    <tr>\n",
       "      <td>2</td>\n",
       "      <td>198614.0</td>\n",
       "      <td>3.133</td>\n",
       "      <td>1.000000</td>\n",
       "      <td>345.0</td>\n",
       "      <td>23</td>\n",
       "      <td>1</td>\n",
       "      <td>160.0</td>\n",
       "      <td>1</td>\n",
       "      <td>0.1917</td>\n",
       "      <td>-0.2588</td>\n",
       "      <td>0.4398</td>\n",
       "      <td>0.0308</td>\n",
       "      <td>1.1919</td>\n",
       "      <td>0.0783</td>\n",
       "      <td>-0.2587</td>\n",
       "    </tr>\n",
       "    <tr>\n",
       "      <td>3</td>\n",
       "      <td>16440.0</td>\n",
       "      <td>4.913</td>\n",
       "      <td>1.250000</td>\n",
       "      <td>325.0</td>\n",
       "      <td>15</td>\n",
       "      <td>0</td>\n",
       "      <td>854.0</td>\n",
       "      <td>0</td>\n",
       "      <td>-0.4715</td>\n",
       "      <td>-0.4244</td>\n",
       "      <td>-0.4288</td>\n",
       "      <td>0.0308</td>\n",
       "      <td>-0.1676</td>\n",
       "      <td>-0.0400</td>\n",
       "      <td>-0.2587</td>\n",
       "    </tr>\n",
       "    <tr>\n",
       "      <td>4</td>\n",
       "      <td>5079.0</td>\n",
       "      <td>0.020</td>\n",
       "      <td>1.190000</td>\n",
       "      <td>9218.0</td>\n",
       "      <td>16</td>\n",
       "      <td>1</td>\n",
       "      <td>19824.0</td>\n",
       "      <td>3</td>\n",
       "      <td>-0.6568</td>\n",
       "      <td>0.3529</td>\n",
       "      <td>-0.4288</td>\n",
       "      <td>0.0607</td>\n",
       "      <td>-0.1676</td>\n",
       "      <td>-0.7690</td>\n",
       "      <td>0.2872</td>\n",
       "    </tr>\n",
       "  </tbody>\n",
       "</table>\n",
       "</div>"
      ],
      "text/plain": [
       "   lasthtlordergap  cityorders        cr  visitnum_oneyear   h  label  \\\n",
       "0           1116.0      12.653  1.020000            6408.0   5      1   \n",
       "1             -1.0       0.280  1.138505            1292.0  11      1   \n",
       "2         198614.0       3.133  1.000000             345.0  23      1   \n",
       "3          16440.0       4.913  1.250000             325.0  15      0   \n",
       "4           5079.0       0.020  1.190000            9218.0  16      1   \n",
       "\n",
       "         M  delta  lasthtlordergap_woe  cityorders_woe  cr_woe  \\\n",
       "0   1080.0      0              -0.9328         -0.4244  0.4398   \n",
       "1   -349.0      2               0.4032          0.1809  0.0775   \n",
       "2    160.0      1               0.1917         -0.2588  0.4398   \n",
       "3    854.0      0              -0.4715         -0.4244 -0.4288   \n",
       "4  19824.0      3              -0.6568          0.3529 -0.4288   \n",
       "\n",
       "   visitnum_oneyear_woe   h_woe   M_woe  delta_woe  \n",
       "0               -0.0993  0.0253 -0.0400    -0.2587  \n",
       "1                0.0308 -0.2538  0.4226    -0.0217  \n",
       "2                0.0308  1.1919  0.0783    -0.2587  \n",
       "3                0.0308 -0.1676 -0.0400    -0.2587  \n",
       "4                0.0607 -0.1676 -0.7690     0.2872  "
      ]
     },
     "execution_count": 237,
     "metadata": {},
     "output_type": "execute_result"
    }
   ],
   "source": [
    "test_woe_d = smgennew(test_data_d,bin_list_d)\n",
    "test_woe_d.head()"
   ]
  },
  {
   "cell_type": "code",
   "execution_count": 238,
   "metadata": {},
   "outputs": [
    {
     "data": {
      "text/html": [
       "<div>\n",
       "<style scoped>\n",
       "    .dataframe tbody tr th:only-of-type {\n",
       "        vertical-align: middle;\n",
       "    }\n",
       "\n",
       "    .dataframe tbody tr th {\n",
       "        vertical-align: top;\n",
       "    }\n",
       "\n",
       "    .dataframe thead th {\n",
       "        text-align: right;\n",
       "    }\n",
       "</style>\n",
       "<table border=\"1\" class=\"dataframe\">\n",
       "  <thead>\n",
       "    <tr style=\"text-align: right;\">\n",
       "      <th></th>\n",
       "      <th>lasthtlordergap_woe</th>\n",
       "      <th>cityorders_woe</th>\n",
       "      <th>cr_woe</th>\n",
       "      <th>visitnum_oneyear_woe</th>\n",
       "      <th>h_woe</th>\n",
       "      <th>M_woe</th>\n",
       "      <th>delta_woe</th>\n",
       "    </tr>\n",
       "  </thead>\n",
       "  <tbody>\n",
       "    <tr>\n",
       "      <td>0</td>\n",
       "      <td>-0.9328</td>\n",
       "      <td>-0.4244</td>\n",
       "      <td>0.4398</td>\n",
       "      <td>-0.0993</td>\n",
       "      <td>0.0253</td>\n",
       "      <td>-0.0400</td>\n",
       "      <td>-0.2587</td>\n",
       "    </tr>\n",
       "    <tr>\n",
       "      <td>1</td>\n",
       "      <td>0.4032</td>\n",
       "      <td>0.1809</td>\n",
       "      <td>0.0775</td>\n",
       "      <td>0.0308</td>\n",
       "      <td>-0.2538</td>\n",
       "      <td>0.4226</td>\n",
       "      <td>-0.0217</td>\n",
       "    </tr>\n",
       "    <tr>\n",
       "      <td>2</td>\n",
       "      <td>0.1917</td>\n",
       "      <td>-0.2588</td>\n",
       "      <td>0.4398</td>\n",
       "      <td>0.0308</td>\n",
       "      <td>1.1919</td>\n",
       "      <td>0.0783</td>\n",
       "      <td>-0.2587</td>\n",
       "    </tr>\n",
       "    <tr>\n",
       "      <td>3</td>\n",
       "      <td>-0.4715</td>\n",
       "      <td>-0.4244</td>\n",
       "      <td>-0.4288</td>\n",
       "      <td>0.0308</td>\n",
       "      <td>-0.1676</td>\n",
       "      <td>-0.0400</td>\n",
       "      <td>-0.2587</td>\n",
       "    </tr>\n",
       "    <tr>\n",
       "      <td>4</td>\n",
       "      <td>-0.6568</td>\n",
       "      <td>0.3529</td>\n",
       "      <td>-0.4288</td>\n",
       "      <td>0.0607</td>\n",
       "      <td>-0.1676</td>\n",
       "      <td>-0.7690</td>\n",
       "      <td>0.2872</td>\n",
       "    </tr>\n",
       "  </tbody>\n",
       "</table>\n",
       "</div>"
      ],
      "text/plain": [
       "   lasthtlordergap_woe  cityorders_woe  cr_woe  visitnum_oneyear_woe   h_woe  \\\n",
       "0              -0.9328         -0.4244  0.4398               -0.0993  0.0253   \n",
       "1               0.4032          0.1809  0.0775                0.0308 -0.2538   \n",
       "2               0.1917         -0.2588  0.4398                0.0308  1.1919   \n",
       "3              -0.4715         -0.4244 -0.4288                0.0308 -0.1676   \n",
       "4              -0.6568          0.3529 -0.4288                0.0607 -0.1676   \n",
       "\n",
       "    M_woe  delta_woe  \n",
       "0 -0.0400    -0.2587  \n",
       "1  0.4226    -0.0217  \n",
       "2  0.0783    -0.2587  \n",
       "3 -0.0400    -0.2587  \n",
       "4 -0.7690     0.2872  "
      ]
     },
     "execution_count": 238,
     "metadata": {},
     "output_type": "execute_result"
    }
   ],
   "source": [
    "X_test_d = test_woe_d.iloc[:,-len(bin_list_d):]\n",
    "X_test_d.head()"
   ]
  },
  {
   "cell_type": "code",
   "execution_count": 239,
   "metadata": {},
   "outputs": [
    {
     "data": {
      "text/plain": [
       "0.7310165521147064"
      ]
     },
     "execution_count": 239,
     "metadata": {},
     "output_type": "execute_result"
    }
   ],
   "source": [
    "LR_d.score(X_test_d,Y_test)"
   ]
  },
  {
   "cell_type": "code",
   "execution_count": 240,
   "metadata": {},
   "outputs": [
    {
     "data": {
      "image/png": "[encoded data removed]",
      "text/plain": [
       "<Figure size 504x396 with 1 Axes>"
      ]
     },
     "metadata": {
      "needs_background": "light"
     },
     "output_type": "display_data"
    }
   ],
   "source": [
    "# ROC\n",
    "y_score_d = LR_d.predict_proba(X_test_d)  # 随机森林\n",
    "fpr, tpr, thresholds = roc_curve(Y_test, y_score_d[:, 1])\n",
    "roc_auc = auc(fpr, tpr)\n",
    "def drawRoc(roc_auc,fpr,tpr):\n",
    "    plt.subplots(figsize=(7, 5.5))\n",
    "    plt.plot(fpr, tpr, color='darkorange', lw=2, label='ROC curve (area = %0.2f)' % roc_auc)\n",
    "    plt.plot([0, 1], [0, 1], color='navy', lw=2, linestyle='--')\n",
    "    plt.xlim([0.0, 1.0])\n",
    "    plt.ylim([0.0, 1.05])\n",
    "    plt.xlabel('False Positive Rate')\n",
    "    plt.ylabel('True Positive Rate')\n",
    "    plt.title('ROC Curve')\n",
    "    plt.legend(loc=\"lower right\")\n",
    "    plt.show()\n",
    "drawRoc(roc_auc, fpr, tpr)"
   ]
  },
  {
   "cell_type": "code",
   "execution_count": 241,
   "metadata": {},
   "outputs": [
    {
     "data": {
      "text/html": [
       "<div>\n",
       "<style scoped>\n",
       "    .dataframe tbody tr th:only-of-type {\n",
       "        vertical-align: middle;\n",
       "    }\n",
       "\n",
       "    .dataframe tbody tr th {\n",
       "        vertical-align: top;\n",
       "    }\n",
       "\n",
       "    .dataframe thead th {\n",
       "        text-align: right;\n",
       "    }\n",
       "</style>\n",
       "<table border=\"1\" class=\"dataframe\">\n",
       "  <thead>\n",
       "    <tr style=\"text-align: right;\">\n",
       "      <th></th>\n",
       "      <th>intercept_</th>\n",
       "    </tr>\n",
       "  </thead>\n",
       "  <tbody>\n",
       "    <tr>\n",
       "      <td>coef_</td>\n",
       "      <td>0.932811</td>\n",
       "    </tr>\n",
       "  </tbody>\n",
       "</table>\n",
       "</div>"
      ],
      "text/plain": [
       "       intercept_\n",
       "coef_    0.932811"
      ]
     },
     "execution_count": 241,
     "metadata": {},
     "output_type": "execute_result"
    }
   ],
   "source": [
    "bbbb = pd.DataFrame({'intercept_':LR_d.intercept_[0]},index=['coef_'])\n",
    "bbbb"
   ]
  },
  {
   "cell_type": "code",
   "execution_count": 242,
   "metadata": {},
   "outputs": [
    {
     "data": {
      "text/html": [
       "<div>\n",
       "<style scoped>\n",
       "    .dataframe tbody tr th:only-of-type {\n",
       "        vertical-align: middle;\n",
       "    }\n",
       "\n",
       "    .dataframe tbody tr th {\n",
       "        vertical-align: top;\n",
       "    }\n",
       "\n",
       "    .dataframe thead th {\n",
       "        text-align: right;\n",
       "    }\n",
       "</style>\n",
       "<table border=\"1\" class=\"dataframe\">\n",
       "  <thead>\n",
       "    <tr style=\"text-align: right;\">\n",
       "      <th></th>\n",
       "      <th>lasthtlordergap_woe</th>\n",
       "      <th>cityorders_woe</th>\n",
       "      <th>cr_woe</th>\n",
       "      <th>visitnum_oneyear_woe</th>\n",
       "      <th>h_woe</th>\n",
       "      <th>M_woe</th>\n",
       "      <th>delta_woe</th>\n",
       "      <th>intercept_</th>\n",
       "    </tr>\n",
       "  </thead>\n",
       "  <tbody>\n",
       "    <tr>\n",
       "      <td>coef_</td>\n",
       "      <td>0.112801</td>\n",
       "      <td>0.424964</td>\n",
       "      <td>0.670637</td>\n",
       "      <td>0.691168</td>\n",
       "      <td>0.925666</td>\n",
       "      <td>0.499233</td>\n",
       "      <td>0.687895</td>\n",
       "      <td>0.932811</td>\n",
       "    </tr>\n",
       "  </tbody>\n",
       "</table>\n",
       "</div>"
      ],
      "text/plain": [
       "       lasthtlordergap_woe  cityorders_woe    cr_woe  visitnum_oneyear_woe  \\\n",
       "coef_             0.112801        0.424964  0.670637              0.691168   \n",
       "\n",
       "          h_woe     M_woe  delta_woe  intercept_  \n",
       "coef_  0.925666  0.499233   0.687895    0.932811  "
      ]
     },
     "execution_count": 242,
     "metadata": {},
     "output_type": "execute_result"
    }
   ],
   "source": [
    "pd.concat([pd.DataFrame(dict(zip(X_train_d.columns,LR_d.coef_[0])),index=['coef_']),bbbb],axis=1)"
   ]
  },
  {
   "cell_type": "code",
   "execution_count": null,
   "metadata": {},
   "outputs": [],
   "source": []
  },
  {
   "cell_type": "code",
   "execution_count": 244,
   "metadata": {},
   "outputs": [],
   "source": [
    "aaaa = pd.DataFrame({'LR.score(X_train,Y_train)':LR_d.score(X_train_d,Y_train),'LR.score(X_test,Y_test)':LR_d.score(X_test_d,Y_test)},index=['score'])"
   ]
  },
  {
   "cell_type": "code",
   "execution_count": 245,
   "metadata": {},
   "outputs": [
    {
     "data": {
      "text/html": [
       "<div>\n",
       "<style scoped>\n",
       "    .dataframe tbody tr th:only-of-type {\n",
       "        vertical-align: middle;\n",
       "    }\n",
       "\n",
       "    .dataframe tbody tr th {\n",
       "        vertical-align: top;\n",
       "    }\n",
       "\n",
       "    .dataframe thead th {\n",
       "        text-align: right;\n",
       "    }\n",
       "</style>\n",
       "<table border=\"1\" class=\"dataframe\">\n",
       "  <thead>\n",
       "    <tr style=\"text-align: right;\">\n",
       "      <th></th>\n",
       "      <th>LR.score(X_train,Y_train)</th>\n",
       "      <th>LR.score(X_test,Y_test)</th>\n",
       "    </tr>\n",
       "  </thead>\n",
       "  <tbody>\n",
       "    <tr>\n",
       "      <td>score</td>\n",
       "      <td>0.732319</td>\n",
       "      <td>0.731017</td>\n",
       "    </tr>\n",
       "  </tbody>\n",
       "</table>\n",
       "</div>"
      ],
      "text/plain": [
       "       LR.score(X_train,Y_train)  LR.score(X_test,Y_test)\n",
       "score                   0.732319                 0.731017"
      ]
     },
     "execution_count": 245,
     "metadata": {},
     "output_type": "execute_result"
    }
   ],
   "source": [
    "aaaa"
   ]
  },
  {
   "cell_type": "code",
   "execution_count": 246,
   "metadata": {},
   "outputs": [
    {
     "name": "stdout",
     "output_type": "stream",
     "text": [
      "core metrics\n",
      " +--------------------+----------+-----------+--------+-------+\n",
      "|        auc         | accuracy | precision | recall |   f1  |\n",
      "+--------------------+----------+-----------+--------+-------+\n",
      "| 0.6895748770556025 |  0.731   |   0.745   | 0.949  | 0.835 |\n",
      "+--------------------+----------+-----------+--------+-------+\n"
     ]
    }
   ],
   "source": [
    "y_score_d = LR_d.predict_proba(X_test_d)  # 随机森林\n",
    "fpr, tpr, thresholds = roc_curve(Y_test, y_score_d[:, 1])\n",
    "roc_auc = auc(fpr, tpr)\n",
    "y_pred = LR_d.predict(X_test_d)\n",
    "scores = [round(i(Y_test, y_pred),3 )for  i in (accuracy_score,precision_score,\\\n",
    "                                     recall_score,f1_score)]\n",
    "scores.insert(0,roc_auc)\n",
    "core_metrics = prettytable.PrettyTable()  # 创建表格实例\n",
    "core_metrics.field_names = ['auc', 'accuracy', 'precision', 'recall', 'f1']  # 定义表格列名\n",
    "core_metrics.add_row(scores)  # 增加数据\n",
    "print('core metrics\\n',core_metrics)"
   ]
  },
  {
   "cell_type": "code",
   "execution_count": null,
   "metadata": {},
   "outputs": [],
   "source": []
  }
 ],
 "metadata": {
  "kernelspec": {
   "display_name": "Python 3",
   "language": "python",
   "name": "python3"
  },
  "language_info": {
   "codemirror_mode": {
    "name": "ipython",
    "version": 3
   },
   "file_extension": ".py",
   "mimetype": "text/x-python",
   "name": "python",
   "nbconvert_exporter": "python",
   "pygments_lexer": "ipython3",
   "version": "3.7.4"
  },
  "toc": {
   "base_numbering": 1,
   "nav_menu": {},
   "number_sections": true,
   "sideBar": true,
   "skip_h1_title": false,
   "title_cell": "Table of Contents",
   "title_sidebar": "Contents",
   "toc_cell": false,
   "toc_position": {
    "height": "calc(100% - 180px)",
    "left": "10px",
    "top": "150px",
    "width": "288px"
   },
   "toc_section_display": true,
   "toc_window_display": true
  }
 },
 "nbformat": 4,
 "nbformat_minor": 2
}
