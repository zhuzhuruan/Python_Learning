{
 "cells": [
  {
   "cell_type": "markdown",
   "id": "fc294d86",
   "metadata": {},
   "source": [
    "# sklearn.neighbors.KNeighborsClassifier"
   ]
  },
  {
   "cell_type": "markdown",
   "id": "4c6e47b4",
   "metadata": {},
   "source": [
    "## 1 - 参数解释"
   ]
  },
  {
   "cell_type": "code",
   "execution_count": null,
   "id": "f1207220",
   "metadata": {},
   "outputs": [],
   "source": [
    "KNeighborsClassifier(n_neighbors=5, weights='uniform', \n",
    "                     algorithm='auto', leaf_size=30, \n",
    "                     p=2, metric='minkowski',\n",
    "                     metric_params=None,n_jobs=None, **kwargs)"
   ]
  },
  {
   "cell_type": "markdown",
   "id": "9d2a36a7",
   "metadata": {},
   "source": [
    "| 参数名称 |参数取值|参数解释|\n",
    "| :-----: | :----: | :---- |\n",
    "| n_neighbors| int，默认值为5| 表示k-nn算法中选取离测试数据最近的k个点 | \n",
    "| weight | str or callable，默认值为uniform | 表示k近邻点都分类结果的影响，一般的情况下是选取k近邻点中类别数目最多的作为分类结果，这种情况下默认k个点的权重相等，但在很多情况下，k近邻点权重并不相等，可能近的点权重大，对分类结果影响大。默认值为uniform，还可以是distance和自定义函数。<br><br>uniform：表示所有点的权重相等<br>distance：表示权重是距离的倒数，意味着k个点中距离近的点对分类结果的影响大于距离远的点<br>[callable]：用户自定义函数，接受一个距离数组，返回一个同维度的权重数|\n",
    "| algorithm | {'ball_tree','kd_tree','brute','auto'}，<br>计算找出k近邻点的算法 |ball_tree：使用BallTree维数大于20时建议使用 <br> kd_tree：使用KDTree，原理是数据结构的二叉树，以中值为划分，每个节点是一个超矩形，在维数小于20是效率高 <br> brute：暴力算法，线性扫描 <br> auto：自动选取最合适的算法 <br> 注意：当输入数据稀疏，会忽略并统一用brute  |\n",
    "| leaf_size | int，默认值为30 | 用于构造BallTree和KDTree。leaf_size参数设置会影响树构造的树构造和询问的速度，同样也会影响树存储需要的内存，这个值的设定取决于问题本身 |\n",
    "| p | int，默认值为2 | p=1：使用曼哈顿距离进行度量<br> p=2：使用欧式距离进行度量 <br>p=$\\infty$：使用切比雪夫距离进行度量|\n",
    "| metric| string或callable类型，默认为minkowski | 树的距离度量|\n",
    "| metric_params | dict, 默认为None | 度量函数的其他关键参数，一般不用设置 |\n",
    "| n_jobs | int or None, 默认None | 用于搜索k近邻点并行任务数量，-1表示任务数量设置为CPU的核心数，即CPU的所有core都并行工作，不会影响fit(拟合)函数 |\n",
    "|effective_metric_\t| string或callable类型 | 距离度量机制，与metric对应 |\n",
    "| effective_metric_params_\t|dict类型 | 度量函数的关键参数|\n",
    "| outputs_2d_\t| bool型 | y的格式为 (n_samples, ) 或 (n_samples, 1) 为true，回归模型没有|\n"
   ]
  },
  {
   "cell_type": "markdown",
   "id": "edc80597",
   "metadata": {},
   "source": [
    "## 2 - 属性解释"
   ]
  },
  {
   "cell_type": "markdown",
   "id": "85000188",
   "metadata": {},
   "source": [
    "| 属性名称 | 属性解释 |\n",
    "| :-----: | :----: | \n",
    "| fit(self, X, y)\t| 模型拟合，根据X训练集和标注y |\n",
    "| get_params(self[, deep]) | 获得模型参数 |\n",
    "| kneighbors(self[, X, n_neighbors, …]) | 获取某节点的k个近邻 |\n",
    "| kneighbors_graph(self[, X, n_neighbors, mode]) | 计算X实例的k近邻权重图 |\n",
    "| predict(self, X) | 预测X的类别 |\n",
    "| predict_proba(self, X) | 返回X的概率估计，回归模型没有 |\n",
    "| score(self, X, y[, sample_weight]) | 返回指定测试集的平均准确度 |\n",
    "| set_params(self, \\*\\*params) | 设置模型参数 |"
   ]
  },
  {
   "cell_type": "markdown",
   "id": "d627a1f7",
   "metadata": {},
   "source": [
    "## 3 - 实战应用"
   ]
  },
  {
   "cell_type": "code",
   "execution_count": 10,
   "id": "d378ff52",
   "metadata": {},
   "outputs": [],
   "source": [
    "import numpy as np\n",
    "import pandas as pd\n",
    "import matplotlib.pyplot as plt\n",
    "from sklearn.datasets import load_iris\n",
    "from sklearn.neighbors import KNeighborsClassifier\n",
    "from sklearn.model_selection import train_test_split"
   ]
  },
  {
   "cell_type": "markdown",
   "id": "846bc261",
   "metadata": {},
   "source": [
    "### 实战应用1"
   ]
  },
  {
   "cell_type": "code",
   "execution_count": 11,
   "id": "1e9896a4",
   "metadata": {},
   "outputs": [],
   "source": [
    "iris = load_iris()\n",
    "# 查看数据集的属性\n",
    "iris.keys()\n",
    "df = pd.DataFrame(iris.data, columns = iris.feature_names)\n",
    "df['label'] = iris.target\n",
    "df = df.iloc[0:100, [0, 1, -1]]\n",
    "df.columns = ['sepal length', 'sepal width', 'label']"
   ]
  },
  {
   "cell_type": "code",
   "execution_count": 13,
   "id": "b0175dfa",
   "metadata": {},
   "outputs": [],
   "source": [
    "data = np.array(df)\n",
    "X, y = data[:, :-1], data[:, -1]\n",
    "X_train, X_test, y_train, y_test = train_test_split(X, y, test_size=0.2)"
   ]
  },
  {
   "cell_type": "code",
   "execution_count": 14,
   "id": "f66d1428",
   "metadata": {},
   "outputs": [
    {
     "name": "stdout",
     "output_type": "stream",
     "text": [
      "There are 80 train samples\n",
      "There are 20 test samples\n"
     ]
    }
   ],
   "source": [
    "print(\"There are {} train samples\".format(y_train.shape[0]))\n",
    "print(\"There are {} test samples\".format(y_test.shape[0]))"
   ]
  },
  {
   "cell_type": "code",
   "execution_count": 15,
   "id": "72570983",
   "metadata": {},
   "outputs": [
    {
     "data": {
      "text/html": [
       "<style>#sk-container-id-1 {color: black;background-color: white;}#sk-container-id-1 pre{padding: 0;}#sk-container-id-1 div.sk-toggleable {background-color: white;}#sk-container-id-1 label.sk-toggleable__label {cursor: pointer;display: block;width: 100%;margin-bottom: 0;padding: 0.3em;box-sizing: border-box;text-align: center;}#sk-container-id-1 label.sk-toggleable__label-arrow:before {content: \"▸\";float: left;margin-right: 0.25em;color: #696969;}#sk-container-id-1 label.sk-toggleable__label-arrow:hover:before {color: black;}#sk-container-id-1 div.sk-estimator:hover label.sk-toggleable__label-arrow:before {color: black;}#sk-container-id-1 div.sk-toggleable__content {max-height: 0;max-width: 0;overflow: hidden;text-align: left;background-color: #f0f8ff;}#sk-container-id-1 div.sk-toggleable__content pre {margin: 0.2em;color: black;border-radius: 0.25em;background-color: #f0f8ff;}#sk-container-id-1 input.sk-toggleable__control:checked~div.sk-toggleable__content {max-height: 200px;max-width: 100%;overflow: auto;}#sk-container-id-1 input.sk-toggleable__control:checked~label.sk-toggleable__label-arrow:before {content: \"▾\";}#sk-container-id-1 div.sk-estimator input.sk-toggleable__control:checked~label.sk-toggleable__label {background-color: #d4ebff;}#sk-container-id-1 div.sk-label input.sk-toggleable__control:checked~label.sk-toggleable__label {background-color: #d4ebff;}#sk-container-id-1 input.sk-hidden--visually {border: 0;clip: rect(1px 1px 1px 1px);clip: rect(1px, 1px, 1px, 1px);height: 1px;margin: -1px;overflow: hidden;padding: 0;position: absolute;width: 1px;}#sk-container-id-1 div.sk-estimator {font-family: monospace;background-color: #f0f8ff;border: 1px dotted black;border-radius: 0.25em;box-sizing: border-box;margin-bottom: 0.5em;}#sk-container-id-1 div.sk-estimator:hover {background-color: #d4ebff;}#sk-container-id-1 div.sk-parallel-item::after {content: \"\";width: 100%;border-bottom: 1px solid gray;flex-grow: 1;}#sk-container-id-1 div.sk-label:hover label.sk-toggleable__label {background-color: #d4ebff;}#sk-container-id-1 div.sk-serial::before {content: \"\";position: absolute;border-left: 1px solid gray;box-sizing: border-box;top: 0;bottom: 0;left: 50%;z-index: 0;}#sk-container-id-1 div.sk-serial {display: flex;flex-direction: column;align-items: center;background-color: white;padding-right: 0.2em;padding-left: 0.2em;position: relative;}#sk-container-id-1 div.sk-item {position: relative;z-index: 1;}#sk-container-id-1 div.sk-parallel {display: flex;align-items: stretch;justify-content: center;background-color: white;position: relative;}#sk-container-id-1 div.sk-item::before, #sk-container-id-1 div.sk-parallel-item::before {content: \"\";position: absolute;border-left: 1px solid gray;box-sizing: border-box;top: 0;bottom: 0;left: 50%;z-index: -1;}#sk-container-id-1 div.sk-parallel-item {display: flex;flex-direction: column;z-index: 1;position: relative;background-color: white;}#sk-container-id-1 div.sk-parallel-item:first-child::after {align-self: flex-end;width: 50%;}#sk-container-id-1 div.sk-parallel-item:last-child::after {align-self: flex-start;width: 50%;}#sk-container-id-1 div.sk-parallel-item:only-child::after {width: 0;}#sk-container-id-1 div.sk-dashed-wrapped {border: 1px dashed gray;margin: 0 0.4em 0.5em 0.4em;box-sizing: border-box;padding-bottom: 0.4em;background-color: white;}#sk-container-id-1 div.sk-label label {font-family: monospace;font-weight: bold;display: inline-block;line-height: 1.2em;}#sk-container-id-1 div.sk-label-container {text-align: center;}#sk-container-id-1 div.sk-container {/* jupyter's `normalize.less` sets `[hidden] { display: none; }` but bootstrap.min.css set `[hidden] { display: none !important; }` so we also need the `!important` here to be able to override the default hidden behavior on the sphinx rendered scikit-learn.org. See: https://github.com/scikit-learn/scikit-learn/issues/21755 */display: inline-block !important;position: relative;}#sk-container-id-1 div.sk-text-repr-fallback {display: none;}</style><div id=\"sk-container-id-1\" class=\"sk-top-container\"><div class=\"sk-text-repr-fallback\"><pre>KNeighborsClassifier()</pre><b>In a Jupyter environment, please rerun this cell to show the HTML representation or trust the notebook. <br />On GitHub, the HTML representation is unable to render, please try loading this page with nbviewer.org.</b></div><div class=\"sk-container\" hidden><div class=\"sk-item\"><div class=\"sk-estimator sk-toggleable\"><input class=\"sk-toggleable__control sk-hidden--visually\" id=\"sk-estimator-id-1\" type=\"checkbox\" checked><label for=\"sk-estimator-id-1\" class=\"sk-toggleable__label sk-toggleable__label-arrow\">KNeighborsClassifier</label><div class=\"sk-toggleable__content\"><pre>KNeighborsClassifier()</pre></div></div></div></div></div>"
      ],
      "text/plain": [
       "KNeighborsClassifier()"
      ]
     },
     "execution_count": 15,
     "metadata": {},
     "output_type": "execute_result"
    }
   ],
   "source": [
    "clf_sk = KNeighborsClassifier()\n",
    "clf_sk.fit(X_train, y_train)"
   ]
  },
  {
   "cell_type": "code",
   "execution_count": 20,
   "id": "b20bd2ef",
   "metadata": {},
   "outputs": [
    {
     "data": {
      "text/plain": [
       "1.0"
      ]
     },
     "execution_count": 20,
     "metadata": {},
     "output_type": "execute_result"
    }
   ],
   "source": [
    "clf_sk.score(X_test, y_test)"
   ]
  },
  {
   "cell_type": "code",
   "execution_count": 21,
   "id": "586b6006",
   "metadata": {},
   "outputs": [
    {
     "data": {
      "text/plain": [
       "array([0., 0., 1., 0., 0., 1., 1., 0., 1., 1., 1., 1., 0., 1., 0., 1., 0.,\n",
       "       0., 1., 1.])"
      ]
     },
     "execution_count": 21,
     "metadata": {},
     "output_type": "execute_result"
    }
   ],
   "source": [
    "clf_sk.predict(X_test)"
   ]
  },
  {
   "cell_type": "markdown",
   "id": "f43f46d9",
   "metadata": {},
   "source": [
    "### 实战应用2"
   ]
  },
  {
   "cell_type": "code",
   "execution_count": 23,
   "id": "7ea47d61",
   "metadata": {},
   "outputs": [],
   "source": [
    "import numpy as np\n",
    "import pandas as pd\n",
    "import matplotlib.pyplot as plt\n",
    "from sklearn.datasets import load_iris\n",
    "from sklearn.neighbors import KNeighborsClassifier\n",
    "from matplotlib.colors import ListedColormap"
   ]
  },
  {
   "cell_type": "code",
   "execution_count": 52,
   "id": "69befe26",
   "metadata": {},
   "outputs": [],
   "source": [
    "iris = load_iris()\n",
    "X = iris.data[:, :2]\n",
    "y = iris.target\n",
    "\n",
    "# 创建颜色表\n",
    "cmap_light = ListedColormap(['orange', 'cyan', 'cornflowerblue'])\n",
    "cmap_bold = ListedColormap(['darkorange', 'c', 'darkblue'])\n",
    "n_neighbors=15\n",
    "for weights in ['uniform', 'distance']:\n",
    "    clf = KNeighborsClassifier(n_neighbors, weights=weights)\n",
    "    clf.fit(x,y)"
   ]
  },
  {
   "cell_type": "code",
   "execution_count": 53,
   "id": "ff0eadcb",
   "metadata": {},
   "outputs": [],
   "source": [
    "h = 0.2\n",
    "x_min, x_max = X[:,0].min()-1, X[:,0].max()+1\n",
    "y_min, y_max = X[:,1].min()-1, X[:,1].max()+1\n",
    "xx, yy = np.meshgrid(np.arange(x_min, x_max, h), np.arange(y_min, y_max, h))\n",
    "Z = clf.predict(np.c_[xx.ravel(), yy.ravel()])\n",
    "\n",
    "Z = Z.reshape(xx.shape)"
   ]
  },
  {
   "cell_type": "code",
   "execution_count": 55,
   "id": "9a7b3a9b",
   "metadata": {},
   "outputs": [
    {
     "data": {
      "image/png": "[encoded data removed]",
      "text/plain": [
       "<Figure size 640x480 with 1 Axes>"
      ]
     },
     "metadata": {},
     "output_type": "display_data"
    }
   ],
   "source": [
    "plt.figure()\n",
    "plt.pcolormesh(xx, yy, Z, cmap=cmap_light)\n",
    "\n",
    "plt.scatter(X[:,0], X[:,1], c=y, cmap=cmap_bold, edgecolor='k', s=20)\n",
    "plt.xlim(xx.min(), xx.max())\n",
    "plt.ylim(yy.min(), yy.max())\n",
    "plt.title(\"3-Class classification (k=%i, weights=%s)\" % (n_neighbors, weights))\n",
    "plt.show()"
   ]
  },
  {
   "cell_type": "markdown",
   "id": "79f277b6",
   "metadata": {},
   "source": []
  }
 ],
 "metadata": {
  "kernelspec": {
   "display_name": "Python 3 (ipykernel)",
   "language": "python",
   "name": "python3"
  },
  "language_info": {
   "codemirror_mode": {
    "name": "ipython",
    "version": 3
   },
   "file_extension": ".py",
   "mimetype": "text/x-python",
   "name": "python",
   "nbconvert_exporter": "python",
   "pygments_lexer": "ipython3",
   "version": "3.9.13"
  }
 },
 "nbformat": 4,
 "nbformat_minor": 5
}
