{
 "cells": [
  {
   "cell_type": "markdown",
   "metadata": {
    "collapsed": true
   },
   "source": [
    "# 第28章生成对抗网络"
   ]
  },
  {
   "cell_type": "markdown",
   "metadata": {
    "collapsed": true
   },
   "source": [
    "## 习题28.1\n",
    "&emsp;&emsp;GAN的生成网络的学习也可以定义为以下的最小化问题：\n",
    "\n",
    "$$\n",
    "\\min \\limits_\\theta \\{E_{z \\sim P_{\\text{seed}(z)}} [ \\log (1 - D(G(z;\\theta);\\bar{\\varphi}) - \\log (D(G(z; \\theta); \\bar{\\varphi} ) ) ] \\}\n",
    "$$\n",
    "比较与式(28.2)的不同，并考虑其作用。"
   ]
  },
  {
   "cell_type": "markdown",
   "metadata": {},
   "source": [
    "**解答：**  "
   ]
  },
  {
   "cell_type": "markdown",
   "metadata": {},
   "source": [
    "**解答思路：**"
   ]
  },
  {
   "cell_type": "markdown",
   "metadata": {},
   "source": [
    "**解答步骤：**  "
   ]
  },
  {
   "cell_type": "markdown",
   "metadata": {},
   "source": [
    "## 习题28.2\n",
    "&emsp;&emsp;两个人进行零和博弈，参与人$X$和$Y$可选择的策略分别是$\\mathcal{X} = \\{ 1, 2\\}$和$\\mathcal{Y} = \\{1, 2\\}$。在博弈中，若参与人$X$和$Y$分别选择$i \\in \\mathcal{X}$和$j \\in \\mathcal{Y}$，则$X$的损失或$Y$的收益是$a_{ij}$。整体由矩阵$A=(a_{ij})$表示，矩阵$A$定义为\n",
    "\n",
    "$$\n",
    "A = \\left[ \n",
    "\\begin{array}{c} \n",
    "-1 & 2 \\\\\n",
    "4 & 1\n",
    "\\end{array}\n",
    "\\right]\n",
    "$$\n",
    "针对这个博弈求$\\min \\limits_i \\max \\limits_j a_{ij}$和$\\max \\limits_i \\min \\limits_j a_{ij}$，并验证这时$\\max \\limits_i \\min \\limits_j a_{ij} \\leqslant \\min \\limits_i \\max \\limits_j a_{ij}$成立。"
   ]
  },
  {
   "cell_type": "markdown",
   "metadata": {},
   "source": [
    "**解答：**\n",
    "\n",
    "**解答思路：**  "
   ]
  },
  {
   "cell_type": "markdown",
   "metadata": {},
   "source": [
    "**解答步骤：**   "
   ]
  },
  {
   "cell_type": "markdown",
   "metadata": {},
   "source": [
    "## 习题28.3\n",
    "&emsp;&emsp;计算以下两个概率分布的Jessen-Shannon散度。设$0 \\log 0 = 0$。\n",
    "\n",
    "| 0.1 | 0.7 | 0.1 | 0.1 | 0 |\n",
    "| :---:| :---: | :---: | :---: | :---: |\n",
    "| 0.2 | 0 | 0 | 0.8 | 0 | "
   ]
  },
  {
   "cell_type": "markdown",
   "metadata": {},
   "source": [
    "**解答：**\n",
    "\n",
    "**解答思路：**  "
   ]
  },
  {
   "cell_type": "markdown",
   "metadata": {},
   "source": [
    "**解答步骤：**   "
   ]
  },
  {
   "cell_type": "markdown",
   "metadata": {},
   "source": [
    "## 习题28.4\n",
    "&emsp;&emsp;证明两个概率分布$P$和$Q$之间的Jessen-Shannon散度满足以下关系，当且仅当$P$和$Q$相同时取最小值0，设对数是自然对数。\n",
    "\n",
    "$$\n",
    "0 \\leqslant \\text{JS}(P \\| Q) \\leqslant \\ln 2\n",
    "$$"
   ]
  },
  {
   "cell_type": "markdown",
   "metadata": {},
   "source": [
    "**解答：**\n",
    "\n",
    "**解答思路：**  "
   ]
  },
  {
   "cell_type": "markdown",
   "metadata": {},
   "source": [
    "**解答步骤：**   "
   ]
  },
  {
   "cell_type": "markdown",
   "metadata": {},
   "source": [
    "## 习题28.5\n",
    "&emsp;&emsp;考虑一维卷积运算，其输入是5维的向量$x$，输出是3维的向量$z$。卷积核是$w = (w_1, w_2, w_3)$，步幅为1，填充为0。写出该卷积运算的矩阵表示，给出对应的转置卷积，并且验证原始卷积核$w$和转置卷积核$w'$之间有$w = \\text{rot180}(w')$成立。"
   ]
  },
  {
   "cell_type": "markdown",
   "metadata": {},
   "source": [
    "**解答：**\n",
    "\n",
    "**解答思路：**  "
   ]
  },
  {
   "cell_type": "markdown",
   "metadata": {},
   "source": [
    "**解答步骤：**   "
   ]
  },
  {
   "cell_type": "markdown",
   "metadata": {},
   "source": [
    "## 习题28.6\n",
    "&emsp;&emsp;写出图28.8中转置卷积的大小和原始卷积的大小之间的关系，转置卷积有输入矩阵尺寸$\\hat{I}'$、卷积核尺寸$K'$、步幅$S'$、填充尺寸$P'$、输出矩阵尺寸$O'$。"
   ]
  },
  {
   "cell_type": "markdown",
   "metadata": {},
   "source": [
    "**解答：**\n",
    "\n",
    "**解答思路：**  "
   ]
  },
  {
   "cell_type": "markdown",
   "metadata": {},
   "source": [
    "**解答步骤：**   "
   ]
  }
 ],
 "metadata": {
  "interpreter": {
   "hash": "c50c7698ff25eb1d7dce4c52e3d5cc14b3b23d6a97d4fb70aad8c815eba6f63e"
  },
  "kernelspec": {
   "display_name": "Python 3",
   "language": "python",
   "name": "python3"
  },
  "language_info": {
   "codemirror_mode": {
    "name": "ipython",
    "version": 3
   },
   "file_extension": ".py",
   "mimetype": "text/x-python",
   "name": "python",
   "nbconvert_exporter": "python",
   "pygments_lexer": "ipython3",
   "version": "3.7.11"
  },
  "toc": {
   "base_numbering": 1,
   "nav_menu": {},
   "number_sections": false,
   "sideBar": true,
   "skip_h1_title": false,
   "title_cell": "Table of Contents",
   "title_sidebar": "Contents",
   "toc_cell": false,
   "toc_position": {
    "height": "calc(100% - 180px)",
    "left": "10px",
    "top": "150px",
    "width": "273.188px"
   },
   "toc_section_display": true,
   "toc_window_display": false
  }
 },
 "nbformat": 4,
 "nbformat_minor": 1
}
