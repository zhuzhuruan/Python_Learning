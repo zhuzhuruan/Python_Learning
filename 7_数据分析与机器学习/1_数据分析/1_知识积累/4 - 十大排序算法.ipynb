{
 "cells": [
  {
   "cell_type": "markdown",
   "id": "47e6fd35",
   "metadata": {},
   "source": [
    "# 一、冒泡排序"
   ]
  },
  {
   "cell_type": "markdown",
   "id": "0a55dbcf",
   "metadata": {},
   "source": [
    "冒泡排序（Bubble Sort）也是一种简单直观的排序算法。它重复地走访过要排序的数列，一次比较两个元素，如果他们的顺序错误就把他们交换过来。走访数列的工作是重复地进行直到没有再需要交换，也就是说该数列已经排序完成。这个算法的名字由来是因为越小的元素会经由交换慢慢“浮”到数列的顶端。\n",
    "\n",
    "作为最简单的排序算法之一，冒泡排序给我的感觉就像 Abandon 在单词书里出现的感觉一样，每次都在第一页第一位，所以最熟悉。冒泡排序还有一种优化算法，就是立一个 flag，当在一趟序列遍历中元素没有发生交换，则证明该序列已经有序。但这种改进对于提升性能来说并没有什么太大作用。"
   ]
  },
  {
   "cell_type": "markdown",
   "id": "8adb9d7b",
   "metadata": {},
   "source": [
    "算法步骤：\n",
    "\n",
    "    （1） 比较相邻的元素。如果第一个比第二个大，就交换他们两个。\n",
    "    （2） 对每一对相邻元素作同样的工作，从开始第一对到结尾的最后一对。这步做完后，最后的元素会是最大的数。\n",
    "    （3） 针对所有的元素重复以上的步骤，除了最后一个。\n",
    "    （4） 持续每次对越来越少的元素重复上面的步骤，直到没有任何一对数字需要比较。"
   ]
  },
  {
   "cell_type": "code",
   "execution_count": 6,
   "id": "60730508",
   "metadata": {},
   "outputs": [
    {
     "name": "stdout",
     "output_type": "stream",
     "text": [
      "[0, 1, 1, 2, 3, 4, 5, 6, 9]\n"
     ]
    }
   ],
   "source": [
    "def bubbleSort(arr):\n",
    "    for i in range(1, len(arr)):           # 1、2、3、4、5、6、7、8\n",
    "        for j in range(0, len(arr)-i):         \n",
    "            if arr[j] > arr[j+1]:\n",
    "                arr[j], arr[j+1] = arr[j+1], arr[j]     # 1, 2, 5\n",
    "    return arr\n",
    "\n",
    "arr_sort = bubbleSort([1,5,2,6,9,4,1,0,3])\n",
    "print(arr_sort)"
   ]
  },
  {
   "cell_type": "markdown",
   "id": "af1a7bf6",
   "metadata": {},
   "source": [
    "# 二、选择排序"
   ]
  },
  {
   "cell_type": "markdown",
   "id": "b0685689",
   "metadata": {},
   "source": [
    "选择排序是一种简单直观的排序算法，无论什么数据进去都是 O(n²) 的时间复杂度。所以用到它的时候，数据规模越小越好。唯一的好处可能就是不占用额外的内存空间了吧。\n",
    "\n",
    "算法步骤：\n",
    "\n",
    "    （1）首先在未排序序列中找到最小（大）元素，存放到排序序列的起始位置\n",
    "    （2）再从剩余未排序元素中继续寻找最小（大）元素，然后放到已排序序列的末尾。\n",
    "    （3）重复第二步，直到所有元素均排序完毕。"
   ]
  },
  {
   "cell_type": "code",
   "execution_count": 5,
   "id": "724704db",
   "metadata": {},
   "outputs": [
    {
     "name": "stdout",
     "output_type": "stream",
     "text": [
      "[0, 1, 1, 2, 3, 4, 5, 6, 9]\n"
     ]
    }
   ],
   "source": [
    "def selectionSort(arr):\n",
    "    for i in range(len(arr)-1):          \n",
    "        # 记录最小数的索引\n",
    "        minIndex = i                    \n",
    "        for j in range(i+1, len(arr)):   \n",
    "            if arr[j] < arr[minIndex]:\n",
    "                minIndex = j\n",
    "        # i 不是最小数时，将 i 和最小数进行交换\n",
    "        if i != minIndex:\n",
    "            arr[i], arr[minIndex] = arr[minIndex], arr[i]\n",
    "    return arr\n",
    "\n",
    "arr_sort = selectionSort([1,5,2,6,9,4,1,0,3])\n",
    "print(arr_sort)"
   ]
  },
  {
   "cell_type": "markdown",
   "id": "98232525",
   "metadata": {},
   "source": [
    "# 三、插入排序"
   ]
  },
  {
   "cell_type": "markdown",
   "id": "4316807d",
   "metadata": {},
   "source": [
    "插入排序的代码实现虽然没有冒泡排序和选择排序那么简单粗暴，但它的原理应该是最容易理解的了，因为只要打过扑克牌的人都应该能够秒懂。插入排序是一种最简单直观的排序算法，它的工作原理是通过构建有序序列，对于未排序数据，在已排序序列中从后向前扫描，找到相应位置并插入。\n",
    "\n",
    "插入排序和冒泡排序一样，也有一种优化算法，叫做拆半插入。"
   ]
  },
  {
   "cell_type": "markdown",
   "id": "7d9e4fec",
   "metadata": {},
   "source": [
    "算法步骤：\n",
    "\n",
    "    （1）将第一待排序序列第一个元素看做一个有序序列，把第二个元素到最后一个元素当成是未排序序列。\n",
    "    （2）从头到尾依次扫描未排序序列，将扫描到的每个元素插入有序序列的适当位置。（如果待插入的元素与有序序列中的某个元素相等，则将待插入元素插入到相等元素的后面。）"
   ]
  },
  {
   "cell_type": "code",
   "execution_count": 7,
   "id": "4e5a9c5a",
   "metadata": {},
   "outputs": [
    {
     "name": "stdout",
     "output_type": "stream",
     "text": [
      "[0, 1, 1, 2, 3, 4, 5, 6, 9]\n"
     ]
    }
   ],
   "source": [
    "def insertionSort(arr):\n",
    "    for i in range(len(arr)):\n",
    "        preIndex = i-1\n",
    "        current = arr[i]\n",
    "        while preIndex >= 0 and arr[preIndex] > current:\n",
    "            arr[preIndex+1] = arr[preIndex]\n",
    "            preIndex-=1\n",
    "        arr[preIndex+1] = current\n",
    "    return arr\n",
    "\n",
    "arr_sort = insertionSort([1,5,2,6,9,4,1,0,3])\n",
    "print(arr_sort)"
   ]
  },
  {
   "cell_type": "markdown",
   "id": "062fae7a",
   "metadata": {},
   "source": [
    "# 四、希尔排序"
   ]
  },
  {
   "cell_type": "markdown",
   "id": "080ad465",
   "metadata": {},
   "source": [
    "希尔排序，也称递减增量排序算法，是插入排序的一种更高效的改进版本。但希尔排序是非稳定排序算法。\n",
    "\n",
    "希尔排序是基于插入排序的以下两点性质而提出改进方法的：\n",
    "\n",
    "插入排序在对几乎已经排好序的数据操作时，效率高，即可以达到线性排序的效率；\n",
    "但插入排序一般来说是低效的，因为插入排序每次只能将数据移动一位；\n",
    "希尔排序的基本思想是：先将整个待排序的记录序列分割成为若干子序列分别进行直接插入排序，待整个序列中的记录“基本有序”时，再对全体记录进行依次直接插入排序。"
   ]
  },
  {
   "cell_type": "markdown",
   "id": "a79cd620",
   "metadata": {},
   "source": [
    "算法步骤：\n",
    "\n",
    "    （1）选择一个增量序列 t1，t2，……，tk，其中 ti > tj, tk = 1；\n",
    "    （2）按增量序列个数 k，对序列进行 k 趟排序；\n",
    "    （3）每趟排序，根据对应的增量 ti，将待排序列分割成若干长度为 m 的子序列，分别对各子表进行直接插入排序。仅增量因子为 1 时，整个序列作为一个表来处理，表长度即为整个序列的长度。"
   ]
  },
  {
   "cell_type": "code",
   "execution_count": 8,
   "id": "ed9afea4",
   "metadata": {},
   "outputs": [
    {
     "name": "stdout",
     "output_type": "stream",
     "text": [
      "[0, 1, 1, 2, 3, 4, 5, 6, 9]\n"
     ]
    }
   ],
   "source": [
    "def shellSort(arr):\n",
    "    import math\n",
    "    gap=1\n",
    "    while(gap < len(arr)/3):\n",
    "        gap = gap*3+1\n",
    "    while gap > 0:\n",
    "        for i in range(gap,len(arr)):\n",
    "            temp = arr[i]\n",
    "            j = i-gap\n",
    "            while j >=0 and arr[j] > temp:\n",
    "                arr[j+gap]=arr[j]\n",
    "                j-=gap\n",
    "            arr[j+gap] = temp\n",
    "        gap = math.floor(gap/3)\n",
    "    return arr\n",
    "\n",
    "arr_sort = shellSort([1,5,2,6,9,4,1,0,3])\n",
    "print(arr_sort)"
   ]
  },
  {
   "cell_type": "markdown",
   "id": "e42564c1",
   "metadata": {},
   "source": [
    "# 五、归并排序"
   ]
  },
  {
   "cell_type": "markdown",
   "id": "acbc6c46",
   "metadata": {},
   "source": [
    "归并排序（Merge sort）是建立在归并操作上的一种有效的排序算法。该算法是采用分治法（Divide and Conquer）的一个非常典型的应用。\n",
    "\n",
    "作为一种典型的分而治之思想的算法应用，归并排序的实现由两种方法：\n",
    "\n",
    "    - 自上而下的递归（所有递归的方法都可以用迭代重写，所以就有了第 2 种方法）；\n",
    "    - 自下而上的迭代；\n",
    "    \n",
    "和选择排序一样，归并排序的性能不受输入数据的影响，但表现比选择排序好的多，因为始终都是 $O(nlogn)$ 的时间复杂度。代价是需要额外的内存空间。"
   ]
  },
  {
   "cell_type": "markdown",
   "id": "a00a4ff9",
   "metadata": {},
   "source": [
    "算法步骤：\n",
    "\n",
    "    （1）申请空间，使其大小为两个已经排序序列之和，该空间用来存放合并后的序列；\n",
    "    （2）设定两个指针，最初位置分别为两个已经排序序列的起始位置；\n",
    "    （3）比较两个指针所指向的元素，选择相对小的元素放入到合并空间，并移动指针到下一位置；\n",
    "    （4）重复步骤 3 直到某一指针达到序列尾；\n",
    "    （5）将另一序列剩下的所有元素直接复制到合并序列尾。"
   ]
  },
  {
   "cell_type": "code",
   "execution_count": null,
   "id": "f896e596",
   "metadata": {},
   "outputs": [],
   "source": [
    "def mergeSort(arr):\n",
    "    import math\n",
    "    if(len(arr)<2):\n",
    "        return arr\n",
    "    middle = math.floor(len(arr)/2)\n",
    "    left, right = arr[0:middle], arr[middle:]\n",
    "    return merge(mergeSort(left), mergeSort(right))\n",
    "\n",
    "def merge(left,right):\n",
    "    result = []\n",
    "    while left and right:\n",
    "        if left[0] <= right[0]:\n",
    "            result.append(left.pop(0));\n",
    "        else:\n",
    "            result.append(right.pop(0));\n",
    "    while left:\n",
    "        result.append(left.pop(0));\n",
    "    while right:\n",
    "        result.append(right.pop(0));\n",
    "    return result"
   ]
  },
  {
   "cell_type": "markdown",
   "id": "af0b4b41",
   "metadata": {},
   "source": [
    "# 六、快速排序"
   ]
  },
  {
   "cell_type": "markdown",
   "id": "3fab15a9",
   "metadata": {},
   "source": [
    "快速排序是由东尼·霍尔所发展的一种排序算法。在平均状况下，排序 n 个项目要 Ο(nlogn) 次比较。在最坏状况下则需要 Ο(n2) 次比较，但这种状况并不常见。事实上，快速排序通常明显比其他 Ο(nlogn) 算法更快，因为它的内部循环（inner loop）可以在大部分的架构上很有效率地被实现出来。\n",
    "\n",
    "快速排序使用分治法（Divide and conquer）策略来把一个串行（list）分为两个子串行（sub-lists）。\n",
    "\n",
    "快速排序又是一种分而治之思想在排序算法上的典型应用。本质上来看，快速排序应该算是在冒泡排序基础上的递归分治法。\n",
    "\n",
    "快速排序的名字起的是简单粗暴，因为一听到这个名字你就知道它存在的意义，就是快，而且效率高！它是处理大数据最快的排序算法之一了。虽然 Worst Case 的时间复杂度达到了 O(n²)，但是人家就是优秀，在大多数情况下都比平均时间复杂度为 O(n logn) 的排序算法表现要更好，可是这是为什么呢，我也不知道。好在我的强迫症又犯了，查了 N 多资料终于在《算法艺术与信息学竞赛》上找到了满意的答案：\n",
    "\n",
    "    快速排序的最坏运行情况是 O(n²)，比如说顺序数列的快排。但它的平摊期望时间是 O(nlogn)，且 O(nlogn) 记号中隐含的常数因子很小，比复杂度稳定等于 O(nlogn) 的归并排序要小很多。所以，对绝大多数顺序性较弱的随机数列而言，快速排序总是优于归并排序。"
   ]
  },
  {
   "cell_type": "markdown",
   "id": "ad9d3bb0",
   "metadata": {},
   "source": [
    "算法步骤：\n",
    "\n",
    "    （1）从数列中挑出一个元素，称为 “基准”（pivot）;\n",
    "    （2）重新排序数列，所有元素比基准值小的摆放在基准前面，所有元素比基准值大的摆在基准的后面（相同的数可以到任一边）。在这个分区退出之后，该基准就处于数列的中间位置。这个称为分区（partition）操作；\n",
    "    （3）递归地（recursive）把小于基准值元素的子数列和大于基准值元素的子数列排序；\n",
    "    （4）递归的最底部情形，是数列的大小是零或一，也就是永远都已经被排序好了。虽然一直递归下去，但是这个算法总会退出，因为在每次的迭代（iteration）中，它至少会把一个元素摆到它最后的位置去。"
   ]
  },
  {
   "cell_type": "code",
   "execution_count": null,
   "id": "5b180706",
   "metadata": {},
   "outputs": [],
   "source": [
    "def quickSort(arr, left=None, right=None):\n",
    "    left = 0 if not isinstance(left,(int, float)) else left\n",
    "    right = len(arr)-1 if not isinstance(right,(int, float)) else right\n",
    "    if left < right:\n",
    "        partitionIndex = partition(arr, left, right)\n",
    "        quickSort(arr, left, partitionIndex-1)\n",
    "        quickSort(arr, partitionIndex+1, right)\n",
    "    return arr\n",
    "\n",
    "def partition(arr, left, right):\n",
    "    pivot = left\n",
    "    index = pivot+1\n",
    "    i = index\n",
    "    while  i <= right:\n",
    "        if arr[i] < arr[pivot]:\n",
    "            swap(arr, i, index)\n",
    "            index+=1\n",
    "        i+=1\n",
    "    swap(arr,pivot,index-1)\n",
    "    return index-1\n",
    "\n",
    "def swap(arr, i, j):\n",
    "    arr[i], arr[j] = arr[j], arr[i]"
   ]
  },
  {
   "cell_type": "markdown",
   "id": "e4fb4582",
   "metadata": {},
   "source": [
    "# 七、堆排序"
   ]
  },
  {
   "cell_type": "markdown",
   "id": "96d0aed1",
   "metadata": {},
   "source": [
    "堆排序（Heapsort）是指利用堆这种数据结构所设计的一种排序算法。堆积是一个近似完全二叉树的结构，并同时满足堆积的性质：即子结点的键值或索引总是小于（或者大于）它的父节点。堆排序可以说是一种利用堆的概念来排序的选择排序。分为两种方法：\n",
    "\n",
    "    - 大顶堆：每个节点的值都大于或等于其子节点的值，在堆排序算法中用于升序排列；\n",
    "    - 小顶堆：每个节点的值都小于或等于其子节点的值，在堆排序算法中用于降序排列；\n",
    "    \n",
    "堆排序的平均时间复杂度为 Ο(nlogn)。"
   ]
  },
  {
   "cell_type": "markdown",
   "id": "747f6dcb",
   "metadata": {},
   "source": [
    "算法步骤：\n",
    "    \n",
    "    （1）创建一个堆 H[0……n-1]；\n",
    "    （2）把堆首（最大值）和堆尾互换；\n",
    "    （3）把堆的尺寸缩小 1，并调用 shift_down(0)，目的是把新的数组顶端数据调整到相应位置；\n",
    "    （4）重复步骤 2，直到堆的尺寸为 1。"
   ]
  },
  {
   "cell_type": "code",
   "execution_count": null,
   "id": "67e732f2",
   "metadata": {},
   "outputs": [],
   "source": [
    "def buildMaxHeap(arr):\n",
    "    import math\n",
    "    for i in range(math.floor(len(arr)/2),-1,-1):\n",
    "        heapify(arr,i)\n",
    "\n",
    "def heapify(arr, i):\n",
    "    left = 2*i+1\n",
    "    right = 2*i+2\n",
    "    largest = i\n",
    "    if left < arrLen and arr[left] > arr[largest]:\n",
    "        largest = left\n",
    "    if right < arrLen and arr[right] > arr[largest]:\n",
    "        largest = right\n",
    "\n",
    "    if largest != i:\n",
    "        swap(arr, i, largest)\n",
    "        heapify(arr, largest)\n",
    "\n",
    "def swap(arr, i, j):\n",
    "    arr[i], arr[j] = arr[j], arr[i]\n",
    "\n",
    "def heapSort(arr):\n",
    "    global arrLen\n",
    "    arrLen = len(arr)\n",
    "    buildMaxHeap(arr)\n",
    "    for i in range(len(arr)-1,0,-1):\n",
    "        swap(arr,0,i)\n",
    "        arrLen -=1\n",
    "        heapify(arr, 0)\n",
    "    return arr"
   ]
  },
  {
   "cell_type": "markdown",
   "id": "afcf8918",
   "metadata": {},
   "source": [
    "# 八、计数排序"
   ]
  },
  {
   "cell_type": "markdown",
   "id": "6aebc190",
   "metadata": {},
   "source": [
    "计数排序的核心在于将输入的数据值转化为键存储在额外开辟的数组空间中。作为一种线性时间复杂度的排序，计数排序要求输入的数据必须是有确定范围的整数。"
   ]
  },
  {
   "cell_type": "code",
   "execution_count": null,
   "id": "5959e157",
   "metadata": {},
   "outputs": [],
   "source": [
    "def countingSort(arr, maxValue):\n",
    "    bucketLen = maxValue+1\n",
    "    bucket = [0]*bucketLen\n",
    "    sortedIndex =0\n",
    "    arrLen = len(arr)\n",
    "    for i in range(arrLen):\n",
    "        if not bucket[arr[i]]:\n",
    "            bucket[arr[i]]=0\n",
    "        bucket[arr[i]]+=1\n",
    "    for j in range(bucketLen):\n",
    "        while bucket[j]>0:\n",
    "            arr[sortedIndex] = j\n",
    "            sortedIndex+=1\n",
    "            bucket[j]-=1\n",
    "    return arr"
   ]
  },
  {
   "cell_type": "markdown",
   "id": "5c36e683",
   "metadata": {},
   "source": [
    "# 九、桶排序"
   ]
  },
  {
   "cell_type": "markdown",
   "id": "64a5bec1",
   "metadata": {},
   "source": [
    "桶排序是计数排序的升级版。它利用了函数的映射关系，高效与否的关键就在于这个映射函数的确定。为了使桶排序更加高效，我们需要做到这两点：\n",
    "\n",
    "    - 在额外空间充足的情况下，尽量增大桶的数量\n",
    "    - 使用的映射函数能够将输入的 N 个数据均匀的分配到 K 个桶中\n",
    "    \n",
    "同时，对于桶中元素的排序，选择何种比较排序算法对于性能的影响至关重要。\n",
    "\n",
    "**什么时候最快？**\n",
    "    \n",
    "    当输入的数据可以均匀的分配到每一个桶中。\n",
    "\n",
    "**什么时候最慢？**\n",
    "\n",
    "    当输入的数据被分配到了同一个桶中。"
   ]
  },
  {
   "cell_type": "code",
   "execution_count": null,
   "id": "067bd88c",
   "metadata": {},
   "outputs": [],
   "source": [
    "def bucket_sort(s):\n",
    "    \"\"\"桶排序\"\"\"\n",
    "    min_num = min(s)\n",
    "    max_num = max(s)\n",
    "    # 桶的大小\n",
    "    bucket_range = (max_num-min_num) / len(s)\n",
    "    # 桶数组\n",
    "    count_list = [ [] for i in range(len(s) + 1)]\n",
    "    # 向桶数组填数\n",
    "    for i in s:\n",
    "        count_list[int((i-min_num)//bucket_range)].append(i)\n",
    "    s.clear()\n",
    "    # 回填，这里桶内部排序直接调用了sorted\n",
    "    for i in count_list:\n",
    "        for j in sorted(i):\n",
    "            s.append(j)\n",
    "\n",
    "if __name__ == __main__ :\n",
    "    a = [3.2,6,8,4,2,6,7,3]\n",
    "    bucket_sort(a)\n",
    "    print(a) # [2, 3, 3.2, 4, 6, 6, 7, 8]"
   ]
  },
  {
   "cell_type": "markdown",
   "id": "8a962546",
   "metadata": {},
   "source": [
    "# 十、基数排序"
   ]
  },
  {
   "cell_type": "markdown",
   "id": "0bacb9a7",
   "metadata": {},
   "source": [
    "基数排序是一种非比较型整数排序算法，其原理是将整数按位数切割成不同的数字，然后按每个位数分别比较。由于整数也可以表达字符串（比如名字或日期）和特定格式的浮点数，所以基数排序也不是只能使用于整数。"
   ]
  },
  {
   "cell_type": "markdown",
   "id": "395ae97a",
   "metadata": {},
   "source": [
    "**基数排序 vs 计数排序 vs 桶排序**\n",
    "\n",
    "基数排序有两种方法：\n",
    "\n",
    "这三种排序算法都利用了桶的概念，但对桶的使用方法上有明显差异：\n",
    "\n",
    "    - 基数排序：根据键值的每位数字来分配桶；\n",
    "    - 计数排序：每个桶只存储单一键值；\n",
    "    - 桶排序：每个桶存储一定范围的数值；"
   ]
  },
  {
   "cell_type": "code",
   "execution_count": null,
   "id": "5b4f23a5",
   "metadata": {},
   "outputs": [],
   "source": [
    "def RadixSort(list):\n",
    "    i = 0                                    #初始为个位排序\n",
    "    n = 1                                     #最小的位数置为1（包含0）\n",
    "    max_num = max(list) #得到带排序数组中最大数\n",
    "    while max_num > 10**n: #得到最大数是几位数\n",
    "        n += 1\n",
    "    while i < n:\n",
    "        bucket = {} #用字典构建桶\n",
    "        for x in range(10):\n",
    "            bucket.setdefault(x, []) #将每个桶置空\n",
    "        for x in list: #对每一位进行排序\n",
    "            radix =int((x / (10**i)) % 10) #得到每位的基数\n",
    "            bucket[radix].append(x) #将对应的数组元素加入到相 #应位基数的桶中\n",
    "        j = 0\n",
    "        for k in range(10):\n",
    "            if len(bucket[k]) != 0: #若桶不为空\n",
    "                for y in bucket[k]: #将该桶中每个元素\n",
    "                    list[j] = y #放回到数组中\n",
    "                    j += 1\n",
    "        i += 1\n",
    "return  list"
   ]
  }
 ],
 "metadata": {
  "kernelspec": {
   "display_name": "Python 3 (ipykernel)",
   "language": "python",
   "name": "python3"
  },
  "language_info": {
   "codemirror_mode": {
    "name": "ipython",
    "version": 3
   },
   "file_extension": ".py",
   "mimetype": "text/x-python",
   "name": "python",
   "nbconvert_exporter": "python",
   "pygments_lexer": "ipython3",
   "version": "3.9.12"
  }
 },
 "nbformat": 4,
 "nbformat_minor": 5
}
