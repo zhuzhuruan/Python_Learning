{
 "cells": [
  {
   "cell_type": "code",
   "execution_count": 113,
   "id": "79109ac5",
   "metadata": {},
   "outputs": [],
   "source": [
    "import pandas as pd"
   ]
  },
  {
   "cell_type": "code",
   "execution_count": 122,
   "id": "c7c3f243",
   "metadata": {},
   "outputs": [
    {
     "name": "stdout",
     "output_type": "stream",
     "text": [
      "[['上海市', 55157739], ['江西省', 75708860], ['北京市', 59195031], ['福建省', 79191783], ['重庆市', 56656385], ['新疆维吾尔自治区', 66299674], ['山西省', 68449470], ['四川省', 146592648], ['海南省', 20813887], ['江苏省', 187312677], ['云南省', 80357953], ['内蒙古自治区', 48666254], ['宁夏回族自治区', 14978809], ['黑龙江省', 55560368], ['河北省', 143155065], ['香港特别行政区', 5626870], ['山东省', 198309050], ['广东省', 279702813], ['浙江省', 142695240], ['贵州省', 73736968], ['湖北省', 101512369], ['吉林省', 47692625], ['未知省', 48741870], ['广西壮族自治区', 83974978], ['西藏自治区', 5715321], ['陕西省', 78742040], ['安徽省', 106357768], ['湖南省', 108522072], ['青海省', 13219347], ['澳门特别行政区', 961623], ['河南省', 184627073], ['甘肃省', 47039914], ['台湾省', 8747319], ['辽宁省', 81015366], ['天津市', 30873883]]\n"
     ]
    }
   ],
   "source": [
    "def read_data(path):\n",
    "    data = pd.read_excel(path)\n",
    "    return data\n",
    "\n",
    "# 读取数据\n",
    "path = r\"./file/province_data.xlsx\"\n",
    "data = read_data(path)\n",
    "province_data_list = data.values.tolist()\n",
    "\n",
    "# 对省份进行清洗\n",
    "data_list = []\n",
    "for province_data in province_data_list:\n",
    "    province_name = province_data[0]\n",
    "    province_total_num = province_data[1]\n",
    "    if province_name == \"新疆\":\n",
    "        province_name = \"新疆维吾尔自治区\"\n",
    "    elif province_name == \"广西\":\n",
    "        province_name = \"广西壮族自治区\"\n",
    "    elif province_name == \"宁夏\":\n",
    "        province_name = \"宁夏回族自治区\"\n",
    "    elif province_name in (\"内蒙古\", \"西藏\"):\n",
    "        province_name = province_name + \"自治区\"\n",
    "    elif province_name in (\"香港\", \"澳门\"):\n",
    "        province_name = province_name + \"特别行政区\"\n",
    "    elif province_name in (\"北京\", \"天津\", \"上海\", \"重庆\"):\n",
    "        province_name = province_name + \"市\"\n",
    "    else:\n",
    "        province_name = province_name + \"省\"\n",
    "    data_list.append([province_name, province_total_num])\n",
    "\n",
    "print(data_list)"
   ]
  },
  {
   "cell_type": "code",
   "execution_count": 127,
   "id": "e3238d0d",
   "metadata": {},
   "outputs": [
    {
     "name": "stdout",
     "output_type": "stream",
     "text": [
      "961623 279702813\n"
     ]
    }
   ],
   "source": [
    "total_num_max = data[\"total_num\"].max()\n",
    "total_num_min = data[\"total_num\"].min()\n",
    "print(total_num_min, total_num_max)"
   ]
  },
  {
   "cell_type": "code",
   "execution_count": 126,
   "id": "23f02d57",
   "metadata": {},
   "outputs": [
    {
     "data": {
      "text/plain": [
       "'C:\\\\Users\\\\caoyuanyuan\\\\CYY_Git\\\\Python_Learning\\\\7_数据分析与机器学习\\\\1_数据分析\\\\1_知识积累\\\\province.html'"
      ]
     },
     "execution_count": 126,
     "metadata": {},
     "output_type": "execute_result"
    }
   ],
   "source": [
    "from pyecharts import options as opts\n",
    "from pyecharts.charts import Map\n",
    " \n",
    "# 外层地图数据\n",
    "provinces_opts = data_list\n",
    "\n",
    "# 创建外层地图\n",
    "provinces_map = (\n",
    "    Map()\n",
    "    .add(\"省份\", provinces_opts, maptype=\"china\", is_map_symbol_show=False)\n",
    "    .set_global_opts(\n",
    "        title_opts=opts.TitleOpts(title=\"外层地图示例\"),\n",
    "        visualmap_opts=opts.VisualMapOpts(max_=total_num_max, min_=total_num_min),\n",
    "    )\n",
    ")\n",
    "\n",
    "# 渲染地图\n",
    "provinces_map.render(\"province.html\")"
   ]
  },
  {
   "cell_type": "code",
   "execution_count": null,
   "id": "6a554392",
   "metadata": {
    "scrolled": false
   },
   "outputs": [],
   "source": [
    "# 创建内层地图\n",
    "city_map = (\n",
    "    Map()\n",
    "    .add(\"城市\", city_opts, \"上海\", is_map_symbol_show=False)\n",
    "    .set_global_opts(\n",
    "        title_opts=opts.TitleOpts(title=\"内层地图示例\"),\n",
    "        visualmap_opts=opts.VisualMapOpts(max_=200),\n",
    "    )\n",
    ")\n",
    " \n",
    "# # 将内层地图嵌入到外层地图中\n",
    "# provinces_map.add(city_map)\n",
    " city_map.render(\"city.html\")"
   ]
  },
  {
   "cell_type": "code",
   "execution_count": null,
   "id": "76661744",
   "metadata": {},
   "outputs": [],
   "source": []
  },
  {
   "cell_type": "code",
   "execution_count": null,
   "id": "60b56e0c",
   "metadata": {},
   "outputs": [],
   "source": []
  },
  {
   "cell_type": "code",
   "execution_count": null,
   "id": "43e386ae",
   "metadata": {},
   "outputs": [],
   "source": []
  }
 ],
 "metadata": {
  "kernelspec": {
   "display_name": "Python 3 (ipykernel)",
   "language": "python",
   "name": "python3"
  },
  "language_info": {
   "codemirror_mode": {
    "name": "ipython",
    "version": 3
   },
   "file_extension": ".py",
   "mimetype": "text/x-python",
   "name": "python",
   "nbconvert_exporter": "python",
   "pygments_lexer": "ipython3",
   "version": "3.9.13"
  }
 },
 "nbformat": 4,
 "nbformat_minor": 5
}
