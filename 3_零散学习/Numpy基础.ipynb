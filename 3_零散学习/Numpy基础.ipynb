{
 "cells": [
  {
   "cell_type": "markdown",
   "id": "5cc787cc",
   "metadata": {},
   "source": [
    " # <center>Numpy基础</center>"
   ]
  },
  {
   "cell_type": "markdown",
   "id": "fa9b4957",
   "metadata": {},
   "source": [
    "# 1 - Ndarray 对象\n",
    "- NumPy 最重要的一个特点是其 N 维数组对象 ndarray，它是一系列同类型数据的集合，以 0 下标为开始进行集合中元素的索引。\n",
    "- ndarray 对象是用于存放同类型元素的多维数组。\n",
    "- ndarray 中的每个元素在内存中都有相同存储大小的区域。\n",
    "- ndarray 内部由以下内容组成：\n",
    "    - 一个指向数据（内存或内存映射文件中的一块数据）的指针。\n",
    "    - 数据类型或 dtype，描述在数组中的固定大小值的格子。\n",
    "    - 一个表示数组形状（shape）的元组，表示各维度大小的元组。\n",
    "    - 一个跨度元组（stride），其中的整数指的是为了前进到当前维度下一个元素需要\"跨过\"的字节数。"
   ]
  },
  {
   "cell_type": "markdown",
   "id": "5c44ee2c",
   "metadata": {},
   "source": [
    "## 1.1 - 创建方法\n",
    "numpy.array(object, dtype = None, copy = True, order = None, subok = False, ndmin = 0)\n",
    "\n",
    "|  参数   | 描述  |\n",
    "|  :----:  |  :----  |\n",
    "| object  | 数组或嵌套的数列 |\n",
    "| dtype  | 数组元素的数据类型，可选  |\n",
    "| cpoy  | 对象是否需要复制，可选 |\n",
    "| order  | 创建数组的样式，C为行方向，F为列方向，A为任意方向（默认） |\n",
    "| subok  | 默认返回一个与基类类型一致的数组 |\n",
    "| ndmin  | 指定生成数组的最小维度 |"
   ]
  },
  {
   "cell_type": "code",
   "execution_count": 3,
   "id": "04b47a1e",
   "metadata": {},
   "outputs": [],
   "source": [
    "import numpy as np"
   ]
  },
  {
   "cell_type": "code",
   "execution_count": 8,
   "id": "691e3fce",
   "metadata": {},
   "outputs": [
    {
     "data": {
      "text/plain": [
       "array([1, 2, 3, 4])"
      ]
     },
     "execution_count": 8,
     "metadata": {},
     "output_type": "execute_result"
    }
   ],
   "source": [
    "# 一维数组\n",
    "a = np.array([1,2,3,4])\n",
    "a"
   ]
  },
  {
   "cell_type": "code",
   "execution_count": 9,
   "id": "6af265da",
   "metadata": {},
   "outputs": [
    {
     "data": {
      "text/plain": [
       "array([[1, 2, 3],\n",
       "       [4, 5, 6]])"
      ]
     },
     "execution_count": 9,
     "metadata": {},
     "output_type": "execute_result"
    }
   ],
   "source": [
    "# 多个维度\n",
    "a = np.array([[1,2,3],[4,5,6]])\n",
    "a"
   ]
  },
  {
   "cell_type": "code",
   "execution_count": 10,
   "id": "dbb86fa6",
   "metadata": {},
   "outputs": [
    {
     "data": {
      "text/plain": [
       "array([[1, 2, 3, 4, 5, 6]])"
      ]
     },
     "execution_count": 10,
     "metadata": {},
     "output_type": "execute_result"
    }
   ],
   "source": [
    "# 最小维度\n",
    "a = np.array([1,2,3,4,5,6],ndmin=2)\n",
    "a"
   ]
  },
  {
   "cell_type": "code",
   "execution_count": 11,
   "id": "0031b829",
   "metadata": {},
   "outputs": [
    {
     "data": {
      "text/plain": [
       "array([1.+0.j, 2.+0.j, 3.+0.j, 4.+0.j])"
      ]
     },
     "execution_count": 11,
     "metadata": {},
     "output_type": "execute_result"
    }
   ],
   "source": [
    "# dtype参数\n",
    "a = np.array([1,2,3,4], dtype=complex)\n",
    "a"
   ]
  },
  {
   "cell_type": "markdown",
   "id": "280ebc9b",
   "metadata": {},
   "source": [
    "## 1.2 -  数据类型对象"
   ]
  },
  {
   "cell_type": "markdown",
   "id": "91be3ed6",
   "metadata": {},
   "source": [
    "- 数据类型对象（numpy.dtype 类的实例）用来描述与数组对应的内存区域是如何使用，它描述了数据的以下几个方面：：\n",
    "    - 数据的类型（整数，浮点数或者 Python 对象）\n",
    "    - 数据的大小（例如， 整数使用多少个字节存储）\n",
    "    - 数据的字节顺序（小端法或大端法）\n",
    "    - 在结构化类型的情况下，字段的名称、每个字段的数据类型和每个字段所取的内存块的部分\n",
    "    - 如果数据类型是子数组，那么它的形状和数据类型是什么。\n",
    "- 字节顺序是通过对数据类型预先设定 < 或 > 来决定的。 < 意味着小端法(最小值存储在最小的地址，即低位组放在最前面)。> 意味着大端法(最重要的字节存储在最小的地址，即高位组放在最前面)。"
   ]
  },
  {
   "cell_type": "markdown",
   "id": "b29dd1c5",
   "metadata": {},
   "source": [
    "- dtype 对象是使用以下语法构造的： numpy.dtype(object, align, copy)\n",
    "    - object - 要转换为的数据类型对象\n",
    "    - align - 如果为 true，填充字段使其类似 C 的结构体。\n",
    "    - copy - 复制 dtype 对象 ，如果为 false，则是对内置数据类型对象的引用"
   ]
  },
  {
   "cell_type": "code",
   "execution_count": 14,
   "id": "aa2e1c2d",
   "metadata": {},
   "outputs": [
    {
     "data": {
      "text/plain": [
       "dtype('int32')"
      ]
     },
     "execution_count": 14,
     "metadata": {},
     "output_type": "execute_result"
    }
   ],
   "source": [
    "# 使用标量类型\n",
    "dt = np.dtype(np.int32)\n",
    "dt"
   ]
  },
  {
   "cell_type": "code",
   "execution_count": 15,
   "id": "7cbc9738",
   "metadata": {},
   "outputs": [
    {
     "name": "stdout",
     "output_type": "stream",
     "text": [
      "int32\n"
     ]
    }
   ],
   "source": [
    "# int8, int16, int32, int64 四种数据类型可以使用字符串 'i1', 'i2','i4','i8' 代替\n",
    "dt = np.dtype('i4')\n",
    "print(dt)"
   ]
  },
  {
   "cell_type": "code",
   "execution_count": 16,
   "id": "72d76f5f",
   "metadata": {},
   "outputs": [
    {
     "data": {
      "text/plain": [
       "dtype('int32')"
      ]
     },
     "execution_count": 16,
     "metadata": {},
     "output_type": "execute_result"
    }
   ],
   "source": [
    "# 字节顺序标注\n",
    "dt = np.dtype('<i4')\n",
    "dt"
   ]
  },
  {
   "cell_type": "code",
   "execution_count": 19,
   "id": "2cfa5ef1",
   "metadata": {},
   "outputs": [
    {
     "data": {
      "text/plain": [
       "dtype([('age', 'i1')])"
      ]
     },
     "execution_count": 19,
     "metadata": {},
     "output_type": "execute_result"
    }
   ],
   "source": [
    "# 首先创建结构化数据类型\n",
    "dt = np.dtype([('age',np.int8)])\n",
    "dt"
   ]
  },
  {
   "cell_type": "code",
   "execution_count": 22,
   "id": "182ac3b6",
   "metadata": {},
   "outputs": [
    {
     "name": "stdout",
     "output_type": "stream",
     "text": [
      "[10 20 30]\n"
     ]
    }
   ],
   "source": [
    "# 将数据类型应用于ndarray对象\n",
    "a = np.array([(10,),(20,),(30,)], dtype=dt)\n",
    "a\n",
    "# 类型字段名可以用于存取实际的 age 列\n",
    "print(a['age'])"
   ]
  },
  {
   "cell_type": "code",
   "execution_count": 24,
   "id": "346e8dbf",
   "metadata": {},
   "outputs": [
    {
     "name": "stdout",
     "output_type": "stream",
     "text": [
      "[(b'abc', 21, 50.) (b'xyz', 18, 75.)]\n"
     ]
    }
   ],
   "source": [
    "# 实例\n",
    "student = np.dtype([('name','S20'), ('age', 'i1'), ('marks', 'f4')]) \n",
    "student\n",
    "a = np.array([('abc', 21, 50),('xyz', 18, 75)], dtype = student) \n",
    "print(a)"
   ]
  },
  {
   "cell_type": "markdown",
   "id": "7e06fcc7",
   "metadata": {},
   "source": [
    "# 2 -  数组属性"
   ]
  },
  {
   "cell_type": "markdown",
   "id": "2348aa59",
   "metadata": {},
   "source": [
    "- NumPy 数组的维数称为秩（rank），秩就是轴的数量，即数组的维度，一维数组的秩为 1，二维数组的秩为 2，以此类推。\n",
    "- 在 NumPy中，每一个线性的数组称为是一个轴（axis），也就是维度（dimensions）。比如说，二维数组相当于是两个一维数组，其中第一个一维数组中每个元素又是一个一维数组。所以一维数组就是 NumPy 中的轴（axis），第一个轴相当于是底层数组，第二个轴是底层数组里的数组。而轴的数量——秩，就是数组的维数。\n",
    "- 很多时候可以声明 axis。axis=0，表示沿着第 0 轴进行操作，即对每一列进行操作；axis=1，表示沿着第1轴进行操作，即对每一行进行操作。\n",
    "- NumPy 的数组中比较重要 ndarray 对象属性有：\n",
    "|  属性   | 说明  |\n",
    "|  :----:  |  :----  |\n",
    "| ndarray.ndim  | 秩，轴的数量或维度的数量 |\n",
    "| ndarray.shape  | 数组的维度，对于矩阵，n行m列  |\n",
    "| ndarray.size  | 数组元素中的总个数，相当于.shape中的n*m的值 |\n",
    "| ndarray.dtype  | ndarray对象的元素类型 |\n",
    "| ndarray.itemsize  | ndarray 对象中每个元素的大小，以字节为单位 |\n",
    "| ndarray.flags  | \tndarray 对象的内存信息 |\n",
    "| ndarray.real\t|  ndarray元素的实部 | \n",
    "| ndarray.imag | ndarray 元素的虚部 | \n",
    "| ndarray.data | 包含实际数组元素的缓冲区，由于一般通过数组的索引获取元素，所以通常不需要使用这个属性。| "
   ]
  },
  {
   "cell_type": "code",
   "execution_count": 29,
   "id": "630ce962",
   "metadata": {},
   "outputs": [
    {
     "name": "stdout",
     "output_type": "stream",
     "text": [
      "1\n",
      "3\n"
     ]
    }
   ],
   "source": [
    "# ndarray.ndim 用于返回数组的维数，等于秩。\n",
    "a = np.arange(24)\n",
    "print(a.ndim)\n",
    "a = a.reshape(2,4,3)\n",
    "a\n",
    "print(a.ndim)"
   ]
  },
  {
   "cell_type": "code",
   "execution_count": 42,
   "id": "6cb0ce5f",
   "metadata": {},
   "outputs": [
    {
     "name": "stdout",
     "output_type": "stream",
     "text": [
      "(2, 3)\n"
     ]
    },
    {
     "data": {
      "text/plain": [
       "array([[1, 2],\n",
       "       [3, 4],\n",
       "       [5, 6]])"
      ]
     },
     "execution_count": 42,
     "metadata": {},
     "output_type": "execute_result"
    }
   ],
   "source": [
    "# ndarray.shape 表示数组的维度，返回一个元组，这个元组的长度就是维度的数目，即 ndim 属性(秩)。比如，一个二维数组，其维度表示\"行数\"和\"列数\"。\n",
    "# ndarray.shape也可以用于调整数组的大小\n",
    "a = np.array([[1,2,3],[4,5,6]])\n",
    "print(a.shape)\n",
    "a.shape = (3,2)\n",
    "a"
   ]
  },
  {
   "cell_type": "code",
   "execution_count": 35,
   "id": "0e0e3c70",
   "metadata": {},
   "outputs": [
    {
     "data": {
      "text/plain": [
       "array([[1, 2],\n",
       "       [3, 4],\n",
       "       [5, 6]])"
      ]
     },
     "execution_count": 35,
     "metadata": {},
     "output_type": "execute_result"
    }
   ],
   "source": [
    "# Numpy也提供了reshape函数来调整数组的大小\n",
    "b = a.reshape(3,2)\n",
    "b"
   ]
  },
  {
   "cell_type": "code",
   "execution_count": 89,
   "id": "ed70c782",
   "metadata": {},
   "outputs": [
    {
     "name": "stdout",
     "output_type": "stream",
     "text": [
      "1\n",
      "8\n"
     ]
    }
   ],
   "source": [
    "# ndarray.itemsize 以字节的形式返回数组中每一个元素的大小。\n",
    "# 例如，一个元素类型为 float64 的数组 itemsize 属性值为 8(float64 占用 64 个 bits，每个字节长度为 8，所以 64/8，占用 8 个字节），\n",
    "# 又如，一个元素类型为 complex32 的数组 item 属性为 4（32/8）。\n",
    "\n",
    "# 数组的 dtype 为 int8（一个字节）  \n",
    "x = np.array([1,2,3,4,5], dtype = np.int8)  \n",
    "print (x.itemsize)\n",
    " \n",
    "# 数组的 dtype 现在为 float64（八个字节） \n",
    "y = np.array([1,2,3,4,5], dtype = np.float64)  \n",
    "print (y.itemsize)"
   ]
  },
  {
   "cell_type": "markdown",
   "id": "245ef26c",
   "metadata": {},
   "source": [
    "<font color=#FF2121>**注：ndarray.reshape 通常返回的是非拷贝副本，即改变返回后数组的元素，原数组对应元素的值也会改变。**</font>"
   ]
  },
  {
   "cell_type": "code",
   "execution_count": 41,
   "id": "1cb1c9b0",
   "metadata": {},
   "outputs": [
    {
     "name": "stdout",
     "output_type": "stream",
     "text": [
      "[100   2   3   4   5   6]\n",
      "[[100   2   3]\n",
      " [  4   5   6]]\n"
     ]
    }
   ],
   "source": [
    "a = np.array([[1,2,3],[4,5,6]])\n",
    "b = a.reshape(6,)\n",
    "b[0] = 100\n",
    "print(b)\n",
    "print(a)"
   ]
  },
  {
   "cell_type": "markdown",
   "id": "961753e2",
   "metadata": {},
   "source": [
    "# 3 - 创建数组"
   ]
  },
  {
   "cell_type": "markdown",
   "id": "c2fb55bc",
   "metadata": {},
   "source": [
    "- numpy.empty\n",
    "    - numpy.empty 方法用来创建一个指定形状（shape）、数据类型（dtype）且未初始化的数组\n",
    "    - <font color=#FF2121>**注：数组元素为随机值，因为它们未初始化**</font>\n",
    "\n",
    "numpy.empty(shape, dtype = float, order = 'C')\n",
    "\n",
    "|  参数   | 描述  |\n",
    "|  :----:  |  :----  |\n",
    "| shape  | 数组形状 |\n",
    "| dtype  | 数据类型，可选  |\n",
    "| order  | 有\"C\"和\"F\"两个选项,分别代表，行优先和列优先，在计算机内存中的存储元素的顺序。 |"
   ]
  },
  {
   "cell_type": "code",
   "execution_count": 43,
   "id": "f781377b",
   "metadata": {},
   "outputs": [
    {
     "data": {
      "text/plain": [
       "array([[1838338768,        455,          0],\n",
       "       [         0,     131074,   40307812]])"
      ]
     },
     "execution_count": 43,
     "metadata": {},
     "output_type": "execute_result"
    }
   ],
   "source": [
    "x = np.empty([2,3],dtype = int)\n",
    "x"
   ]
  },
  {
   "cell_type": "markdown",
   "id": "b84c635c",
   "metadata": {},
   "source": [
    "- numpy.zeros\n",
    "    - 创建指定大小的数组，数组元素以 0 来填充：\n",
    "\n",
    "- numpy.zeros(shape, dtype = float, order = 'C')"
   ]
  },
  {
   "cell_type": "code",
   "execution_count": 49,
   "id": "7bfd884a",
   "metadata": {},
   "outputs": [
    {
     "data": {
      "text/plain": [
       "array([0., 0., 0., 0., 0.])"
      ]
     },
     "execution_count": 49,
     "metadata": {},
     "output_type": "execute_result"
    }
   ],
   "source": [
    "# 默认为浮点数\n",
    "x = np.zeros(5)\n",
    "x"
   ]
  },
  {
   "cell_type": "code",
   "execution_count": 50,
   "id": "909b5f13",
   "metadata": {},
   "outputs": [
    {
     "data": {
      "text/plain": [
       "1"
      ]
     },
     "execution_count": 50,
     "metadata": {},
     "output_type": "execute_result"
    }
   ],
   "source": [
    "# 设置类型为整数\n",
    "x = np.zeros((5,), dtype=int)\n",
    "x"
   ]
  },
  {
   "cell_type": "code",
   "execution_count": 53,
   "id": "0f175ca0",
   "metadata": {},
   "outputs": [
    {
     "data": {
      "text/plain": [
       "array([[0., 0.],\n",
       "       [0., 0.]])"
      ]
     },
     "execution_count": 53,
     "metadata": {},
     "output_type": "execute_result"
    }
   ],
   "source": [
    "# 自定义类型\n",
    "z = np.zeros((2,2), dtype = [('x', 'i4'), ('y', 'i4')])  \n",
    "z"
   ]
  },
  {
   "cell_type": "markdown",
   "id": "231694e7",
   "metadata": {},
   "source": [
    "## 3.1 - 从已有的数组创建数组"
   ]
  },
  {
   "cell_type": "markdown",
   "id": "6f5a9d69",
   "metadata": {},
   "source": [
    "### numpy.asarray"
   ]
  },
  {
   "cell_type": "markdown",
   "id": "41168ecd",
   "metadata": {},
   "source": [
    "- numpy.asarray 类似 numpy.array，但 numpy.asarray 参数只有三个，比 numpy.array 少两个。\n",
    "\n",
    "numpy.asarray(a, dtype = None, order = None)"
   ]
  },
  {
   "cell_type": "code",
   "execution_count": 56,
   "id": "3f379b1f",
   "metadata": {},
   "outputs": [
    {
     "data": {
      "text/plain": [
       "array([1, 2, 3])"
      ]
     },
     "execution_count": 56,
     "metadata": {},
     "output_type": "execute_result"
    }
   ],
   "source": [
    "# 将列表转换为数组\n",
    "x = [1,2,3]\n",
    "a = np.asarray(x)\n",
    "a"
   ]
  },
  {
   "cell_type": "code",
   "execution_count": 57,
   "id": "63f4b475",
   "metadata": {},
   "outputs": [
    {
     "data": {
      "text/plain": [
       "array([1, 2, 3])"
      ]
     },
     "execution_count": 57,
     "metadata": {},
     "output_type": "execute_result"
    }
   ],
   "source": [
    "# 将元祖转换为数组\n",
    "x = (1,2,3)\n",
    "a = np.asarray(x)\n",
    "a"
   ]
  },
  {
   "cell_type": "code",
   "execution_count": 58,
   "id": "b8d828bd",
   "metadata": {},
   "outputs": [
    {
     "data": {
      "text/plain": [
       "array([[1, 2, 3],\n",
       "       [4, 5, 6]])"
      ]
     },
     "execution_count": 58,
     "metadata": {},
     "output_type": "execute_result"
    }
   ],
   "source": [
    "# 将元祖列表转换为数组\n",
    "x = [(1,2,3),(4,5,6)]\n",
    "a = np.asarray(x)\n",
    "a"
   ]
  },
  {
   "cell_type": "code",
   "execution_count": 59,
   "id": "cbd7e80c",
   "metadata": {},
   "outputs": [
    {
     "data": {
      "text/plain": [
       "array([1., 2., 3.])"
      ]
     },
     "execution_count": 59,
     "metadata": {},
     "output_type": "execute_result"
    }
   ],
   "source": [
    "# 设置dtype参数\n",
    "x = [1,2,3]\n",
    "a = np.asarray(x, dtype=float)\n",
    "a"
   ]
  },
  {
   "cell_type": "markdown",
   "id": "39f2a827",
   "metadata": {},
   "source": [
    "### numpy.frombutter"
   ]
  },
  {
   "cell_type": "markdown",
   "id": "1934fbe8",
   "metadata": {},
   "source": [
    "- numpy.formbuffer 用于实现动态数组\n",
    "- numpy.formbuffer 接受butter输入参数，以流的形式读入转化成ndarray对象\n",
    "\n",
    "numpy.frombuffer(buffer, dtype = float, count = -1, offset = 0) <br>\n",
    "<font color=#FF2121>**注：buffer 是字符串的时候，Python3 默认 str 是 Unicode 类型，所以要转成 bytestring 在原 str 前加上 b。**</font>\n",
    "\n",
    "|  参数   | 描述  |\n",
    "|  :----:  |  :----  |\n",
    "| butter  | 可以是任意对象，会以流的形式读入 |\n",
    "| dtype  | 返回数组的数据类型，可选  |\n",
    "| count  | 读取的数据数量，默认为-1，读取所有数据 |\n",
    "| offset  | 读取的起始位置，默认为0 |"
   ]
  },
  {
   "cell_type": "markdown",
   "id": "b7579d8f",
   "metadata": {},
   "source": [
    "- S1和|S2字符串是数据类型描述符; \n",
    "    - S1意味着数组包含长度为1的字符串\n",
    "    - S2意味着数组包含长度为2的字符串 \n",
    "    - |管道符号是byteorder标志, 在这种情况下，不需要字节顺序标志，因此它设置为|，这意味着不适用。"
   ]
  },
  {
   "cell_type": "code",
   "execution_count": 84,
   "id": "32fde0d3",
   "metadata": {},
   "outputs": [
    {
     "data": {
      "text/plain": [
       "array([b'H', b'e', b'l', b'l', b'o', b' ', b'W', b'o', b'r', b'l', b'd'],\n",
       "      dtype='|S1')"
      ]
     },
     "execution_count": 84,
     "metadata": {},
     "output_type": "execute_result"
    }
   ],
   "source": [
    "s = b'Hello World'\n",
    "a = np.frombuffer(s, dtype='S1')\n",
    "a"
   ]
  },
  {
   "cell_type": "markdown",
   "id": "3ffd241b",
   "metadata": {},
   "source": [
    "### numpy.fromiter\n",
    "- numpy.fromiter 方法从可迭代对象中建立 ndarray 对象，返回一维数组。\n",
    "\n",
    "numpy.fromiter(iterable, dtype, count=-1)\n",
    "\n",
    "|  参数   | 描述  |\n",
    "|  :----:  |  :----  |\n",
    "| iterable  | 可迭代对象 |\n",
    "| dtype  | 返回数组的数据类型，可选  |\n",
    "| count  | 读取的数据数量，默认为-1，读取所有数据 |"
   ]
  },
  {
   "cell_type": "code",
   "execution_count": 88,
   "id": "829b1a13",
   "metadata": {},
   "outputs": [
    {
     "name": "stdout",
     "output_type": "stream",
     "text": [
      "[0. 1. 2. 3. 4.]\n"
     ]
    }
   ],
   "source": [
    "# 使用 range 函数创建列表对象  \n",
    "list = range(5)\n",
    "it=iter(list)\n",
    "\n",
    "# 使用迭代器创建 ndarray \n",
    "x=np.fromiter(it, dtype=float)\n",
    "print(x)"
   ]
  },
  {
   "cell_type": "markdown",
   "id": "bef68e75",
   "metadata": {},
   "source": [
    "## 3.2 - 从数值范围创建数组"
   ]
  },
  {
   "cell_type": "markdown",
   "id": "316f53d2",
   "metadata": {},
   "source": [
    "### numpy.arange\n",
    "- numpy 包中的使用 arange 函数创建数值范围并返回 ndarray 对象，函数格式如下：\n",
    "- 根据 start 与 stop 指定的范围以及 step 设定的步长，生成一个 ndarray。\n",
    "\n",
    "numpy.arange(start, stop, step, dtype)"
   ]
  },
  {
   "cell_type": "code",
   "execution_count": 90,
   "id": "7e9e3f9f",
   "metadata": {},
   "outputs": [
    {
     "data": {
      "text/plain": [
       "array([0, 1, 2, 3, 4])"
      ]
     },
     "execution_count": 90,
     "metadata": {},
     "output_type": "execute_result"
    }
   ],
   "source": [
    "x = np.arange(5)\n",
    "x"
   ]
  },
  {
   "cell_type": "code",
   "execution_count": 91,
   "id": "85288268",
   "metadata": {},
   "outputs": [
    {
     "data": {
      "text/plain": [
       "array([0., 1., 2., 3., 4.])"
      ]
     },
     "execution_count": 91,
     "metadata": {},
     "output_type": "execute_result"
    }
   ],
   "source": [
    "# 设置数值类型\n",
    "x = np.arange(5, dtype=float)\n",
    "x"
   ]
  },
  {
   "cell_type": "code",
   "execution_count": 92,
   "id": "a3647381",
   "metadata": {},
   "outputs": [
    {
     "data": {
      "text/plain": [
       "array([10, 12, 14, 16, 18])"
      ]
     },
     "execution_count": 92,
     "metadata": {},
     "output_type": "execute_result"
    }
   ],
   "source": [
    "# 设置步长\n",
    "x = np.arange(10, 20, 2)\n",
    "x"
   ]
  },
  {
   "cell_type": "markdown",
   "id": "9f943c31",
   "metadata": {},
   "source": [
    "### numpy.linspace\n",
    "- numpy.linspace 函数用于创建一个一维数组，数组是一个等差数列构成的，格式如下：\n",
    "\n",
    "np.linspace(start, stop, num=50, endpoint=True, retstep=False, dtype=None)\n",
    "\n",
    "|  参数   | 描述  |\n",
    "|  :----:  |  :----  |\n",
    "| start  | 序列的起始值 |\n",
    "| stop  | 序列的终止值，如果endpoint为true，该值包含于数列中  |\n",
    "| num  | 要生成的等步长的样本数量，默认为50 |\n",
    "| endpoint  | 该值为 true 时，数列中包含stop值，反之不包含，默认是True。 |\n",
    "| retstep  | 如果为 True 时，生成的数组中会显示间距，反之不显示。 |\n",
    "| dtype  | ndarray 的数据类型 |"
   ]
  },
  {
   "cell_type": "code",
   "execution_count": 94,
   "id": "91165b5b",
   "metadata": {},
   "outputs": [
    {
     "data": {
      "text/plain": [
       "array([ 1.,  2.,  3.,  4.,  5.,  6.,  7.,  8.,  9., 10.])"
      ]
     },
     "execution_count": 94,
     "metadata": {},
     "output_type": "execute_result"
    }
   ],
   "source": [
    "a = np.linspace(1, 10, 10)\n",
    "a"
   ]
  },
  {
   "cell_type": "code",
   "execution_count": 97,
   "id": "b003b19b",
   "metadata": {},
   "outputs": [
    {
     "data": {
      "text/plain": [
       "array([ 1. ,  5.5, 10. ])"
      ]
     },
     "execution_count": 97,
     "metadata": {},
     "output_type": "execute_result"
    }
   ],
   "source": [
    "a = np.linspace(1, 10, 3)\n",
    "a"
   ]
  },
  {
   "cell_type": "code",
   "execution_count": 98,
   "id": "5bd8e417",
   "metadata": {},
   "outputs": [
    {
     "data": {
      "text/plain": [
       "array([1., 1., 1., 1., 1., 1., 1., 1., 1., 1.])"
      ]
     },
     "execution_count": 98,
     "metadata": {},
     "output_type": "execute_result"
    }
   ],
   "source": [
    "# 设置元素全部是1的等差数列\n",
    "x = np.linspace(1, 1, 10)\n",
    "x"
   ]
  },
  {
   "cell_type": "code",
   "execution_count": 101,
   "id": "1e50275d",
   "metadata": {},
   "outputs": [
    {
     "data": {
      "text/plain": [
       "array([10., 12., 14., 16., 18.])"
      ]
     },
     "execution_count": 101,
     "metadata": {},
     "output_type": "execute_result"
    }
   ],
   "source": [
    "a = np.linspace(10, 20, 5, endpoint=False)\n",
    "a"
   ]
  },
  {
   "cell_type": "code",
   "execution_count": 102,
   "id": "fc61e9b0",
   "metadata": {},
   "outputs": [
    {
     "data": {
      "text/plain": [
       "(array([10., 15., 20., 25., 30.]), 5.0)"
      ]
     },
     "execution_count": 102,
     "metadata": {},
     "output_type": "execute_result"
    }
   ],
   "source": [
    "# 设置间距\n",
    "a = np.linspace(10, 30, 5, retstep=True)\n",
    "a"
   ]
  },
  {
   "cell_type": "code",
   "execution_count": 104,
   "id": "d703a750",
   "metadata": {},
   "outputs": [
    {
     "data": {
      "text/plain": [
       "array([[ 1.],\n",
       "       [ 2.],\n",
       "       [ 3.],\n",
       "       [ 4.],\n",
       "       [ 5.],\n",
       "       [ 6.],\n",
       "       [ 7.],\n",
       "       [ 8.],\n",
       "       [ 9.],\n",
       "       [10.]])"
      ]
     },
     "execution_count": 104,
     "metadata": {},
     "output_type": "execute_result"
    }
   ],
   "source": [
    "b = np.linspace(1,10,10).reshape([10,1])\n",
    "b"
   ]
  },
  {
   "cell_type": "markdown",
   "id": "8df7c87b",
   "metadata": {},
   "source": [
    "### numpy.logspace\n",
    "- numpy.logspace 函数用于创建一个于等比数列。格式如下：\n",
    "\n",
    "np.logspace(start, stop, num=50, endpoint=True, base=10.0, dtype=None)\n",
    "\n",
    "|  参数   | 描述  |\n",
    "|  :----:  |  :----  |\n",
    "| start  | 序列的起始值 |\n",
    "| stop  | 序列的终止值，如果endpoint为true，该值包含于数列中  |\n",
    "| num  | 要生成的等步长的样本数量，默认为50 |\n",
    "| endpoint  | 该值为 true 时，数列中包含stop值，反之不包含，默认是True。 |\n",
    "| base  | 对数 log 的底数 |\n",
    "| dtype  | ndarray 的数据类型 |"
   ]
  },
  {
   "cell_type": "code",
   "execution_count": 105,
   "id": "9f81cfc8",
   "metadata": {},
   "outputs": [
    {
     "data": {
      "text/plain": [
       "array([ 10.        ,  12.91549665,  16.68100537,  21.5443469 ,\n",
       "        27.82559402,  35.93813664,  46.41588834,  59.94842503,\n",
       "        77.42636827, 100.        ])"
      ]
     },
     "execution_count": 105,
     "metadata": {},
     "output_type": "execute_result"
    }
   ],
   "source": [
    "a = np.logspace(1.0,  2.0, num =  10) \n",
    "a"
   ]
  },
  {
   "cell_type": "code",
   "execution_count": 106,
   "id": "5d66185f",
   "metadata": {},
   "outputs": [
    {
     "data": {
      "text/plain": [
       "array([  1.,   2.,   4.,   8.,  16.,  32.,  64., 128., 256., 512.])"
      ]
     },
     "execution_count": 106,
     "metadata": {},
     "output_type": "execute_result"
    }
   ],
   "source": [
    "a = np.logspace(0,9,10,base=2)\n",
    "a"
   ]
  },
  {
   "cell_type": "markdown",
   "id": "a9596a92",
   "metadata": {},
   "source": [
    "# 4 - 切片和索引"
   ]
  },
  {
   "cell_type": "markdown",
   "id": "bf031f76",
   "metadata": {},
   "source": [
    "- ndarray对象的内容可以通过索引或切片来访问和修改，与 Python 中 list 的切片操作一样。\n",
    "- ndarray 数组可以基于0 - n的下标进行索引，切片对象可以通过内置的 slice 函数，并设置 start, stop 及 step 参数进行，从原数组中切割出一个新数组。"
   ]
  },
  {
   "cell_type": "code",
   "execution_count": 108,
   "id": "296242fc",
   "metadata": {},
   "outputs": [
    {
     "data": {
      "text/plain": [
       "array([2, 4, 6])"
      ]
     },
     "execution_count": 108,
     "metadata": {},
     "output_type": "execute_result"
    }
   ],
   "source": [
    "# slice函数\n",
    "a = np.arange(10)\n",
    "a\n",
    "s = slice(2, 7, 2)  # 从索引 2 开始到索引 7 停止，间隔为2\n",
    "a[s]"
   ]
  },
  {
   "cell_type": "code",
   "execution_count": 109,
   "id": "b8ec5746",
   "metadata": {},
   "outputs": [
    {
     "data": {
      "text/plain": [
       "array([2, 4, 6])"
      ]
     },
     "execution_count": 109,
     "metadata": {},
     "output_type": "execute_result"
    }
   ],
   "source": [
    "# start:stop:step\n",
    "a = np.arange(10)\n",
    "b = a[2:7:2]\n",
    "b"
   ]
  },
  {
   "cell_type": "code",
   "execution_count": 112,
   "id": "f05633ed",
   "metadata": {},
   "outputs": [
    {
     "data": {
      "text/plain": [
       "array([2, 3, 4, 5, 6])"
      ]
     },
     "execution_count": 112,
     "metadata": {},
     "output_type": "execute_result"
    }
   ],
   "source": [
    "# 和列表的切片一样\n",
    "a = np.arange(10)\n",
    "b = a[2:]\n",
    "b = a[2:7]\n",
    "b"
   ]
  },
  {
   "cell_type": "code",
   "execution_count": 114,
   "id": "bb7bc0ee",
   "metadata": {},
   "outputs": [
    {
     "data": {
      "text/plain": [
       "array([[4, 5, 6],\n",
       "       [7, 8, 9]])"
      ]
     },
     "execution_count": 114,
     "metadata": {},
     "output_type": "execute_result"
    }
   ],
   "source": [
    "# 多维数组\n",
    "a = np.array([[1,2,3],[4,5,6],[7,8,9]])\n",
    "a[1:]"
   ]
  },
  {
   "cell_type": "code",
   "execution_count": null,
   "id": "8ad6118f",
   "metadata": {},
   "outputs": [],
   "source": []
  }
 ],
 "metadata": {
  "kernelspec": {
   "display_name": "Python 3 (ipykernel)",
   "language": "python",
   "name": "python3"
  },
  "language_info": {
   "codemirror_mode": {
    "name": "ipython",
    "version": 3
   },
   "file_extension": ".py",
   "mimetype": "text/x-python",
   "name": "python",
   "nbconvert_exporter": "python",
   "pygments_lexer": "ipython3",
   "version": "3.9.12"
  }
 },
 "nbformat": 4,
 "nbformat_minor": 5
}
