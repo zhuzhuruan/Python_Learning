{
 "cells": [
  {
   "cell_type": "markdown",
   "id": "3b8a9ab9",
   "metadata": {},
   "source": [
    "# 梯度下降法"
   ]
  },
  {
   "cell_type": "markdown",
   "id": "dd7752e5",
   "metadata": {},
   "source": [
    "## 一、导数的意义"
   ]
  },
  {
   "cell_type": "markdown",
   "id": "6588570d",
   "metadata": {},
   "source": [
    "物理意义：经常表示瞬间的变化率，在物理量中最常用的有瞬时速度和瞬时加速度。\n",
    "\n",
    "导数的几何意义：**表示曲线在点处的切线的斜率**。\n",
    "\n",
    "导数的本质是通过极限的概念对函数进行局部的线性逼近。\n",
    "\n"
   ]
  },
  {
   "cell_type": "markdown",
   "id": "38c19e36",
   "metadata": {},
   "source": [
    "## 二、导数的概念"
   ]
  },
  {
   "cell_type": "markdown",
   "id": "4b687f46",
   "metadata": {},
   "source": [
    "### 平均变化率"
   ]
  },
  {
   "cell_type": "code",
   "execution_count": 3,
   "id": "47cbf2e9",
   "metadata": {},
   "outputs": [],
   "source": [
    "import numpy as np\n",
    "from matplotlib import pyplot as plt\n",
    "import matplotlib"
   ]
  },
  {
   "cell_type": "code",
   "execution_count": 4,
   "id": "7c3813d4",
   "metadata": {},
   "outputs": [
    {
     "data": {
      "text/plain": [
       "Text(4, 18, 'x2')"
      ]
     },
     "execution_count": 4,
     "metadata": {},
     "output_type": "execute_result"
    },
    {
     "data": {
      "image/png": "[encoded data removed]",
      "text/plain": [
       "<Figure size 432x288 with 1 Axes>"
      ]
     },
     "metadata": {
      "needs_background": "light"
     },
     "output_type": "display_data"
    }
   ],
   "source": [
    "x = np.arange(1,6)\n",
    "y = x**2\n",
    "plt.plot(x,y)\n",
    "plt.plot([2,4],[4,16],'ob')\n",
    "plt.plot([2,4],[4,16],'r')\n",
    "plt.plot([2,4],[4,4],color='orange')\n",
    "plt.plot([4,4],[4,16],color='orange')\n",
    "plt.text(3,2,'Δx')\n",
    "plt.text(4.1,10,'Δy')\n",
    "plt.text(2,5,'x1')\n",
    "plt.text(4,18,'x2')"
   ]
  },
  {
   "cell_type": "markdown",
   "id": "410f3cb2",
   "metadata": {},
   "source": [
    "x0到x1的平均变化率\n",
    "\n",
    "$$\n",
    "平均变化率 = k = \\frac{\\Delta x}{\\Delta y} = \\frac{f(x_2)-f(x_1)}{x_2-x_1}\n",
    "$$"
   ]
  },
  {
   "cell_type": "markdown",
   "id": "b1265f65",
   "metadata": {},
   "source": [
    "### 导数的概念"
   ]
  },
  {
   "cell_type": "markdown",
   "id": "3c3a6b73",
   "metadata": {},
   "source": [
    "$当函数这y=f(x)的自变量x在一点x_{0}上产生一个增量Δx时，函数输出值的增量Δy与自变量增量Δx的比值在Δx趋于0时的极限A如果存在，$\n",
    "$A即为在x_{0}处的导数，记作f'(x_0)或df(x_0)/dx。$\n",
    "\n",
    "$$\n",
    "f'(x_0) = lim_{\\Delta x \\to 0}\\frac{\\Delta f}{\\Delta x} = lim_{\\Delta x \\to 0}\\frac{f(x_0+\\Delta x)-f(x_0)}{\\Delta x}\n",
    "$$"
   ]
  },
  {
   "cell_type": "markdown",
   "id": "76ba477a",
   "metadata": {},
   "source": [
    "$函数y=f(x)在点x_0处的导数的几何意义，就是曲线y=f(x)在点P(x_0,f(x_0))处的切线的斜率，即曲线y=f(x)在点P(x_0,f(x_0))处的切线的斜率是f'(x_0)。$"
   ]
  },
  {
   "cell_type": "markdown",
   "id": "e3eba9e6",
   "metadata": {},
   "source": [
    "## 三、梯度的概念"
   ]
  },
  {
   "cell_type": "markdown",
   "id": "2242e204",
   "metadata": {},
   "source": [
    "梯度实际上就是多变量函数求导的一般化。\n",
    "\n",
    "下面这个例子：\n",
    "\n",
    "$$\n",
    "J(\\theta) = 0.55 - (5\\theta_1 + 2\\theta_2 - 12\\theta_3) \n",
    "$$\n",
    "$$\n",
    "\\nabla J(\\theta) = \\langle \\frac{\\partial J}{\\partial \\theta_1},\\frac{\\partial J}{\\partial \\theta_2},\\frac{\\partial J}{\\partial \\theta_3} \\rangle = \\langle -5,2,12 \\rangle\n",
    "$$\n",
    "\n",
    "我们可以看到，梯度就是分别对每个变量进行求导，然后用逗号分割开，梯度是用<>包括起来，说明梯度其实一个向量。\n",
    "\n",
    "梯度是微积分中一个很重要的概念，\n",
    "\n",
    "- 在单变量的函数中，梯度其实就是函数的微分，代表着函数在某个给定点的切线的斜率\n",
    "- 在多变量函数中，梯度是一个向量，向量有方向，梯度的方向就指出了函数在给定点的上升最快的方向\n"
   ]
  },
  {
   "cell_type": "markdown",
   "id": "d2ce697e",
   "metadata": {},
   "source": [
    "## 四、梯度下降法"
   ]
  },
  {
   "cell_type": "markdown",
   "id": "0acb8fde",
   "metadata": {},
   "source": [
    "梯度下降法（Gradient descent ）是一个一阶最优化算法，通常也称为最陡下降法 ，要使用梯度下降法找到一个函数的局部极小值 ，必须向函数上当前点对应梯度（或者是近似梯度）的反方向的规定步长距离点进行迭代搜索。 如果相反地向梯度正方向迭代进行搜索，则会接近函数的局部极大值点；这个过程则被称为梯度上升法 ，相反则称之为梯度下降法。"
   ]
  },
  {
   "cell_type": "markdown",
   "id": "1e957667",
   "metadata": {},
   "source": [
    "### 理解"
   ]
  },
  {
   "cell_type": "markdown",
   "id": "8943a8cd",
   "metadata": {},
   "source": [
    "假设这样一个场景：一个人需要从山的某处开始下山，尽快到达山底。在下山之前他需要确认两件事：\n",
    "\n",
    "- 下山的方向\n",
    "- 下山的距离\n",
    "\n",
    "这是因为下山的路有很多，他必须利用一些信息，找到从该处开始最陡峭的方向下山，这样可以保证他尽快到达山底。此外，这座山最陡峭的方向并不是一成不变的，每当走过一段规定的距离，他必须停下来，重新利用现有信息找到新的最陡峭的方向。通过反复进行该过程，最终抵达山底。"
   ]
  },
  {
   "cell_type": "code",
   "execution_count": 21,
   "id": "8dc43de7",
   "metadata": {},
   "outputs": [
    {
     "data": {
      "text/plain": [
       "[<matplotlib.lines.Line2D at 0x1203cea70>]"
      ]
     },
     "execution_count": 21,
     "metadata": {},
     "output_type": "execute_result"
    },
    {
     "data": {
      "image/png": "[encoded data removed]",
      "text/plain": [
       "<Figure size 432x288 with 1 Axes>"
      ]
     },
     "metadata": {
      "needs_background": "light"
     },
     "output_type": "display_data"
    }
   ],
   "source": [
    "from sympy import *\n",
    "import numpy as np\n",
    "\n",
    "x = np.linspace(-5,5,1000)\n",
    "\n",
    "def func(x):\n",
    "    return x**2\n",
    "\n",
    "# 画出曲线图\n",
    "plt.plot(x,func(x))\n",
    "\n",
    "# 对曲线求导，并返回某个点的导数\n",
    "def numeric_diff(x0):\n",
    "    x = symbols('x')\n",
    "    y = x**2\n",
    "    k = diff(y, x).subs(x, x0)\n",
    "    return k\n",
    "\n",
    "# 选择点（2,4）\n",
    "def get_line_func(x):\n",
    "    k = numeric_diff(x)    # 求出该点的导数\n",
    "    b = func(x) - k*x    # 求出该点的截距\n",
    "    return np.poly1d([k,b])\n",
    "\n",
    "# 点（2，4）的切线\n",
    "f2 = get_line_func(2)\n",
    "plt.plot(np.arange(0,5),f2(np.arange(0,5)))\n",
    "# 点（0，0）的切线\n",
    "f0 = get_line_func(0)\n",
    "plt.plot(np.arange(-2,2),f0(np.arange(-2,2)))\n",
    "# 点（4，16）的切线\n",
    "f4 = get_line_func(4)\n",
    "plt.plot(np.arange(2,5),f4(np.arange(2,5)))\n",
    "# 点（-1，1）的切线\n",
    "f11 = get_line_func(-1)\n",
    "plt.plot(np.arange(-3,2),f11(np.arange(-3,2)))"
   ]
  },
  {
   "cell_type": "markdown",
   "id": "ff923054",
   "metadata": {
    "scrolled": true
   },
   "source": [
    "这一过程形象的描述了梯度下降法求解无约束最优化问题的过程，下面我们将例子里的关键信息与梯度下降法中的关键信息对应起来：山代表了需要优化的函数表达式；山的最低点就是该函数的最优值，也就是我们的目标；每次下山的距离代表后面要解释的学习率；寻找方向利用的信息即为样本数据；最陡峭的下山方向则与函数表达式梯度的方向有关，之所以要寻找最陡峭的方向，是为了满足最快到达山底的限制条件；细心的读者可能已经发现上面还有一处加粗的词组：某处——代表了我们给优化函数设置的初始值，算法后面正是利用这个初始值进行不断的迭代求出最优解。\n",
    "\n",
    "看到这里大家应该会发现这样一个问题：在选择每次行动的距离时，如果所选择的距离过大，则有可能偏离最陡峭的方向，甚至已经到达了最低点却没有停下来，从而跨过最低点而不自知，一直无法到达山底；如果距离过小，则需要频繁寻找最陡峭的方向，会非常耗时。要知道，每次寻找最陡峭的方向是非常复杂的！同样的，梯度下降法也会面临这个问题，因此需要我们找到最佳的学习率，在不偏离方向的同时耗时最短。"
   ]
  },
  {
   "cell_type": "markdown",
   "id": "37c10cb4",
   "metadata": {},
   "source": [
    "**仔细理解：梯度在这里更重要的表示是方向，在初始位置时计算梯度，观察梯度的值，如果梯度的值大于0，那么往该点的右侧走是上升趋势，往该点的左侧走是下降趋势。那么梯度下降法的目的是找到局部最优也就是最低点，所以此时应该向初始位置的左侧移动，那么沿着这个方向要移动多少呢，也就是我们所说的控制步长了。依次重复这个过程，当发现到达某个点后，该点的梯度逼近0，那么这个点也就是我们要找的最低点。**"
   ]
  },
  {
   "cell_type": "markdown",
   "id": "ece850ae",
   "metadata": {},
   "source": [
    "### 例子"
   ]
  },
  {
   "cell_type": "markdown",
   "id": "2ce82768",
   "metadata": {},
   "source": [
    "#### 单变量函数"
   ]
  },
  {
   "cell_type": "markdown",
   "id": "097f1997",
   "metadata": {},
   "source": [
    "$对于单变量函数f(x) = (x-1)^2+0.5，使用梯度下降法计算它的极小值。设步长\\eta为0.2，初始点x_0为5。$\n",
    "\n",
    "$(1)梯度（导数）：f'(x) = 2(x-1)$\n",
    "\n",
    "$(2)计算当前位置的梯度：f'(x)=2(x-1)=2(5-1)=8$\n",
    "\n",
    "$(3)计算下一位置：x_1 = x_0-\\eta * f'(x) = 5 - 8*0.2 = 3.4$\n",
    "\n",
    "$(4)计算当前位置的梯度：f'(x)=2(x_1-1)=2(3.4-1)=4.8$\n",
    "\n",
    "$(5)计算下一位置：x_2 = x_0-\\eta * f'(x_1) = 5 - 4.8*0.2 = 2.44$\n",
    "\n",
    "$依次计算，直到遇f'(x)小于设定的某个值时则停止迭代。$"
   ]
  },
  {
   "cell_type": "markdown",
   "id": "233949b2",
   "metadata": {},
   "source": [
    "#### 多变量函数"
   ]
  },
  {
   "cell_type": "markdown",
   "id": "68955ac3",
   "metadata": {},
   "source": [
    "$对于多变量函数J(\\theta)=\\theta_1^2+\\theta_2^2，使用梯度下降法计算它的极小值。设步长\\eta为0.1，初始点\\theta^0为(1,3)。$\n",
    "\n",
    "$函数的梯度为\\nabla J(\\theta)=\\langle 2\\theta_1, 2\\theta_2 \\rangle,$\n",
    "\n",
    "$进行多次迭代:$\n",
    "$\\theta^0 = (1,3)$\n",
    "\n",
    "$\\theta^1 = \\theta^0 - \\eta*\\nabla J(\\theta) = (1,3)-0.1*(2,6) = (0.8,2.4)$\n",
    "\n",
    "$\\theta^2 = \\theta^1 - \\eta*\\nabla J(\\theta) = (0.8,2.4)-0.1*(1.6,4.8) = (0.64,1.92)$\n",
    "\n",
    "$\\cdots$\n",
    "\n",
    "$直到\\theta^n逐渐极限接近于最低的点$"
   ]
  },
  {
   "cell_type": "markdown",
   "id": "2fea30bf",
   "metadata": {},
   "source": [
    "### 概念"
   ]
  },
  {
   "cell_type": "markdown",
   "id": "12fc6d46",
   "metadata": {},
   "source": [
    "$输入：目标函数f(x)，梯度函数g(x) = \\nabla f(x)，计算精度\\epsilon，步长\\eta $\n",
    "\n",
    "$输出：f(x)的极小值点x^*$\n",
    "\n",
    "$(1)取初始值x_0 \\in R，置k=0$\n",
    "\n",
    "$(2)计算f(x_k)$\n",
    "\n",
    "$(2)计算梯度g_k = g(x_k)，当｜g_k|<\\epsilon时，停止迭代，否则，x_{k+1} = x_k - \\eta * g_k$"
   ]
  },
  {
   "cell_type": "markdown",
   "id": "525ed728",
   "metadata": {},
   "source": [
    "## 五、算法实现"
   ]
  },
  {
   "cell_type": "code",
   "execution_count": 142,
   "id": "c5c7411b",
   "metadata": {},
   "outputs": [],
   "source": [
    "import numpy as np\n",
    "import matplotlib.pyplot as plt "
   ]
  },
  {
   "cell_type": "code",
   "execution_count": 224,
   "id": "d4360981",
   "metadata": {},
   "outputs": [],
   "source": [
    "## 定义目标函数\n",
    "def f(x):\n",
    "    return np.array(x)**2 + 1\n",
    "\n",
    "## 对目标函数求导\n",
    "def d1(x):\n",
    "    return x*2\n",
    "\n",
    "## 梯度下降\n",
    "trajectory = []\n",
    "def Gradient_Descent_d1(current_x=18, learn_rate=0.1, e=0.001, count=50):\n",
    "    # current_x：初始值\n",
    "    # learn_rate：学习率\n",
    "    # e：误差值\n",
    "    # count：迭代的次数\n",
    "    for i in range(count):\n",
    "        trajectory.append(current_x)\n",
    "        grad = d1(current_x)   # 求当前的梯度\n",
    "        if abs(grad) < e:    # 梯度收敛在误差范围内\n",
    "            break\n",
    "        current_x = current_x - learn_rate * grad    # 一维梯度的迭代公式\n",
    "#         print(\"第{}次迭代逼近值为{}\".format(i+1, current_x))\n",
    "    print(\"最小值为：\", current_x)\n",
    "    print(\"最小值保留小数点后6位：%.6f\" %(current_x))\n",
    "    return current_x"
   ]
  },
  {
   "cell_type": "code",
   "execution_count": 225,
   "id": "1ed7d28a",
   "metadata": {},
   "outputs": [],
   "source": [
    "# 显示目标函数曲线及梯度下降最小值逼近情况\n",
    "def ShowLine(min_X, min_Y):\n",
    "    x = np.arange(-20,20,0.1)\n",
    "    plt.plot(x, f(x), color='red')\n",
    "    plt.scatter(min_X, min_Y)\n",
    "    plt.show()"
   ]
  },
  {
   "cell_type": "code",
   "execution_count": 226,
   "id": "578c9232",
   "metadata": {},
   "outputs": [
    {
     "name": "stdout",
     "output_type": "stream",
     "text": [
      "最小值为： 0.00040141341357355104\n",
      "最小值保留小数点后6位：0.000401\n"
     ]
    },
    {
     "data": {
      "image/png": "[encoded data removed]",
      "text/plain": [
       "<Figure size 640x480 with 1 Axes>"
      ]
     },
     "metadata": {},
     "output_type": "display_data"
    }
   ],
   "source": [
    "current_x = Gradient_Descent_d1()\n",
    "min_X = trajectory\n",
    "min_Y = f(min_X)\n",
    "ShowLine(min_X, min_Y)"
   ]
  },
  {
   "cell_type": "markdown",
   "id": "f4de8295",
   "metadata": {},
   "source": []
  }
 ],
 "metadata": {
  "kernelspec": {
   "display_name": "Python 3 (ipykernel)",
   "language": "python",
   "name": "python3"
  },
  "language_info": {
   "codemirror_mode": {
    "name": "ipython",
    "version": 3
   },
   "file_extension": ".py",
   "mimetype": "text/x-python",
   "name": "python",
   "nbconvert_exporter": "python",
   "pygments_lexer": "ipython3",
   "version": "3.10.4"
  }
 },
 "nbformat": 4,
 "nbformat_minor": 5
}
