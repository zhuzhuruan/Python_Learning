{
 "cells": [
  {
   "cell_type": "markdown",
   "id": "58a40e72",
   "metadata": {},
   "source": [
    "# 一、内积"
   ]
  },
  {
   "cell_type": "markdown",
   "id": "85e1ea48",
   "metadata": {},
   "source": [
    "设列向量a = \n",
    "$\\begin{bmatrix}\n",
    "{a_{1}}\\\\\n",
    "{a_{2}}\\\\\n",
    "{\\vdots}\\\\\n",
    "{a_{n}}\\\\\n",
    "\\end{bmatrix}$，列向量b = $\\begin{bmatrix}\n",
    "{b_{1}}\\\\\n",
    "{b_{2}}\\\\\n",
    "{\\vdots}\\\\\n",
    "{b_{n}}\\\\\n",
    "\\end{bmatrix}$，则上述两个列向量的内积（也叫点积）为：\n",
    "\n",
    "$$\n",
    "a \\cdot b = a^T \\times b = \\begin{bmatrix}\n",
    "{a_{1}} & {a_{2}} & {\\cdots} & {a_{n}}\n",
    "\\end{bmatrix} \\times \\begin{bmatrix}\n",
    "{b_{1}}\\\\\n",
    "{b_{2}}\\\\\n",
    "{\\vdots}\\\\\n",
    "{b_{n}}\\\\\n",
    "\\end{bmatrix} = a_1\\cdot b_1 + a_2\\cdot b_2 + \\cdots + a_n\\cdot b_n  \n",
    "$$"
   ]
  },
  {
   "cell_type": "markdown",
   "id": "c3dca2ad",
   "metadata": {},
   "source": [
    "如果一个列向量乘以一个行向量，得到的是一个矩阵:"
   ]
  },
  {
   "cell_type": "markdown",
   "id": "1221f472",
   "metadata": {},
   "source": [
    "$$\n",
    "a \\times b = \n",
    "\\begin{bmatrix}\n",
    "{a_{1}}\\\\\n",
    "{a_{2}}\\\\\n",
    "{\\vdots}\\\\\n",
    "{a_{n}}\\\\\n",
    "\\end{bmatrix} \\times \\begin{bmatrix}\n",
    "{b_{1}} & {b_{2}} & {\\cdots} & {b_{n}}\n",
    "\\end{bmatrix} \n",
    "= \\begin{bmatrix}\n",
    "{a_{1} \\cdot b_{1}}&{a_{1} \\cdot b_{2}}&{\\cdots}&{a_{1} \\cdot b_{n}}\\\\\n",
    "{a_{2} \\cdot b_{1}}&{a_{2} \\cdot b_{2}}&{\\cdots}&{a_{2} \\cdot b_{n}}\\\\\n",
    "{\\vdots}&{\\vdots}&{\\ddots}&{\\vdots}\\\\\n",
    "{a_{n} \\cdot b_{1}}&{a_{n} \\cdot b_{2}}&{\\cdots}&{a_{n} \\cdot b_{n}}\\\\\n",
    "\\end{bmatrix} \n",
    "$$"
   ]
  },
  {
   "cell_type": "markdown",
   "id": "73277f53",
   "metadata": {},
   "source": [
    "# 二、感知机"
   ]
  },
  {
   "cell_type": "markdown",
   "id": "57737915",
   "metadata": {},
   "source": [
    "## 2.1 概念"
   ]
  },
  {
   "cell_type": "markdown",
   "id": "9d2dc263",
   "metadata": {},
   "source": [
    "- 感知机是根据输入实例的特征向量$x$对其进行二类分类的线性分类模型：\n",
    "\n",
    "$$\n",
    "f(x)=\\operatorname{sign}(w \\cdot x+b)\n",
    "$$\n",
    "\n",
    "$$感知机模型对应于输入空间（特征空间）中的分离超平面w \\cdot x+b=0。$$\n",
    "\n",
    "\n",
    "\n",
    "- 感知机学习的策略是极小化损失函数：\n",
    "\n",
    "$$\n",
    "\\min _{w, b} L(w, b)=-\\sum_{x_{i} \\in M} y_{i}\\left(w \\cdot x_{i}+b\\right)\n",
    "$$\n",
    "\n",
    "$$损失函数对应于误分类点到分离超平面的总距离。$$\n",
    "\n",
    "- 感知机学习算法是基于随机梯度下降法的对损失函数的最优化算法，有原始形式和对偶形式。算法简单且易于实现。原始形式中，首先任意选取一个超平面，然后用梯度下降法不断极小化目标函数。在这个过程中一次随机选取一个误分类点使其梯度下降。\n",
    " \n",
    "- 当训练数据集线性可分时，感知机学习算法是收敛的。感知机算法在训练数据集上的误分类次数$k$满足不等式：\n",
    "\n",
    "$$\n",
    "k \\leqslant\\left(\\frac{R}{\\gamma}\\right)^{2}\n",
    "$$\n",
    "\n",
    "**当训练数据集线性可分时，感知机学习算法存在无穷多个解，其解由于不同的初值或不同的迭代顺序而可能有所不同。**"
   ]
  },
  {
   "cell_type": "markdown",
   "id": "a4be633d",
   "metadata": {},
   "source": [
    "## 2.2 算法流程"
   ]
  },
  {
   "cell_type": "markdown",
   "id": "4a722654",
   "metadata": {},
   "source": [
    "- 输入：\n",
    "\n",
    "    训练数据集$T = {( x_1,y_1 ),(x_2,y_2 ), \\cdots , ( x_N,y_N )}$ ，其中$x_i \\in χ = R^n, y_i \\in Y = {−1, +1}，i=1,2,\\cdots,N$;\n",
    "\n",
    "    学习率$\\eta(0 \\gt \\eta \\lt 1)$;\n",
    "    \n",
    "\n",
    "- 输出：w , b \n",
    "\n",
    "\n",
    "- 感知机模型：$f(x) = sign(w \\cdot x + b)$\n",
    "\n",
    "\n",
    "- 解的过程：\n",
    "\n",
    "    (1) 选取初值$w_0 , b_0$ \n",
    "    \n",
    "    (2) 在训练集中选取数据$(x_i,y_i)$\n",
    "    \n",
    "    (3) 如果$y_i(w \\cdot x_i + b) \\le 0$\n",
    "    \n",
    "$$\n",
    "w\\gets w+\\eta y_ix_i \n",
    "$$\n",
    "$$\n",
    "b \\gets b+\\eta y_i \n",
    "$$\n",
    " \n",
    "    (4) 转至（2），直至训练集中没有误分类点\n",
    "    \n",
    "当一个点实例点被误分类，即位于分离超平面的错误一侧时，则调整 $w , b$的值，使分离超平面向该分类点的一侧移动，以减少该误分类点与超平面间的距离，直至超平面超过误分类点使其被正确分类。"
   ]
  },
  {
   "cell_type": "markdown",
   "id": "189ac967",
   "metadata": {},
   "source": [
    "## 2.3 算法示例"
   ]
  },
  {
   "cell_type": "markdown",
   "id": "326f8978",
   "metadata": {},
   "source": [
    "在训练集中，其正实例点是$x_1=(3,3)^T，x_2=(4,3)^T$，其负实例点是$x_3=(1,1)^T$，试用感知机学习算法的原始形式求感知机模型$f(x)=sign(w \\cdot x+b)$。这里，$w=(w^{(1)},w^{(2)})^T，x=(x^{(1)},x^{(2)})^T$。"
   ]
  },
  {
   "cell_type": "markdown",
   "id": "b2410b58",
   "metadata": {},
   "source": [
    "思路：\n",
    "\n",
    "构建最优化问题：\n",
    "$$\n",
    "\\min_{w,b}L(w,b)=-\\sum_{x_i \\in M}y_i(w·x_i+b)\n",
    "$$\n",
    "\n",
    "按照上述算法流程求解w , b , $\\eta$ =1。\n",
    "\n",
    "解：\n",
    "\n",
    "（1）取初值$w_0=0, b_0=0$\n",
    "\n",
    "（2）取点$x_1=(3,3)^T, y_1(w_0 \\cdot x_1+b_0)=0,满足y_i(w·x_i+b)\\le 0$,未能被正确分类，故更新$w,b$\n",
    "\n",
    "$$\n",
    "w_1 = w_0 + \\eta y_1x_1 = (3,3)^T，b_1=b_0+1\n",
    "$$\n",
    "\n",
    "得到线性模型：\n",
    "\n",
    "$$\n",
    "w_1 x + b_1 = \\begin{bmatrix}\n",
    "{3}\\\\\n",
    "{3}\\\\\n",
    "\\end{bmatrix} \\cdot \\begin{bmatrix}\n",
    "{x^{(1)}}\\\\\n",
    "{x^{(2)}}\\\\\n",
    "\\end{bmatrix} + 1 = 3x^{(1)} + 3x^{(2)}+1\n",
    "$$\n",
    "\n",
    "（3）取点$x_1,x_2,显然y_i(w·x_i+b)\\gt 0$,即被正确分类，不修改$w,b$；取点$x_3=(1,1)^T, y_3(w_1 \\cdot x_3+b_1)\\lt 0,满足y_i(w·x_i+b)\\lt 0$,未能被正确分类，故更新$w,b$\n",
    "\n",
    "$$w_2 = w_1 + \\eta y_3x_3 = (3,3)^T+(-1)*(1,1)^T=(2,2)^T，b_2=b_1-1=0$$\n",
    "\n",
    "得到线性模型：\n",
    "\n",
    "$$\n",
    "w_2 x + b_2 = \\begin{bmatrix}\n",
    "{2}\\\\\n",
    "{2}\\\\\n",
    "\\end{bmatrix} \\cdot \\begin{bmatrix}\n",
    "{x^{(1)}}\\\\\n",
    "{x^{(2)}}\\\\\n",
    "\\end{bmatrix} + 0 = 2x^{(1)} + 2x^{(2)}\n",
    "$$\n",
    "\n",
    "（4）每次更新 w , b w,b w,b 就要从新遍历整个训练集，如此继续下去，直到\n",
    "\n",
    "$$w_7 = (1,1)^T，b_7=-3$$\n",
    "\n",
    "$$w_7 \\cdot x+b_7 =  x^{(1)} + x^{(2)}-3$$\n",
    "\n",
    "对所有数据点$y_i(w_7 \\cdot x_i+b_7) \\gt 0$，没有误分类点，损失函数达到极小。\n",
    "\n",
    "分离超平面为：$$x^{(1)} + x^{(2)}-3=0$$\n",
    "\n",
    "感知机模型为：$$f(x)=sign(x^{(1)} + x^{(2)}-3)$$"
   ]
  },
  {
   "cell_type": "markdown",
   "id": "5cb08734",
   "metadata": {},
   "source": [
    "## 2.4 代码实现"
   ]
  },
  {
   "cell_type": "code",
   "execution_count": 3,
   "id": "923ddc62",
   "metadata": {},
   "outputs": [],
   "source": [
    "import pandas as pd\n",
    "import numpy as np\n",
    "from sklearn.datasets import load_iris\n",
    "import matplotlib.pyplot as plt\n",
    "%matplotlib inline"
   ]
  },
  {
   "cell_type": "code",
   "execution_count": 14,
   "id": "f389e75b",
   "metadata": {},
   "outputs": [],
   "source": [
    "## load data\n",
    "iris = load_iris()\n",
    "df = pd.DataFrame(iris.data,columns=iris.feature_names)   # feature_names:特征值\n",
    "df['label']=iris.target    # target：鸢尾花分类：0-setosa；1-versicolor；2-virginica"
   ]
  },
  {
   "cell_type": "code",
   "execution_count": 15,
   "id": "1c448653",
   "metadata": {},
   "outputs": [],
   "source": [
    "df.columns = [\n",
    "    'sepal length', 'sepal width', 'petal length', 'petal width', 'label'\n",
    "]"
   ]
  },
  {
   "cell_type": "code",
   "execution_count": 18,
   "id": "401ca10b",
   "metadata": {},
   "outputs": [
    {
     "data": {
      "text/plain": [
       "0    50\n",
       "1    50\n",
       "2    50\n",
       "Name: label, dtype: int64"
      ]
     },
     "execution_count": 18,
     "metadata": {},
     "output_type": "execute_result"
    }
   ],
   "source": [
    "df.label.value_counts()"
   ]
  },
  {
   "cell_type": "code",
   "execution_count": null,
   "id": "17af0ec5",
   "metadata": {},
   "outputs": [],
   "source": []
  }
 ],
 "metadata": {
  "kernelspec": {
   "display_name": "Python 3 (ipykernel)",
   "language": "python",
   "name": "python3"
  },
  "language_info": {
   "codemirror_mode": {
    "name": "ipython",
    "version": 3
   },
   "file_extension": ".py",
   "mimetype": "text/x-python",
   "name": "python",
   "nbconvert_exporter": "python",
   "pygments_lexer": "ipython3",
   "version": "3.10.4"
  }
 },
 "nbformat": 4,
 "nbformat_minor": 5
}
