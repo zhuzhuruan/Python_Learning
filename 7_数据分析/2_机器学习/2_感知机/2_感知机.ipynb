{
 "cells": [
  {
   "cell_type": "markdown",
   "id": "12cd11b6",
   "metadata": {},
   "source": [
    "# 一、内积"
   ]
  },
  {
   "cell_type": "markdown",
   "id": "1baa9315",
   "metadata": {},
   "source": [
    "设列向量a = \n",
    "$\\begin{bmatrix}\n",
    "{a_{1}}\\\\\n",
    "{a_{2}}\\\\\n",
    "{\\vdots}\\\\\n",
    "{a_{n}}\\\\\n",
    "\\end{bmatrix}$，列向量b = $\\begin{bmatrix}\n",
    "{b_{1}}\\\\\n",
    "{b_{2}}\\\\\n",
    "{\\vdots}\\\\\n",
    "{b_{n}}\\\\\n",
    "\\end{bmatrix}$，则上述两个列向量的内积（也叫点积）为：\n",
    "\n",
    "$$\n",
    "a \\cdot b = a^T \\times b = \\begin{bmatrix}\n",
    "{a_{1}} & {a_{2}} & {\\cdots} & {a_{n}}\n",
    "\\end{bmatrix} \\times \\begin{bmatrix}\n",
    "{b_{1}}\\\\\n",
    "{b_{2}}\\\\\n",
    "{\\vdots}\\\\\n",
    "{b_{n}}\\\\\n",
    "\\end{bmatrix} = a_1\\cdot b_1 + a_2\\cdot b_2 + \\cdots + a_n\\cdot b_n  \n",
    "$$"
   ]
  },
  {
   "cell_type": "markdown",
   "id": "4dd7ddb6",
   "metadata": {},
   "source": [
    "如果一个列向量乘以一个行向量，得到的是一个矩阵:"
   ]
  },
  {
   "cell_type": "markdown",
   "id": "2998221c",
   "metadata": {},
   "source": [
    "$$\n",
    "a \\times b = \n",
    "\\begin{bmatrix}\n",
    "{a_{1}}\\\\\n",
    "{a_{2}}\\\\\n",
    "{\\vdots}\\\\\n",
    "{a_{n}}\\\\\n",
    "\\end{bmatrix} \\times \\begin{bmatrix}\n",
    "{b_{1}} & {b_{2}} & {\\cdots} & {b_{n}}\n",
    "\\end{bmatrix} \n",
    "= \\begin{bmatrix}\n",
    "{a_{1} \\cdot b_{1}}&{a_{1} \\cdot b_{2}}&{\\cdots}&{a_{1} \\cdot b_{n}}\\\\\n",
    "{a_{2} \\cdot b_{1}}&{a_{2} \\cdot b_{2}}&{\\cdots}&{a_{2} \\cdot b_{n}}\\\\\n",
    "{\\vdots}&{\\vdots}&{\\ddots}&{\\vdots}\\\\\n",
    "{a_{n} \\cdot b_{1}}&{a_{n} \\cdot b_{2}}&{\\cdots}&{a_{n} \\cdot b_{n}}\\\\\n",
    "\\end{bmatrix} \n",
    "$$"
   ]
  },
  {
   "cell_type": "code",
   "execution_count": null,
   "id": "6b994ce7",
   "metadata": {},
   "outputs": [],
   "source": []
  }
 ],
 "metadata": {
  "kernelspec": {
   "display_name": "Python 3 (ipykernel)",
   "language": "python",
   "name": "python3"
  },
  "language_info": {
   "codemirror_mode": {
    "name": "ipython",
    "version": 3
   },
   "file_extension": ".py",
   "mimetype": "text/x-python",
   "name": "python",
   "nbconvert_exporter": "python",
   "pygments_lexer": "ipython3",
   "version": "3.9.13"
  }
 },
 "nbformat": 4,
 "nbformat_minor": 5
}
