{
 "cells": [
  {
   "cell_type": "markdown",
   "metadata": {
    "collapsed": true
   },
   "source": [
    "# 第19章 马尔可夫链蒙特卡罗法"
   ]
  },
  {
   "cell_type": "markdown",
   "metadata": {
    "collapsed": true
   },
   "source": [
    "## 习题19.1"
   ]
  },
  {
   "cell_type": "markdown",
   "metadata": {},
   "source": [
    "&emsp;&emsp;用蒙特卡罗积分法求\n",
    "$$\n",
    "\\int_{-\\infty}^{\\infty} x^2 \\exp \\left( - \\frac{x^2}{2}\\right) \\mathrm{d} x\n",
    "$$"
   ]
  },
  {
   "cell_type": "markdown",
   "metadata": {},
   "source": [
    "**解答：**"
   ]
  },
  {
   "cell_type": "markdown",
   "metadata": {},
   "source": [
    "**解答思路：**\n",
    "\n",
    "1. 给出蒙特卡罗积分计算\n",
    "2. 将所积分的函数分解，得到其数学期望表示形式\n",
    "3. 自编程实现，使用样本均值求近似计算积分"
   ]
  },
  {
   "cell_type": "markdown",
   "metadata": {},
   "source": [
    "**解答步骤**"
   ]
  },
  {
   "cell_type": "markdown",
   "metadata": {},
   "source": [
    "**第1步：蒙特卡罗积分计算**"
   ]
  },
  {
   "cell_type": "markdown",
   "metadata": {},
   "source": [
    "&emsp;&emsp;根据书中第353页至354页关于蒙特卡罗积分法的描述：\n",
    "> &emsp;&emsp;假设有一个函数 $h(x)$，目标是计算该函数的积分\n",
    "> $$\n",
    "\\int_{\\mathcal{X}} h(x) \\mathrm{d} x\n",
    "$$\n",
    "> &emsp;&emsp;如果能够将函数 $h(x)$ 分解成一个函数 $f(x)$ 和一个概率密度函数 $p(x)$ 的乘积的形式, 那么就有\n",
    "> $$\n",
    "\\int_{\\mathcal{X}} h(x) \\mathrm{d} x = \\int_{\\mathcal{X}} f(x) p(x) \\mathrm{d} x = E_{p(x)}[f(x)]\n",
    "$$\n",
    "> 于是函数 $h(x)$ 的积分可以表示为函数 $f(x)$ 关于概率密度函数 $p(x)$ 的数学期望。实际上, 给定一个概率密度函数 $p(x)$, 只要取 $\\displaystyle f(x)=\\frac{h(x)}{p(x)}$，就可得上式。就是说, 任何一个函数的积分都可以表示为某一个函数的数学期望的形式。而函数的数学期望又可以通过函数的样本均值估计。于是，就可以利用样本均值来近似计算积分。\n",
    "> $$\n",
    "\\int_{\\mathcal{X}} h(x) \\mathrm{d} x = E_{p(x)}[f(x)] \\approx \\frac{1}{n} \\sum_{i=1}^{n} f (x_i)\n",
    "$$"
   ]
  },
  {
   "cell_type": "markdown",
   "metadata": {},
   "source": [
    "**第2步：将所积分的函数分解，其得到数学期望表示形式**"
   ]
  },
  {
   "cell_type": "markdown",
   "metadata": {},
   "source": [
    "&emsp;&emsp;取概率密度函数为标准正态分布的密度函数 $\\displaystyle p(x) = \\frac{1}{\\sqrt{2 \\pi}} \\exp \\left( - \\frac{x^2}{2} \\right)$，则\n",
    "$$\n",
    "f(x) = \\frac{h(x)}{p(x)} = \\frac{\\displaystyle x^2 \\exp \\left( - \\frac{x^2}{2} \\right)}{\\displaystyle \\frac{1}{\\sqrt{2 \\pi}} \\exp \\left(- \\frac{x^2}{2} \\right)} = \\sqrt{2 \\pi} x^{2}\n",
    "$$"
   ]
  },
  {
   "cell_type": "markdown",
   "metadata": {},
   "source": [
    "&emsp;&emsp;将原函数积分表示为函数 $f(x)$ 关于概率密度函数 $p(x)$ 的数学期望\n",
    "\n",
    "$$\n",
    "\\int_{\\mathcal{X}} x^2 \\exp \\left( - \\frac{x^2}{2} \\right) \\mathrm{d} x = \\int_{\\mathcal{X}} f(x) p(x) \\mathrm{d} x = E_{p(x)}[f(x)]\n",
    "$$"
   ]
  },
  {
   "cell_type": "markdown",
   "metadata": {},
   "source": [
    "**第3步：自编程实现，使用样本均值求近似计算积分**"
   ]
  },
  {
   "cell_type": "code",
   "execution_count": 1,
   "metadata": {},
   "outputs": [],
   "source": [
    "import numpy as np\n",
    "\n",
    "\n",
    "class MonteCarloIntegration:\n",
    "    def __init__(self, func_f, func_p):\n",
    "        # 所求期望的函数\n",
    "        self.func_f = func_f\n",
    "        # 抽样分布的概率密度函数\n",
    "        self.func_p = func_p\n",
    "\n",
    "    def solve(self, num_samples):\n",
    "        \"\"\"\n",
    "        蒙特卡罗积分法\n",
    "        :param num_samples: 抽样样本数量\n",
    "        :return: 样本的函数均值\n",
    "        \"\"\"\n",
    "        samples = self.func_p(num_samples)\n",
    "        vfunc_f = lambda x: self.func_f(x)\n",
    "        vfunc_f = np.vectorize(vfunc_f)\n",
    "        y = vfunc_f(samples)\n",
    "        return np.sum(y) / num_samples"
   ]
  },
  {
   "cell_type": "code",
   "execution_count": 2,
   "metadata": {},
   "outputs": [
    {
     "name": "stdout",
     "output_type": "stream",
     "text": [
      "抽样样本数量: 1000000.0\n",
      "近似解: 2.5071535842506965\n"
     ]
    }
   ],
   "source": [
    "def func_f(x):\n",
    "    \"\"\"定义函数f\"\"\"\n",
    "    return x ** 2 * np.sqrt(2 * np.pi)\n",
    "\n",
    "\n",
    "def func_p(n):\n",
    "    \"\"\"定义在分布上随机抽样的函数g\"\"\"\n",
    "    return np.random.standard_normal(int(n))\n",
    "\n",
    "\n",
    "# 设置样本数量\n",
    "num_samples = 1e6\n",
    "\n",
    "# 使用蒙特卡罗积分法进行求解\n",
    "monte_carlo_integration = MonteCarloIntegration(func_f, func_p)\n",
    "result = monte_carlo_integration.solve(num_samples)\n",
    "print(\"抽样样本数量:\", num_samples)\n",
    "print(\"近似解:\", result)"
   ]
  },
  {
   "cell_type": "markdown",
   "metadata": {},
   "source": [
    "## 习题19.2"
   ]
  },
  {
   "cell_type": "markdown",
   "metadata": {},
   "source": [
    "&emsp;&emsp;证明如果马尔可夫链是不可约的，且有一个状态是非周期的，则其他所有状态也是非周期的，即这个马尔可夫链是非周期的。"
   ]
  },
  {
   "cell_type": "markdown",
   "metadata": {},
   "source": [
    "**解答：**"
   ]
  },
  {
   "cell_type": "markdown",
   "metadata": {},
   "source": [
    "**解答思路：**  \n",
    "\n",
    "1. 给出马尔科夫链的基本定义\n",
    "2. 给出不可约的定义\n",
    "3. 给出非周期的定义\n",
    "4. 证明如果马尔可夫链是不可约的，所有状态周期都相同\n",
    "5. 证明原命题"
   ]
  },
  {
   "cell_type": "markdown",
   "metadata": {},
   "source": [
    "**解答步骤：**   "
   ]
  },
  {
   "cell_type": "markdown",
   "metadata": {},
   "source": [
    "**第1步：马尔可夫链**"
   ]
  },
  {
   "cell_type": "markdown",
   "metadata": {},
   "source": [
    "&emsp;&emsp;根据书中第355页定义19.1马尔科夫链的基本定义\n",
    "> **定义19.1（马尔科夫链）** 考虑一个随机变量的序列$X = \\{ X_0, X_1, \\cdots, X_t, \\cdots \\}$，这里$X_t$表示时刻$t$的随机变量，$t=0,1,2,\\cdots$。每个随机变量$X_t(t=0, 1, 2, \\cdots)$的取值集合相同，称为状态空间，表示为$\\mathcal{S}$。随机变量可以是离散的，也可以是连续的。以上随机变量的序列构成随机过程（stochastic process）。  \n",
    "> &emsp;&emsp;假设在时刻0的随机变量$X_0$遵循概率分布$P(X_0) = \\pi_0$，称为初始状态分布。在某个时刻$t \\geqslant 1$的随机变量$X_t$与前一时刻的随机变量$X_{t-1}$之间有条件分布$P(X_t | X_{t-1})$，如果$X_t$只依赖于$X_{t-1}$，而不依赖于过去的随机变量$\\{ X_0, X_1, \\cdots, X_{t-2}\\}$，这一性质称为马尔可夫性，即\n",
    "> $$\n",
    "P(X_t | X_0, X_1, \\cdots, X_{t-1}) = P(X_t | X_{t-1}), t=1,2,\\cdots\n",
    "$$\n",
    "> 具有马尔可夫性的随机序列$X = \\{ X_0, X_1, \\cdots, X_t, \\cdots \\}$称为马尔可夫链，或马尔可夫过程。条件概率分布$P(X_t | X_{t-1})$称为马尔可夫链的转移概率分布。转移概率分布决定了马尔可夫链的特性。"
   ]
  },
  {
   "cell_type": "markdown",
   "metadata": {},
   "source": [
    "&emsp;&emsp;根据书中第359页状态转移概率：\n",
    "> $$\n",
    "P_{ij}^t = P(X_t = i | X_0 = j)\n",
    "$$\n",
    "> 表示时刻0从状态$j$出发，时刻$t$到达状态$i$的$t$步转移概率。"
   ]
  },
  {
   "cell_type": "markdown",
   "metadata": {},
   "source": [
    "**第2步：不可约的定义**"
   ]
  },
  {
   "cell_type": "markdown",
   "metadata": {},
   "source": [
    "&emsp;&emsp;根据书中第363页关于不可约的定义\n",
    "\n",
    "> **定义19.3（不可约）**  设有马尔可夫链 $X= \\{ X_0, X_1, \\cdots, X_t, \\cdots \\}$，状态空间为 $\\mathcal{S}$，对于任意状态 $i, j \\in \\mathcal{S}$，如果存在一个时刻 $t(t>0)$ 满足\n",
    "> $$\n",
    "P (X_t = i | X_0 =j ) > 0\n",
    "$$\n",
    "> 也就是说，时刻0从状态 $j$ 出发, 时刻 $t$ 到达状态 $i$ 的概率大于0，则称此马尔可夫链 $X$ 是不可约的（irreducible），否则称马尔可夫链是可约的（reducible）。"
   ]
  },
  {
   "cell_type": "markdown",
   "metadata": {},
   "source": [
    "**第3步：非周期的定义**"
   ]
  },
  {
   "cell_type": "markdown",
   "metadata": {},
   "source": [
    "&emsp;&emsp;根据书中第363~364页关于非周期的定义\n",
    "> **定义19.4（非周期）** 设有马尔可夫链 $X = \\{X_0, X_1, \\cdots, X_t, \\cdots \\}$，状态空间为 $\\mathcal{S}$，对于任意状态 $i \\in \\mathcal{S}$，如果时刻0从状态 $i$ 出发，$t$ 时刻返回状态的所有时间长 $\\{ t: P( X_t = i | X_0 = i ) > 0 \\}$ 的最大公约数是1，则称此马尔可夫链 $X$ 是非周期的（aperiodic），否则称马尔可夫链是周期的（periodic）。"
   ]
  },
  {
   "cell_type": "markdown",
   "metadata": {},
   "source": [
    "**第4步：证明如果马尔可夫链是不可约的，所有状态周期都相同**"
   ]
  },
  {
   "cell_type": "markdown",
   "metadata": {},
   "source": [
    "&emsp;&emsp;如果该马尔可夫链是不可约的，则对于 $\\forall i, j \\in S$，必然存在时刻 $m, n (m > 0, n > 0)$ 满足 \n",
    "$$\n",
    "p_{ij}^{m} > 0, p_{ji}^{n}>0\n",
    "$$\n",
    "根据状态转移概率的定义，有 $p_{ij}^{m} = P ( X_m = i | X_0 = j), p_{ji}^{n} = P ( X_n = j | X_0 = i)$"
   ]
  },
  {
   "cell_type": "markdown",
   "metadata": {},
   "source": [
    "&emsp;&emsp;可得\n",
    "$$\n",
    "p_{i i}^{m+n} = \\sum_{k \\in S} p_{i k}^{m} * p_{k i}^{n} > p_{i j}^{m} * p_{j i}^{n}> 0\n",
    "$$"
   ]
  },
  {
   "cell_type": "markdown",
   "metadata": {},
   "source": [
    "&emsp;&emsp;则必然存在 $s$ 使得 $P_{j j}^{s}>0$，且满足 \n",
    "$$\n",
    "P_{i i}^{m+n+s} > P_{i j}^{m} * P_{j j}^{s} * P_{j i}^{n} > 0\n",
    "$$"
   ]
  },
  {
   "cell_type": "markdown",
   "metadata": {},
   "source": [
    "&emsp;&emsp;假设状态 $i, j$ 的周期分别是 $d(i), d(j)$，由上两式可知\n",
    "$$\n",
    "(m+n) \\mod d(i) = 0 \\\\\n",
    "(m+n+s) \\mod d(i) = 0\n",
    "$$\n",
    "&emsp;&emsp;所以 $s \\mod d(i) = 0$ 。"
   ]
  },
  {
   "cell_type": "markdown",
   "metadata": {},
   "source": [
    "&emsp;&emsp;又因为 $P_{j j}^{s} > 0$，所以 $s \\mod d(j) = 0$。因此 $d(i) \\mod d(j) = 0$。同理可得 $d(j) \\mod d(i) = 0$  \n",
    "\n",
    "&emsp;&emsp;故 $d(i)==d(j)$，可得如果马尔可夫链是不可约的，所有状态周期都是相同的。"
   ]
  },
  {
   "cell_type": "markdown",
   "metadata": {},
   "source": [
    "**第5步：证明原命题**\n",
    "\n",
    "&emsp;&emsp;在不可约的马尔可夫链中如果有一个状态的是非周期的，即其周期为1，则其他所有状态的周期也为1，所以该马尔可夫链是非周期的。原命题得证。"
   ]
  },
  {
   "cell_type": "markdown",
   "metadata": {},
   "source": [
    "## 习题19.3"
   ]
  },
  {
   "cell_type": "markdown",
   "metadata": {},
   "source": [
    "&emsp;&emsp;验证具有以下转移概率矩阵的马尔可夫链是可约的，但是非周期的。\n",
    "\n",
    "$$\n",
    "P=\\left[\\begin{array}{cccc}\n",
    "1 / 2 & 1 / 2 & 0 & 0 \\\\\n",
    "1 / 2 & 0 & 1 / 2 & 0 \\\\\n",
    "0 & 1 / 2 & 0 & 0 \\\\\n",
    "0 & 0 & 1 / 2 & 1\n",
    "\\end{array}\\right]\n",
    "$$"
   ]
  },
  {
   "cell_type": "markdown",
   "metadata": {},
   "source": [
    "**解答：**"
   ]
  },
  {
   "cell_type": "markdown",
   "metadata": {},
   "source": [
    "**解答思路：**\n",
    "\n",
    "1. 给出平稳分布的定义\n",
    "2. 计算该马尔可夫链的平稳分布\n",
    "3. 验证该马尔可夫链是可约的\n",
    "4. 验证该马尔可夫链是非周期的"
   ]
  },
  {
   "cell_type": "markdown",
   "metadata": {},
   "source": [
    "**解答步骤：**   "
   ]
  },
  {
   "cell_type": "markdown",
   "metadata": {},
   "source": [
    "**第1步：平稳分布的定义**"
   ]
  },
  {
   "cell_type": "markdown",
   "metadata": {},
   "source": [
    "&emsp;&emsp;根据书中第360页平稳分布的定义：\n",
    "> **定义19.2（平稳分布）** 设有马尔可夫链 $X=\\{ X_0, X_1, \\cdots, X_t, \\cdots \\}$，其状态空间为 $\\mathcal{S}$，转移概率矩阵为 $P = (p_{i j})$，如果存在状态空间 $\\mathcal{S}$ 上的一个分布\n",
    "> $$\n",
    "\\pi = \\left[ \\begin{array}{c}\n",
    "\\pi_1 \\\\\n",
    "\\pi_2 \\\\\n",
    "\\vdots\n",
    "\\end{array} \\right]\n",
    "$$\n",
    "> 使得\n",
    "> $$\n",
    "\\pi = P \\pi\n",
    "$$\n",
    "> 则称 $\\pi$ 为马尔可夫链 $X = \\{X_0, X_1, \\cdots, X_t, \\cdots \\}$ 的平稳分布。"
   ]
  },
  {
   "cell_type": "markdown",
   "metadata": {},
   "source": [
    "&emsp;&emsp;根据书中第360页引理19.1：\n",
    "> **引理19.1** 给定一个马尔可夫链 $ X = \\{X_0, X_1, \\cdots, X_t, \\cdots \\}$，状态空间为 $\\mathcal{S}$，转移概率矩阵为 $P = (p_{i j})$，则分布 $\\pi = (\\pi_1, \\pi_2, \\cdots )^T$ 为 $X$ 的平稳分布的充分必要条件是 $ \\pi = (\\pi_1, \\pi_2, \\cdots )^T$ 是下列方程组的解：\n",
    "> $$\n",
    "\\begin{array}{l}\n",
    "\\displaystyle x_i = \\sum_j p_{i j} x_j, \\quad i = 1,2, \\cdots \\\\\n",
    "x_i \\geqslant 0, \\quad i = 1, 2, \\cdots \\\\\n",
    "\\displaystyle \\sum_i x_i = 1\n",
    "\\end{array}\n",
    "$$"
   ]
  },
  {
   "cell_type": "markdown",
   "metadata": {},
   "source": [
    "**第2步：计算该马尔可夫链的平稳分布**"
   ]
  },
  {
   "cell_type": "markdown",
   "metadata": {},
   "source": [
    "&emsp;&emsp;设平稳分布为 $\\pi = (x_1, x_2, x_3, x_4)^T$，则由引理19.1可得\n",
    "$$\n",
    "\\begin{array}{l}\n",
    "\\displaystyle x_1 = \\frac{1}{2} x_1 + \\frac{1}{2} x_2 \\\\\n",
    "\\displaystyle x_2 = \\frac{1}{2} x_1 + \\frac{1}{2} x_3 \\\\\n",
    "\\displaystyle x_3 = \\frac{1}{2} x_2 \\\\\n",
    "\\displaystyle x_4 = \\frac{1}{2} x_3 + 1 x_4 \\\\\n",
    "x_1 + x_2 + x_3 + x_4 = 1 \\\\\n",
    "x_i \\geqslant 0, \\quad i = 1, 2, 3, 4\n",
    "\\end{array}\n",
    "$$\n",
    "解方程组，得到唯一的平稳分布\n",
    "$$\n",
    "\\pi = (0, 0, 0, 1)^T\n",
    "$$"
   ]
  },
  {
   "cell_type": "markdown",
   "metadata": {},
   "source": [
    "**第3步：验证该马尔可夫链是不可约的**"
   ]
  },
  {
   "cell_type": "markdown",
   "metadata": {},
   "source": [
    "&emsp;&emsp;此马尔可夫链，转移到状态4后，就在该状态上循环跳转，不能到达状态1、状态2和状态3，最后停留在状态4，故该马尔可夫链是可约的。"
   ]
  },
  {
   "cell_type": "markdown",
   "metadata": {},
   "source": [
    "**第4步：验证该马尔可夫链是非周期的**"
   ]
  },
  {
   "cell_type": "markdown",
   "metadata": {},
   "source": [
    "1. 对于状态1，它返回状态1的最小时间长为1，故其所有时间长的最大公约数是1；\n",
    "2. 对于状态2，它通过$2 \\rightarrow 1 \\rightarrow 2$返回状态2的时间长为2，通过$2 \\rightarrow 1 \\rightarrow 1 \\rightarrow 2$返回状态2的时间长为3，故其所有时间长的最大公约数是1\n",
    "3. 对于状态3，它通过$3 \\rightarrow 2 \\rightarrow 3$返回状态3的时间长为2，通过$3 \\rightarrow 2 \\rightarrow 1 \\rightarrow 1 \\rightarrow 2 \\rightarrow 3$返回状态3的时间长为5，故其所有时间长的最大公约数是1\n",
    "4. 对于状态4，它返回状态4的最小时间长为1，故其所有时间长的最大公约数是1\n",
    "\n",
    "综上，该马尔可夫链是非周期的。"
   ]
  },
  {
   "cell_type": "markdown",
   "metadata": {},
   "source": [
    "## 习题19.4"
   ]
  },
  {
   "cell_type": "markdown",
   "metadata": {},
   "source": [
    "&emsp;&emsp;验证具有以下转移概率矩阵的马尔可夫链是不可约的，但是周期性的。\n",
    "\n",
    "$$\n",
    "P=\\left[\\begin{array}{cccc}\n",
    "0 & 1 / 2 & 0 & 0 \\\\\n",
    "1 & 0 & 1 / 2 & 0 \\\\\n",
    "0 & 1 / 2 & 0 & 1 \\\\\n",
    "0 & 0 & 1 / 2 & 0\n",
    "\\end{array}\\right]\n",
    "$$"
   ]
  },
  {
   "cell_type": "markdown",
   "metadata": {},
   "source": [
    "**解答：**"
   ]
  },
  {
   "cell_type": "markdown",
   "metadata": {},
   "source": [
    "**解答思路：**\n",
    "1. 计算该马尔可夫链的平稳分布\n",
    "2. 验证该马尔可夫链是不可约的\n",
    "3. 验证该马尔可夫链是周期性的"
   ]
  },
  {
   "cell_type": "markdown",
   "metadata": {},
   "source": [
    "**解答步骤：**   "
   ]
  },
  {
   "cell_type": "markdown",
   "metadata": {},
   "source": [
    "**第1步：计算该马尔可夫链的平稳分布**"
   ]
  },
  {
   "cell_type": "markdown",
   "metadata": {},
   "source": [
    "&emsp;&emsp;根据书中第360页关于平稳分布的定义和引理（同习题19.4），设平稳分布为 $\\pi=(x_{1}, x_{2}, x_{3}, x_{4})^{\\mathrm{T}}$，则由引理19.1可得：\n",
    "$$\n",
    "\\begin{array}{l}\n",
    "\\displaystyle x_1 = \\frac{1}{2} x_2 \\\\\n",
    "\\displaystyle x_2 = 1 x_1 + \\frac{1}{2} x_3 \\\\\n",
    "\\displaystyle x_3 = \\frac{1}{2} x_2 + 1 x_4 \\\\\n",
    "\\displaystyle x_4 = \\frac{1}{2} x_3 \\\\\n",
    "x_1 + x_2 + x_3 + x_4 = 1 \\\\\n",
    "x_i \\geqslant 0, \\quad i = 1, 2, 3, 4\n",
    "\\end{array}\n",
    "$$\n",
    "解方程组，得到唯一的平稳分布\n",
    "$$\n",
    "\\pi=(\\frac{1}{6}, \\frac{1}{3}, \\frac{1}{3}, \\frac{1}{6})^T\n",
    "$$"
   ]
  },
  {
   "cell_type": "markdown",
   "metadata": {},
   "source": [
    "**第2步：验证该马尔可夫链是不可约的**"
   ]
  },
  {
   "cell_type": "markdown",
   "metadata": {},
   "source": [
    "&emsp;&emsp;观察到平稳分布各项均大于0，说明此马尔可夫链从任意状态出发，经过若干步之后，可以到达任意状态，故该马尔可夫链是不可约的。"
   ]
  },
  {
   "cell_type": "markdown",
   "metadata": {},
   "source": [
    "**第3步：验证该马尔可夫链是周期性的**"
   ]
  },
  {
   "cell_type": "markdown",
   "metadata": {},
   "source": [
    "&emsp;&emsp;该马尔可夫链的转移仅发生在奇偶状态之间，从每个状态出发，返回该状态的时刻都是2的倍数，$\\{2, 4, 6, \\cdots, 2n\\}, n \\in N^*$。故该马尔可夫链是周期性的，其周期为2。"
   ]
  },
  {
   "cell_type": "markdown",
   "metadata": {},
   "source": [
    "## 习题19.5"
   ]
  },
  {
   "cell_type": "markdown",
   "metadata": {},
   "source": [
    "&emsp;&emsp;证明可逆马尔可夫链一定是不可约的。"
   ]
  },
  {
   "cell_type": "markdown",
   "metadata": {},
   "source": [
    "**解答：**"
   ]
  },
  {
   "cell_type": "markdown",
   "metadata": {},
   "source": [
    "**解答思路**\n",
    "\n",
    "1. 给出可逆马尔可夫链的定义\n",
    "2. 构造特殊的可逆马尔可夫链\n",
    "3. 验证其是可约的，原命题不成立"
   ]
  },
  {
   "cell_type": "markdown",
   "metadata": {},
   "source": [
    "**解答步骤**"
   ]
  },
  {
   "cell_type": "markdown",
   "metadata": {},
   "source": [
    "**第1步：可逆马尔可夫链**"
   ]
  },
  {
   "cell_type": "markdown",
   "metadata": {},
   "source": [
    "&emsp;&emsp;根据书中第366页可逆马尔可夫链的定义\n",
    "> **定义19.6（可逆马尔可夫链）** 设有马尔可夫链 $ X = \\{X_0, X_1, \\cdots, X_t, \\cdots \\}$，状态空间为 $\\mathcal{S}$，转移概率矩阵为 $P$，如果有状态分布 $\\pi = (\\pi_1, \\pi_2, \\cdots )^T$，对于任意状态 $i, j \\in \\mathcal{S}$，对任意一个时刻 $t$ 满足\n",
    "> $$\n",
    "P (X_t = i | X_{t-1} = j) \\pi_j = P (X_{t-1} = j | X_t = i) \\pi_i, \\quad i,j = 1,2, \\cdots\n",
    "$$\n",
    "> 或简写为\n",
    "> $$\n",
    "p_{j i} \\pi_j = p_{i j} \\pi_{i}, \\quad i, j=1,2, \\cdots\n",
    "$$\n",
    "> 则称此马尔可夫链 $X$ 为可逆马尔可夫链，上式称为细致平衡方程。"
   ]
  },
  {
   "cell_type": "markdown",
   "metadata": {},
   "source": [
    "**第2步：构造特殊的可逆马尔可夫链**"
   ]
  },
  {
   "cell_type": "markdown",
   "metadata": {},
   "source": [
    "&emsp;&emsp;对于以单位矩阵做转移矩阵的马尔可夫链，其转移矩阵P\n",
    "$$\n",
    "P = \\left [ \\begin{array}{cccc}\n",
    "1 & 0 & \\cdots & 0 \\\\\n",
    "0 & 1 & \\cdots & 0 \\\\\n",
    "\\vdots & \\vdots & \\ddots & \\vdots \\\\\n",
    "0 & 0 & 0 & 1\n",
    "\\end{array} \\right ]\n",
    "$$"
   ]
  },
  {
   "cell_type": "markdown",
   "metadata": {},
   "source": [
    "&emsp;&emsp;对于任意平稳分布 $\\pi$，满足$P \\pi = \\pi$ 恒成立，所以该马尔可夫链是可逆的。"
   ]
  },
  {
   "cell_type": "markdown",
   "metadata": {},
   "source": [
    "**第3步：验证其是可约的，原命题被证伪**"
   ]
  },
  {
   "cell_type": "markdown",
   "metadata": {},
   "source": [
    "&emsp;&emsp;对于任意状态 $i \\in S$，跳转到其他的状态 $j \\in S(j \\neq i)$ 的概率始终为0，即 $p^t_{i, j} = 0, \\forall t \\in N^{*}$。所以该马尔可夫链是可约的。\n",
    "\n",
    "&emsp;&emsp;这与原命题矛盾，故原命题不成立。"
   ]
  },
  {
   "cell_type": "markdown",
   "metadata": {},
   "source": [
    "## 习题19.6"
   ]
  },
  {
   "cell_type": "markdown",
   "metadata": {},
   "source": [
    "&emsp;&emsp;从一般的Metropolis-Hastings算法推导出单分量Metropolis-Hastings算法。"
   ]
  },
  {
   "cell_type": "markdown",
   "metadata": {},
   "source": [
    "**解答：**"
   ]
  },
  {
   "cell_type": "markdown",
   "metadata": {},
   "source": [
    "**解答思路：**\n",
    "\n",
    "1. 给出一般的Metropolis-Hastings算法\n",
    "2. 给出单分量Metropolis-Hastings算法的基本思想\n",
    "3. 推导单分量Metropolis-Hastings算法"
   ]
  },
  {
   "cell_type": "markdown",
   "metadata": {},
   "source": [
    "**解答步骤：**   "
   ]
  },
  {
   "cell_type": "markdown",
   "metadata": {},
   "source": [
    "**第1步：一般的Metropolis-Hastings算法**"
   ]
  },
  {
   "cell_type": "markdown",
   "metadata": {},
   "source": [
    "&emsp;&emsp;根据书中第373~374页Metropolis-Hastings算法：\n",
    "> **算法19.2（Metropolis-Hastings算法**  \n",
    "> 输入：抽样的目标分布的密度函数$p(x)$，函数$f(x)$；  \n",
    "> 输出：$p(x)$的随机样本$x_{m+1}, x_{m+2}, \\cdots, x_n$，函数样本均值$f_{m n}$；  \n",
    "> 参数：收敛步数$m$，迭代步数$n$。  \n",
    "> （1）任意选择一个初始值$x_0$  \n",
    "> （2） 对 $i=1,2, \\cdots, n$循环执行  \n",
    "> &emsp;&emsp;（a）设状态$x_{i-1} = x$，按照建议分布$q (x, x')$随机抽取一个候选状态$x'$。  \n",
    "> &emsp;&emsp;（b）计算接受概率\n",
    "> $$\n",
    "\\alpha (x, x') = \\min \\left \\{ 1, \\frac{p (x') q (x', x)}{p(x) q(x, x')} \\right \\}\n",
    "$$\n",
    "> &emsp;&emsp;（c）从区间$(0,1)$中按均匀分布随机抽取一个数$u$。  \n",
    "> &emsp;&emsp;&emsp;&emsp;&nbsp;若 $u \\leqslant \\alpha (x, x')$，则状态 $x_i = x'$；否则，状态 $x_i = x$。  \n",
    "> （3）得到样本集合 $ \\{ x_{m+1}, x_{m+2}, \\cdots, x_n \\}$  \n",
    "> 计算\n",
    "> $$\n",
    "f_{m n} = \\frac{1}{n-m} \\sum_{i = m + 1}^n f(x_i)\n",
    "$$"
   ]
  },
  {
   "cell_type": "markdown",
   "metadata": {},
   "source": [
    "**2. 理解单分量 Metropolis-Hastings 算法的基本思想**"
   ]
  },
  {
   "cell_type": "markdown",
   "metadata": {},
   "source": [
    "&emsp;&emsp;根据书中第374页单分量Metropolis-Hastings算法：\n",
    "> &emsp;&emsp;在 Metropolis-Hastings 算法中，通常需要对多元变量分布进行抽样，有时对多元变量分布的抽样是困难的。可以对多元变量的每一变量的条件分布依次分别进行抽样，从而实现对整个多元变量的一次抽样, 这就是单分量 Metropolis-Hastings 算法。  \n",
    "> &emsp;&emsp;假设马尔可夫链的状态由 $k$ 维随机变量表示\n",
    "> $$\n",
    "x = (x_1, x_2, \\cdots, x_k)^T\n",
    "$$\n",
    "> 其中 $x_{j}$ 表示随机变量 $x$ 的第 $j$ 个分量，$j=1,2, \\cdots, k$，而 $x^{(i)}$ 表示马尔可夫链在时刻 $i$ 的状态\n",
    "> $$\n",
    "x^{(i)} = (x_1^{(i)}, x_2^{(i)}, \\cdots, x_k^{(i)})^T, \\quad i = 1, 2, \\cdots, n\n",
    "$$\n",
    "> 其中 $x_j^{(i)}$ 是随机变量 $x^{(i)}$ 的第 $j$ 个分量，$j = 1, 2, \\cdots, k$。  \n",
    "> &emsp;&emsp;为了生成容量为 $n$ 的样本集合 $\\{ x^{(1)}, x^{(2)}, \\cdots, x^{(n)} \\}$，单分量 Metropolis-Hastings 算法由下面的 $k$ 步迭代实现 Metropolis-Hastings 算法的一次迭代。  \n",
    "> &emsp;&emsp;设在第 $(i-1)$ 次迭代结束时分量 $x_j$ 的取值为 $x_j^{(i-1)}$，在第 $i$ 次迭代的第 $j$ 步，对分量 $x_j$ 根据 Metropolis-Hastings 算法更新，得到其新的取值 $x_j^{(i)}$。首先，由建议分布 $q (x_j^{(i-1)}, x_j | x_{-j}^{(i)})$ 抽样产生分量 $x_j$ 的候选值 $x{'}_j^{(i)}$，这里 $x_{-j}^{(i)}$ 表示在第 $i$ 次迭代的第 $(j-1)$ 步后的 $x^{(i)}$ 除去 $x_j^{(i-1)}$ 的所有值，即\n",
    "> $$\n",
    "x_{-j}^{(i)}=(x_1^{(i)}, \\cdots, x_{j-1}^{(i)}, x_{j+1}^{(i-1)}, \\cdots, x_k^{(i-1)})^T\n",
    "$$\n",
    "> 其中分量 $1, 2, \\cdots, j-1$ 已经更新。然后，按照接受概率\n",
    "> $$\n",
    "\\alpha \\left( x_j^{(i-1)}, x{'}_j^{(i)} | x_{-j}^{(i)} \\right ) = \\min \\left\\{ 1, \\frac\n",
    "{p \\left( x{'}_j^{(i)} | x_{-j}^{(i)} \\right) q \\left( x{'}_j^{(i)}, x_j^{(i-1)} | x_{-j}^{(i)} \\right)}\n",
    "{p \\left( x_j^{(i-1)} | x_{-j}^{(i)} \\right) q \\left( x_j^{(i-1)}, x{'}_j^{(i)} | x_{-j}^{(i)} \\right)} \n",
    "\\right \\}\n",
    "$$\n",
    "> 抽样决定是否接受候选值 $x{'}_j^{(i)}$ 。如果 $x{'}_j^{(i)}$ 被接受，则令 $x_j^{(i)}=x{'}_j^{(i)}$；否则令 $x_j^{(i)} = x_{j}^{(i-1)}$。其余分量在第 $j$ 步不改变。马尔可夫链的转移概率为\n",
    "> $$\n",
    "p\\left( x_j^{(i-1)}, x{'}_j^{(i)} | x_{-j}^{(i)} \\right) \n",
    "= \\alpha \\left(\n",
    "x_j^{(i-1)}, x{'}_{j}^{(i)} | x_{-j}^{(i)} \\right) q \\left(x_j^{(i-1)}, x{'}_j^{(i)} | x_{-j}^{(i)} \\right)\n",
    "$$"
   ]
  },
  {
   "cell_type": "markdown",
   "metadata": {},
   "source": [
    "**3. 推导单分量 Metropolis-Hastings 算法**"
   ]
  },
  {
   "cell_type": "markdown",
   "metadata": {},
   "source": [
    "**单分量 Metropolis-Hastings 算法**  \n",
    "输入：抽样的目标分布的密度函数 $p(x)$，函数 $f(x)$，其中 $x = \\left( x_1, x_2, \\cdots, x_k \\right)^T$；  \n",
    "输出：$p(x)$ 的随机样本 $\\{ x^{(m+1)}, x^{(m+2)}, \\cdots, x^{(n)} \\}$，函数样本均值 $f_{m n}$；  \n",
    "参数：收敛步数 $m$, 迭代步数 $n$。  \n",
    "（1）任意选择一个初始值 $x_0$  \n",
    "（2）对 $i = 1, 2, \\cdots, n$ 循环执行  \n",
    "&emsp;&emsp;设在第 $(i-1)$ 次迭代结束时分量 $x_{j}$ 的取值为 $x_{j}^{(i-1)}$  \n",
    "&emsp;&emsp;（a）对 $j=1,2, \\cdots, k$ 循环执行  \n",
    "&emsp;&emsp;&emsp;&emsp;（i）在第 $i$ 次迭代的第 $j$ 步，由建议分布 $q (x_j^{(i-1)}, x_j | x_{-j}^{(i)})$ 抽样产生分量 $x_j$ 的候选值 $x{'}_j^{(i)}$，  \n",
    "&emsp;&emsp;&emsp;&emsp;&emsp;&emsp;&nbsp;&nbsp;这里 $x_{-j}^{(i)}$ 表示在第 $i$ 次迭代的第 $(j-1)$ 步后的 $x^{(i)}$ 除去 $x_j^{(i-1)}$ 的所有值，即\n",
    "$$\n",
    "x_{-j}^{(i)}=(x_1^{(i)}, \\cdots, x_{j-1}^{(i)}, x_{j+1}^{(i-1)}, \\cdots, x_k^{(i-1)})^T\n",
    "$$  \n",
    "&emsp;&emsp;&emsp;&emsp;（ii）计算接受概率\n",
    "$$\n",
    "\\alpha \\left( x_j^{(i-1)}, x{'}_j^{(i)} | x_{-j}^{(i)} \\right ) = \\min \\left\\{ 1, \\frac\n",
    "{p \\left( x{'}_j^{(i)} | x_{-j}^{(i)} \\right) q \\left( x{'}_j^{(i)}, x_j^{(i-1)} | x_{-j}^{(i)} \\right)}\n",
    "{p \\left( x_j^{(i-1)} | x_{-j}^{(i)} \\right) q \\left( x_j^{(i-1)}, x{'}_j^{(i)} | x_{-j}^{(i)} \\right)} \n",
    "\\right \\}\n",
    "$$\n",
    "&emsp;&emsp;&emsp;&emsp;（iii）从区间 $(0,1)$ 中按均匀分布随机抽取一个数 $u$。  \n",
    "&emsp;&emsp;&emsp;&emsp;&emsp;&emsp;&nbsp;&nbsp;若 $u \\leqslant \\alpha \\left( x_j^{(i-1)}, x{'}_j^{(i)} | x_{-j}^{(i)} \\right )$，则状态 $x_j^{(i)} = x{'}_j^{(i)}$；否则，状态 $x_j^{(i)} = x_j^{(i-1)}$。  \n",
    "（3）得到样本集合 $\\{ x^{(m+1)}, x^{(m+2)}, \\cdots, x^{(n)} \\}$  \n",
    "计算\n",
    "$$\n",
    "f_{m n} = \\frac{1}{n - m} \\sum_{i = m + 1}^n f (x^{(i)})\n",
    "$$"
   ]
  },
  {
   "cell_type": "markdown",
   "metadata": {},
   "source": [
    "## 习题19.7"
   ]
  },
  {
   "cell_type": "markdown",
   "metadata": {},
   "source": [
    "&emsp;&emsp;假设进行伯努利实验，后验概率为 $P(\\theta | y)$，其中变量 $y \\in \\{ 0, 1 \\}$ 表示实验可能的结果，变量 $\\theta$ 表示结果为 1 的概率。再假设先验概率 $P(\\theta)$ 遵循 Beta 分布 $B(\\alpha, \\beta)$，其中 $\\alpha = 1, \\beta = 1$；似然函数 $P(y | \\theta)$ 遵循二项分布$ \\text{Bin}(n, k, \\theta)$，其中 $n = 10, k = 4$，即实验进行 10 次其中结果为 1 的次数为 4。试用 Metropolis-Hastings 算法求后验概率分布 $P(\\theta | y) \\propto P(\\theta) P(y | \\theta)$ 的均值和方差。（提示：可采用 Metropolis 选择，即假设建议分布是对称的。）"
   ]
  },
  {
   "cell_type": "markdown",
   "metadata": {},
   "source": [
    "**解答：**"
   ]
  },
  {
   "cell_type": "markdown",
   "metadata": {},
   "source": [
    "**解题思路**\n",
    "\n",
    "1. 给出 Metropolis-Hastings 算法\n",
    "2. 写出目标分布和建议分布\n",
    "3. 自编程实现 Metropolis-Hastings 算法求解"
   ]
  },
  {
   "cell_type": "markdown",
   "metadata": {},
   "source": [
    "**解答步骤**"
   ]
  },
  {
   "cell_type": "markdown",
   "metadata": {},
   "source": [
    "**第1步：Metropolis-Hastings 算法**  \n",
    "\n",
    "&emsp;&emsp;Metropolis-Hastings 算法的步骤详见书中第373~374页算法19.2。"
   ]
  },
  {
   "cell_type": "markdown",
   "metadata": {},
   "source": [
    "**第2步：写出目标分布和建议分布**"
   ]
  },
  {
   "cell_type": "markdown",
   "metadata": {},
   "source": [
    "&emsp;&emsp;根据题意，可知后验概率 $P(\\theta) \\propto B(1, 1)$，后验函数 $P(y | \\theta) \\propto \\text{Bin}(10, 4, \\theta)$\n",
    "\n",
    "&emsp;&emsp;则后验概率分布\n",
    "$$\n",
    "\\begin{aligned}\n",
    "P(\\theta | y)\n",
    "& \\propto P(\\theta) P(y | \\theta) \\\\\n",
    "& \\propto B(1, 1) \\text{Bin}(10, 4, \\theta)\n",
    "\\end{aligned}\n",
    "$$\n",
    "\n",
    "&emsp;&emsp;可取建议分布为 $B(1, 1)$，接受分布为 $\\text{Bin}(10, 4, \\theta)$"
   ]
  },
  {
   "cell_type": "markdown",
   "metadata": {},
   "source": [
    "**第3步：自编程实现 Metropolis-Hastings 算法求解**"
   ]
  },
  {
   "cell_type": "code",
   "execution_count": 3,
   "metadata": {},
   "outputs": [],
   "source": [
    "import matplotlib.pyplot as plt\n",
    "import numpy as np\n",
    "from scipy.stats import beta, binom\n",
    "\n",
    "\n",
    "class MetropolisHastings:\n",
    "    def __init__(self, proposal_dist, accepted_dist, m=1e4, n=1e5):\n",
    "        \"\"\"\n",
    "        Metropolis Hastings\n",
    "\n",
    "        :param proposal_dist: 建议分布\n",
    "        :param accepted_dist: 接受分布\n",
    "        :param m: 收敛步数\n",
    "        :param n: 迭代步数\n",
    "        \"\"\"\n",
    "        self.proposal_dist = proposal_dist\n",
    "        self.accepted_dist = accepted_dist\n",
    "        self.m = m\n",
    "        self.n = n\n",
    "\n",
    "    @staticmethod\n",
    "    def __calc_acceptance_ratio(q, p, x, x_prime):\n",
    "        \"\"\"\n",
    "        计算接受概率\n",
    "\n",
    "        :param q: 建议分布\n",
    "        :param p: 接受分布\n",
    "        :param x: 上一状态\n",
    "        :param x_prime: 候选状态\n",
    "        \"\"\"\n",
    "        prob_1 = p.prob(x_prime) * q.joint_prob(x_prime, x)\n",
    "        prob_2 = p.prob(x) * q.joint_prob(x, x_prime)\n",
    "        alpha = np.min((1., prob_1 / prob_2))\n",
    "        return alpha\n",
    "\n",
    "    def solve(self):\n",
    "        \"\"\"\n",
    "        Metropolis Hastings 算法求解\n",
    "        \"\"\"\n",
    "        all_samples = np.zeros(self.n)\n",
    "        # (1) 任意选择一个初始值\n",
    "        x_0 = np.random.random()\n",
    "        for i in range(int(self.n)):\n",
    "            x = x_0 if i == 0 else all_samples[i - 1]\n",
    "            # (2.a) 从建议分布中抽样选取\n",
    "            x_prime = self.proposal_dist.sample()\n",
    "            # (2.b) 计算接受概率\n",
    "            alpha = self.__calc_acceptance_ratio(self.proposal_dist, self.accepted_dist, x, x_prime)\n",
    "            # (2.c) 从区间 (0,1) 中按均匀分布随机抽取一个数 u\n",
    "            u = np.random.uniform(0, 1)\n",
    "            # 根据 u <= alpha，选择 x 或 x_prime 进行赋值\n",
    "            if u <= alpha:\n",
    "                all_samples[i] = x_prime\n",
    "            else:\n",
    "                all_samples[i] = x\n",
    "\n",
    "        # (3) 随机样本集合\n",
    "        samples = all_samples[self.m:]\n",
    "        # 函数样本均值\n",
    "        dist_mean = samples.mean()\n",
    "        # 函数样本方差\n",
    "        dist_var = samples.var()\n",
    "        return samples[self.m:], dist_mean, dist_var\n",
    "\n",
    "    @staticmethod\n",
    "    def visualize(samples, bins=50):\n",
    "        \"\"\"\n",
    "        可视化展示\n",
    "        :param samples: 抽取的随机样本集合\n",
    "        :param bins: 频率直方图的分组个数\n",
    "        \"\"\"\n",
    "        fig, ax = plt.subplots()\n",
    "        ax.set_title('Metropolis Hastings')\n",
    "        ax.hist(samples, bins, alpha=0.7, label='Samples Distribution')\n",
    "        ax.set_xlim(0, 1)\n",
    "        ax.legend()\n",
    "        plt.show()"
   ]
  },
  {
   "cell_type": "code",
   "execution_count": 4,
   "metadata": {},
   "outputs": [],
   "source": [
    "class ProposalDistribution:\n",
    "    \"\"\"\n",
    "    建议分布\n",
    "    \"\"\"\n",
    "\n",
    "    @staticmethod\n",
    "    def sample():\n",
    "        \"\"\"\n",
    "        从建议分布中抽取一个样本\n",
    "        \"\"\"\n",
    "        # B(1,1)\n",
    "        return beta.rvs(1, 1, size=1)\n",
    "\n",
    "    @staticmethod\n",
    "    def prob(x):\n",
    "        \"\"\"\n",
    "        P(X = x) 的概率\n",
    "        \"\"\"\n",
    "        return beta.pdf(x, 1, 1)\n",
    "\n",
    "    def joint_prob(self, x_1, x_2):\n",
    "        \"\"\"\n",
    "        P(X = x_1, Y = x_2) 的联合概率\n",
    "        \"\"\"\n",
    "        return self.prob(x_1) * self.prob(x_2)"
   ]
  },
  {
   "cell_type": "code",
   "execution_count": 5,
   "metadata": {},
   "outputs": [],
   "source": [
    "class AcceptedDistribution:\n",
    "    \"\"\"\n",
    "    接受分布\n",
    "    \"\"\"\n",
    "\n",
    "    @staticmethod\n",
    "    def prob(x):\n",
    "        \"\"\"\n",
    "        P(X = x) 的概率\n",
    "        \"\"\"\n",
    "        # Bin(4, 10)\n",
    "        return binom.pmf(4, 10, x)"
   ]
  },
  {
   "cell_type": "code",
   "execution_count": 6,
   "metadata": {},
   "outputs": [
    {
     "name": "stderr",
     "output_type": "stream",
     "text": [
      "e:\\learningdisk\\learning_projects\\mypythonprojects\\statistical-learning-method-solutions-manual\\venv\\lib\\site-packages\\numpy\\core\\fromnumeric.py:87: VisibleDeprecationWarning: Creating an ndarray from ragged nested sequences (which is a list-or-tuple of lists-or-tuples-or ndarrays with different lengths or shapes) is deprecated. If you meant to do this, you must specify 'dtype=object' when creating the ndarray\n",
      "  return ufunc.reduce(obj, axis, dtype, out, **passkwargs)\n"
     ]
    },
    {
     "name": "stdout",
     "output_type": "stream",
     "text": [
      "均值: 0.4214185307283342\n",
      "方差: 0.019466091658555083\n"
     ]
    },
    {
     "data": {
      "image/png": "[encoded data removed]",
      "text/plain": [
       "<Figure size 432x288 with 1 Axes>"
      ]
     },
     "metadata": {
      "needs_background": "light"
     },
     "output_type": "display_data"
    }
   ],
   "source": [
    "# 收敛步数\n",
    "m = 1000\n",
    "# 迭代步数\n",
    "n = 10000\n",
    "\n",
    "# 建议分布\n",
    "proposal_dist = ProposalDistribution()\n",
    "# 接受分布\n",
    "accepted_dist = AcceptedDistribution()\n",
    "\n",
    "metropolis_hastings = MetropolisHastings(proposal_dist, accepted_dist, m, n)\n",
    "\n",
    "# 使用 Metropolis-Hastings 算法进行求解\n",
    "samples, dist_mean, dist_var = metropolis_hastings.solve()\n",
    "print(\"均值:\", dist_mean)\n",
    "print(\"方差:\", dist_var)\n",
    "\n",
    "# 对结果进行可视化\n",
    "metropolis_hastings.visualize(samples, bins=20)"
   ]
  },
  {
   "cell_type": "markdown",
   "metadata": {},
   "source": [
    "## 习题19.8"
   ]
  },
  {
   "cell_type": "markdown",
   "metadata": {},
   "source": [
    "&emsp;&emsp;设某试验可能有五种结果，其出现的概率分别为\n",
    "$$\n",
    "\\frac{\\theta}{4}+\\frac{1}{8}, \\quad \\frac{\\theta}{4}, \\quad \\frac{\\eta}{4}, \\quad \\frac{\\eta}{4}+\\frac{3}{8}, \\quad \\frac{1}{2}(1-\\theta-\\eta)\n",
    "$$\n",
    "模型含有两个参数 $\\theta$ 和 $\\eta$，都介于 0 和 1 之间。现有 22 次试验结果的观测值为\n",
    "$$\n",
    "y = (y_1, y_2, y_3, y_4, y_5) = (14, 1, 1, 1, 5)\n",
    "$$\n",
    "其中 $y_i$ 表示 22 次试验中第 $i$ 个结果出现的次数，$i = 1,2,\\cdots,5$。试用吉布斯抽样估计参数 $\\theta$ 和 $\\eta$ 的均值和方差。"
   ]
  },
  {
   "cell_type": "markdown",
   "metadata": {},
   "source": [
    "**解答**"
   ]
  },
  {
   "cell_type": "markdown",
   "metadata": {},
   "source": [
    "**解题思路**\n",
    "\n",
    "1. 给出吉布斯抽样算法\n",
    "2. 定义目标概率的密度函数和各参数的满条件分布\n",
    "3. 自编程实现吉布斯抽样算法进行求解"
   ]
  },
  {
   "cell_type": "markdown",
   "metadata": {},
   "source": [
    "**解答步骤**"
   ]
  },
  {
   "cell_type": "markdown",
   "metadata": {},
   "source": [
    "**第1步：吉布斯抽样算法**"
   ]
  },
  {
   "cell_type": "markdown",
   "metadata": {},
   "source": [
    "&emsp;&emsp;根据书中第377页关于吉布斯抽样算法的描述\n",
    "\n",
    "> **算法19.3(吉布斯抽样)**\n",
    "> 输入：目标概率分布的密度函数 $p(x)$，函数 $f(x)$；  \n",
    "> 输出：$p(x)$ 的随机样本 $x_{m+1}, x_{m+2}, \\cdots, x_{n}$，函数样本均值 $f_{m n}$；  \n",
    "> 参数：收敛步数 $m$，迭代步数 $n$。  \n",
    "> （1）初始化。给出初始样本 $x^{(0)} = \\left( x_1^{(0)}, x_2^{(0)}, \\cdots, x_k^{(0)} \\right)^T$。  \n",
    "> （2）对 $i$ 循环执行  \n",
    "> 设第 $(i-1)$ 次迭代结束时的样本为 $x^{(i-1)} = \\left( x_1^{(i-1)}, x_2^{(i-1)}, \\cdots, x_k^{(i-1)} \\right)^T$，则第 $i$ 次迭代进行如下几步操作：\n",
    "> $$\n",
    "\\left \\{ \n",
    "\\begin{array}{l}\n",
    "\\text {(1) 由满条件分布 } p \\left( x_1 | x_2^{(i-1)}, \\cdots, x_k^{(i-1)} \\right) \\text { 抽取 } x_1^{(i)} \\\\\n",
    "\\quad \\quad \\vdots \\\\\n",
    "\\text {(j) 由满条件分布 } p \\left( x_j | x_1^{(i)}, \\cdots, x_{j-1}^{(i)}, x_{j+1}^{(i-1)}, \\cdots, x_k^{(i-1)} \\right) \\text{ 抽取 } x_j^{(i)} \\\\\n",
    "\\quad \\quad \\vdots \\\\\n",
    "\\text {(k) 由满条件分布 } p \\left( x_k | x_1^{(i)}, \\cdots, x_{k-1}^{(i)} \\right) \\text { 抽取 } x_k^{(i)}\n",
    "\\end{array}\n",
    "\\right.\n",
    "$$\n",
    "> 得到第 $i$ 次迭代值 $x^{(i)} = \\left( x_1^{(i)}, x_2^{(i)}, \\cdots, x_k^{(i)} \\right)^T$。  \n",
    "> （3）得到样本集合\n",
    "> $$\n",
    "\\{ x^{(m+1)}, x^{(m+2)}, \\cdots, x^{(n)} \\}\n",
    "$$\n",
    "> （4）计算\n",
    "> $$\n",
    "f_{m n} = \\frac{1}{n-m} \\sum_{i=m+1}^n f (x^{(i)})\n",
    "$$"
   ]
  },
  {
   "cell_type": "markdown",
   "metadata": {},
   "source": [
    "**第2步：定义目标概率的密度函数和各参数的满条件分布**"
   ]
  },
  {
   "cell_type": "markdown",
   "metadata": {},
   "source": [
    "&emsp;&emsp;根据题意，可知目标概率的分布函数为\n",
    "$$\n",
    "\\begin{aligned}\n",
    "P\n",
    "&= (p_1, p_2, p_3, p_4, p_5) \\\\\n",
    "&= (\\frac{\\theta}{4}+\\frac{1}{8},\\ \\frac{\\theta}{4}, \\ \\frac{\\eta}{4}, \\ \\frac{\\eta}{4}+\\frac{3}{8}, \\ \\frac{1}{2}(1-\\theta-\\eta))\n",
    "\\end{aligned}\n",
    "$$"
   ]
  },
  {
   "cell_type": "markdown",
   "metadata": {},
   "source": [
    "&emsp;&emsp;可得：\n",
    "$$\n",
    "\\begin{array}{l}\n",
    "\\displaystyle \\frac{\\theta}{4}+\\frac{1}{8} > 0 \\\\\n",
    "\\displaystyle \\frac{\\theta}{4} > 0 \\\\\n",
    "\\displaystyle \\frac{\\eta}{4} > 0 \\\\\n",
    "\\displaystyle \\frac{\\eta}{4}+\\frac{3}{8} > 0 \\\\\n",
    "\\displaystyle \\frac{1}{2}(1-\\theta-\\eta) > 0 \\\\\n",
    "\\displaystyle \\frac{\\theta}{4}+\\frac{1}{8} + \\frac{\\theta}{4} + \\frac{\\eta}{4} + \\frac{\\eta}{4}+\\frac{3}{8} + \\frac{1}{2}(1-\\theta-\\eta) = 1 \\\\\n",
    "0 < \\theta < 1 \\\\\n",
    "0 < \\eta < 1 \\\\\n",
    "\\end{array}\n",
    "$$"
   ]
  },
  {
   "cell_type": "markdown",
   "metadata": {},
   "source": [
    "&emsp;&emsp;求解得到：\n",
    "\n",
    "$$\n",
    "\\begin{array}{l}\n",
    "\\theta + \\eta < 1 \\\\\n",
    "0 < \\theta < 1 \\\\\n",
    "0 < \\eta < 1 \\\\\n",
    "\\end{array}\n",
    "$$"
   ]
  },
  {
   "cell_type": "markdown",
   "metadata": {},
   "source": [
    "&emsp;&emsp;则参数 $\\theta$ 和 $\\eta$ 的满分布条件概率为\n",
    "$$\n",
    "P (\\theta | y, \\eta) = \\left( \\left( \\frac{\\theta}{4}+\\frac{1}{8} \\right)^{14}, \\ \\frac{\\theta}{4}, \\ \\frac{\\eta}{4}, \\ \\frac{\\eta}{4}+\\frac{3}{8}, \\ \\left( \\frac{1}{2} (1-\\theta-\\eta) \\right)^5 \\right), \\quad \\theta \\in (0, 1-\\eta) \\\\\n",
    "P (\\eta | y, \\theta) = \\left( \\left( \\frac{\\theta}{4}+\\frac{1}{8} \\right)^{14}, \\ \\frac{\\theta}{4}, \\ \\frac{\\eta}{4}, \\ \\frac{\\eta}{4}+\\frac{3}{8}, \\ \\left( \\frac{1}{2} (1-\\theta-\\eta) \\right)^5 \\right), \\quad \\eta \\in (0, 1-\\theta)\n",
    "$$"
   ]
  },
  {
   "cell_type": "markdown",
   "metadata": {},
   "source": [
    "**第2步：编程实现吉布斯抽样算法进行求解**"
   ]
  },
  {
   "cell_type": "code",
   "execution_count": 1,
   "metadata": {},
   "outputs": [],
   "source": [
    "import matplotlib.pyplot as plt\n",
    "import numpy as np\n",
    "\n",
    "\n",
    "class GibbsSampling:\n",
    "    def __init__(self, target_dist, j, m=1e4, n=1e5):\n",
    "        \"\"\"\n",
    "        Gibbs Sampling 算法\n",
    "\n",
    "        :param target_dist: 目标分布\n",
    "        :param j: 变量维度\n",
    "        :param m: 收敛步数\n",
    "        :param n: 迭代步数\n",
    "        \"\"\"\n",
    "        self.target_dist = target_dist\n",
    "        self.j = j\n",
    "        self.m = int(m)\n",
    "        self.n = int(n)\n",
    "\n",
    "    def solve(self):\n",
    "        \"\"\"\n",
    "        Gibbs Sampling 算法求解\n",
    "        \"\"\"\n",
    "        # (1) 初始化\n",
    "        all_samples = np.zeros((self.n, self.j))\n",
    "        # 任意选择一个初始值\n",
    "        x_0 = np.random.random(self.j)\n",
    "        # x_0 = np.array([0.5, 0.5])\n",
    "        # (2) 循环执行\n",
    "        for i in range(self.n):\n",
    "            x = x_0 if i == 0 else all_samples[i - 1]\n",
    "            # 满条件分布抽取\n",
    "            for k in range(self.j):\n",
    "                x[k] = self.target_dist.sample(x, k)\n",
    "            all_samples[i] = x\n",
    "        # (3) 得到样本集合\n",
    "        samples = all_samples[self.m:]\n",
    "        # (4) 计算函数样本均值\n",
    "        dist_mean = samples.mean(0)\n",
    "        dist_var = samples.var(0)\n",
    "        return samples[self.m:], dist_mean, dist_var\n",
    "\n",
    "    @staticmethod\n",
    "    def visualize(samples, bins=50):\n",
    "        \"\"\"\n",
    "        可视化展示\n",
    "        :param samples: 抽取的随机样本集合\n",
    "        :param bins: 频率直方图的分组个数\n",
    "        \"\"\"\n",
    "        fig, ax = plt.subplots()\n",
    "        ax.set_title('Gibbs Sampling')\n",
    "        ax.hist(samples[:, 0], bins, alpha=0.7, label='$\\\\theta$')\n",
    "        ax.hist(samples[:, 1], bins, alpha=0.7, label='$\\\\eta$')\n",
    "        ax.set_xlim(0, 1)\n",
    "        ax.legend()\n",
    "        plt.show()"
   ]
  },
  {
   "cell_type": "code",
   "execution_count": 2,
   "metadata": {},
   "outputs": [],
   "source": [
    "class TargetDistribution:\n",
    "    \"\"\"\n",
    "    目标概率分布\n",
    "    \"\"\"\n",
    "\n",
    "    def __init__(self):\n",
    "        # 联合概率值过小，可对建议分布进行放缩\n",
    "        self.c = self.__select_prob_scaler()\n",
    "\n",
    "    def sample(self, x, k=0):\n",
    "        \"\"\"\n",
    "        使用接受-拒绝方法从满条件分布中抽取新的分量 x_k\n",
    "        \"\"\"\n",
    "        theta, eta = x\n",
    "        if k == 0:\n",
    "            while True:\n",
    "                new_theta = np.random.uniform(0, 1 - eta)\n",
    "                alpha = np.random.uniform()\n",
    "                if (alpha * self.c) < self.__prob([new_theta, eta]):\n",
    "                    return new_theta\n",
    "        elif k == 1:\n",
    "            while True:\n",
    "                new_eta = np.random.uniform(0, 1 - theta)\n",
    "                alpha = np.random.uniform()\n",
    "                if (alpha * self.c) < self.__prob([theta, new_eta]):\n",
    "                    return new_eta\n",
    "\n",
    "    def __select_prob_scaler(self):\n",
    "        \"\"\"\n",
    "        选择合适的建议分布放缩尺度\n",
    "        \"\"\"\n",
    "        prob_list = []\n",
    "        step = 1e-3\n",
    "        for theta in np.arange(step, 1, step):\n",
    "            for eta in np.arange(step, 1 - theta + step, step):\n",
    "                prob = self.__prob((theta, eta))\n",
    "                prob_list.append(prob)\n",
    "        searched_max_prob = max(prob_list)\n",
    "        upper_bound_prob = searched_max_prob * 10\n",
    "        return upper_bound_prob\n",
    "\n",
    "    @staticmethod\n",
    "    def __prob(x):\n",
    "        \"\"\"\n",
    "        P(X = x) 的概率\n",
    "        \"\"\"\n",
    "        theta = x[0]\n",
    "        eta = x[1]\n",
    "        p1 = (theta / 4 + 1 / 8) ** 14\n",
    "        p2 = theta / 4\n",
    "        p3 = eta / 4\n",
    "        p4 = (eta / 4 + 3 / 8)\n",
    "        p5 = 1 / 2 * (1 - theta - eta) ** 5\n",
    "        p = (p1 * p2 * p3 * p4 * p5)\n",
    "        return p"
   ]
  },
  {
   "cell_type": "code",
   "execution_count": 4,
   "metadata": {},
   "outputs": [
    {
     "name": "stdout",
     "output_type": "stream",
     "text": [
      "theta均值：0.5200493163002229, theta方差：0.018093366768230302\n",
      "eta均值：0.12315468306475189, eta方差：0.006544978550617504\n"
     ]
    },
    {
     "data": {
      "image/png": "[encoded data removed]",
      "text/plain": [
       "<Figure size 432x288 with 1 Axes>"
      ]
     },
     "metadata": {
      "needs_background": "light"
     },
     "output_type": "display_data"
    }
   ],
   "source": [
    "# 收敛步数\n",
    "m = 1e3\n",
    "# 迭代步数\n",
    "n = 1e4\n",
    "\n",
    "# 目标分布\n",
    "target_dist = TargetDistribution()\n",
    "\n",
    "# 使用 Gibbs Sampling 算法进行求解\n",
    "gibbs_sampling = GibbsSampling(target_dist, 2, m, n)\n",
    "\n",
    "samples, dist_mean, dist_var = gibbs_sampling.solve()\n",
    "\n",
    "print(f'theta均值：{dist_mean[0]}, theta方差：{dist_var[0]}')\n",
    "print(f'eta均值：{dist_mean[1]}, eta方差：{dist_var[1]}')\n",
    "\n",
    "# 对结果进行可视化\n",
    "GibbsSampling.visualize(samples, bins=20)"
   ]
  }
 ],
 "metadata": {
  "kernelspec": {
   "display_name": "Python 3",
   "language": "python",
   "name": "python3"
  },
  "language_info": {
   "codemirror_mode": {
    "name": "ipython",
    "version": 3
   },
   "file_extension": ".py",
   "mimetype": "text/x-python",
   "name": "python",
   "nbconvert_exporter": "python",
   "pygments_lexer": "ipython3",
   "version": "3.7.9"
  },
  "toc": {
   "base_numbering": 1,
   "nav_menu": {},
   "number_sections": false,
   "sideBar": true,
   "skip_h1_title": false,
   "title_cell": "Table of Contents",
   "title_sidebar": "Contents",
   "toc_cell": false,
   "toc_position": {
    "height": "calc(100% - 180px)",
    "left": "10px",
    "top": "150px",
    "width": "273.188px"
   },
   "toc_section_display": true,
   "toc_window_display": false
  },
  "vscode": {
   "interpreter": {
    "hash": "fe245b48eec612fbee62cf5f1e4a377bd40a15fc2ce06ad16b3622723b03fe09"
   }
  }
 },
 "nbformat": 4,
 "nbformat_minor": 1
}
