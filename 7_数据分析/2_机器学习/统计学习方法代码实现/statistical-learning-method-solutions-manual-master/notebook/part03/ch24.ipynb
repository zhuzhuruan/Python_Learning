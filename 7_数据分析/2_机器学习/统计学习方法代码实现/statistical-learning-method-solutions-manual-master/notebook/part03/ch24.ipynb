{
 "cells": [
  {
   "cell_type": "markdown",
   "metadata": {
    "collapsed": true
   },
   "source": [
    "# 第24章卷积神经网络"
   ]
  },
  {
   "cell_type": "markdown",
   "metadata": {
    "collapsed": true
   },
   "source": [
    "## 习题24.1\n",
    "&emsp;&emsp;设有输入矩阵$X=[x_{ij}]_{I \\times J}$，核矩阵$W=[w_{mn}]_{M \\times N}$，满足$M \\ll I, N \\ll J$，则称以下运算为二维数学卷积：\n",
    "$$\n",
    "Y = W \\circledast X\n",
    "$$\n",
    "产生输出矩阵$Y=[y_{kl}]_{K \\times L}$，其中\n",
    "$$\n",
    "y_{kl} = \\sum_{m=1}^M \\sum_{n=1}^N w_{mn} x_{i-m+1, j-n+1} \\\\\n",
    "K = I - M + 1, L = J - N + 1\n",
    "$$\n",
    "证明数学卷积和机器学习卷积有以下关系：\n",
    "$$\n",
    "W \\circledast X = \\text{rot180}(W) * X\n",
    "$$\n",
    "这里$\\circledast$表示数学卷积，$*$表示机器学习卷积，rot180()表示对矩阵的180度旋转。"
   ]
  },
  {
   "cell_type": "markdown",
   "metadata": {},
   "source": [
    "**解答：**  "
   ]
  },
  {
   "cell_type": "markdown",
   "metadata": {},
   "source": [
    "**解答思路：**"
   ]
  },
  {
   "cell_type": "markdown",
   "metadata": {},
   "source": [
    "**解答步骤：**  "
   ]
  },
  {
   "cell_type": "markdown",
   "metadata": {},
   "source": [
    "## 习题24.2\n",
    "&emsp;&emsp;假设有矩阵\n",
    "$$\n",
    "A = \\left[ \n",
    "\\begin{array}{c}\n",
    "3 & 2 & 0 & 1 \\\\\n",
    "0 & 2 & 1 & 2 \\\\\n",
    "2 & 0 & 0 & 3 \\\\\n",
    "2 & 3 & 1 & 2\n",
    "\\end{array}\n",
    "\\right], B = \\left[ \n",
    "\\begin{array}{c}\n",
    "2 & 1 & 2 \\\\\n",
    "0 & 0 & 3 \\\\\n",
    "0 & 0 & 2\n",
    "\\end{array}\n",
    "\\right]\n",
    "$$\n",
    "其中，$A$是输入矩阵，$B$是核矩阵，可以求得数学卷积$B \\circledast A$是\n",
    "$$\n",
    "B \\circledast A = \\left[ \n",
    "\\begin{array}{c}\n",
    "6 & 7 & 8 & 6 & 1 & 3 \\\\\n",
    "0 & 4 & 13 & 15 & 4 & 7 \\\\\n",
    "4 & 2 & 10 & 16 & 6 & 14 \\\\\n",
    "4 & 8 & 15 & 15 & 6 & 17 \\\\\n",
    "0 & 0 & 10 & 9 & 3 & 12\\\\\n",
    "0 & 0 & 4 & 6 & 2 & 4\n",
    "\\end{array}\n",
    "\\right]\n",
    "$$\n",
    "试求数学卷积$A \\circledast B$，并验证数学卷积满足交换律。"
   ]
  },
  {
   "cell_type": "markdown",
   "metadata": {},
   "source": [
    "**解答：**\n",
    "\n",
    "**解答思路：**  "
   ]
  },
  {
   "cell_type": "markdown",
   "metadata": {},
   "source": [
    "**解答步骤：**   "
   ]
  },
  {
   "cell_type": "markdown",
   "metadata": {},
   "source": [
    "## 习题24.3\n",
    "&emsp;&emsp;验证机器学习卷积（互相关）不满足交换律。"
   ]
  },
  {
   "cell_type": "markdown",
   "metadata": {},
   "source": [
    "**解答：**\n",
    "\n",
    "**解答思路：**  "
   ]
  },
  {
   "cell_type": "markdown",
   "metadata": {},
   "source": [
    "**解答步骤：**   "
   ]
  },
  {
   "cell_type": "markdown",
   "metadata": {},
   "source": [
    "## 习题24.4\n",
    "&emsp;&emsp;CNN也可以用于一维数据的处理，求图24.22所示的一维卷积。"
   ]
  },
  {
   "cell_type": "markdown",
   "metadata": {},
   "source": [
    "**解答：**\n",
    "\n",
    "**解答思路：**  "
   ]
  },
  {
   "cell_type": "markdown",
   "metadata": {},
   "source": [
    "**解答步骤：**   "
   ]
  },
  {
   "cell_type": "markdown",
   "metadata": {},
   "source": [
    "## 习题24.5\n",
    "&emsp;&emsp;通过例24.2验证卷积运算不具有旋转可变性。假设对图像数据进行90度顺时针核逆时针旋转。"
   ]
  },
  {
   "cell_type": "markdown",
   "metadata": {},
   "source": [
    "**解答：**\n",
    "\n",
    "**解答思路：**  "
   ]
  },
  {
   "cell_type": "markdown",
   "metadata": {},
   "source": [
    "**解答步骤：**   "
   ]
  },
  {
   "cell_type": "markdown",
   "metadata": {},
   "source": [
    "## 习题24.6\n",
    "&emsp;&emsp;证明感受野的关系式（24.19）成立。"
   ]
  },
  {
   "cell_type": "markdown",
   "metadata": {},
   "source": [
    "**解答：**\n",
    "\n",
    "**解答思路：**  "
   ]
  },
  {
   "cell_type": "markdown",
   "metadata": {},
   "source": [
    "**解答步骤：**   "
   ]
  },
  {
   "cell_type": "markdown",
   "metadata": {},
   "source": [
    "## 习题24.7\n",
    "&emsp;&emsp;设计一个基于CNN的自然语言句子分类模型。假设句子是单词序列，每个单词用一个实数向量表示。"
   ]
  },
  {
   "cell_type": "markdown",
   "metadata": {},
   "source": [
    "**解答：**\n",
    "\n",
    "**解答思路：**  "
   ]
  },
  {
   "cell_type": "markdown",
   "metadata": {},
   "source": [
    "**解答步骤：**   "
   ]
  },
  {
   "cell_type": "markdown",
   "metadata": {},
   "source": [
    "## 习题24.8\n",
    "&emsp;&emsp;设有输入矩阵$X$和核矩阵$W$：\n",
    "$$\n",
    "X = [x_{ij}] = \\left[ \n",
    "\\begin{array}{c}\n",
    "x_{11} & x_{12} & x_{13} & x_{14} & x_{15} \\\\\n",
    "x_{21} & x_{22} & x_{23} & x_{24} & x_{25} \\\\\n",
    "x_{31} & x_{32} & x_{33} & x_{34} & x_{35} \\\\\n",
    "x_{41} & x_{42} & x_{43} & x_{44} & x_{45} \n",
    "\\end{array}\n",
    "\\right], W = [w_{mn}] = \\left[ \n",
    "\\begin{array}{c}\n",
    "w_{11} & w_{12} & w_{13} \\\\\n",
    "w_{21} & w_{22} & w_{23} \\\\\n",
    "w_{31} & w_{32} & w_{33} \n",
    "\\end{array}\n",
    "\\right]\n",
    "$$\n",
    "有卷积$Y = W * X$：\n",
    "$$\n",
    "Y = [y_{kl}] = \\left[ \n",
    "\\begin{array}{c}\n",
    "y_{11} & y_{12} & y_{13} \\\\\n",
    "y_{21} & y_{22} & y_{23} \\\\\n",
    "y_{31} & y_{32} & y_{33} \n",
    "\\end{array}\n",
    "\\right]\n",
    "$$\n",
    "求$\\displaystyle \\frac{\\partial Y}{\\partial W}$和$\\displaystyle \\frac{\\partial Y}{\\partial X}$，并具体地写出$\\displaystyle \\frac{dy_{kl}}{dw_{mn}}$和$\\displaystyle \\frac{dy_{kl}}{dx_{ij}}$。  "
   ]
  },
  {
   "cell_type": "markdown",
   "metadata": {},
   "source": [
    "**解答：**\n",
    "\n",
    "**解答思路：**  "
   ]
  },
  {
   "cell_type": "markdown",
   "metadata": {},
   "source": [
    "**解答步骤：**   "
   ]
  },
  {
   "cell_type": "markdown",
   "metadata": {},
   "source": [
    "## 习题24.9\n",
    "&emsp;&emsp;设有输入矩阵$X$和核矩阵$W$：\n",
    "$$\n",
    "X = \\left[ \n",
    "\\begin{array}{c}\n",
    "x_{11} & x_{12} & x_{13} \\\\\n",
    "x_{21} & x_{22} & x_{23} \\\\\n",
    "x_{31} & x_{32} & x_{33} \n",
    "\\end{array}\n",
    "\\right], W = \\left[ \n",
    "\\begin{array}{c}\n",
    "w_{11} & w_{12} & w_{13} \\\\\n",
    "w_{21} & w_{22} & w_{23} \\\\\n",
    "w_{31} & w_{32} & w_{33} \n",
    "\\end{array}\n",
    "\\right]\n",
    "$$\n",
    "验证$\\text{rot180}(W) * X = rot180(X) * W$成立。"
   ]
  },
  {
   "cell_type": "markdown",
   "metadata": {},
   "source": [
    "**解答：**\n",
    "\n",
    "**解答思路：**  "
   ]
  },
  {
   "cell_type": "markdown",
   "metadata": {},
   "source": [
    "**解答步骤：**   "
   ]
  },
  {
   "cell_type": "markdown",
   "metadata": {},
   "source": [
    "## 习题24.10\n",
    "&emsp;&emsp;解释残差网络为什么能防止梯度消失和梯度爆炸。"
   ]
  },
  {
   "cell_type": "markdown",
   "metadata": {},
   "source": [
    "**解答：**\n",
    "\n",
    "**解答思路：**  "
   ]
  },
  {
   "cell_type": "markdown",
   "metadata": {},
   "source": [
    "**解答步骤：**   "
   ]
  }
 ],
 "metadata": {
  "interpreter": {
   "hash": "c50c7698ff25eb1d7dce4c52e3d5cc14b3b23d6a97d4fb70aad8c815eba6f63e"
  },
  "kernelspec": {
   "display_name": "Python 3",
   "language": "python",
   "name": "python3"
  },
  "language_info": {
   "codemirror_mode": {
    "name": "ipython",
    "version": 3
   },
   "file_extension": ".py",
   "mimetype": "text/x-python",
   "name": "python",
   "nbconvert_exporter": "python",
   "pygments_lexer": "ipython3",
   "version": "3.7.11"
  },
  "toc": {
   "base_numbering": 1,
   "nav_menu": {},
   "number_sections": false,
   "sideBar": true,
   "skip_h1_title": false,
   "title_cell": "Table of Contents",
   "title_sidebar": "Contents",
   "toc_cell": false,
   "toc_position": {
    "height": "calc(100% - 180px)",
    "left": "10px",
    "top": "150px",
    "width": "273.188px"
   },
   "toc_section_display": true,
   "toc_window_display": false
  }
 },
 "nbformat": 4,
 "nbformat_minor": 1
}
