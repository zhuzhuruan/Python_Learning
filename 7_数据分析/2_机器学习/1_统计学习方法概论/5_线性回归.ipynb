{
 "cells": [
  {
   "cell_type": "markdown",
   "id": "90ac754b",
   "metadata": {},
   "source": [
    "# 一、一元线性回归"
   ]
  },
  {
   "cell_type": "markdown",
   "id": "9af9dae9",
   "metadata": {},
   "source": [
    "## 1、确定性关系"
   ]
  },
  {
   "cell_type": "markdown",
   "id": "26bbb4d5",
   "metadata": {},
   "source": [
    "例如：圆面积S与其半径r之间满足 $S = \\pi r^{2}$\n",
    "\n",
    "数学描述：$y = f(x) $"
   ]
  },
  {
   "cell_type": "markdown",
   "id": "c397ed5b",
   "metadata": {},
   "source": [
    "## 2、相关关系"
   ]
  },
  {
   "cell_type": "markdown",
   "id": "5096fda0",
   "metadata": {},
   "source": [
    "例：人的体重y和身高x，一般身高高则体重大，但也有些身高高的人体重轻\n",
    "\n",
    "数学描述：$ y = f(x) + \\xi$\n",
    "\n",
    "**理解**\n",
    "\n",
    "f(x)：普通函数，表示变量间的确定性关系\n",
    "\n",
    "$\\xi$：不可观测的随机误差  "
   ]
  },
  {
   "cell_type": "code",
   "execution_count": null,
   "id": "3cef430a",
   "metadata": {},
   "outputs": [],
   "source": []
  }
 ],
 "metadata": {
  "kernelspec": {
   "display_name": "Python 3 (ipykernel)",
   "language": "python",
   "name": "python3"
  },
  "language_info": {
   "codemirror_mode": {
    "name": "ipython",
    "version": 3
   },
   "file_extension": ".py",
   "mimetype": "text/x-python",
   "name": "python",
   "nbconvert_exporter": "python",
   "pygments_lexer": "ipython3",
   "version": "3.10.4"
  }
 },
 "nbformat": 4,
 "nbformat_minor": 5
}
