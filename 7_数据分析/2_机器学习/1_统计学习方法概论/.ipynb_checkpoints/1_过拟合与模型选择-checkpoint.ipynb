{
 "cells": [
  {
   "cell_type": "markdown",
   "id": "5b7dc587",
   "metadata": {},
   "source": [
    "## 实现多项式函数拟合"
   ]
  },
  {
   "cell_type": "code",
   "execution_count": null,
   "id": "32aeac19",
   "metadata": {},
   "outputs": [],
   "source": [
    "import numpy as np\n",
    "from matplotlib import pyplot as plt\n",
    "import matplotlib\n",
    "from functools import reduce"
   ]
  },
  {
   "cell_type": "code",
   "execution_count": null,
   "id": "c5e79a8b",
   "metadata": {},
   "outputs": [],
   "source": [
    "# 创建输入训练变量x\n",
    "x_train = np.arange(1,11)\n",
    "print(x_train)\n",
    "# 创建随机输出训练变量\n",
    "y_train = 0.3*x_train+0.25*x_train+np.random.rand(10)\n",
    "print(y_train)\n",
    "\n",
    "# 创建输入测试变量x\n",
    "x_test = np.arange(11,21)\n",
    "print(x_test)\n",
    "# 创建随机输出测试变量\n",
    "y_test = 0.3*x_test+0.25*x_test+np.random.rand(10)\n",
    "print(y_test)"
   ]
  },
  {
   "cell_type": "code",
   "execution_count": null,
   "id": "361584c3",
   "metadata": {},
   "outputs": [],
   "source": [
    "# 按一次多项式拟合\n",
    "coef = np.polyfit(x_train, y_train, 1)     # 一次多项式系数\n",
    "print(coef)\n",
    "y1 = np.poly1d(coef)\n",
    "print(y1)\n",
    "# 绘图\n",
    "zhfont1 = matplotlib.font_manager.FontProperties(fname=\"../1_数据分析/file/SourceHanSansSC-Bold.otf\") \n",
    "plt.title(\"多项式函数拟合—一次\", fontproperties=zhfont1)\n",
    "plt.plot(x_train,y_train, 'ob')\n",
    "# plt.plot(x_train, y1(x_train))"
   ]
  },
  {
   "cell_type": "code",
   "execution_count": null,
   "id": "b0b8e419",
   "metadata": {
    "scrolled": true
   },
   "outputs": [],
   "source": [
    "# 实现1-9次的多项式函数拟合\n",
    "fig, ax1 = plt.subplots(figsize=(15, 10))\n",
    "plt.subplot(3,3,3)\n",
    "error_train = []\n",
    "error_test = []\n",
    "for n in range(1,10):\n",
    "    coef = np.polyfit(x_train, y_train, n)    # 多项式函数系数\n",
    "    func = eval(\"np.poly1d(\" + \"coef\" + \")\")    # 多项式函数方程\n",
    "    yn_train = func(x_train)\n",
    "    yn_test = func(x_test)\n",
    "    plt.subplot(3,3,n)\n",
    "    plt.plot(x_train,y_train, 'ob')\n",
    "    plt.plot(x_test,y_test, '*k')\n",
    "    plt.plot(x_train, yn_train, 'r')\n",
    "    plt.plot(x_test, yn_test, 'g')\n",
    "    \n",
    "    # 平方误差函数(f(x)-y)**2, 训练误差：(∑(f(x)-y)**2)/N\n",
    "    _error_train = reduce(lambda x,y: x+y, list(map(lambda x,y:(x-y)**2, y_train, yn_train)))/n\n",
    "    error_train.append(_error_train)\n",
    "    _error_test = reduce(lambda x,y: x+y, list(map(lambda x,y:(x-y)**2, y_test, yn_test)))/n\n",
    "    error_test.append(_error_test)"
   ]
  },
  {
   "cell_type": "code",
   "execution_count": null,
   "id": "bbfcd565",
   "metadata": {
    "scrolled": true
   },
   "outputs": [],
   "source": [
    "# 分析多项式系数和误差之间的关系\n",
    "plt.plot(np.arange(1,10), error_train, 'b')"
   ]
  },
  {
   "cell_type": "code",
   "execution_count": null,
   "id": "8ac0fdd6",
   "metadata": {
    "scrolled": true
   },
   "outputs": [],
   "source": [
    "plt.plot(np.arange(1,10), error_test, 'r')"
   ]
  }
 ],
 "metadata": {
  "kernelspec": {
   "display_name": "Python 3 (ipykernel)",
   "language": "python",
   "name": "python3"
  },
  "language_info": {
   "codemirror_mode": {
    "name": "ipython",
    "version": 3
   },
   "file_extension": ".py",
   "mimetype": "text/x-python",
   "name": "python",
   "nbconvert_exporter": "python",
   "pygments_lexer": "ipython3",
   "version": "3.9.13"
  }
 },
 "nbformat": 4,
 "nbformat_minor": 5
}
