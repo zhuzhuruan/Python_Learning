{
 "cells": [
  {
   "cell_type": "markdown",
   "id": "39b2a15f",
   "metadata": {},
   "source": [
    "# 一、马尔科夫不等式"
   ]
  },
  {
   "cell_type": "markdown",
   "id": "1faf2bf0",
   "metadata": {},
   "source": [
    "马尔可夫不等式把概率关联到数学期望，给出了随机变量的分布函数一个宽泛但仍有用的界。\n",
    "\n",
    "马尔科夫不等式（Markov's Inequality）：如果X是非负随机变量，$X\\in R$，那么对于 $∀a \\gt 0,$\n",
    "\n",
    "$$\n",
    "P(X \\ge a) \\le \\frac {E(X)}a\n",
    "$$\n",
    "\n",
    "马尔可夫不等式用于估计尾事件的概率上界。"
   ]
  },
  {
   "cell_type": "markdown",
   "id": "76c2ff80",
   "metadata": {},
   "source": [
    "一个直观的例子：如果一组共 n 个人，平均工资为 μ，那么 工资 $\\ge$  $\\zeta$ 的人最多不超过多少个呢？\n",
    "\n",
    "可以这么理解这个问题， n 个人，平均工资为 μ，那么总工资 S = nμ，再假设工资为 $\\zeta$ 的人有 x 个，那么 x$\\zeta$ $\\le$ nμ，可以得到\n",
    "\n",
    "$$\n",
    "x \\le \\frac {nμ}\\zeta\n",
    "$$\n",
    "\n",
    "那么工资 $\\ge$  $\\zeta$ 的人的比例大概是：\n",
    "$$\n",
    "P(x \\ge \\zeta) = \\frac xn \\iff P(x \\ge \\zeta) \\le \\frac {nμ}{n \\zeta} = \\frac μ\\zeta\n",
    "$$\n",
    "\n",
    "这个例子说明的意思就是：一组数中任意一个数 $\\zeta$ 存在的概率不会超过这组数的平均值 μ 除以这个数（$\\zeta$）本身"
   ]
  },
  {
   "cell_type": "markdown",
   "id": "335fe7ab",
   "metadata": {},
   "source": [
    "    我们现在假设有一组20人，平均工资是10,000，工资超过50,000的人的比例就一定不会超过 10,000/50,000 = 20%，即最多有20×20% = 4 个人的工资可能等于或超过50,000。为什么呢？\n",
    "\n",
    "    如果是5个人的工资>=50,000，那么，光这5个人的工资就是>=5×50,000 = 250,000, 已经是远远超过工资总额20×10,000=200,000了，但这是不可能的！"
   ]
  },
  {
   "cell_type": "markdown",
   "id": "35678e2a",
   "metadata": {},
   "source": [
    "**证明过程**\n",
    "\n",
    "1、离散随机变量\n",
    "\n",
    "$$E(X) = \\sum X_{i}P(X_{i}) \\ge \\sum_{X \\ge a} X_{i}P(X_{i}) \\ge \\sum_{X \\ge a} aP(X_{i}) = a\\sum_{X \\ge a}P(X_{i}) = aP(X \\ge a)$$  \n",
    "\n",
    "因此，\n",
    "\n",
    "$$ a \\cdot P(X \\ge a) \\le E(X) \\iff P(X \\ge a) \\le \\frac {E(X)}a $$\n",
    "\n",
    "2、连续随机变量\n",
    "\n",
    "$$ E(X) = \\int_{0}^\\infty xf(x)dx = \\int_{0}^a xf(x)dx + \\int_{a}^\\infty xf(x)dx \\ge \\int_{a}^\\infty xf(x)dx \\ge \\int_{a}^\\infty af(x)dx = a\\int_{a}^\\infty f(x)dx = aP(X \\ge a) $$"
   ]
  },
  {
   "cell_type": "markdown",
   "id": "652426ab",
   "metadata": {},
   "source": [
    "# 二、切比雪夫不等式"
   ]
  },
  {
   "cell_type": "markdown",
   "id": "201a6a13",
   "metadata": {},
   "source": [
    "切比雪夫不等式是马尔科夫不等式的特殊情况。\n",
    "\n",
    "若随机变量X的数学期望和方差都存在，分别设为 $E(X)$和$D(X)$,则对任意的 $\\varepsilon \\gt 0$ ,有\n",
    "\n",
    "$$\n",
    "P\\{|X - E(X)| \\ge \\varepsilon \\} \\le \\frac {D(X)}{\\varepsilon^{2}}\n",
    "$$"
   ]
  },
  {
   "cell_type": "markdown",
   "id": "415463c5",
   "metadata": {},
   "source": [
    "通过马尔科夫不等式可以证明：\n",
    "\n",
    "$$\n",
    "P\\{|X - E(X)| \\ge \\varepsilon \\} = P\\{|X - E(X)|^{2} \\ge \\varepsilon^{2} \\} \\le \\frac {E\\{|X - E(X)|^{2}\\}}{\\varepsilon^{2}} = \\frac {D(X)}{\\varepsilon^{2}}\n",
    "$$\n",
    "\n",
    "切比雪夫不等式没有限定分布的形式，所以应用广泛，但这个界很松。\n",
    "\n",
    "$\\varepsilon$ 代表 $X$ 和期望 $E(X)$ 之间的距离，相差越大，则概率越小，它描述了这样一个事实：事件大多会集中在平均值附近。"
   ]
  },
  {
   "cell_type": "markdown",
   "id": "8c0c6492",
   "metadata": {},
   "source": [
    "# 三、切尔诺夫限"
   ]
  },
  {
   "cell_type": "markdown",
   "id": "6ae2c49a",
   "metadata": {},
   "source": [
    "切尔诺夫限，也称为切尔诺夫不等式，是关于一组独立随机变量和的一类概率不等式.。"
   ]
  },
  {
   "cell_type": "markdown",
   "id": "e6cb9152",
   "metadata": {},
   "source": [
    "对于随机变量$X$定义的通用切尔诺夫不等式通过将马尔可夫不等式应用于$e^{tx}$来获得，对于每一个$t \\gt 0$，\n",
    "\n",
    "$$\n",
    "P(X \\ge a) = P(e^{tX} \\ge e^{ta}) \\le \\frac {E(e^{tX})}{e^{ta}}\n",
    "$$\n",
    "\n",
    "当是n个随机变量的时候，我们得到任何$t \\gt 0$，\n",
    "\n",
    "$$\n",
    "P(X \\ge a) = P(e^{tX} \\ge e^{ta}) \\le {e^{-ta}}\\cdot {E(\\prod_{i=1}e^{tX_{i}})} \n",
    "$$\n",
    "\n",
    "优化 $t$ 并使用$X_{i}$独立的假设，\n",
    "$$\n",
    "P(X \\ge a) \\le \\min_{t>0} {e^{-ta}}\\cdot \\prod_{i=1}{E(e^{tX_{i}})} \n",
    "$$\n",
    "\n",
    "同样地，\n",
    "\n",
    "$$\n",
    "P(X \\le a) = P(e^{-tX} \\ge e^{-ta}) \n",
    "$$\n",
    "\n",
    "所以，\n",
    "\n",
    "$$\n",
    "P(X \\le a) \\le \\min_{t>0} {e^{ta}}\\cdot \\prod_{i=1}{E(e^{-tX_{i}})} \n",
    "$$\n",
    "\n",
    "切尔诺夫不等式的一个重要意义在于，我们仅仅知道随机变量的数字特征便可以得到概率的界"
   ]
  },
  {
   "cell_type": "markdown",
   "id": "ba9ffef7",
   "metadata": {},
   "source": [
    "注：连乘符号的使用\n",
    "$$\n",
    "\\prod_{i=1}^{n}e^{tX_{i}} = e^{tX_{1}}\\cdot e^{tX_{2}}\\cdots e^{tX_{n}} = e^{t({X_{1}+X_{2}+\\cdots+X_{n})}}\n",
    "$$"
   ]
  },
  {
   "cell_type": "markdown",
   "id": "4f919af1",
   "metadata": {},
   "source": [
    "# 霍夫丁不等式"
   ]
  },
  {
   "cell_type": "markdown",
   "id": "ef9b3184",
   "metadata": {},
   "source": [
    "霍夫丁不等式（Hoeffding’s inequality），在概率论中，该不等式给出了随机变量的和与其期望值偏差的概率上限。"
   ]
  },
  {
   "cell_type": "markdown",
   "id": "108c292c",
   "metadata": {},
   "source": [
    "$$设 S_{n} = \\sum_{r=1}^n X_{i} 是独立随机变量X_{1},X_{2},\\cdots, X_{n} 之和，\\overline X =\\frac {S_{n}}{n}是独立随机变量X_{1},X_{2},\\cdots,X_{n} 的经验均值，X_{i}\\in[a_{i},b_{i}]，$$\n",
    "\n",
    "$则对任意t \\ge 0，以下不等式成立：$\n"
   ]
  },
  {
   "cell_type": "markdown",
   "id": "0432856d",
   "metadata": {},
   "source": [
    "对于$\\overline X$，\n",
    "\n",
    "$$\n",
    "P(\\overline X - E(\\overline X) \\ge t) \\le exp(- \\frac{2n^{2}t^{2}}{\\sum_{i=1}^{n}(b_{i}-a_{i})^{2}})\n",
    "$$\n",
    "\n",
    "$$\n",
    "P(E(\\overline X) - \\overline X \\ge t) \\le exp(- \\frac{2n^{2}t^{2}}{\\sum_{i=1}^{n}(b_{i}-a_{i})^{2}})\n",
    "$$\n",
    "\n",
    "综合上面两个不等式，可以得到霍夫丁不等式的另一种形式\n",
    "\n",
    "$$\n",
    "P(|\\overline X - E(\\overline X)| \\ge t) \\le 2 exp(- \\frac{2n^{2}t^{2}}{\\sum_{i=1}^{n}(b_{i}-a_{i})^{2}})\n",
    "$$\n",
    "\n",
    "对于$S_{n}$，\n",
    "\n",
    "$$\n",
    "P(|S_{n} - E(S_{n})| \\ge t) \\le exp(- \\frac{2t^{2}}{\\sum_{i=1}^{n}(b_{i}-a_{i})^{2}})\n",
    "$$"
   ]
  },
  {
   "cell_type": "markdown",
   "id": "f5beabbc",
   "metadata": {},
   "source": [
    "**证明过程**\n",
    "\n",
    "首先知道霍夫丁不等式的引理，\n",
    "\n",
    "对于随机变量$X$，满足 $P(X \\in [a,b]) = 1$ 和 $E(X) = 0$，则有：\n",
    "\n",
    "$$\n",
    "E(e^{sX}) \\le e^{\\frac{s^{2}(b-a)^{2}}{8}}\n",
    "$$"
   ]
  },
  {
   "cell_type": "markdown",
   "id": "f2afc010",
   "metadata": {},
   "source": [
    "取 $s \\gt 0，t\\gt 0 $，则由马尔科夫不等式\n",
    "\n",
    "$$\n",
    "P(S_{n} - E(S_{n}) \\ge t) = P(e^{s(S_{n} - E(S_{n})} \\ge e^{st}) \\le \\frac{E(e^{s(S_{n} - E(S_{n})})}{e^{st}} = e^{-st}\\prod_{i=1}^{n}E(e^{s(\\frac{X_{i}-E(X_{i})}{n})})\n",
    "$$\n",
    "\n",
    "\n",
    "又因为，$E(\\frac{X_{i}-E(X_{i})}{n}) = 0，\\frac{X_{i}-E(X_{i})}{n} \\in [\\frac{a_{i}-E(X_{i})}{n},\\frac{b_{i}-E(X_{i})}{n}]$,\n",
    "\n",
    "由霍夫丁不等式引理可知，\n",
    "$$\n",
    "E(e^{s(\\frac{X_{i}-E(X_{i})}{n})}) \\le e^{s^{2}(\\frac{(b_{i}-a_{i})^{2}}{8})}\n",
    "$$\n",
    "\n",
    "所以，\n",
    "\n",
    "$$\n",
    "P(S_{n} - E(S_{n}) \\ge t) = e^{-st} \\prod_{i=1}^{n}E(e^{s(\\frac{X_{i}-E(X_{i})}{n})}) \\le e^{-st} \\prod_{i=1}^{n} e^{s^{2}(\\frac{(b_{i}-a_{i})^{2}}{8})} = exp(-st+\\frac{1}{8}s^{2}\\sum_{i=1}^{n}(b_{i}-a_{i})^{2})\n",
    "$$\n",
    "\n",
    "到这一步，不等式中还多出了一个$s$，因为∀$s \\gt 0$，都有以上不等式成立，因此取右边关于$s$的二次函数的最小值。令\n",
    "$$\n",
    "g(s) = -st+\\frac{1}{8}s^{2}\\sum_{i=1}^{n}(b_{i}-a_{i})^{2}\n",
    "$$\n",
    "\n",
    "求 $g′(s)=0$，得：\n",
    "\n",
    "$$\n",
    "s = \\frac {4t}{\\sum_{i=1}^{n}(b_{i}-a_{i})^{2}}\n",
    "$$\n",
    "\n",
    "于是，\n",
    "\n",
    "$$\n",
    "P(S_{n} - E(S_{n}) \\ge t) \\le exp(- \\frac{2t^{2}}{\\sum_{i=1}^{n}(b_{i}-a_{i})^{2}}) \n",
    "$$"
   ]
  },
  {
   "cell_type": "markdown",
   "id": "a1ae4e9a",
   "metadata": {},
   "source": [
    "变换成$X_{i}$的均值$\\overline X$，也就是：\n",
    "\n",
    "$$\n",
    "P(\\overline X - E(\\overline X) \\ge t) \\le exp(- \\frac{2n^{2}t^{2}}{\\sum_{i=1}^{n}(b_{i}-a_{i})^{2}})\n",
    "$$\n",
    "\n",
    "取反后依然成立，\n",
    "\n",
    "$$\n",
    "P(E(\\overline X) - \\overline X \\ge t) \\le exp(- \\frac{2n^{2}t^{2}}{\\sum_{i=1}^{n}(b_{i}-a_{i})^{2}})\n",
    "$$\n",
    "\n",
    "合到一起，\n",
    "\n",
    "$$\n",
    "P(|\\overline X - E(\\overline X)| \\ge t) \\le 2 exp(- \\frac{2n^{2}t^{2}}{\\sum_{i=1}^{n}(b_{i}-a_{i})^{2}})\n",
    "$$"
   ]
  },
  {
   "cell_type": "markdown",
   "id": "8e5197f5",
   "metadata": {},
   "source": []
  }
 ],
 "metadata": {
  "kernelspec": {
   "display_name": "Python 3 (ipykernel)",
   "language": "python",
   "name": "python3"
  },
  "language_info": {
   "codemirror_mode": {
    "name": "ipython",
    "version": 3
   },
   "file_extension": ".py",
   "mimetype": "text/x-python",
   "name": "python",
   "nbconvert_exporter": "python",
   "pygments_lexer": "ipython3",
   "version": "3.9.12"
  }
 },
 "nbformat": 4,
 "nbformat_minor": 5
}
