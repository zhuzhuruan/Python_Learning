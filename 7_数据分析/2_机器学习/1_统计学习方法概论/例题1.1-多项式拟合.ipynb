{
 "cells": [
  {
   "cell_type": "markdown",
   "id": "b59eec33",
   "metadata": {},
   "source": [
    "举例：我们用目标函数 𝑦=𝑠𝑖𝑛2𝜋𝑥 , 加上一个正态分布的噪音干扰，用多项式去拟合"
   ]
  },
  {
   "cell_type": "code",
   "execution_count": 1,
   "id": "7ca7e905",
   "metadata": {},
   "outputs": [],
   "source": [
    "import numpy as np\n",
    "import scipy as sp\n",
    "from scipy.optimize import leastsq\n",
    "import matplotlib.pyplot as plt\n",
    "%matplotlib inline"
   ]
  },
  {
   "cell_type": "code",
   "execution_count": 5,
   "id": "63f5bc6d",
   "metadata": {},
   "outputs": [],
   "source": [
    "# 目标函数\n",
    "def real_func(x):\n",
    "    return np.sin(2*np.pi*x)\n",
    "\n",
    "# 多项式\n",
    "def fit_func(p, x):\n",
    "    f = np.poly1d(p)     # 生成多项式函数，np.poly1d([1,2,3]) = 1x^2+2x^1+3x^0\n",
    "    return f(x)\n",
    "\n",
    "# 残差\n",
    "def residuals_func(p, x, y):\n",
    "    ret = fit_func(p, x) - y\n",
    "    return ret"
   ]
  },
  {
   "cell_type": "code",
   "execution_count": null,
   "id": "052dfbc3",
   "metadata": {},
   "outputs": [],
   "source": [
    "x = np.linspace(0,1,10)\n",
    "x_points = np.linspace(0,1,1000)\n",
    "_y = real_func(x)\n",
    "# 增加正太分布噪音的目标函数值  np.random.normal()\n",
    "y = [np.random.normal(0,0.1) + y for y in _y]\n",
    "# 绘图\n",
    "plt.rcParams['font.sans-serif']=['SimHei'] #用来正常显示中文标签\n",
    "plt.plot(x,_y,label='sin2π')\n",
    "plt.plot(x,y,label='sin2π+正太干扰')\n",
    "plt.legend()"
   ]
  },
  {
   "cell_type": "code",
   "execution_count": 46,
   "id": "b87059ff",
   "metadata": {},
   "outputs": [],
   "source": [
    "def fitting(M=0):\n",
    "    # 随机初始化多项式参数\n",
    "    p_init = np.random.rand(M+1)\n",
    "    # 最小二乘法\n",
    "    p_lsq = leastsq(residuals_func, p_init, args=(x, y))\n",
    "    print('Fitting Parameters:', p_lsq[0])\n",
    "    \n",
    "    \n",
    "    # 可视化\n",
    "    plt.plot(x_points, real_func(x_points), label='real')"
   ]
  },
  {
   "cell_type": "code",
   "execution_count": null,
   "id": "1f9c5985",
   "metadata": {},
   "outputs": [],
   "source": [
    "fitting(M=0)"
   ]
  },
  {
   "cell_type": "code",
   "execution_count": null,
   "id": "e22b7c9a",
   "metadata": {},
   "outputs": [],
   "source": []
  },
  {
   "cell_type": "code",
   "execution_count": null,
   "id": "69ca730a",
   "metadata": {},
   "outputs": [],
   "source": []
  }
 ],
 "metadata": {
  "kernelspec": {
   "display_name": "Python 3 (ipykernel)",
   "language": "python",
   "name": "python3"
  },
  "language_info": {
   "codemirror_mode": {
    "name": "ipython",
    "version": 3
   },
   "file_extension": ".py",
   "mimetype": "text/x-python",
   "name": "python",
   "nbconvert_exporter": "python",
   "pygments_lexer": "ipython3",
   "version": "3.9.13"
  }
 },
 "nbformat": 4,
 "nbformat_minor": 5
}
