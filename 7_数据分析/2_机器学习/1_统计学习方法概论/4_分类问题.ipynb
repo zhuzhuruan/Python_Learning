{
 "cells": [
  {
   "cell_type": "markdown",
   "id": "cd5853f9",
   "metadata": {},
   "source": [
    "# 1 - 准确率、精确率和召回率"
   ]
  },
  {
   "cell_type": "markdown",
   "id": "7726d4c0",
   "metadata": {},
   "source": [
    "## 1.1 混淆矩阵"
   ]
  },
  {
   "cell_type": "markdown",
   "id": "8f15c74e",
   "metadata": {},
   "source": [
    "在分类任务下，预测结果(Predicted Condition)与正确标记(True Condition)之间存在四种不同的组合，构成混淆矩阵(适用于多分类)：\n",
    "   - TP：True Positives， 表示实际为正例且被分类器判定为正例的样本数\n",
    "   - FP：False Positives， 表示实际为负例且被分类器判定为正例的样本数\n",
    "   - FN：False Negatives， 表示实际为正例但被分类器判定为负例的样本数\n",
    "   - TN：True Negatives， 表示实际为负例且被分类器判定为负例的样本数\n",
    "\n",
    "<font color=#FF2121>小技巧：第一个字母表示划分正确与否；第二个字母表示分类器判定结果（P:判定为正例，N:判定为反例）</font>"
   ]
  },
  {
   "cell_type": "markdown",
   "id": "43f97d88",
   "metadata": {},
   "source": [
    "|     | 预测正例  | 预测假例  |\n",
    "|  :----:  |  :----:  | :----:  |\n",
    "| 真实正例  | TP（真阳性） | FN（假阴性） |\n",
    "| 真实假例  | FP（假阳性）  | TN（真阴性） |"
   ]
  },
  {
   "cell_type": "markdown",
   "id": "e155d0cd",
   "metadata": {},
   "source": [
    "## 1.2 准确率(Accuracy)、精确率(Precision) 与召回率(Recall)"
   ]
  },
  {
   "cell_type": "markdown",
   "id": "435a7b2b",
   "metadata": {},
   "source": [
    "准确率：对于给定的测试数据集，分类器正确分类的样本数与总样本数之比\n",
    "\n",
    "$$\n",
    "Accuracy = \\frac{TP+TN}{TP+FP+TN+FN}\n",
    "$$\n",
    "\n",
    "精确率：预测结果为正例样本中真实为正例的比例\n",
    "\n",
    "$$\n",
    "Precision = \\frac{TP}{TP+FP}\n",
    "$$\n",
    "\n",
    "    精确率高，意味着分类器要尽量在 “更有把握” 的情况下才将样本预测为正样本， 这意味着精确率能够很好的体现模型对于负样本的区分能力，精确率越高，则模型对负样本区分能力越强。\n",
    "    \n",
    "    简单来说就是，精确率需要降低FP,减少把假例判定成正例的情况，也就是分类器判定正例的条件更为严格。\n",
    "    \n",
    "召回率：真实为正例的样本中预测结果为正例的比例\n",
    "\n",
    "$$\n",
    "Precision = \\frac{TP}{TP+FN}\n",
    "$$\n",
    "\n",
    "    召回率高，意味着分类器尽可能将有可能为正样本的样本预测为正样本，这意味着召回率能够很好的体现模型对于正样本的区分能力，召回率越高，则模型对正样本的区分能力越强\n",
    "\n",
    "**精确率与召回率是此消彼长的关系， 如果分类器只把可能性大的样本预测为正样本，那么会漏掉很多可能性相对不大但依旧满足的正样本，从而导致召回率降低。**"
   ]
  },
  {
   "cell_type": "markdown",
   "id": "899937c1",
   "metadata": {},
   "source": [
    "## 1.3 F1 score"
   ]
  },
  {
   "cell_type": "markdown",
   "id": "5721280a",
   "metadata": {},
   "source": [
    "调和均值，是精确率和召回率评估指标,理想情况下做到两个指标都高当然最好，但一般情况下，精确率高，召回率就低，召回率高，精确率就低。\n",
    "\n",
    "$$\n",
    "F - Score = (1+\\beta^{2}) * \\frac{Precision * Recall}{(\\beta^{2}*Precision)+Recall}\n",
    "$$\n",
    "\n",
    "所以在实际中常常需要根据具体情况做出取舍，例如一般的搜索情况，在保证召回率的条件下，尽量提升精确率。而像癌症检测、地震检测、金融欺诈等，则在保证精确率的条件下，尽量提升召回率。"
   ]
  },
  {
   "cell_type": "markdown",
   "id": "db3a2746",
   "metadata": {},
   "source": [
    " 引出了一个新的指标F-score,综合考虑Precision和Recall的调和值。\n",
    "\n",
    "   - 当β=1时，称为 F1-score或者 F1-Measure，这时，精确率和召回率都很重要，权重相同。\n",
    "   - 当有些情况下，我们认为精确率更重要些，那就调整β的值小于1，\n",
    "   - 如果我们认为召回率更重要些，那就调整β的值大于1。\n",
    "\n",
    "常见的F1-Score计算公式如下：\n",
    "$$\n",
    "F Measure = \\frac{2}{\\frac{1}{precision}\\frac{1}{recall}} = \\frac{2TP}{2TP+FP+FN}\n",
    "$$"
   ]
  },
  {
   "cell_type": "markdown",
   "id": "6b2f35a8",
   "metadata": {},
   "source": [
    "# 2 - Roc曲线"
   ]
  },
  {
   "cell_type": "markdown",
   "id": "2077fd7c",
   "metadata": {},
   "source": [
    "ROC的全名叫做Receiver Operating Characteristic，中文名字叫“受试者工作特征曲线”，其主要分析工具是一个画在二维平面上的曲线——ROC 曲线。平面的横坐标是false positive rate(FPR)，纵坐标是true positive rate(TPR)。对某个分类器而言，我们可以根据其在测试样本上的表现得到一个TPR和FPR点对。这样，此分类器就可以映射成ROC平面上的一个点。调整这个分类器分类时候使用的阈值，我们就可以得到一个经过(0, 0)，(1, 1)的曲线，这就是此分类器的ROC曲线。"
   ]
  },
  {
   "cell_type": "markdown",
   "id": "7a721754",
   "metadata": {},
   "source": [
    "- 真阳性率，又叫做灵敏度（Sensitivity）、召回率（Recall）\n",
    "\n",
    "$$\n",
    "TPR = \\frac{TP}{TP+FN}\n",
    "$$\n",
    "\n",
    "- 假阳性率，又叫做误诊率（=1-特异度）\n",
    "\n",
    "$$\n",
    "FPR = \\frac{FP}{FP+TN}\n",
    "$$\n",
    "\n",
    "- 假阴性率，又叫漏诊率（=1-灵敏度）\n",
    "\n",
    "$$\n",
    "FNR = \\frac{FN}{TP+FN}\n",
    "$$\n",
    "\n",
    "- 真阴性率，又叫特异度（Specificity）\n",
    "\n",
    "$$\n",
    "TNR = \\frac{TN}{FP+TN}\n",
    "$$"
   ]
  },
  {
   "cell_type": "markdown",
   "id": "5b3d164d",
   "metadata": {},
   "source": [
    "对于一个分类任务的测试集，其本身有正负两类标签，我们对于这个测试集有一个预测标签，也是正负值。分类器开始对样本进行分类时，首先会计算该样本属于正确类别的概率，进而对样本的类别进行预测。比如说给出一组图片，让分类器判断该图片是否为汉堡，分类器在开始分类前会首先计算该图片为汉堡的概率，进而对该图片的类别进行预测，是汉堡或者不是汉堡。我们用概率来表示横坐标，真实类别表示纵坐标，分类器在测试集上的效果就可以用散点图来表示，如图所示"
   ]
  },
  {
   "cell_type": "code",
   "execution_count": 68,
   "id": "d02b0060",
   "metadata": {
    "scrolled": true
   },
   "outputs": [
    {
     "data": {
      "text/plain": [
       "<matplotlib.lines.Line2D at 0x1611a7df0>"
      ]
     },
     "execution_count": 68,
     "metadata": {},
     "output_type": "execute_result"
    },
    {
     "data": {
      "image/png": "[encoded data removed]",
      "text/plain": [
       "<Figure size 432x288 with 1 Axes>"
      ]
     },
     "metadata": {
      "needs_background": "light"
     },
     "output_type": "display_data"
    }
   ],
   "source": [
    "from matplotlib import pyplot as plt\n",
    "import numpy as np\n",
    "import matplotlib\n",
    "\n",
    "plt.xlim(0, 1)\n",
    "zhfont1 = matplotlib.font_manager.FontProperties(fname=\"../../1_数据分析/file/SourceHanSansSC-Bold.otf\") \n",
    "plt.title(\"分类问题：判断是否为汉堡的图片\", fontproperties=zhfont1)\n",
    "plt.xlabel(\"概率\", fontproperties=zhfont1)\n",
    "plt.ylabel(\"真实类别\", fontproperties=zhfont1)\n",
    "x = np.array([0.1, 0.2, 0.3, 0.6, 0.7, 0.8, 0.9])\n",
    "y = np.array([0, 0, 1, 1, 0, 1, 1])\n",
    "plt.scatter(x, y, marker='x', s=100)\n",
    "plt.axhline(y=1, ls='--', c=\"gray\")\n",
    "plt.axvline(x=0.9, ls='--', c=\"gray\")"
   ]
  },
  {
   "cell_type": "markdown",
   "id": "d9881719",
   "metadata": {},
   "source": [
    "那么如何通过概率来获得预测的类别呢？\n",
    "通常我们会设置一个阈值，这里以0.5为例。\n",
    "\n",
    "当概率≥0.5时，分类器认为这张图片是汉堡，也就是图中虚线右边的部分，我们用橙色来表示；\n",
    "\n",
    "当概率<0.5时，分类器认为这张图片不是汉堡，也就是图中虚线左边的部分，我们用薄荷绿来表示；"
   ]
  },
  {
   "cell_type": "code",
   "execution_count": 67,
   "id": "0aec7ea0",
   "metadata": {},
   "outputs": [
    {
     "data": {
      "text/plain": [
       "<matplotlib.lines.Line2D at 0x1612cea10>"
      ]
     },
     "execution_count": 67,
     "metadata": {},
     "output_type": "execute_result"
    },
    {
     "data": {
      "image/png": "[encoded data removed]",
      "text/plain": [
       "<Figure size 432x288 with 1 Axes>"
      ]
     },
     "metadata": {
      "needs_background": "light"
     },
     "output_type": "display_data"
    }
   ],
   "source": [
    "from matplotlib import pyplot as plt\n",
    "import numpy as np\n",
    "import matplotlib\n",
    "\n",
    "plt.xlim(0, 1)\n",
    "zhfont1 = matplotlib.font_manager.FontProperties(fname=\"../../1_数据分析/file/SourceHanSansSC-Bold.otf\") \n",
    "plt.title(\"分类问题：判断是否为汉堡的图片\", fontproperties=zhfont1)\n",
    "plt.xlabel(\"概率\", fontproperties=zhfont1)\n",
    "plt.ylabel(\"真实类别\", fontproperties=zhfont1)\n",
    "x = np.array([0.1, 0.2, 0.3, 0.3, 0.6, 0.7, 0.8, 0.9])\n",
    "y = np.array([0, 0, 0, 1, 1, 0, 1, 1])\n",
    "colors = [\"blue\",\"blue\",\"blue\",\"blue\",\"red\",\"red\",\"red\",\"red\",]\n",
    "plt.scatter(x, y, marker='x', s=100, c=colors)\n",
    "plt.axhline(y=1, ls='--', c=\"gray\")\n",
    "plt.axvline(x=0.9, ls='--', c=\"gray\")\n",
    "plt.axvline(x=0.5, ls='--', c=\"orange\")"
   ]
  },
  {
   "cell_type": "markdown",
   "id": "47fd858e",
   "metadata": {},
   "source": [
    "可以根据图中的预测结果得到一个混淆矩阵\n",
    "\n",
    "|     | 预测-是汉堡  | 预测-不是汉堡  |\n",
    "|  :----:  |  :----:  | :----:  |\n",
    "| 真实-是汉堡  | 3 | 1 |\n",
    "| 真实-不是汉堡  | 1  | 3 |\n",
    "\n",
    "故而当阈值只有0.5的时候，有且仅有一个混淆矩阵与之对应。\n",
    "\n",
    "但实际上我们的阈值可以取0-1之间的任何一个数，因此我们可以得到很多个混淆矩阵。\n",
    "\n",
    "有没有一种方法能把所有的混淆矩阵表示在同一个二维空间内呢?\n",
    "\n",
    "这时ROC曲线便能把它们全部表示出来，ROC曲线的横纵坐标分别是FPR（False Positive Rate）和TPR（True Positive Rate）。这时我们就能在二维空间中找出一个唯一的点来与一个混淆矩阵相对应，当我们有很多个混淆矩阵的时候，对应的二维空间中就会有很多个点，如果我们把这些点连起来，那么构成的曲线便是我们的ROC曲线。\n",
    "\n",
    "回到刚才那个对图片进行分类的例子，当阈值在[0,0.1]区间时，分类器认为所有的图片都是汉堡，这时我们就能得到一个混淆矩阵以及该混淆矩阵中TPR和FPR的值，同时在二维平面坐标轴中得到一个坐标为(1,1)的点.\n",
    "\n",
    "|     | 预测-是汉堡  | 预测-不是汉堡  |\n",
    "|  :----:  |  :----:  | :----:  |\n",
    "| 真实-是汉堡  | 4 | 0 |\n",
    "| 真实-不是汉堡  | 4  | 0 |\n",
    "\n",
    "同理，当我们的阈值取(0.1,0.2]，(0.2,0.3]，…，(0.9,1]时，都会有一个新的混淆矩阵的TPR和FPR的值与之对应，同时二维空间中也会出现一个新的点与之对应，知道阈值取到最大，二维空间中找到了所有与混淆矩阵对应的点，我们把这些点连起来就得到了我们所需要的ROC曲线。"
   ]
  },
  {
   "cell_type": "code",
   "execution_count": 93,
   "id": "327f63d6",
   "metadata": {},
   "outputs": [
    {
     "data": {
      "text/plain": [
       "[<matplotlib.lines.Line2D at 0x162614100>]"
      ]
     },
     "execution_count": 93,
     "metadata": {},
     "output_type": "execute_result"
    },
    {
     "data": {
      "image/png": "[encoded data removed]",
      "text/plain": [
       "<Figure size 432x288 with 1 Axes>"
      ]
     },
     "metadata": {
      "needs_background": "light"
     },
     "output_type": "display_data"
    }
   ],
   "source": [
    "from matplotlib import pyplot as plt\n",
    "import numpy as np\n",
    "import matplotlib\n",
    "\n",
    "plt.xlim(-0.1, 1)\n",
    "zhfont1 = matplotlib.font_manager.FontProperties(fname=\"../../1_数据分析/file/SourceHanSansSC-Bold.otf\") \n",
    "plt.title(\"ROC曲线\", fontproperties=zhfont1)\n",
    "plt.xlabel(\"FPR\", fontproperties=zhfont1)\n",
    "plt.ylabel(\"TPR\", fontproperties=zhfont1)\n",
    "x = np.array([0,0,0,1/4,2/5,1/3,3/7,1])\n",
    "y = np.array([0,4/7,2/3,3/4,2/3,1,1,1])\n",
    "plt.plot(x, y, marker='x', c=\"red\", markeredgecolor=\"blue\")"
   ]
  },
  {
   "cell_type": "markdown",
   "id": "ec85cfec",
   "metadata": {},
   "source": [
    "**由上可知，ROC曲线的横坐标和纵坐标其实是没有相关性的，所以不能把ROC曲线当做一个函数曲线来分析，应该把ROC曲线看成无数个点，每个点都代表一个分类器，其横纵坐标表征了这个分类器的性能。**"
   ]
  },
  {
   "cell_type": "markdown",
   "id": "75e99e98",
   "metadata": {},
   "source": [
    "为什么使用ROC曲线？\n",
    "\n",
    "**因为ROC曲线有个很好的特性：当测试集中的正负样本的分布变化的时候，ROC曲线能够保持不变。**"
   ]
  },
  {
   "cell_type": "code",
   "execution_count": 113,
   "id": "2383021a",
   "metadata": {},
   "outputs": [
    {
     "data": {
      "text/plain": [
       "<matplotlib.collections.PathCollection at 0x162d58220>"
      ]
     },
     "execution_count": 113,
     "metadata": {},
     "output_type": "execute_result"
    },
    {
     "data": {
      "image/png": "[encoded data removed]",
      "text/plain": [
       "<Figure size 432x288 with 1 Axes>"
      ]
     },
     "metadata": {
      "needs_background": "light"
     },
     "output_type": "display_data"
    }
   ],
   "source": [
    "from matplotlib import pyplot as plt\n",
    "import numpy as np\n",
    "import matplotlib\n",
    "\n",
    "plt.xlim(0, 1)\n",
    "zhfont1 = matplotlib.font_manager.FontProperties(fname=\"../../1_数据分析/file/SourceHanSansSC-Bold.otf\") \n",
    "plt.title(\"ROC曲线\", fontproperties=zhfont1)\n",
    "plt.xlabel(\"FPR\", fontproperties=zhfont1)\n",
    "plt.ylabel(\"TPR\", fontproperties=zhfont1)\n",
    "x = np.array([0,0.2,0.4,0.6,0.8,0.9,1])\n",
    "y = np.array([0,0.4,0.8,0.96,1,1,1])\n",
    "# x_smooth = np.linspace(0,1)\n",
    "# y_smooth = make_interp_spline(x, Reduce)(x_smooth)\n",
    "# y_smooth = spline(x_smooth)\n",
    "plt.scatter(x, y, marker='x', s=100, ls='--')\n",
    "# plt.plot(x_smooth, y_smooth, marker='x', c=\"red\", markeredgecolor=\"blue\")"
   ]
  },
  {
   "cell_type": "markdown",
   "id": "3f985125",
   "metadata": {},
   "source": [
    "ROC曲线图中的四个点\n",
    "- 第一个点：(0,1)，即FPR=0, TPR=1，这意味着FN=0，并且FP=0。这是完美的分类器，它将所有的样本都正确分类。\n",
    "- 第二个点：(1,0)，即FPR=1，TPR=0，类似地分析可以发现这是一个最糟糕的分类器，因为它成功避开了所有的正确答案。\n",
    "- 第三个点：(0,0)，即FPR=TPR=0，即FP=TP=0，可以发现该分类器预测所有的样本都为负样本（negative）。\n",
    "- 第四个点：(1,1)，即分类器实际上预测所有的样本都为正样本。\n",
    "\n",
    "经过以上的分析，ROC曲线越接近左上角，该分类器的性能越好。"
   ]
  },
  {
   "cell_type": "markdown",
   "id": "90fd39b5",
   "metadata": {},
   "source": []
  }
 ],
 "metadata": {
  "kernelspec": {
   "display_name": "Python 3 (ipykernel)",
   "language": "python",
   "name": "python3"
  },
  "language_info": {
   "codemirror_mode": {
    "name": "ipython",
    "version": 3
   },
   "file_extension": ".py",
   "mimetype": "text/x-python",
   "name": "python",
   "nbconvert_exporter": "python",
   "pygments_lexer": "ipython3",
   "version": "3.10.4"
  }
 },
 "nbformat": 4,
 "nbformat_minor": 5
}
