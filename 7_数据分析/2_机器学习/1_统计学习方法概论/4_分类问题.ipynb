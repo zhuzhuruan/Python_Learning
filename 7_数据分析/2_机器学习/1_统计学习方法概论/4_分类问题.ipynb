{
 "cells": [
  {
   "cell_type": "markdown",
   "id": "cd5853f9",
   "metadata": {},
   "source": [
    "# 1 - 准确率、精确率和召回率"
   ]
  },
  {
   "cell_type": "markdown",
   "id": "7726d4c0",
   "metadata": {},
   "source": [
    "## 1.1 混淆矩阵"
   ]
  },
  {
   "cell_type": "markdown",
   "id": "8f15c74e",
   "metadata": {},
   "source": [
    "在分类任务下，预测结果(Predicted Condition)与正确标记(True Condition)之间存在四种不同的组合，构成混淆矩阵(适用于多分类)：\n",
    "   - TP：True Positives， 表示实际为正例且被分类器判定为正例的样本数\n",
    "   - FP：False Positives， 表示实际为负例且被分类器判定为正例的样本数\n",
    "   - FN：False Negatives， 表示实际为正例但被分类器判定为负例的样本数\n",
    "   - TN：True Negatives， 表示实际为负例且被分类器判定为负例的样本数\n",
    "\n",
    "<font color=#FF2121>小技巧：第一个字母表示划分正确与否；第二个字母表示分类器判定结果（P:判定为正例，N:判定为反例）</font>"
   ]
  },
  {
   "cell_type": "markdown",
   "id": "43f97d88",
   "metadata": {},
   "source": [
    "|     | 预测正例  | 预测假例  |\n",
    "|  :----:  |  :----:  | :----:  |\n",
    "| 真实正例  | TP | FN |\n",
    "| 真实假例  | FP  | TN |"
   ]
  },
  {
   "cell_type": "markdown",
   "id": "e155d0cd",
   "metadata": {},
   "source": [
    "## 1.2 准确率(Accuracy)、精确率(Precision) 与召回率(Recall)"
   ]
  },
  {
   "cell_type": "markdown",
   "id": "435a7b2b",
   "metadata": {},
   "source": [
    "准确率：对于给定的测试数据集，分类器正确分类的样本数与总样本数之比\n",
    "\n",
    "$$\n",
    "Accuracy = \\frac{TP+TN}{TP+FP+TN+FN}\n",
    "$$\n",
    "\n",
    "精确率：预测结果为正例样本中真实为正例的比例\n",
    "\n",
    "$$\n",
    "Precision = \\frac{TP}{TP+FP}\n",
    "$$\n",
    "\n",
    "    精确率高，意味着分类器要尽量在 “更有把握” 的情况下才将样本预测为正样本， 这意味着精确率能够很好的体现模型对于负样本的区分能力，精确率越高，则模型对负样本区分能力越强。\n",
    "    \n",
    "    简单来说就是，精确率需要降低FP,减少把假例判定成正例的情况，也就是分类器判定正例的条件更为严格。\n",
    "    \n",
    "召回率：真实为正例的样本中预测结果为正例的比例\n",
    "\n",
    "$$\n",
    "Precision = \\frac{TP}{TP+FN}\n",
    "$$\n",
    "\n",
    "    召回率高，意味着分类器尽可能将有可能为正样本的样本预测为正样本，这意味着召回率能够很好的体现模型对于正样本的区分能力，召回率越高，则模型对正样本的区分能力越强\n",
    "\n",
    "**精确率与召回率是此消彼长的关系， 如果分类器只把可能性大的样本预测为正样本，那么会漏掉很多可能性相对不大但依旧满足的正样本，从而导致召回率降低。**"
   ]
  },
  {
   "cell_type": "markdown",
   "id": "899937c1",
   "metadata": {},
   "source": [
    "## 1.3 F1 score"
   ]
  },
  {
   "cell_type": "markdown",
   "id": "5721280a",
   "metadata": {},
   "source": [
    "调和均值，是精确率和召回率评估指标,理想情况下做到两个指标都高当然最好，但一般情况下，精确率高，召回率就低，召回率高，精确率就低。\n",
    "\n",
    "$$\n",
    "F - Score = (1+\\beta^{2}) * \\frac{Precision * Recall}{(\\beta^{2}*Precision)+Recall}\n",
    "$$\n",
    "\n",
    "所以在实际中常常需要根据具体情况做出取舍，例如一般的搜索情况，在保证召回率的条件下，尽量提升精确率。而像癌症检测、地震检测、金融欺诈等，则在保证精确率的条件下，尽量提升召回率。"
   ]
  },
  {
   "cell_type": "markdown",
   "id": "db3a2746",
   "metadata": {},
   "source": [
    " 引出了一个新的指标F-score,综合考虑Precision和Recall的调和值。\n",
    "\n",
    "   - 当β=1时，称为 F1-score或者 F1-Measure，这时，精确率和召回率都很重要，权重相同。\n",
    "   - 当有些情况下，我们认为精确率更重要些，那就调整β的值小于1，\n",
    "   - 如果我们认为召回率更重要些，那就调整β的值大于1。\n",
    "\n",
    "常见的F1-Score计算公式如下：\n",
    "$$\n",
    "F Measure = \\frac{2}{\\frac{1}{precision}\\frac{1}{recall}} = \\frac{2TP}{2TP+FP+FN}\n",
    "$$"
   ]
  },
  {
   "cell_type": "markdown",
   "id": "6b2f35a8",
   "metadata": {},
   "source": [
    "# 2 - Roc曲线"
   ]
  },
  {
   "cell_type": "markdown",
   "id": "90fd39b5",
   "metadata": {},
   "source": []
  }
 ],
 "metadata": {
  "kernelspec": {
   "display_name": "Python 3 (ipykernel)",
   "language": "python",
   "name": "python3"
  },
  "language_info": {
   "codemirror_mode": {
    "name": "ipython",
    "version": 3
   },
   "file_extension": ".py",
   "mimetype": "text/x-python",
   "name": "python",
   "nbconvert_exporter": "python",
   "pygments_lexer": "ipython3",
   "version": "3.9.12"
  }
 },
 "nbformat": 4,
 "nbformat_minor": 5
}
