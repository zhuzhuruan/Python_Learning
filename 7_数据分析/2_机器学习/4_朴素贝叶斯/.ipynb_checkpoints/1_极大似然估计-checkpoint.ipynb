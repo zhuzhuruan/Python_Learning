{
 "cells": [
  {
   "cell_type": "markdown",
   "id": "3ded3668",
   "metadata": {},
   "source": [
    "# 极大似然估计"
   ]
  },
  {
   "cell_type": "markdown",
   "id": "73a1e343",
   "metadata": {},
   "source": [
    "## 一、背景"
   ]
  },
  {
   "cell_type": "markdown",
   "id": "d595015b",
   "metadata": {},
   "source": [
    "先来看看几个小例子：\n",
    "\n",
    "    猎人师傅和徒弟一同去打猎，遇到一只兔子，师傅和徒弟同时放枪，兔子被击中一枪，那么是师傅打中的，还是徒弟打中的？\n",
    "    一个袋子中总共有黑白两种颜色100个球，其中一种颜色90个，随机取出一个球，发现是黑球。那么是黑色球90个？还是白色球90个？\n",
    "    \n",
    "看着两个小故事，不知道有没有发现什么规律...由于师傅的枪法一般都高于徒弟，因此我们猜测兔子是被师傅打中的。随机抽取一个球，是黑色的，说明黑色抽中的概率最大，因此猜测90个的是黑色球。\n",
    "\n",
    "他们有一个共同点，就是我们的猜测（估计），都是基于一个理论：**概率最大的事件，最可能发生**\n",
    "\n",
    "其实我们生活中无时无刻不在使用这种方法，只是不知道它在数学中是如何确定或者推导的。而在数理统计中，它有一个专业的名词：\n",
    "\n",
    "**极大似然估计（maximum likelihood estimation, MLE），通俗的说就是 —— 最像估计法（最可能估计法）**"
   ]
  },
  {
   "cell_type": "markdown",
   "id": "436b6c96",
   "metadata": {},
   "source": [
    "## 二、数学过程"
   ]
  },
  {
   "cell_type": "markdown",
   "id": "60775ef3",
   "metadata": {},
   "source": [
    "官方一点描述上面的过程，即：有$n$个实验结果，$A_i$到$A_n$，如果$A_j$发生了，则意味着$A_j$发生的概率最大。\n",
    "\n",
    "即，**一次试验就发生的事件，这个事件本身发生概率最大**"
   ]
  },
  {
   "cell_type": "markdown",
   "id": "b6d9f1cd",
   "metadata": {},
   "source": [
    "**案例解释**\n",
    "\n",
    "在《权力的游戏》中有个场景，老徒利死的时候，尸体放在穿上，需要弓箭手在岸边发射火箭引燃。但是当时的艾德慕·徒利公爵射了三箭都没中，布林登·徒利实在看不下去了，通过旗帜判断风向，一箭命中！\n",
    "\n",
    "因此箭能否射中靶心，不仅跟弓箭手的瞄准能力有关，还跟外界的风向有关系。假设不考虑人的因素，但看风向...同样的瞄准和力度，风太大不行、太小也不行....那我们给风的大小设置一个值为$\\theta$。假设一名弓箭手射出了三只箭，分别是8环、6环、7环（即$x_1=8,x_2=6,x_3=7$），当天风的大小为88。那么我们认为只有$\\theta$=88，发生上面事件的概率最大。"
   ]
  },
  {
   "cell_type": "code",
   "execution_count": null,
   "id": "f9b512c5",
   "metadata": {},
   "outputs": [],
   "source": []
  }
 ],
 "metadata": {
  "kernelspec": {
   "display_name": "Python 3 (ipykernel)",
   "language": "python",
   "name": "python3"
  },
  "language_info": {
   "codemirror_mode": {
    "name": "ipython",
    "version": 3
   },
   "file_extension": ".py",
   "mimetype": "text/x-python",
   "name": "python",
   "nbconvert_exporter": "python",
   "pygments_lexer": "ipython3",
   "version": "3.9.13"
  }
 },
 "nbformat": 4,
 "nbformat_minor": 5
}
