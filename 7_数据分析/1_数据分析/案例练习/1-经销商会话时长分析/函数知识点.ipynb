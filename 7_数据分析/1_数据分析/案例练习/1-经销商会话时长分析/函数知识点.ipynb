{
 "cells": [
  {
   "cell_type": "markdown",
   "id": "601bcf23",
   "metadata": {},
   "source": [
    "# 一、pd.TimeDelta"
   ]
  },
  {
   "cell_type": "markdown",
   "id": "4c6fe839",
   "metadata": {},
   "source": [
    "## 1 - TimeDelta基本概念"
   ]
  },
  {
   "cell_type": "markdown",
   "id": "cc850f14",
   "metadata": {},
   "source": [
    "Timedelta在pandas中是一个表示两个datetime值之间的差(如日,秒和微妙)的类型,2个Datetime数据运算相减得出的结果就是一个Timedelta数据类型\n",
    "\n",
    "Datetime只支持+操作,其余运算符操作不会报错"
   ]
  },
  {
   "cell_type": "code",
   "execution_count": 4,
   "id": "6eeaace4",
   "metadata": {},
   "outputs": [
    {
     "data": {
      "text/plain": [
       "Timedelta('611 days 00:00:00')"
      ]
     },
     "execution_count": 4,
     "metadata": {},
     "output_type": "execute_result"
    }
   ],
   "source": [
    "# 结果是一个Timedelta类型,并且算出了2019年9月4日到2018年1月日共有多少天\n",
    "import pandas as pd\n",
    "pd.to_datetime('2019-9-4') - pd.to_datetime('2018-1-1')"
   ]
  },
  {
   "cell_type": "code",
   "execution_count": 5,
   "id": "ebf27781",
   "metadata": {},
   "outputs": [
    {
     "data": {
      "text/plain": [
       "Timedelta('611 days 00:00:00')"
      ]
     },
     "execution_count": 5,
     "metadata": {},
     "output_type": "execute_result"
    }
   ],
   "source": [
    "# 如果只写年，默认一月一号\n",
    "pd.to_datetime('2019-9-4') - pd.to_datetime('2018')"
   ]
  },
  {
   "cell_type": "code",
   "execution_count": 6,
   "id": "c526ad6d",
   "metadata": {},
   "outputs": [
    {
     "data": {
      "text/plain": [
       "Timedelta('611 days 00:00:00')"
      ]
     },
     "execution_count": 6,
     "metadata": {},
     "output_type": "execute_result"
    }
   ],
   "source": [
    "# 如果只写年月，默认一号\n",
    "pd.to_datetime('2019-9-4') - pd.to_datetime('2018-1')"
   ]
  },
  {
   "cell_type": "markdown",
   "id": "748472be",
   "metadata": {},
   "source": [
    "## 2 - Timedelta参数"
   ]
  },
  {
   "cell_type": "markdown",
   "id": "dd4dd043",
   "metadata": {},
   "source": [
    "### 通过字符串传递参数"
   ]
  },
  {
   "cell_type": "code",
   "execution_count": 7,
   "id": "3ecba3c4",
   "metadata": {},
   "outputs": [
    {
     "data": {
      "text/plain": [
       "Timedelta('3 days 03:03:30')"
      ]
     },
     "execution_count": 7,
     "metadata": {},
     "output_type": "execute_result"
    }
   ],
   "source": [
    "pd.Timedelta('3 days 3 hours 3minutes 30 seconds')"
   ]
  },
  {
   "cell_type": "markdown",
   "id": "fb335e5d",
   "metadata": {},
   "source": [
    "### 通过整数传递参数"
   ]
  },
  {
   "cell_type": "code",
   "execution_count": 9,
   "id": "cafcdbe4",
   "metadata": {},
   "outputs": [
    {
     "data": {
      "text/plain": [
       "Timedelta('5 days 00:00:00')"
      ]
     },
     "execution_count": 9,
     "metadata": {},
     "output_type": "execute_result"
    }
   ],
   "source": [
    "pd.Timedelta(5, unit='d')"
   ]
  },
  {
   "cell_type": "markdown",
   "id": "edfa5dec",
   "metadata": {},
   "source": [
    "# 通过数据偏移"
   ]
  },
  {
   "cell_type": "code",
   "execution_count": 11,
   "id": "ac60c649",
   "metadata": {},
   "outputs": [
    {
     "data": {
      "text/plain": [
       "Timedelta('2 days 00:00:00')"
      ]
     },
     "execution_count": 11,
     "metadata": {},
     "output_type": "execute_result"
    }
   ],
   "source": [
    "pd.Timedelta(days = 2)"
   ]
  },
  {
   "cell_type": "markdown",
   "id": "de509ab9",
   "metadata": {},
   "source": [
    "## 3 - Timedelta简单运用"
   ]
  },
  {
   "cell_type": "markdown",
   "id": "ef423d2e",
   "metadata": {},
   "source": [
    "**计算1998年1月1日出生的人今年的年龄**"
   ]
  },
  {
   "cell_type": "code",
   "execution_count": 28,
   "id": "e6fff11d",
   "metadata": {},
   "outputs": [
    {
     "name": "stdout",
     "output_type": "stream",
     "text": [
      "实岁是24岁\n",
      "虚岁是25岁\n"
     ]
    }
   ],
   "source": [
    "import datetime\n",
    "age = (datetime.datetime.now() - pd.to_datetime('1998-1-1')) / pd.Timedelta(days=365)\n",
    "print('实岁是{}岁'.format(int(age)))\n",
    "print('虚岁是{}岁'.format(int(age)+1))"
   ]
  },
  {
   "cell_type": "markdown",
   "id": "e9615bef",
   "metadata": {},
   "source": [
    "**利用Timedelta筛选数据**"
   ]
  },
  {
   "cell_type": "code",
   "execution_count": 36,
   "id": "9c1d6af4",
   "metadata": {},
   "outputs": [
    {
     "data": {
      "text/html": [
       "<div>\n",
       "<style scoped>\n",
       "    .dataframe tbody tr th:only-of-type {\n",
       "        vertical-align: middle;\n",
       "    }\n",
       "\n",
       "    .dataframe tbody tr th {\n",
       "        vertical-align: top;\n",
       "    }\n",
       "\n",
       "    .dataframe thead th {\n",
       "        text-align: right;\n",
       "    }\n",
       "</style>\n",
       "<table border=\"1\" class=\"dataframe\">\n",
       "  <thead>\n",
       "    <tr style=\"text-align: right;\">\n",
       "      <th></th>\n",
       "      <th>消息内容</th>\n",
       "      <th>会话ID</th>\n",
       "      <th>消息发送时间</th>\n",
       "      <th>经销商</th>\n",
       "      <th>发送方</th>\n",
       "    </tr>\n",
       "  </thead>\n",
       "  <tbody>\n",
       "    <tr>\n",
       "      <th>0</th>\n",
       "      <td>亲 在吗\\t\\n</td>\n",
       "      <td>1</td>\n",
       "      <td>2022-08-05 14:33:48</td>\n",
       "      <td>佩戴</td>\n",
       "      <td>用户</td>\n",
       "    </tr>\n",
       "    <tr>\n",
       "      <th>1</th>\n",
       "      <td>您好，欢迎光临 Apple 授权专营店，很高兴为您服务！\\n\\niPhone 13 系列领券...</td>\n",
       "      <td>1</td>\n",
       "      <td>2022-08-05 14:33:53</td>\n",
       "      <td>佩戴</td>\n",
       "      <td>商家</td>\n",
       "    </tr>\n",
       "    <tr>\n",
       "      <th>2</th>\n",
       "      <td>请问有什么可以帮您？\\t\\n</td>\n",
       "      <td>1</td>\n",
       "      <td>2022-08-05 14:34:00</td>\n",
       "      <td>佩戴</td>\n",
       "      <td>商家</td>\n",
       "    </tr>\n",
       "    <tr>\n",
       "      <th>3</th>\n",
       "      <td>现在购机，有送什么东西嘛\\t\\n</td>\n",
       "      <td>1</td>\n",
       "      <td>2022-08-05 14:34:11</td>\n",
       "      <td>佩戴</td>\n",
       "      <td>用户</td>\n",
       "    </tr>\n",
       "    <tr>\n",
       "      <th>4</th>\n",
       "      <td>您好，iPhone 官方标配的清单：iPhone 手机*1个、USB-C 转闪电连接线*1条...</td>\n",
       "      <td>1</td>\n",
       "      <td>2022-08-05 14:34:22</td>\n",
       "      <td>佩戴</td>\n",
       "      <td>商家</td>\n",
       "    </tr>\n",
       "    <tr>\n",
       "      <th>...</th>\n",
       "      <td>...</td>\n",
       "      <td>...</td>\n",
       "      <td>...</td>\n",
       "      <td>...</td>\n",
       "      <td>...</td>\n",
       "    </tr>\n",
       "    <tr>\n",
       "      <th>524</th>\n",
       "      <td>头用别的快充头可以么？\\t\\n</td>\n",
       "      <td>6474</td>\n",
       "      <td>2022-08-06 07:59:32</td>\n",
       "      <td>英龙</td>\n",
       "      <td>用户</td>\n",
       "    </tr>\n",
       "    <tr>\n",
       "      <th>525</th>\n",
       "      <td>这款充电套装还包括一个20W的充电头的。\\t\\n</td>\n",
       "      <td>6474</td>\n",
       "      <td>2022-08-06 07:59:37</td>\n",
       "      <td>英龙</td>\n",
       "      <td>商家</td>\n",
       "    </tr>\n",
       "    <tr>\n",
       "      <th>526</th>\n",
       "      <td>建议您使用原装充电器。\\t\\n</td>\n",
       "      <td>6474</td>\n",
       "      <td>2022-08-06 07:59:45</td>\n",
       "      <td>英龙</td>\n",
       "      <td>商家</td>\n",
       "    </tr>\n",
       "    <tr>\n",
       "      <th>527</th>\n",
       "      <td>这个送一个头呗！\\t\\n</td>\n",
       "      <td>6474</td>\n",
       "      <td>2022-08-06 07:59:52</td>\n",
       "      <td>英龙</td>\n",
       "      <td>用户</td>\n",
       "    </tr>\n",
       "    <tr>\n",
       "      <th>528</th>\n",
       "      <td>是原装的么？\\t\\n\\n</td>\n",
       "      <td>6474</td>\n",
       "      <td>2022-08-06 08:00:04</td>\n",
       "      <td>英龙</td>\n",
       "      <td>用户</td>\n",
       "    </tr>\n",
       "  </tbody>\n",
       "</table>\n",
       "<p>156 rows × 5 columns</p>\n",
       "</div>"
      ],
      "text/plain": [
       "                                                  消息内容  会话ID  \\\n",
       "0                                             亲 在吗\\t\\n     1   \n",
       "1    您好，欢迎光临 Apple 授权专营店，很高兴为您服务！\\n\\niPhone 13 系列领券...     1   \n",
       "2                                       请问有什么可以帮您？\\t\\n     1   \n",
       "3                                     现在购机，有送什么东西嘛\\t\\n     1   \n",
       "4    您好，iPhone 官方标配的清单：iPhone 手机*1个、USB-C 转闪电连接线*1条...     1   \n",
       "..                                                 ...   ...   \n",
       "524                                    头用别的快充头可以么？\\t\\n  6474   \n",
       "525                           这款充电套装还包括一个20W的充电头的。\\t\\n  6474   \n",
       "526                                    建议您使用原装充电器。\\t\\n  6474   \n",
       "527                                       这个送一个头呗！\\t\\n  6474   \n",
       "528                                       是原装的么？\\t\\n\\n  6474   \n",
       "\n",
       "                 消息发送时间 经销商 发送方  \n",
       "0   2022-08-05 14:33:48  佩戴  用户  \n",
       "1   2022-08-05 14:33:53  佩戴  商家  \n",
       "2   2022-08-05 14:34:00  佩戴  商家  \n",
       "3   2022-08-05 14:34:11  佩戴  用户  \n",
       "4   2022-08-05 14:34:22  佩戴  商家  \n",
       "..                  ...  ..  ..  \n",
       "524 2022-08-06 07:59:32  英龙  用户  \n",
       "525 2022-08-06 07:59:37  英龙  商家  \n",
       "526 2022-08-06 07:59:45  英龙  商家  \n",
       "527 2022-08-06 07:59:52  英龙  用户  \n",
       "528 2022-08-06 08:00:04  英龙  用户  \n",
       "\n",
       "[156 rows x 5 columns]"
      ]
     },
     "execution_count": 36,
     "metadata": {},
     "output_type": "execute_result"
    }
   ],
   "source": [
    "df = pd.read_excel('./file/message.xlsx')\n",
    "df.消息发送时间 = pd.to_datetime(df['消息发送时间'])\n",
    "df[(datetime.datetime.now() - df['消息发送时间']) <= pd.Timedelta(days=45)]"
   ]
  },
  {
   "cell_type": "markdown",
   "id": "a8e30a53",
   "metadata": {},
   "source": [
    "# 二、iterrows()、items()、itertuples()"
   ]
  },
  {
   "cell_type": "markdown",
   "id": "0f956ea6",
   "metadata": {},
   "source": [
    "## 1 - iteritems() / items()"
   ]
  },
  {
   "cell_type": "markdown",
   "id": "5d20beb9",
   "metadata": {},
   "source": [
    "遍历 DataFrame 成(column name, Series)对.\n",
    "\n",
    "- column name——被遍历 DataFrame对象的列标签.\n",
    "\n",
    "- Series——以index为index，以该列内容为data.\n",
    "\n",
    "返回值:(column name, Series)对.\n"
   ]
  },
  {
   "cell_type": "code",
   "execution_count": 87,
   "id": "a60294be",
   "metadata": {},
   "outputs": [
    {
     "name": "stdout",
     "output_type": "stream",
     "text": [
      "会话ID\n",
      "0    1\n",
      "1    1\n",
      "2    1\n",
      "Name: 会话ID, dtype: int64 \n",
      "\n",
      "经销商\n",
      "0    佩戴\n",
      "1    佩戴\n",
      "2    佩戴\n",
      "Name: 经销商, dtype: object \n",
      "\n",
      "发送方\n",
      "0    用户\n",
      "1    商家\n",
      "2    商家\n",
      "Name: 发送方, dtype: object \n",
      "\n"
     ]
    }
   ],
   "source": [
    "data = df.loc[:, ['会话ID', '经销商', '发送方']].head(3)\n",
    "for key,value in data.items():\n",
    "    print(key)\n",
    "    print(value, '\\n')"
   ]
  },
  {
   "cell_type": "markdown",
   "id": "2b0c15c0",
   "metadata": {},
   "source": [
    "## 2 - iterrows()"
   ]
  },
  {
   "cell_type": "markdown",
   "id": "36f06a61",
   "metadata": {},
   "source": [
    "遍历 DataFrame 成(index, Series)对.\n",
    "\n",
    "- index——被遍历 DataFrame对象的行标签.\n",
    "- Series——以columns为index，以该行内容为data.\n",
    "\n",
    "返回值：(index, Series)对."
   ]
  },
  {
   "cell_type": "code",
   "execution_count": 72,
   "id": "0b90b6c5",
   "metadata": {
    "scrolled": true
   },
   "outputs": [
    {
     "name": "stdout",
     "output_type": "stream",
     "text": [
      "0\n",
      "会话ID     1\n",
      "经销商     佩戴\n",
      "发送方     用户\n",
      "Name: 0, dtype: object \n",
      "\n",
      "1\n",
      "会话ID     1\n",
      "经销商     佩戴\n",
      "发送方     商家\n",
      "Name: 1, dtype: object \n",
      "\n",
      "2\n",
      "会话ID     1\n",
      "经销商     佩戴\n",
      "发送方     商家\n",
      "Name: 2, dtype: object \n",
      "\n"
     ]
    }
   ],
   "source": [
    "data = df.loc[:, ['会话ID', '经销商', '发送方']].head(3)\n",
    "for key,value in data.iterrows():\n",
    "    print(key)\n",
    "    print(value, '\\n')"
   ]
  },
  {
   "cell_type": "code",
   "execution_count": 85,
   "id": "66776f4a",
   "metadata": {},
   "outputs": [
    {
     "name": "stdout",
     "output_type": "stream",
     "text": [
      "0 佩戴 用户\n",
      "1 佩戴 商家\n",
      "2 佩戴 商家\n"
     ]
    }
   ],
   "source": [
    "# 对于每一行，通过列名访问对应的元素\n",
    "data = df.loc[:, ['会话ID', '经销商', '发送方']].head(3)\n",
    "for key,value in data.iterrows():\n",
    "    print(key, value.经销商, value.发送方)"
   ]
  },
  {
   "cell_type": "markdown",
   "id": "8e359f7a",
   "metadata": {},
   "source": [
    "**注意：同一个Series中的元素类型应该相等，而iterrows()函数将同行不同列的数据放在一个Series中。我们知道不同列的数据不一定相等，因此在这过程中itrrows()会自动转变元素类型或者报错。**"
   ]
  },
  {
   "cell_type": "markdown",
   "id": "d93a08f8",
   "metadata": {},
   "source": [
    "## 3 - itertuples"
   ]
  },
  {
   "cell_type": "markdown",
   "id": "7355a362",
   "metadata": {},
   "source": [
    "遍历 DataFrame 成Pandas(Index=‘ ’, label1=' ', label2=' ',...)具名元组对.\n",
    "\n",
    "- Index——行标签.\n",
    "- label1…——列标签.\n",
    "- ' '——DataFrame中对应的值 .\n",
    "\n",
    "itertuples(index=true, name='Xxx')\n",
    "\n",
    "index——默认为true, 当指定为False时,输出Pandas(label1=' ', label2=' ',…),即去掉具名元组第一个index=' '元素.\n",
    "\n",
    "name——指定具名元组名称，指定后输出为Xxx(Index=‘ ’, label1=' ', label2=' ',…)"
   ]
  },
  {
   "cell_type": "code",
   "execution_count": 78,
   "id": "bb0cebc6",
   "metadata": {},
   "outputs": [
    {
     "name": "stdout",
     "output_type": "stream",
     "text": [
      "Pandas(Index=0, 会话ID=1, 经销商='佩戴', 发送方='用户') <class 'pandas.core.frame.Pandas'>\n",
      "佩戴\n",
      "Pandas(Index=1, 会话ID=1, 经销商='佩戴', 发送方='商家') <class 'pandas.core.frame.Pandas'>\n",
      "佩戴\n",
      "Pandas(Index=2, 会话ID=1, 经销商='佩戴', 发送方='商家') <class 'pandas.core.frame.Pandas'>\n",
      "佩戴\n"
     ]
    }
   ],
   "source": [
    "for row in data.itertuples():\n",
    "    print(row, type(row))\n",
    "    print(row.经销商)"
   ]
  },
  {
   "cell_type": "code",
   "execution_count": 88,
   "id": "fe633880",
   "metadata": {
    "scrolled": true
   },
   "outputs": [
    {
     "name": "stdout",
     "output_type": "stream",
     "text": [
      "test(会话ID=1, 经销商='佩戴', 发送方='用户') <class 'pandas.core.frame.test'>\n",
      "test(会话ID=1, 经销商='佩戴', 发送方='商家') <class 'pandas.core.frame.test'>\n",
      "test(会话ID=1, 经销商='佩戴', 发送方='商家') <class 'pandas.core.frame.test'>\n"
     ]
    }
   ],
   "source": [
    "for row in data.itertuples(index=False, name = 'test'):\n",
    "    print(row, type(row))"
   ]
  },
  {
   "cell_type": "code",
   "execution_count": 93,
   "id": "eea45695",
   "metadata": {},
   "outputs": [
    {
     "name": "stdout",
     "output_type": "stream",
     "text": [
      "1 佩戴 用户\n",
      "1 佩戴 商家\n",
      "1 佩戴 商家\n"
     ]
    }
   ],
   "source": [
    "for row in data.itertuples():\n",
    "    print(getattr(row, '会话ID'), getattr(row, '经销商'), getattr(row, '发送方'))"
   ]
  },
  {
   "cell_type": "markdown",
   "id": "94d1e42c",
   "metadata": {},
   "source": [
    "## 4 - getattr()"
   ]
  },
  {
   "cell_type": "markdown",
   "id": "0f5267e8",
   "metadata": {},
   "source": [
    "getattr() 函数用于返回一个对象属性值。\n",
    "\n",
    "getattr(object, name[, default])\n",
    "\n",
    "参数:\n",
    "- object -- 对象。\n",
    "- name -- 字符串，对象属性。\n",
    "- default -- 默认返回值，如果不提供该参数，在没有对应属性时，将触发 AttributeError。\n",
    "\n",
    "返回值: 返回对象属性值。"
   ]
  },
  {
   "cell_type": "code",
   "execution_count": 94,
   "id": "b19cda8f",
   "metadata": {},
   "outputs": [
    {
     "name": "stdout",
     "output_type": "stream",
     "text": [
      "18\n"
     ]
    }
   ],
   "source": [
    "class Person(object):\n",
    "    age = 18\n",
    "    gender = 'male'\n",
    "\n",
    "Tom = Person()\n",
    "age = getattr(Tom, 'age')\n",
    "print(age)"
   ]
  },
  {
   "cell_type": "markdown",
   "id": "96e5cd4c",
   "metadata": {},
   "source": []
  }
 ],
 "metadata": {
  "kernelspec": {
   "display_name": "Python 3 (ipykernel)",
   "language": "python",
   "name": "python3"
  },
  "language_info": {
   "codemirror_mode": {
    "name": "ipython",
    "version": 3
   },
   "file_extension": ".py",
   "mimetype": "text/x-python",
   "name": "python",
   "nbconvert_exporter": "python",
   "pygments_lexer": "ipython3",
   "version": "3.10.4"
  }
 },
 "nbformat": 4,
 "nbformat_minor": 5
}
