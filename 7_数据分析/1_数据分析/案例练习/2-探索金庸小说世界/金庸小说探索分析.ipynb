{
 "cells": [
  {
   "cell_type": "markdown",
   "id": "2ee7a8a2",
   "metadata": {},
   "source": [
    "# 一、高频分析"
   ]
  },
  {
   "cell_type": "markdown",
   "id": "3eb6de84",
   "metadata": {},
   "source": [
    "定义加载小说的函数"
   ]
  },
  {
   "cell_type": "code",
   "execution_count": 3,
   "id": "3f7a85ab",
   "metadata": {},
   "outputs": [],
   "source": [
    "def load_novel(novel):\n",
    "    with open(f'./file/novels/{novel}.txt', 'rt', encoding='utf-8') as f:\n",
    "        return f.read()"
   ]
  },
  {
   "cell_type": "markdown",
   "id": "628a33fb",
   "metadata": {},
   "source": [
    "# 二、主角分析"
   ]
  },
  {
   "cell_type": "markdown",
   "id": "ecb3db5f",
   "metadata": {},
   "source": [
    "加载人物数据"
   ]
  },
  {
   "cell_type": "code",
   "execution_count": 19,
   "id": "09ae4e14",
   "metadata": {},
   "outputs": [],
   "source": [
    "with open('./file/data/names.txt', 'rt', encoding='utf-8') as f:\n",
    "    data = [line.rstrip() for line in f]\n",
    "    novels = data[::2]\n",
    "    names = data[1::2]\n",
    "    novel_names = {k: v.split() for k,v in zip(novels, names)}\n",
    "    del novels, names, data"
   ]
  },
  {
   "cell_type": "markdown",
   "id": "70cae8d3",
   "metadata": {},
   "source": [
    "可以预览一下《天龙八部》中的人物"
   ]
  },
  {
   "cell_type": "code",
   "execution_count": 20,
   "id": "026dd143",
   "metadata": {
    "scrolled": true
   },
   "outputs": [
    {
     "data": {
      "text/plain": [
       "'刀白凤,丁春秋,马夫人,马五德,小翠,于光豪,巴天石,不平道人,邓百川,风波恶,甘宝宝,公冶乾,木婉清,包不同,天狼子,太皇太后,王语嫣,乌老大,无崖子,云岛主'"
      ]
     },
     "execution_count": 20,
     "metadata": {},
     "output_type": "execute_result"
    }
   ],
   "source": [
    "\",\".join(novel_names['天龙八部'][:20])"
   ]
  },
  {
   "cell_type": "markdown",
   "id": "d3252279",
   "metadata": {},
   "source": [
    "下面我们寻找一下每部小说的主角，统计每个人物的出场次数，显然次数越多主角光环越强，下面我们看看每部小说，出现次数最多的前十个人物："
   ]
  },
  {
   "cell_type": "code",
   "execution_count": 25,
   "id": "df15a9aa",
   "metadata": {
    "scrolled": true
   },
   "outputs": [
    {
     "name": "stdout",
     "output_type": "stream",
     "text": [
      "书剑恩仇录 [('陈家洛', 2095), ('张召重', 760), ('徐天宏', 685), ('霍青桐', 650), ('余鱼同', 605)]\n",
      "碧血剑 [('袁承志', 3028), ('何铁手', 306), ('温青', 254), ('阿九', 215), ('洪胜海', 200)]\n",
      "射雕英雄传 [('郭靖', 5009), ('黄蓉', 3650), ('洪七公', 1041), ('黄药师', 868), ('周伯通', 654)]\n",
      "神雕侠侣 [('杨过', 5991), ('小龙女', 2133), ('郭靖', 1431), ('黄蓉', 1428), ('李莫愁', 1016)]\n",
      "雪山飞狐 [('胡斐', 230), ('曹云奇', 228), ('宝树', 225), ('苗若兰', 217), ('胡一刀', 207)]\n",
      "飞狐外传 [('胡斐', 2761), ('程灵素', 765), ('袁紫衣', 425), ('苗人凤', 405), ('马春花', 331)]\n",
      "白马啸西风 [('李文秀', 441), ('苏普', 270), ('阿曼', 164), ('苏鲁克', 147), ('陈达海', 106)]\n",
      "倚天屠龙记 [('张无忌', 4665), ('赵敏', 1250), ('谢逊', 1211), ('张翠山', 1146), ('周芷若', 825)]\n",
      "鸳鸯刀 [('萧中慧', 103), ('袁冠南', 82), ('卓天雄', 76), ('周威信', 74), ('林玉龙', 52)]\n",
      "天龙八部 [('段誉', 3372), ('萧峰', 1786), ('虚竹', 1636), ('阿紫', 1150), ('乔峰', 1131)]\n",
      "连城诀 [('狄云', 1433), ('水笙', 439), ('戚芳', 390), ('丁典', 364), ('万震山', 332)]\n",
      "侠客行 [('石破天', 1804), ('石清', 611), ('丁珰', 446), ('白万剑', 446), ('丁不四', 343)]\n",
      "笑傲江湖 [('令狐冲', 5838), ('岳不群', 1184), ('林平之', 926), ('岳灵珊', 919), ('仪琳', 729)]\n",
      "鹿鼎记 [('韦小宝', 9731), ('吴三桂', 949), ('双儿', 691), ('鳌拜', 479), ('陈近南', 472)]\n",
      "越女剑 [('范蠡', 121), ('阿青', 64), ('勾践', 47), ('薛烛', 29), ('西施', 26)]\n"
     ]
    }
   ],
   "source": [
    "from collections import Counter\n",
    "def find_main_characters(novel, num=10, content=None):\n",
    "    if content is None:\n",
    "        content = load_novel(novel)\n",
    "    count = Counter()\n",
    "    for name in novels_names[novel]:\n",
    "        count[name] = content.count(name)\n",
    "    return count.most_common(num)\n",
    "\n",
    "for novel in novel_names:\n",
    "    print(novel, find_main_characters(novel, num=5, content=None))\n",
    "    "
   ]
  },
  {
   "cell_type": "markdown",
   "id": "f8ebb639",
   "metadata": {},
   "source": [
    "上述结果用文本展示了每部小说的前5个主角，但是不够直观，下面用pyecharts的树图展示一下："
   ]
  },
  {
   "cell_type": "code",
   "execution_count": 32,
   "id": "07ce0fee",
   "metadata": {
    "scrolled": true
   },
   "outputs": [
    {
     "ename": "NameError",
     "evalue": "name 'TreeMap' is not defined",
     "output_type": "error",
     "traceback": [
      "\u001b[1;31m---------------------------------------------------------------------------\u001b[0m",
      "\u001b[1;31mNameError\u001b[0m                                 Traceback (most recent call last)",
      "Input \u001b[1;32mIn [32]\u001b[0m, in \u001b[0;36m<cell line: 11>\u001b[1;34m()\u001b[0m\n\u001b[0;32m      8\u001b[0m     \u001b[38;5;28;01mfor\u001b[39;00m name, count \u001b[38;5;129;01min\u001b[39;00m find_main_characters(novel, \u001b[38;5;241m5\u001b[39m):\n\u001b[0;32m      9\u001b[0m         tmp\u001b[38;5;241m.\u001b[39mappend({\u001b[38;5;124m\"\u001b[39m\u001b[38;5;124mname\u001b[39m\u001b[38;5;124m\"\u001b[39m: name, \u001b[38;5;124m\"\u001b[39m\u001b[38;5;124mvalue\u001b[39m\u001b[38;5;124m\"\u001b[39m: count})\n\u001b[0;32m     10\u001b[0m c \u001b[38;5;241m=\u001b[39m (\n\u001b[1;32m---> 11\u001b[0m     \u001b[43mTreeMap\u001b[49m()\n\u001b[0;32m     12\u001b[0m     \u001b[38;5;241m.\u001b[39madd(\u001b[38;5;124m\"\u001b[39m\u001b[38;5;124m\"\u001b[39m, data, levels\u001b[38;5;241m=\u001b[39m[\n\u001b[0;32m     13\u001b[0m         opts\u001b[38;5;241m.\u001b[39mTreeMapLevelsOpts(),\n\u001b[0;32m     14\u001b[0m         opts\u001b[38;5;241m.\u001b[39mTreeMapLevelsOpts(\n\u001b[0;32m     15\u001b[0m             color_saturation\u001b[38;5;241m=\u001b[39m[\u001b[38;5;241m0.3\u001b[39m, \u001b[38;5;241m0.6\u001b[39m],\n\u001b[0;32m     16\u001b[0m             treemap_itemstyle_opts\u001b[38;5;241m=\u001b[39mopts\u001b[38;5;241m.\u001b[39mTreeMapItemStyleOpts(\n\u001b[0;32m     17\u001b[0m                 border_color_saturation\u001b[38;5;241m=\u001b[39m\u001b[38;5;241m0.7\u001b[39m, gap_width\u001b[38;5;241m=\u001b[39m\u001b[38;5;241m5\u001b[39m, border_width\u001b[38;5;241m=\u001b[39m\u001b[38;5;241m10\u001b[39m\n\u001b[0;32m     18\u001b[0m             ),\n\u001b[0;32m     19\u001b[0m             upper_label_opts\u001b[38;5;241m=\u001b[39mopts\u001b[38;5;241m.\u001b[39mLabelOpts(\n\u001b[0;32m     20\u001b[0m                 is_show\u001b[38;5;241m=\u001b[39m\u001b[38;5;28;01mTrue\u001b[39;00m, position\u001b[38;5;241m=\u001b[39m\u001b[38;5;124m'\u001b[39m\u001b[38;5;124minsideTopLeft\u001b[39m\u001b[38;5;124m'\u001b[39m, vertical_align\u001b[38;5;241m=\u001b[39m\u001b[38;5;124m'\u001b[39m\u001b[38;5;124mtop\u001b[39m\u001b[38;5;124m'\u001b[39m\n\u001b[0;32m     21\u001b[0m             )\n\u001b[0;32m     22\u001b[0m         ),\n\u001b[0;32m     23\u001b[0m     ])\n\u001b[0;32m     24\u001b[0m     \u001b[38;5;241m.\u001b[39mset_global_opts(title_opts\u001b[38;5;241m=\u001b[39mopts\u001b[38;5;241m.\u001b[39mTitleOpts(title\u001b[38;5;241m=\u001b[39m\u001b[38;5;124m\"\u001b[39m\u001b[38;5;124m金庸小说主角\u001b[39m\u001b[38;5;124m\"\u001b[39m))\n\u001b[0;32m     25\u001b[0m )\n\u001b[0;32m     26\u001b[0m c\u001b[38;5;241m.\u001b[39mrender_notebook()\n",
      "\u001b[1;31mNameError\u001b[0m: name 'TreeMap' is not defined"
     ]
    }
   ],
   "source": [
    "from pyecharts import options as opts\n",
    "from pyecharts.charts import Tree\n",
    "\n",
    "data = []\n",
    "for novel in novel_names:\n",
    "    tmp = []\n",
    "    data.append({\"name\": novel, \"children\": tmp})\n",
    "    for name, count in find_main_characters(novel, 5):\n",
    "        tmp.append({\"name\": name, \"value\": count})\n",
    "c = (\n",
    "    TreeMap()\n",
    "    .add(\"\", data, levels=[\n",
    "        opts.TreeMapLevelsOpts(),\n",
    "        opts.TreeMapLevelsOpts(\n",
    "            color_saturation=[0.3, 0.6],\n",
    "            treemap_itemstyle_opts=opts.TreeMapItemStyleOpts(\n",
    "                border_color_saturation=0.7, gap_width=5, border_width=10\n",
    "            ),\n",
    "            upper_label_opts=opts.LabelOpts(\n",
    "                is_show=True, position='insideTopLeft', vertical_align='top'\n",
    "            )\n",
    "        ),\n",
    "    ])\n",
    "    .set_global_opts(title_opts=opts.TitleOpts(title=\"金庸小说主角\"))\n",
    ")\n",
    "c.render_notebook()"
   ]
  },
  {
   "cell_type": "code",
   "execution_count": null,
   "id": "d365ab32",
   "metadata": {
    "scrolled": true
   },
   "outputs": [],
   "source": []
  },
  {
   "cell_type": "code",
   "execution_count": null,
   "id": "aedb25bb",
   "metadata": {},
   "outputs": [],
   "source": []
  },
  {
   "cell_type": "code",
   "execution_count": null,
   "id": "de6355f0",
   "metadata": {},
   "outputs": [],
   "source": []
  }
 ],
 "metadata": {
  "kernelspec": {
   "display_name": "Python 3 (ipykernel)",
   "language": "python",
   "name": "python3"
  },
  "language_info": {
   "codemirror_mode": {
    "name": "ipython",
    "version": 3
   },
   "file_extension": ".py",
   "mimetype": "text/x-python",
   "name": "python",
   "nbconvert_exporter": "python",
   "pygments_lexer": "ipython3",
   "version": "3.9.12"
  }
 },
 "nbformat": 4,
 "nbformat_minor": 5
}
