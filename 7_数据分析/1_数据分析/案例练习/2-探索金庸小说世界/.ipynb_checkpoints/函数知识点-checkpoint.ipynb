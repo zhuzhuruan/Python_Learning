{
 "cells": [
  {
   "cell_type": "markdown",
   "id": "6e5b2cee",
   "metadata": {},
   "source": [
    "# 一、zip"
   ]
  },
  {
   "cell_type": "markdown",
   "id": "aac35db7",
   "metadata": {},
   "source": [
    "zip() 函数用于将可迭代的对象作为参数，将对象中对应的元素打包成一个个元组，然后返回由这些元组组成的对象，这样做的好处是节约了不少的内存。\n",
    "\n",
    "- 可以使用 list() 转换来输出列表。\n",
    "- 如果各个迭代器的元素个数不一致，则返回列表长度与最短的对象相同，利用 * 号操作符，可以将元组解压为列表。\n",
    "\n",
    "语法：zip([iterable, ...])\n",
    "\n",
    "- iterable——一个或多个迭代器"
   ]
  },
  {
   "cell_type": "code",
   "execution_count": 2,
   "id": "933d3201",
   "metadata": {},
   "outputs": [
    {
     "data": {
      "text/plain": [
       "[(1, 4), (2, 5), (3, 6)]"
      ]
     },
     "execution_count": 2,
     "metadata": {},
     "output_type": "execute_result"
    }
   ],
   "source": [
    "a = [1,2,3]\n",
    "b = [4,5,6]\n",
    "c = [4,5,6,7,8]\n",
    "zipped = zip(a,b)   # 返回一个对象\n",
    "list(zipped)     # 转换为列表"
   ]
  },
  {
   "cell_type": "code",
   "execution_count": 3,
   "id": "095e7a92",
   "metadata": {},
   "outputs": [
    {
     "data": {
      "text/plain": [
       "[(1, 4), (2, 5), (3, 6)]"
      ]
     },
     "execution_count": 3,
     "metadata": {},
     "output_type": "execute_result"
    }
   ],
   "source": [
    "list(zip(a,c))      # 元素个数与最短的列表一致"
   ]
  },
  {
   "cell_type": "markdown",
   "id": "fdbc5b60",
   "metadata": {},
   "source": [
    "与 zip 相反，zip(*) 可理解为解压，返回二维矩阵式"
   ]
  },
  {
   "cell_type": "code",
   "execution_count": 9,
   "id": "fe5ae504",
   "metadata": {},
   "outputs": [
    {
     "name": "stdout",
     "output_type": "stream",
     "text": [
      "[1, 2, 3]\n",
      "[4, 5, 6]\n"
     ]
    }
   ],
   "source": [
    "a1, a2 = zip(*zip(a,b))\n",
    "print(list(a1))\n",
    "print(list(a2))"
   ]
  },
  {
   "cell_type": "markdown",
   "id": "08d4f0b5",
   "metadata": {},
   "source": [
    "# 二、Counter()"
   ]
  },
  {
   "cell_type": "markdown",
   "id": "44cb0a9b",
   "metadata": {},
   "source": [
    "Counter() 是 collections 库中的一个函数，可以用来统计一个 python 列表、字符串、元组等可迭代对象中每个元素出现的次数，并返回一个字典。"
   ]
  },
  {
   "cell_type": "code",
   "execution_count": 14,
   "id": "bec26228",
   "metadata": {},
   "outputs": [
    {
     "name": "stdout",
     "output_type": "stream",
     "text": [
      "Counter({1: 17, 5: 16, 9: 13, 3: 11, 2: 11, 6: 9, 4: 8, 8: 8, 7: 7})\n"
     ]
    }
   ],
   "source": [
    "import numpy as np\n",
    "from collections import Counter\n",
    "x = np.random.randint(1,10,100)\n",
    "counter = Counter(x)\n",
    "print(counter)"
   ]
  },
  {
   "cell_type": "markdown",
   "id": "ac6cdc80",
   "metadata": {},
   "source": [
    "elements()：将元素返回一个迭代器，每次重复的次数与它的次数相同。元素以任意顺序返回。 如果一个元素的数量少于一个，elements()会忽略它。"
   ]
  },
  {
   "cell_type": "code",
   "execution_count": 15,
   "id": "812fc5d7",
   "metadata": {},
   "outputs": [
    {
     "data": {
      "text/plain": [
       "<itertools.chain at 0x25a2e34d160>"
      ]
     },
     "execution_count": 15,
     "metadata": {},
     "output_type": "execute_result"
    }
   ],
   "source": [
    "x = np.random.randint(1,10,100)\n",
    "count = Counter(x)\n",
    "count.elements()"
   ]
  },
  {
   "cell_type": "code",
   "execution_count": 20,
   "id": "c4c9ad30",
   "metadata": {},
   "outputs": [
    {
     "name": "stdout",
     "output_type": "stream",
     "text": [
      "7,7,7,7,7,7,7,7,1,1,1,1,1,1,1,1,1,1,1,1,1,5,5,5,5,5,5,5,5,9,9,9,9,9,9,9,9,9,9,6,6,6,6,6,6,6,6,6,6,6,8,8,8,8,8,8,8,8,8,8,8,8,8,8,2,2,2,2,2,2,2,2,2,2,2,2,2,2,3,3,3,3,3,3,3,3,3,3,3,3,3,4,4,4,4,4,4,4,4,4,"
     ]
    }
   ],
   "source": [
    "x = np.random.randint(1,10,100)\n",
    "count = Counter(x)\n",
    "for i in count.elements():\n",
    "    print(i, end = ',')"
   ]
  },
  {
   "cell_type": "markdown",
   "id": "7d35c5b7",
   "metadata": {},
   "source": [
    "most_common(n)：列出n个最常见的元素及其数量。 如果省略n或None，most_common()返回计数器中的所有元素。具有相同计数的元素可以任意排序。"
   ]
  },
  {
   "cell_type": "code",
   "execution_count": 22,
   "id": "388b424a",
   "metadata": {},
   "outputs": [
    {
     "data": {
      "text/plain": [
       "[(9, 14), (7, 12), (1, 12)]"
      ]
     },
     "execution_count": 22,
     "metadata": {},
     "output_type": "execute_result"
    }
   ],
   "source": [
    "x = np.random.randint(1,10,100)\n",
    "count = Counter(x)\n",
    "# 不写参数n，则默认为显示所有元素的数量情况\n",
    "count.most_common(3)"
   ]
  },
  {
   "cell_type": "markdown",
   "id": "1d3b3c6c",
   "metadata": {},
   "source": [
    "subtract()：可以看成两个元组之间的加减运算，将各个元素对应的个数进行加减，加减后会更新原数组，也就是本身会被覆盖掉，可以看如下代码："
   ]
  },
  {
   "cell_type": "code",
   "execution_count": 24,
   "id": "c1b0a96a",
   "metadata": {},
   "outputs": [
    {
     "name": "stdout",
     "output_type": "stream",
     "text": [
      "Counter({6: 6, 2: 3, 9: 3, 4: 3, 5: 2, 3: 1, 7: 1, 1: 1})\n",
      "Counter({9: 6, 8: 4, 3: 4, 7: 3, 1: 3, 4: 3, 6: 3, 5: 3, 2: 1})\n"
     ]
    }
   ],
   "source": [
    "first = np.random.randint(1,10,20)\n",
    "second = np.random.randint(1,10,30)\n",
    "count1 = Counter(first)\n",
    "count2 = Counter(second)\n",
    "print(count1)\n",
    "print(count2)"
   ]
  },
  {
   "cell_type": "code",
   "execution_count": 25,
   "id": "0922e448",
   "metadata": {},
   "outputs": [
    {
     "name": "stdout",
     "output_type": "stream",
     "text": [
      "Counter({8: 4, 9: 3, 3: 3, 7: 2, 1: 2, 5: 1, 4: 0, 2: -2, 6: -3})\n"
     ]
    }
   ],
   "source": [
    "count2.subtract(count1)\n",
    "print(count2)"
   ]
  },
  {
   "cell_type": "code",
   "execution_count": 26,
   "id": "4406a96f",
   "metadata": {},
   "outputs": [
    {
     "name": "stdout",
     "output_type": "stream",
     "text": [
      "Counter({'b': 3, 'a': 2, 'c': 2})\n",
      "Counter({'f': 4, 'd': 2, 'e': 2, 'g': 1})\n"
     ]
    }
   ],
   "source": [
    "# 多出来的key，得到的结果是随机的负数\n",
    "x = 'aabbbcc'\n",
    "y = 'ddeeffffg'\n",
    "count1 = Counter(x)\n",
    "count2 = Counter(y)\n",
    "print(count1)\n",
    "print(count2)"
   ]
  },
  {
   "cell_type": "code",
   "execution_count": 30,
   "id": "bc8b9ea3",
   "metadata": {},
   "outputs": [
    {
     "name": "stdout",
     "output_type": "stream",
     "text": [
      "Counter({'f': 4, 'd': 2, 'e': 2, 'g': 1, 'a': -8, 'c': -8, 'b': -12})\n"
     ]
    }
   ],
   "source": [
    "count2.subtract(count1)\n",
    "print(count2)"
   ]
  },
  {
   "cell_type": "code",
   "execution_count": null,
   "id": "2d406089",
   "metadata": {},
   "outputs": [],
   "source": []
  }
 ],
 "metadata": {
  "kernelspec": {
   "display_name": "Python 3 (ipykernel)",
   "language": "python",
   "name": "python3"
  },
  "language_info": {
   "codemirror_mode": {
    "name": "ipython",
    "version": 3
   },
   "file_extension": ".py",
   "mimetype": "text/x-python",
   "name": "python",
   "nbconvert_exporter": "python",
   "pygments_lexer": "ipython3",
   "version": "3.9.12"
  }
 },
 "nbformat": 4,
 "nbformat_minor": 5
}
