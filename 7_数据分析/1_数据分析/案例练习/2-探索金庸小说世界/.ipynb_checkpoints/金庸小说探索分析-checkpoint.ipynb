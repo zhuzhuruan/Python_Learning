{
 "cells": [
  {
   "cell_type": "markdown",
   "id": "1bd6c9af",
   "metadata": {},
   "source": [
    "# 一、高频分析"
   ]
  },
  {
   "cell_type": "markdown",
   "id": "b29bec5a",
   "metadata": {},
   "source": [
    "定义加载小说的函数"
   ]
  },
  {
   "cell_type": "code",
   "execution_count": 47,
   "id": "8bd188c7",
   "metadata": {},
   "outputs": [],
   "source": [
    "def load_novel(novel):\n",
    "    with open(f'./file/novels/{novel}.txt', 'rt', encoding='utf-8') as f:\n",
    "        return f.read()"
   ]
  },
  {
   "cell_type": "markdown",
   "id": "b1a46e37",
   "metadata": {},
   "source": [
    "# 二、主角分析"
   ]
  },
  {
   "cell_type": "markdown",
   "id": "0a71cdf4",
   "metadata": {},
   "source": [
    "加载人物数据"
   ]
  },
  {
   "cell_type": "code",
   "execution_count": null,
   "id": "f61c57c0",
   "metadata": {},
   "outputs": [],
   "source": [
    "with open('./file/data/names.txt', 'rt', encoding='utf-8') as f:\n",
    "    data = [line.rstrip() for line in f]\n",
    "    novels = data[::2]\n",
    "    names = data[1::2]\n",
    "    novel_names = {k: v.split() for k,v in zip(novels, names)}\n",
    "    del novels, names, data"
   ]
  },
  {
   "cell_type": "markdown",
   "id": "e03a6a21",
   "metadata": {},
   "source": [
    "可以预览一下《天龙八部》中的人物"
   ]
  },
  {
   "cell_type": "code",
   "execution_count": null,
   "id": "d3da8cf9",
   "metadata": {
    "scrolled": true
   },
   "outputs": [],
   "source": [
    "\",\".join(novel_names['书剑恩仇录'][:20])"
   ]
  },
  {
   "cell_type": "markdown",
   "id": "2e622c85",
   "metadata": {},
   "source": [
    "下面我们寻找一下每部小说的主角，统计每个人物的出场次数，显然次数越多主角光环越强，下面我们看看每部小说，出现次数最多的前十个人物："
   ]
  },
  {
   "cell_type": "code",
   "execution_count": null,
   "id": "7e00e818",
   "metadata": {
    "scrolled": true
   },
   "outputs": [],
   "source": [
    "from collections import Counter\n",
    "def find_main_characters(novel, num=10, content=None):\n",
    "    if content is None:\n",
    "        content = load_novel(novel)\n",
    "    count = Counter()\n",
    "    for name in novel_names[novel]:\n",
    "        count[name] = content.count(name)\n",
    "    return count.most_common(num)\n",
    "\n",
    "for novel in novel_names:\n",
    "    print(novel, find_main_characters(novel, num=5, content=None))\n",
    "    "
   ]
  },
  {
   "cell_type": "markdown",
   "id": "a6fe278e",
   "metadata": {},
   "source": [
    "上述结果用文本展示了每部小说的前5个主角，但是不够直观，下面用pyecharts的树图展示一下："
   ]
  },
  {
   "cell_type": "code",
   "execution_count": null,
   "id": "92becd19",
   "metadata": {
    "scrolled": true
   },
   "outputs": [],
   "source": [
    "from pyecharts import options as opts\n",
    "from pyecharts.charts import TreeMap\n",
    "\n",
    "data = []\n",
    "for novel in novel_names:\n",
    "    tmp = []\n",
    "    data.append({\"name\": novel, \"children\": tmp})\n",
    "    for name, count in find_main_characters(novel, 5):\n",
    "        tmp.append({\"name\": name, \"value\": count})\n",
    "c = (\n",
    "    TreeMap()\n",
    "    .add(\"\", data, levels=[\n",
    "        opts.TreeMapLevelsOpts(),\n",
    "        opts.TreeMapLevelsOpts(\n",
    "            color_saturation=[0.4, 0.6],\n",
    "            treemap_itemstyle_opts=opts.TreeMapItemStyleOpts(\n",
    "                border_color_saturation=0.7, gap_width=5, border_width=10\n",
    "            ),\n",
    "            upper_label_opts=opts.LabelOpts(\n",
    "                is_show=True, position='insideTopLeft', vertical_align='top'\n",
    "            )\n",
    "        ),\n",
    "    ])\n",
    "    .set_global_opts(title_opts=opts.TitleOpts(title=\"金庸小说主角\"))\n",
    ")\n",
    "c.render_notebook()"
   ]
  },
  {
   "cell_type": "markdown",
   "id": "323634b2",
   "metadata": {
    "scrolled": true
   },
   "source": [
    "# 三、武功分析"
   ]
  },
  {
   "cell_type": "code",
   "execution_count": null,
   "id": "2026eae4",
   "metadata": {},
   "outputs": [],
   "source": [
    "with open('./file/data/kungfu.txt', 'rt', encoding='utf-8') as f:\n",
    "    data = [line.rstrip() for line in f]\n",
    "    novels = data[::2]\n",
    "    kungfu = data[1::2]\n",
    "    novel_kungfu = {k: v.split() for k,v in zip(novels, kungfu) if k!= '未知'}\n",
    "    del novels, kungfu, data\n",
    "    \n",
    "def find_main_kungfus(novel, num=10, content=None):\n",
    "    if content is None:\n",
    "        content = load_novel(novel)\n",
    "    count = Counter()\n",
    "    for kungfu in novel_kungfu[novel]:\n",
    "        count[kungfu] = content.count(kungfu)\n",
    "    return count.most_common(num)\n",
    "\n",
    "data = []\n",
    "for novel in novel_kungfu:\n",
    "    tmp = []\n",
    "    data.append({\"name\": novel, \"children\": tmp})\n",
    "    for name, count in find_main_kungfus(novel, 5):\n",
    "        tmp.append({\"name\": name, \"value\": count})\n",
    "c = (\n",
    "    TreeMap()\n",
    "    .add(\"\", data, levels=[\n",
    "        opts.TreeMapLevelsOpts(),\n",
    "        opts.TreeMapLevelsOpts(\n",
    "            color_saturation=[0.4, 0.6],\n",
    "            treemap_itemstyle_opts=opts.TreeMapItemStyleOpts(\n",
    "                border_color_saturation=0.7, gap_width=5, border_width=10\n",
    "            ),\n",
    "            upper_label_opts=opts.LabelOpts(\n",
    "                is_show=True, position='insideTopLeft', vertical_align='top'\n",
    "            )\n",
    "        ),\n",
    "    ])\n",
    "    .set_global_opts(title_opts=opts.TitleOpts(title=\"金庸小说主角\"))\n",
    ")\n",
    "c.render_notebook()"
   ]
  },
  {
   "cell_type": "markdown",
   "id": "8c4f47d1",
   "metadata": {},
   "source": [
    "# 四、门派分析"
   ]
  },
  {
   "cell_type": "code",
   "execution_count": null,
   "id": "19217b39",
   "metadata": {},
   "outputs": [],
   "source": [
    "with open('./file/data/bangs.txt', encoding=\"utf-8\") as f:\n",
    "    data = [line.rstrip() for line in f]\n",
    "novels = data[::2]\n",
    "bangs = data[1::2]\n",
    "novel_bangs = {k: v.split() for k, v in zip(novels, bangs) if k != \"未知\"}\n",
    "del novels, bangs, data\n",
    "\n",
    "\n",
    "def find_main_bangs(novel, num=10, content=None):\n",
    "    if content is None:\n",
    "        content = load_novel(novel)\n",
    "    count = Counter()\n",
    "    for name in novel_bangs[novel]:\n",
    "        count[name] = content.count(name)\n",
    "    return count.most_common(num)\n",
    "\n",
    "data = []\n",
    "for novel in novel_bangs:\n",
    "    tmp = []\n",
    "    data.append({\"name\": novel, \"children\": tmp})\n",
    "    for name, count in find_main_bangs(novel, 5):\n",
    "        tmp.append({\"name\": name, \"value\": count})\n",
    "c = (\n",
    "    TreeMap()\n",
    "    .add(\"\", data, levels=[\n",
    "        opts.TreeMapLevelsOpts(),\n",
    "        opts.TreeMapLevelsOpts(\n",
    "            color_saturation=[0.3, 0.6],\n",
    "            treemap_itemstyle_opts=opts.TreeMapItemStyleOpts(\n",
    "                border_color_saturation=0.7, gap_width=5, border_width=10\n",
    "            ),\n",
    "            upper_label_opts=opts.LabelOpts(\n",
    "                is_show=True, position='insideTopLeft', vertical_align='top'\n",
    "            )\n",
    "        ),\n",
    "    ])\n",
    "    .set_global_opts(title_opts=opts.TitleOpts(title=\"金庸高频门派\"))\n",
    ")\n",
    "c.render_notebook()"
   ]
  },
  {
   "cell_type": "markdown",
   "id": "a07fc7a5",
   "metadata": {},
   "source": [
    "下面编写一个函数，输入一部小说名，可以输出其最高频的主角、武功和门派："
   ]
  },
  {
   "cell_type": "code",
   "execution_count": null,
   "id": "1684b629",
   "metadata": {},
   "outputs": [],
   "source": [
    "from pyecharts import options as opts\n",
    "from pyecharts.charts import Bar\n",
    "\n",
    "def show_top10(novel):\n",
    "    content = load_novel(novel)\n",
    "    charecters = find_main_characters(novel, 10, content)[::-1]\n",
    "    k, v = map(list, zip(*charecters))\n",
    "    c = (\n",
    "        Bar(init_opts=opts.InitOpts(\"720px\", \"320px\"))\n",
    "        .add_xaxis(k)\n",
    "        .add_yaxis(\"\", v)\n",
    "        .reversal_axis()\n",
    "        .set_series_opts(label_opts=opts.LabelOpts(position=\"right\"))\n",
    "        .set_global_opts(title_opts=opts.TitleOpts(title=f\"{novel}主角\"))\n",
    "    )\n",
    "    display(c.render_notebook())\n",
    "    kungfus = find_main_kungfus(novel, 10, content)[::-1]\n",
    "    k, v = map(list, zip(*kungfus))\n",
    "    c = (\n",
    "        Bar(init_opts=opts.InitOpts(\"720px\", \"320px\"))\n",
    "        .add_xaxis(k)\n",
    "        .add_yaxis(\"\", v)\n",
    "        .reversal_axis()\n",
    "        .set_series_opts(label_opts=opts.LabelOpts(position=\"right\"))\n",
    "        .set_global_opts(title_opts=opts.TitleOpts(title=f\"{novel}功夫\"))\n",
    "    )\n",
    "    display(c.render_notebook())\n",
    "    bangs = find_main_bangs(novel, 10, content)[::-1]\n",
    "    k, v = map(list, zip(*bangs))\n",
    "    c = (\n",
    "        Bar(init_opts=opts.InitOpts(\"720px\", \"320px\"))\n",
    "        .add_xaxis(k)\n",
    "        .add_yaxis(\"\", v)\n",
    "        .reversal_axis()\n",
    "        .set_series_opts(label_opts=opts.LabelOpts(position=\"right\"))\n",
    "        .set_global_opts(title_opts=opts.TitleOpts(title=f\"{novel}门派\"))\n",
    "    )\n",
    "    display(c.render_notebook())"
   ]
  },
  {
   "cell_type": "code",
   "execution_count": null,
   "id": "8c249bf4",
   "metadata": {},
   "outputs": [],
   "source": [
    "show_top10(\"天龙八部\")"
   ]
  },
  {
   "cell_type": "markdown",
   "id": "809e63e4",
   "metadata": {},
   "source": [
    "# 五、词云图分析"
   ]
  },
  {
   "cell_type": "markdown",
   "id": "c9ddf9b1",
   "metadata": {},
   "source": [
    "可以先添加所有的人物、武功和门派作为自定义词汇："
   ]
  },
  {
   "cell_type": "code",
   "execution_count": null,
   "id": "579dbde6",
   "metadata": {},
   "outputs": [],
   "source": [
    "import jieba\n",
    "\n",
    "for novel, names in novel_names.items():\n",
    "    for name in names:\n",
    "        jieba.add_word(name)\n",
    "        \n",
    "for novel, kungfus in novel_kungfu.items():\n",
    "    for kungfu in kungfus:\n",
    "        jieba.add_word(kungfu)\n",
    "\n",
    "for novel, bangs in novel_bangs.items():\n",
    "    for bang in bangs:\n",
    "        jieba.add_word(bang)"
   ]
  },
  {
   "cell_type": "markdown",
   "id": "f77a22b4",
   "metadata": {},
   "source": [
    "## 文章整体词云查看"
   ]
  },
  {
   "cell_type": "markdown",
   "id": "a7aadbf4",
   "metadata": {},
   "source": [
    "这里我们仅提取词长度不小于4的成语、俗语和短语进行分析，以天龙八部这部小说为例："
   ]
  },
  {
   "cell_type": "code",
   "execution_count": null,
   "id": "d2ace54c",
   "metadata": {},
   "outputs": [],
   "source": [
    "from IPython.display import Image\n",
    "import stylecloud\n",
    "import jieba\n",
    "import re\n",
    "\n",
    "text = re.sub(\"[^一-龟]+\", \" \", load_novel(\"天龙八部\"))\n",
    "words = [word for word in jieba.cut(text) if len(word) >=4]\n",
    "stylecloud.gen_stylecloud(\" \".join(words),\n",
    "                          collocations=False,\n",
    "                          font_path=r'C:\\Windows\\Fonts\\msyhbd.ttc',\n",
    "                          icon_name='fas fa-square',\n",
    "                          output_name='tmp.png')\n",
    "Image(filename='./file/tmp.png')"
   ]
  },
  {
   "cell_type": "markdown",
   "id": "e07384aa",
   "metadata": {},
   "source": [
    "## 主角相关剧情词云"
   ]
  },
  {
   "cell_type": "markdown",
   "id": "410b8b3a",
   "metadata": {},
   "source": [
    "我们知道《神雕侠侣》这部小说最重要的主角是杨过和小龙女，我们可能会对于杨过和小龙女之间所发生的故事很感兴趣。如果通过程序快速了解呢？\n",
    "\n",
    "我们考虑把《神雕侠侣》这部小说每一段中出现杨过及小龙女的段落进行jieba分词并制作词云。\n",
    "\n",
    "同样我们只看4个字以上的词："
   ]
  },
  {
   "cell_type": "code",
   "execution_count": null,
   "id": "493329d0",
   "metadata": {},
   "outputs": [],
   "source": [
    "data = []\n",
    "for line in load_novel(\"神雕侠侣\").splitlines():\n",
    "    if \"杨过\" in line and \"小龙女\" in line:\n",
    "        line = re.sub(\"[^一-龟]+\", \" \", line)\n",
    "        data.extend(word for word in jieba.cut(line) if len(word) >= 4)\n",
    "stylecloud.gen_stylecloud(\" \".join(data),\n",
    "                          collocations=False,\n",
    "                          font_path=r'C:\\Windows\\Fonts\\msyhbd.ttc',\n",
    "                          icon_name='fas fa-square',\n",
    "                          output_name='tmp.png')\n",
    "Image(filename='./file/tmp.png')"
   ]
  },
  {
   "cell_type": "markdown",
   "id": "4812b07b",
   "metadata": {},
   "source": [
    "# 六、人物关系分析"
   ]
  },
  {
   "cell_type": "markdown",
   "id": "8dece313",
   "metadata": {},
   "source": [
    "金庸小说15部小说中预计出现了1400个以上的角色，下面我们将遍历小说的每一段，在一段中出现的任意两个角色，都计数1。最终我们取出现频次最高的前200个关系对进行可视化。"
   ]
  },
  {
   "cell_type": "code",
   "execution_count": null,
   "id": "4e43c3ea",
   "metadata": {},
   "outputs": [],
   "source": [
    "from pyecharts import options as opts\n",
    "from pyecharts.charts import Graph\n",
    "import math\n",
    "import itertools\n",
    "\n",
    "count = Counter()\n",
    "for novel in novel_names:\n",
    "    names = novel_names[novel]\n",
    "    re_rule = f\"({'|'.join(names)})\"\n",
    "    for line in load_novel(novel).splitlines():\n",
    "        names = list(set(re.findall(re_rule, line)))\n",
    "        if names and len(names) >= 2:\n",
    "            names.sort()\n",
    "            for s, t in itertools.combinations(names, 2):\n",
    "                count[(s, t)] += 1\n",
    "count = count.most_common(200)\n",
    "node_count, nodes, links = Counter(), [], []\n",
    "for (n1, n2), v in count:\n",
    "    node_count[n1] += 1\n",
    "    node_count[n2] += 1\n",
    "    links.append({\"source\": n1, \"target\": n2})\n",
    "for node, count in node_count.items():\n",
    "    nodes.append({\"name\": node, \"symbolSize\": int(math.log(count)*5)+5})\n",
    "c = (\n",
    "    Graph(init_opts=opts.InitOpts(\"1280px\",\"960px\"))\n",
    "    .add(\"\", nodes, links, repulsion=30)\n",
    ")\n",
    "c.render(\"./file/tmp.html\")"
   ]
  },
  {
   "cell_type": "markdown",
   "id": "6276af08",
   "metadata": {},
   "source": [
    "# 七、Word2Vec分析"
   ]
  },
  {
   "cell_type": "markdown",
   "id": "f5066272",
   "metadata": {},
   "source": [
    "Word2Vec是一款将词表征为实数值向量的高效工具，接下来，我们将使用它来处理这些小说。"
   ]
  },
  {
   "cell_type": "markdown",
   "id": "e4d70bfd",
   "metadata": {},
   "source": [
    "首先我要将所有小说的段落分词后添加到组织到一起（前面的程序可以重启）："
   ]
  },
  {
   "cell_type": "code",
   "execution_count": null,
   "id": "1023b127",
   "metadata": {},
   "outputs": [
    {
     "name": "stdout",
     "output_type": "stream",
     "text": [
      "处理：书剑恩仇录\n",
      "处理：碧血剑\n",
      "处理：射雕英雄传\n",
      "处理：神雕侠侣\n",
      "处理：雪山飞狐\n",
      "处理：飞狐外传\n",
      "处理：白马啸西风\n",
      "处理：倚天屠龙记\n"
     ]
    }
   ],
   "source": [
    "import jieba\n",
    "\n",
    "def load_novel(novel):\n",
    "    with open(f'./file/novels/{novel}.txt', 'rt', encoding='utf-8') as f:\n",
    "        return f.read()\n",
    "    \n",
    "with open('./file/data/names.txt', 'rt', encoding='utf-8') as f:\n",
    "    data = f.read().splitlines()\n",
    "    novels = data[::2]\n",
    "    names = []\n",
    "    for line in data[1::2]:\n",
    "        names.extend(line.split())\n",
    "        \n",
    "with open('./file/data/kungfu.txt', encoding=\"utf-8\") as f:\n",
    "    data = f.read().splitlines()\n",
    "    kungfus = []\n",
    "    for line in data[1::2]:\n",
    "        kungfus.extend(line.split())\n",
    "\n",
    "with open('./file/data/bangs.txt', encoding=\"utf-8\") as f:\n",
    "    data = f.read().splitlines()\n",
    "    bangs = []\n",
    "    for line in data[1::2]:\n",
    "        bangs.extend(line.split())\n",
    "        \n",
    "for name in names:\n",
    "    jieba.add_word(name)\n",
    "for kungfu in kungfus:\n",
    "    jieba.add_word(kungfu)\n",
    "for bang in bangs:\n",
    "    jieba.add_word(bang)\n",
    "    \n",
    "# 去重\n",
    "names = list(set(names))\n",
    "kungfus = list(set(kungfus))\n",
    "bangs = list(set(bangs))\n",
    "\n",
    "sentences = []\n",
    "for novel in novels:\n",
    "    print(f\"处理：{novel}\")\n",
    "    for line in load_novel(novel).splitlines():\n",
    "        sentences.append(jieba.lcut(line))\n"
   ]
  },
  {
   "cell_type": "code",
   "execution_count": null,
   "id": "6c41e961",
   "metadata": {},
   "outputs": [],
   "source": [
    "load_novel('书剑恩仇录')"
   ]
  },
  {
   "cell_type": "code",
   "execution_count": null,
   "id": "4a26a862",
   "metadata": {},
   "outputs": [],
   "source": []
  }
 ],
 "metadata": {
  "kernelspec": {
   "display_name": "Python 3 (ipykernel)",
   "language": "python",
   "name": "python3"
  },
  "language_info": {
   "codemirror_mode": {
    "name": "ipython",
    "version": 3
   },
   "file_extension": ".py",
   "mimetype": "text/x-python",
   "name": "python",
   "nbconvert_exporter": "python",
   "pygments_lexer": "ipython3",
   "version": "3.9.13"
  }
 },
 "nbformat": 4,
 "nbformat_minor": 5
}
