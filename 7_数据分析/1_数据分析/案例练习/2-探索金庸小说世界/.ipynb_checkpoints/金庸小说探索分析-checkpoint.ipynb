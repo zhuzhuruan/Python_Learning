{
 "cells": [
  {
   "cell_type": "markdown",
   "id": "f4e6b455",
   "metadata": {},
   "source": [
    "# 一、高频分析"
   ]
  },
  {
   "cell_type": "markdown",
   "id": "61346192",
   "metadata": {},
   "source": [
    "定义加载小说的函数"
   ]
  },
  {
   "cell_type": "code",
   "execution_count": 3,
   "id": "3762da94",
   "metadata": {},
   "outputs": [],
   "source": [
    "def load_novel(novel):\n",
    "    with open(f'./file/novels/{novel}.txt', 'rt', encoding='utf-8') as f:\n",
    "        return f.read()"
   ]
  },
  {
   "cell_type": "markdown",
   "id": "0f4b577b",
   "metadata": {},
   "source": [
    "# 二、主角分析"
   ]
  },
  {
   "cell_type": "markdown",
   "id": "faa507b7",
   "metadata": {},
   "source": [
    "加载人物数据"
   ]
  },
  {
   "cell_type": "code",
   "execution_count": 14,
   "id": "db34c487",
   "metadata": {},
   "outputs": [],
   "source": [
    "with open('./file/data/names.txt', 'rt', encoding='utf-8') as f:\n",
    "    data = [line.rstrip() for line in f]\n",
    "    novels = data[::2]\n",
    "    names = data[1::2]\n",
    "    novels_names = {k: v.split() for k,v in zip(novels, names)}\n",
    "    del novels, names, data"
   ]
  },
  {
   "cell_type": "markdown",
   "id": "51e8fa48",
   "metadata": {},
   "source": [
    "可以预览一下《天龙八部》中的人物"
   ]
  },
  {
   "cell_type": "code",
   "execution_count": 16,
   "id": "76f738bd",
   "metadata": {
    "scrolled": true
   },
   "outputs": [
    {
     "data": {
      "text/plain": [
       "'刀白凤,丁春秋,马夫人,马五德,小翠,于光豪,巴天石,不平道人,邓百川,风波恶,甘宝宝,公冶乾,木婉清,包不同,天狼子,太皇太后,王语嫣,乌老大,无崖子,云岛主'"
      ]
     },
     "execution_count": 16,
     "metadata": {},
     "output_type": "execute_result"
    }
   ],
   "source": [
    "\",\".join(novels_names['天龙八部'][:20])"
   ]
  },
  {
   "cell_type": "markdown",
   "id": "cceb2958",
   "metadata": {},
   "source": [
    "下面我们寻找一下每部小说的主角，统计每个人物的出场次数，显然次数越多主角光环越强，下面我们看看每部小说，出现次数最多的前十个人物："
   ]
  },
  {
   "cell_type": "code",
   "execution_count": null,
   "id": "1a93ca39",
   "metadata": {},
   "outputs": [],
   "source": []
  }
 ],
 "metadata": {
  "kernelspec": {
   "display_name": "Python 3 (ipykernel)",
   "language": "python",
   "name": "python3"
  },
  "language_info": {
   "codemirror_mode": {
    "name": "ipython",
    "version": 3
   },
   "file_extension": ".py",
   "mimetype": "text/x-python",
   "name": "python",
   "nbconvert_exporter": "python",
   "pygments_lexer": "ipython3",
   "version": "3.9.12"
  }
 },
 "nbformat": 4,
 "nbformat_minor": 5
}
