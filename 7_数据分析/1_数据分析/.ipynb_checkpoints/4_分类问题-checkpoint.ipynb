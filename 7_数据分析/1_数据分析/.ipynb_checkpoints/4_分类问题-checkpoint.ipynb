{
 "cells": [
  {
   "cell_type": "markdown",
   "id": "3a5a67b8",
   "metadata": {},
   "source": [
    "# 分类问题"
   ]
  },
  {
   "cell_type": "markdown",
   "id": "cd5853f9",
   "metadata": {},
   "source": [
    "## 1 - 精确率和召回率"
   ]
  },
  {
   "cell_type": "markdown",
   "id": "7726d4c0",
   "metadata": {},
   "source": [
    "### 1.1 混淆矩阵"
   ]
  },
  {
   "cell_type": "markdown",
   "id": "8f15c74e",
   "metadata": {},
   "source": [
    "在分类任务下，预测结果(Predicted Condition)与正确标记(True Condition)之间存在四种不同的组合，构成混淆矩阵(适用于多分类)：\n",
    "   - TP：True Positives， 表示实际为正例且被分类器判定为正例的样本数\n",
    "   - FP：False Positives， 表示实际为负例且被分类器判定为正例的样本数\n",
    "   - FN：False Negatives， 表示实际为正例但被分类器判定为负例的样本数\n",
    "   - TN：True Negatives， 表示实际为负例且被分类器判定为负例的样本数\n",
    "\n",
    "<font color=#FF2121>小技巧：第一个字母表示划分正确与否；第二个字母表示分类器判定结果（P:判定为正例，N:判定为反例）</font>"
   ]
  },
  {
   "cell_type": "markdown",
   "id": "90fd39b5",
   "metadata": {},
   "source": []
  }
 ],
 "metadata": {
  "kernelspec": {
   "display_name": "Python 3 (ipykernel)",
   "language": "python",
   "name": "python3"
  },
  "language_info": {
   "codemirror_mode": {
    "name": "ipython",
    "version": 3
   },
   "file_extension": ".py",
   "mimetype": "text/x-python",
   "name": "python",
   "nbconvert_exporter": "python",
   "pygments_lexer": "ipython3",
   "version": "3.9.12"
  }
 },
 "nbformat": 4,
 "nbformat_minor": 5
}
