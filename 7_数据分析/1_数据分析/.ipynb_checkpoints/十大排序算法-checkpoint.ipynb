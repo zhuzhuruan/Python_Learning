{
 "cells": [
  {
   "cell_type": "markdown",
   "id": "96ff30e9",
   "metadata": {},
   "source": [
    "# 一、冒泡排序"
   ]
  },
  {
   "cell_type": "markdown",
   "id": "35342dfc",
   "metadata": {},
   "source": [
    "冒泡排序（Bubble Sort）也是一种简单直观的排序算法。它重复地走访过要排序的数列，一次比较两个元素，如果他们的顺序错误就把他们交换过来。走访数列的工作是重复地进行直到没有再需要交换，也就是说该数列已经排序完成。这个算法的名字由来是因为越小的元素会经由交换慢慢“浮”到数列的顶端。\n",
    "\n",
    "作为最简单的排序算法之一，冒泡排序给我的感觉就像 Abandon 在单词书里出现的感觉一样，每次都在第一页第一位，所以最熟悉。冒泡排序还有一种优化算法，就是立一个 flag，当在一趟序列遍历中元素没有发生交换，则证明该序列已经有序。但这种改进对于提升性能来说并没有什么太大作用。"
   ]
  },
  {
   "cell_type": "markdown",
   "id": "dd71d513",
   "metadata": {},
   "source": [
    "算法步骤：\n",
    "\n",
    "    （1） 比较相邻的元素。如果第一个比第二个大，就交换他们两个。\n",
    "    （2） 对每一对相邻元素作同样的工作，从开始第一对到结尾的最后一对。这步做完后，最后的元素会是最大的数。\n",
    "    （3） 针对所有的元素重复以上的步骤，除了最后一个。\n",
    "    （4） 持续每次对越来越少的元素重复上面的步骤，直到没有任何一对数字需要比较。"
   ]
  },
  {
   "cell_type": "code",
   "execution_count": 6,
   "id": "6d52936f",
   "metadata": {},
   "outputs": [
    {
     "name": "stdout",
     "output_type": "stream",
     "text": [
      "[0, 1, 1, 2, 3, 4, 5, 6, 9]\n"
     ]
    }
   ],
   "source": [
    "def bubbleSort(arr):\n",
    "    for i in range(1, len(arr)):           # 1、2、3、4、5、6、7、8\n",
    "        for j in range(0, len(arr)-i):         \n",
    "            if arr[j] > arr[j+1]:\n",
    "                arr[j], arr[j+1] = arr[j+1], arr[j]     # 1, 2, 5\n",
    "    return arr\n",
    "\n",
    "arr_sort = bubbleSort([1,5,2,6,9,4,1,0,3])\n",
    "print(arr_sort)"
   ]
  },
  {
   "cell_type": "markdown",
   "id": "39d20036",
   "metadata": {},
   "source": [
    "# 二、选择排序"
   ]
  },
  {
   "cell_type": "markdown",
   "id": "f79462bc",
   "metadata": {},
   "source": [
    "选择排序是一种简单直观的排序算法，无论什么数据进去都是 O(n²) 的时间复杂度。所以用到它的时候，数据规模越小越好。唯一的好处可能就是不占用额外的内存空间了吧。\n",
    "\n",
    "算法步骤：\n",
    "\n",
    "    （1）首先在未排序序列中找到最小（大）元素，存放到排序序列的起始位置\n",
    "    （2）再从剩余未排序元素中继续寻找最小（大）元素，然后放到已排序序列的末尾。\n",
    "    （3）重复第二步，直到所有元素均排序完毕。"
   ]
  },
  {
   "cell_type": "code",
   "execution_count": 5,
   "id": "1a994411",
   "metadata": {},
   "outputs": [
    {
     "name": "stdout",
     "output_type": "stream",
     "text": [
      "[0, 1, 1, 2, 3, 4, 5, 6, 9]\n"
     ]
    }
   ],
   "source": [
    "def selectionSort(arr):\n",
    "    for i in range(len(arr)-1):          \n",
    "        # 记录最小数的索引\n",
    "        minIndex = i                    \n",
    "        for j in range(i+1, len(arr)):   \n",
    "            if arr[j] < arr[minIndex]:\n",
    "                minIndex = j\n",
    "        # i 不是最小数时，将 i 和最小数进行交换\n",
    "        if i != minIndex:\n",
    "            arr[i], arr[minIndex] = arr[minIndex], arr[i]\n",
    "    return arr\n",
    "\n",
    "arr_sort = selectionSort([1,5,2,6,9,4,1,0,3])\n",
    "print(arr_sort)"
   ]
  },
  {
   "cell_type": "markdown",
   "id": "0e9dfa25",
   "metadata": {},
   "source": [
    "# 三、插入排序"
   ]
  },
  {
   "cell_type": "markdown",
   "id": "8850338d",
   "metadata": {},
   "source": [
    "插入排序的代码实现虽然没有冒泡排序和选择排序那么简单粗暴，但它的原理应该是最容易理解的了，因为只要打过扑克牌的人都应该能够秒懂。插入排序是一种最简单直观的排序算法，它的工作原理是通过构建有序序列，对于未排序数据，在已排序序列中从后向前扫描，找到相应位置并插入。\n",
    "\n",
    "插入排序和冒泡排序一样，也有一种优化算法，叫做拆半插入。"
   ]
  },
  {
   "cell_type": "markdown",
   "id": "19b9d749",
   "metadata": {},
   "source": [
    "算法步骤：\n",
    "\n",
    "    （1）将第一待排序序列第一个元素看做一个有序序列，把第二个元素到最后一个元素当成是未排序序列。\n",
    "    （2）从头到尾依次扫描未排序序列，将扫描到的每个元素插入有序序列的适当位置。（如果待插入的元素与有序序列中的某个元素相等，则将待插入元素插入到相等元素的后面。）"
   ]
  },
  {
   "cell_type": "code",
   "execution_count": 7,
   "id": "940e3985",
   "metadata": {},
   "outputs": [
    {
     "name": "stdout",
     "output_type": "stream",
     "text": [
      "[0, 1, 1, 2, 3, 4, 5, 6, 9]\n"
     ]
    }
   ],
   "source": [
    "def insertionSort(arr):\n",
    "    for i in range(len(arr)):\n",
    "        preIndex = i-1\n",
    "        current = arr[i]\n",
    "        while preIndex >= 0 and arr[preIndex] > current:\n",
    "            arr[preIndex+1] = arr[preIndex]\n",
    "            preIndex-=1\n",
    "        arr[preIndex+1] = current\n",
    "    return arr\n",
    "\n",
    "arr_sort = insertionSort([1,5,2,6,9,4,1,0,3])\n",
    "print(arr_sort)"
   ]
  },
  {
   "cell_type": "markdown",
   "id": "31f0b152",
   "metadata": {},
   "source": [
    "# 四、希尔排序"
   ]
  },
  {
   "cell_type": "markdown",
   "id": "577a4b18",
   "metadata": {},
   "source": [
    "希尔排序，也称递减增量排序算法，是插入排序的一种更高效的改进版本。但希尔排序是非稳定排序算法。\n",
    "\n",
    "希尔排序是基于插入排序的以下两点性质而提出改进方法的：\n",
    "\n",
    "插入排序在对几乎已经排好序的数据操作时，效率高，即可以达到线性排序的效率；\n",
    "但插入排序一般来说是低效的，因为插入排序每次只能将数据移动一位；\n",
    "希尔排序的基本思想是：先将整个待排序的记录序列分割成为若干子序列分别进行直接插入排序，待整个序列中的记录“基本有序”时，再对全体记录进行依次直接插入排序。"
   ]
  },
  {
   "cell_type": "markdown",
   "id": "24c82085",
   "metadata": {},
   "source": [
    "算法步骤：\n",
    "\n",
    "    （1）选择一个增量序列 t1，t2，……，tk，其中 ti > tj, tk = 1；\n",
    "    （2）按增量序列个数 k，对序列进行 k 趟排序；\n",
    "    （3）每趟排序，根据对应的增量 ti，将待排序列分割成若干长度为 m 的子序列，分别对各子表进行直接插入排序。仅增量因子为 1 时，整个序列作为一个表来处理，表长度即为整个序列的长度。"
   ]
  },
  {
   "cell_type": "code",
   "execution_count": 8,
   "id": "f43a63fc",
   "metadata": {},
   "outputs": [
    {
     "name": "stdout",
     "output_type": "stream",
     "text": [
      "[0, 1, 1, 2, 3, 4, 5, 6, 9]\n"
     ]
    }
   ],
   "source": [
    "def shellSort(arr):\n",
    "    import math\n",
    "    gap=1\n",
    "    while(gap < len(arr)/3):\n",
    "        gap = gap*3+1\n",
    "    while gap > 0:\n",
    "        for i in range(gap,len(arr)):\n",
    "            temp = arr[i]\n",
    "            j = i-gap\n",
    "            while j >=0 and arr[j] > temp:\n",
    "                arr[j+gap]=arr[j]\n",
    "                j-=gap\n",
    "            arr[j+gap] = temp\n",
    "        gap = math.floor(gap/3)\n",
    "    return arr\n",
    "\n",
    "arr_sort = shellSort([1,5,2,6,9,4,1,0,3])\n",
    "print(arr_sort)"
   ]
  },
  {
   "cell_type": "code",
   "execution_count": null,
   "id": "c7343e98",
   "metadata": {},
   "outputs": [],
   "source": []
  }
 ],
 "metadata": {
  "kernelspec": {
   "display_name": "Python 3 (ipykernel)",
   "language": "python",
   "name": "python3"
  },
  "language_info": {
   "codemirror_mode": {
    "name": "ipython",
    "version": 3
   },
   "file_extension": ".py",
   "mimetype": "text/x-python",
   "name": "python",
   "nbconvert_exporter": "python",
   "pygments_lexer": "ipython3",
   "version": "3.9.12"
  }
 },
 "nbformat": 4,
 "nbformat_minor": 5
}
