{
 "cells": [
  {
   "cell_type": "markdown",
   "id": "5cc787cc",
   "metadata": {},
   "source": [
    " # <center>Numpy基础</center>"
   ]
  },
  {
   "cell_type": "markdown",
   "id": "0a0b3248",
   "metadata": {},
   "source": [
    "# 1 - Ndarray 对象\n",
    "- NumPy 最重要的一个特点是其 N 维数组对象 ndarray，它是一系列同类型数据的集合，以 0 下标为开始进行集合中元素的索引。\n",
    "- ndarray 对象是用于存放同类型元素的多维数组。\n",
    "- ndarray 中的每个元素在内存中都有相同存储大小的区域。\n",
    "- ndarray 内部由以下内容组成：\n",
    "    - 一个指向数据（内存或内存映射文件中的一块数据）的指针。\n",
    "    - 数据类型或 dtype，描述在数组中的固定大小值的格子。\n",
    "    - 一个表示数组形状（shape）的元组，表示各维度大小的元组。\n",
    "    - 一个跨度元组（stride），其中的整数指的是为了前进到当前维度下一个元素需要\"跨过\"的字节数。"
   ]
  },
  {
   "cell_type": "markdown",
   "id": "bb2d5835",
   "metadata": {},
   "source": [
    "## 1.1 - 创建方法\n",
    "numpy.array(object, dtype = None, copy = True, order = None, subok = False, ndmin = 0)\n",
    "\n",
    "|  参数   | 描述  |\n",
    "|  :----:  |  :----  |\n",
    "| object  | 数组或嵌套的数列 |\n",
    "| dtype  | 数组元素的数据类型，可选  |\n",
    "| cpoy  | 对象是否需要复制，可选 |\n",
    "| order  | 创建数组的样式，C为行方向，F为列方向，A为任意方向（默认） |\n",
    "| subok  | 默认返回一个与基类类型一致的数组 |\n",
    "| ndmin  | 指定生成数组的最小维度 |"
   ]
  },
  {
   "cell_type": "code",
   "execution_count": 2,
   "id": "80f14657",
   "metadata": {},
   "outputs": [],
   "source": [
    "import numpy as np"
   ]
  },
  {
   "cell_type": "code",
   "execution_count": 8,
   "id": "8dbec0f2",
   "metadata": {},
   "outputs": [
    {
     "data": {
      "text/plain": [
       "array([1, 2, 3, 4])"
      ]
     },
     "execution_count": 8,
     "metadata": {},
     "output_type": "execute_result"
    }
   ],
   "source": [
    "# 一维数组\n",
    "a = np.array([1,2,3,4])\n",
    "a"
   ]
  },
  {
   "cell_type": "code",
   "execution_count": 9,
   "id": "cee2bfe2",
   "metadata": {},
   "outputs": [
    {
     "data": {
      "text/plain": [
       "array([[1, 2, 3],\n",
       "       [4, 5, 6]])"
      ]
     },
     "execution_count": 9,
     "metadata": {},
     "output_type": "execute_result"
    }
   ],
   "source": [
    "# 多个维度\n",
    "a = np.array([[1,2,3],[4,5,6]])\n",
    "a"
   ]
  },
  {
   "cell_type": "code",
   "execution_count": 10,
   "id": "4aaf1edb",
   "metadata": {},
   "outputs": [
    {
     "data": {
      "text/plain": [
       "array([[1, 2, 3, 4, 5, 6]])"
      ]
     },
     "execution_count": 10,
     "metadata": {},
     "output_type": "execute_result"
    }
   ],
   "source": [
    "# 最小维度\n",
    "a = np.array([1,2,3,4,5,6],ndmin=2)\n",
    "a"
   ]
  },
  {
   "cell_type": "code",
   "execution_count": 11,
   "id": "b73a64d2",
   "metadata": {},
   "outputs": [
    {
     "data": {
      "text/plain": [
       "array([1.+0.j, 2.+0.j, 3.+0.j, 4.+0.j])"
      ]
     },
     "execution_count": 11,
     "metadata": {},
     "output_type": "execute_result"
    }
   ],
   "source": [
    "# dtype参数\n",
    "a = np.array([1,2,3,4], dtype=complex)\n",
    "a"
   ]
  },
  {
   "cell_type": "markdown",
   "id": "d3cc6ef8",
   "metadata": {},
   "source": [
    "## 1.2 -  数据类型对象"
   ]
  },
  {
   "cell_type": "markdown",
   "id": "ca10814b",
   "metadata": {},
   "source": [
    "- 数据类型对象（numpy.dtype 类的实例）用来描述与数组对应的内存区域是如何使用，它描述了数据的以下几个方面：：\n",
    "    - 数据的类型（整数，浮点数或者 Python 对象）\n",
    "    - 数据的大小（例如， 整数使用多少个字节存储）\n",
    "    - 数据的字节顺序（小端法或大端法）\n",
    "    - 在结构化类型的情况下，字段的名称、每个字段的数据类型和每个字段所取的内存块的部分\n",
    "    - 如果数据类型是子数组，那么它的形状和数据类型是什么。\n",
    "- 字节顺序是通过对数据类型预先设定 < 或 > 来决定的。 < 意味着小端法(最小值存储在最小的地址，即低位组放在最前面)。> 意味着大端法(最重要的字节存储在最小的地址，即高位组放在最前面)。"
   ]
  },
  {
   "cell_type": "markdown",
   "id": "82d63d7c",
   "metadata": {},
   "source": [
    "- dtype 对象是使用以下语法构造的： numpy.dtype(object, align, copy)\n",
    "    - object - 要转换为的数据类型对象\n",
    "    - align - 如果为 true，填充字段使其类似 C 的结构体。\n",
    "    - copy - 复制 dtype 对象 ，如果为 false，则是对内置数据类型对象的引用"
   ]
  },
  {
   "cell_type": "code",
   "execution_count": 14,
   "id": "d7808cdd",
   "metadata": {},
   "outputs": [
    {
     "data": {
      "text/plain": [
       "dtype('int32')"
      ]
     },
     "execution_count": 14,
     "metadata": {},
     "output_type": "execute_result"
    }
   ],
   "source": [
    "# 使用标量类型\n",
    "dt = np.dtype(np.int32)\n",
    "dt"
   ]
  },
  {
   "cell_type": "code",
   "execution_count": 15,
   "id": "2ef3491a",
   "metadata": {},
   "outputs": [
    {
     "name": "stdout",
     "output_type": "stream",
     "text": [
      "int32\n"
     ]
    }
   ],
   "source": [
    "# int8, int16, int32, int64 四种数据类型可以使用字符串 'i1', 'i2','i4','i8' 代替\n",
    "dt = np.dtype('i4')\n",
    "print(dt)"
   ]
  },
  {
   "cell_type": "code",
   "execution_count": 16,
   "id": "ba49b77c",
   "metadata": {},
   "outputs": [
    {
     "data": {
      "text/plain": [
       "dtype('int32')"
      ]
     },
     "execution_count": 16,
     "metadata": {},
     "output_type": "execute_result"
    }
   ],
   "source": [
    "# 字节顺序标注\n",
    "dt = np.dtype('<i4')\n",
    "dt"
   ]
  },
  {
   "cell_type": "code",
   "execution_count": 19,
   "id": "f972ef94",
   "metadata": {},
   "outputs": [
    {
     "data": {
      "text/plain": [
       "dtype([('age', 'i1')])"
      ]
     },
     "execution_count": 19,
     "metadata": {},
     "output_type": "execute_result"
    }
   ],
   "source": [
    "# 首先创建结构化数据类型\n",
    "dt = np.dtype([('age',np.int8)])\n",
    "dt"
   ]
  },
  {
   "cell_type": "code",
   "execution_count": 22,
   "id": "f999e3fb",
   "metadata": {},
   "outputs": [
    {
     "name": "stdout",
     "output_type": "stream",
     "text": [
      "[10 20 30]\n"
     ]
    }
   ],
   "source": [
    "# 将数据类型应用于ndarray对象\n",
    "a = np.array([(10,),(20,),(30,)], dtype=dt)\n",
    "a\n",
    "# 类型字段名可以用于存取实际的 age 列\n",
    "print(a['age'])"
   ]
  },
  {
   "cell_type": "code",
   "execution_count": 24,
   "id": "01ee583b",
   "metadata": {},
   "outputs": [
    {
     "name": "stdout",
     "output_type": "stream",
     "text": [
      "[(b'abc', 21, 50.) (b'xyz', 18, 75.)]\n"
     ]
    }
   ],
   "source": [
    "# 实例\n",
    "student = np.dtype([('name','S20'), ('age', 'i1'), ('marks', 'f4')]) \n",
    "student\n",
    "a = np.array([('abc', 21, 50),('xyz', 18, 75)], dtype = student) \n",
    "print(a)"
   ]
  },
  {
   "cell_type": "markdown",
   "id": "73b8bdd3",
   "metadata": {},
   "source": [
    "# 2 -  数组属性"
   ]
  },
  {
   "cell_type": "markdown",
   "id": "71d20ee7",
   "metadata": {},
   "source": [
    "- NumPy 数组的维数称为秩（rank），秩就是轴的数量，即数组的维度，一维数组的秩为 1，二维数组的秩为 2，以此类推。\n",
    "- 在 NumPy中，每一个线性的数组称为是一个轴（axis），也就是维度（dimensions）。比如说，二维数组相当于是两个一维数组，其中第一个一维数组中每个元素又是一个一维数组。所以一维数组就是 NumPy 中的轴（axis），第一个轴相当于是底层数组，第二个轴是底层数组里的数组。而轴的数量——秩，就是数组的维数。\n",
    "- 很多时候可以声明 axis。axis=0，表示沿着第 0 轴进行操作，即对每一列进行操作；axis=1，表示沿着第1轴进行操作，即对每一行进行操作。\n",
    "- NumPy 的数组中比较重要 ndarray 对象属性有：\n",
    "\n",
    "|  属性   | 说明  |\n",
    "|  :----:  |  :----  |\n",
    "| ndarray.ndim  | 秩，轴的数量或维度的数量 |\n",
    "| ndarray.shape  | 数组的维度，对于矩阵，n行m列  |\n",
    "| ndarray.size  | 数组元素中的总个数，相当于.shape中的n*m的值 |\n",
    "| ndarray.dtype  | ndarray对象的元素类型 |\n",
    "| ndarray.itemsize  | ndarray 对象中每个元素的大小，以字节为单位 |\n",
    "| ndarray.flags  | \tndarray 对象的内存信息 |\n",
    "| ndarray.real\t|  ndarray元素的实部 | \n",
    "| ndarray.imag | ndarray 元素的虚部 | \n",
    "| ndarray.data | 包含实际数组元素的缓冲区，由于一般通过数组的索引获取元素，所以通常不需要使用这个属性。| "
   ]
  },
  {
   "cell_type": "code",
   "execution_count": 29,
   "id": "3bc86867",
   "metadata": {},
   "outputs": [
    {
     "name": "stdout",
     "output_type": "stream",
     "text": [
      "1\n",
      "3\n"
     ]
    }
   ],
   "source": [
    "# ndarray.ndim 用于返回数组的维数，等于秩。\n",
    "a = np.arange(24)\n",
    "print(a.ndim)\n",
    "a = a.reshape(2,4,3)\n",
    "a\n",
    "print(a.ndim)"
   ]
  },
  {
   "cell_type": "code",
   "execution_count": 42,
   "id": "930e8a05",
   "metadata": {},
   "outputs": [
    {
     "name": "stdout",
     "output_type": "stream",
     "text": [
      "(2, 3)\n"
     ]
    },
    {
     "data": {
      "text/plain": [
       "array([[1, 2],\n",
       "       [3, 4],\n",
       "       [5, 6]])"
      ]
     },
     "execution_count": 42,
     "metadata": {},
     "output_type": "execute_result"
    }
   ],
   "source": [
    "# ndarray.shape 表示数组的维度，返回一个元组，这个元组的长度就是维度的数目，即 ndim 属性(秩)。比如，一个二维数组，其维度表示\"行数\"和\"列数\"。\n",
    "# ndarray.shape也可以用于调整数组的大小\n",
    "a = np.array([[1,2,3],[4,5,6]])\n",
    "print(a.shape)\n",
    "a.shape = (3,2)\n",
    "a"
   ]
  },
  {
   "cell_type": "code",
   "execution_count": 35,
   "id": "634fabcc",
   "metadata": {},
   "outputs": [
    {
     "data": {
      "text/plain": [
       "array([[1, 2],\n",
       "       [3, 4],\n",
       "       [5, 6]])"
      ]
     },
     "execution_count": 35,
     "metadata": {},
     "output_type": "execute_result"
    }
   ],
   "source": [
    "# Numpy也提供了reshape函数来调整数组的大小\n",
    "b = a.reshape(3,2)\n",
    "b"
   ]
  },
  {
   "cell_type": "code",
   "execution_count": 89,
   "id": "7eb5d172",
   "metadata": {},
   "outputs": [
    {
     "name": "stdout",
     "output_type": "stream",
     "text": [
      "1\n",
      "8\n"
     ]
    }
   ],
   "source": [
    "# ndarray.itemsize 以字节的形式返回数组中每一个元素的大小。\n",
    "# 例如，一个元素类型为 float64 的数组 itemsize 属性值为 8(float64 占用 64 个 bits，每个字节长度为 8，所以 64/8，占用 8 个字节），\n",
    "# 又如，一个元素类型为 complex32 的数组 item 属性为 4（32/8）。\n",
    "\n",
    "# 数组的 dtype 为 int8（一个字节）  \n",
    "x = np.array([1,2,3,4,5], dtype = np.int8)  \n",
    "print (x.itemsize)\n",
    " \n",
    "# 数组的 dtype 现在为 float64（八个字节） \n",
    "y = np.array([1,2,3,4,5], dtype = np.float64)  \n",
    "print (y.itemsize)"
   ]
  },
  {
   "cell_type": "markdown",
   "id": "9f60e340",
   "metadata": {},
   "source": [
    "<font color=#FF2121>**注：ndarray.reshape 通常返回的是非拷贝副本，即改变返回后数组的元素，原数组对应元素的值也会改变。**</font>"
   ]
  },
  {
   "cell_type": "code",
   "execution_count": 41,
   "id": "1056e1de",
   "metadata": {},
   "outputs": [
    {
     "name": "stdout",
     "output_type": "stream",
     "text": [
      "[100   2   3   4   5   6]\n",
      "[[100   2   3]\n",
      " [  4   5   6]]\n"
     ]
    }
   ],
   "source": [
    "a = np.array([[1,2,3],[4,5,6]])\n",
    "b = a.reshape(6,)\n",
    "b[0] = 100\n",
    "print(b)\n",
    "print(a)"
   ]
  },
  {
   "cell_type": "markdown",
   "id": "e936b535",
   "metadata": {},
   "source": [
    "# 3 - 创建数组"
   ]
  },
  {
   "cell_type": "markdown",
   "id": "1a3f93a3",
   "metadata": {},
   "source": [
    "- numpy.empty\n",
    "    - numpy.empty 方法用来创建一个指定形状（shape）、数据类型（dtype）且未初始化的数组\n",
    "    - <font color=#FF2121>**注：数组元素为随机值，因为它们未初始化**</font>\n",
    "\n",
    "numpy.empty(shape, dtype = float, order = 'C')\n",
    "\n",
    "|  参数   | 描述  |\n",
    "|  :----:  |  :----  |\n",
    "| shape  | 数组形状 |\n",
    "| dtype  | 数据类型，可选  |\n",
    "| order  | 有\"C\"和\"F\"两个选项,分别代表，行优先和列优先，在计算机内存中的存储元素的顺序。 |"
   ]
  },
  {
   "cell_type": "code",
   "execution_count": 43,
   "id": "259c15ab",
   "metadata": {},
   "outputs": [
    {
     "data": {
      "text/plain": [
       "array([[1838338768,        455,          0],\n",
       "       [         0,     131074,   40307812]])"
      ]
     },
     "execution_count": 43,
     "metadata": {},
     "output_type": "execute_result"
    }
   ],
   "source": [
    "x = np.empty([2,3],dtype = int)\n",
    "x"
   ]
  },
  {
   "cell_type": "markdown",
   "id": "07db672c",
   "metadata": {},
   "source": [
    "- numpy.zeros\n",
    "    - 创建指定大小的数组，数组元素以 0 来填充：\n",
    "\n",
    "- numpy.zeros(shape, dtype = float, order = 'C')"
   ]
  },
  {
   "cell_type": "code",
   "execution_count": 49,
   "id": "8f2156e6",
   "metadata": {},
   "outputs": [
    {
     "data": {
      "text/plain": [
       "array([0., 0., 0., 0., 0.])"
      ]
     },
     "execution_count": 49,
     "metadata": {},
     "output_type": "execute_result"
    }
   ],
   "source": [
    "# 默认为浮点数\n",
    "x = np.zeros(5)\n",
    "x"
   ]
  },
  {
   "cell_type": "code",
   "execution_count": 50,
   "id": "7a10874a",
   "metadata": {},
   "outputs": [
    {
     "data": {
      "text/plain": [
       "1"
      ]
     },
     "execution_count": 50,
     "metadata": {},
     "output_type": "execute_result"
    }
   ],
   "source": [
    "# 设置类型为整数\n",
    "x = np.zeros((5,), dtype=int)\n",
    "x"
   ]
  },
  {
   "cell_type": "code",
   "execution_count": 53,
   "id": "32a77efd",
   "metadata": {},
   "outputs": [
    {
     "data": {
      "text/plain": [
       "array([[0., 0.],\n",
       "       [0., 0.]])"
      ]
     },
     "execution_count": 53,
     "metadata": {},
     "output_type": "execute_result"
    }
   ],
   "source": [
    "# 自定义类型\n",
    "z = np.zeros((2,2), dtype = [('x', 'i4'), ('y', 'i4')])  \n",
    "z"
   ]
  },
  {
   "cell_type": "markdown",
   "id": "542cc0ca",
   "metadata": {},
   "source": [
    "## 3.1 - 从已有的数组创建数组"
   ]
  },
  {
   "cell_type": "markdown",
   "id": "dfb2f1c4",
   "metadata": {},
   "source": [
    "### numpy.asarray"
   ]
  },
  {
   "cell_type": "markdown",
   "id": "3c23c8b9",
   "metadata": {},
   "source": [
    "- numpy.asarray 类似 numpy.array，但 numpy.asarray 参数只有三个，比 numpy.array 少两个。\n",
    "\n",
    "numpy.asarray(a, dtype = None, order = None)"
   ]
  },
  {
   "cell_type": "code",
   "execution_count": 56,
   "id": "f96e28e0",
   "metadata": {},
   "outputs": [
    {
     "data": {
      "text/plain": [
       "array([1, 2, 3])"
      ]
     },
     "execution_count": 56,
     "metadata": {},
     "output_type": "execute_result"
    }
   ],
   "source": [
    "# 将列表转换为数组\n",
    "x = [1,2,3]\n",
    "a = np.asarray(x)\n",
    "a"
   ]
  },
  {
   "cell_type": "code",
   "execution_count": 57,
   "id": "62a2821a",
   "metadata": {},
   "outputs": [
    {
     "data": {
      "text/plain": [
       "array([1, 2, 3])"
      ]
     },
     "execution_count": 57,
     "metadata": {},
     "output_type": "execute_result"
    }
   ],
   "source": [
    "# 将元祖转换为数组\n",
    "x = (1,2,3)\n",
    "a = np.asarray(x)\n",
    "a"
   ]
  },
  {
   "cell_type": "code",
   "execution_count": 58,
   "id": "33da0f53",
   "metadata": {},
   "outputs": [
    {
     "data": {
      "text/plain": [
       "array([[1, 2, 3],\n",
       "       [4, 5, 6]])"
      ]
     },
     "execution_count": 58,
     "metadata": {},
     "output_type": "execute_result"
    }
   ],
   "source": [
    "# 将元祖列表转换为数组\n",
    "x = [(1,2,3),(4,5,6)]\n",
    "a = np.asarray(x)\n",
    "a"
   ]
  },
  {
   "cell_type": "code",
   "execution_count": 59,
   "id": "5d9be428",
   "metadata": {},
   "outputs": [
    {
     "data": {
      "text/plain": [
       "array([1., 2., 3.])"
      ]
     },
     "execution_count": 59,
     "metadata": {},
     "output_type": "execute_result"
    }
   ],
   "source": [
    "# 设置dtype参数\n",
    "x = [1,2,3]\n",
    "a = np.asarray(x, dtype=float)\n",
    "a"
   ]
  },
  {
   "cell_type": "markdown",
   "id": "07b1291c",
   "metadata": {},
   "source": [
    "### numpy.frombutter"
   ]
  },
  {
   "cell_type": "markdown",
   "id": "a8950a1d",
   "metadata": {},
   "source": [
    "- numpy.formbuffer 用于实现动态数组\n",
    "- numpy.formbuffer 接受butter输入参数，以流的形式读入转化成ndarray对象\n",
    "\n",
    "numpy.frombuffer(buffer, dtype = float, count = -1, offset = 0) <br>\n",
    "<font color=#FF2121>**注：buffer 是字符串的时候，Python3 默认 str 是 Unicode 类型，所以要转成 bytestring 在原 str 前加上 b。**</font>\n",
    "\n",
    "|  参数   | 描述  |\n",
    "|  :----:  |  :----  |\n",
    "| butter  | 可以是任意对象，会以流的形式读入 |\n",
    "| dtype  | 返回数组的数据类型，可选  |\n",
    "| count  | 读取的数据数量，默认为-1，读取所有数据 |\n",
    "| offset  | 读取的起始位置，默认为0 |"
   ]
  },
  {
   "cell_type": "markdown",
   "id": "53e6d6da",
   "metadata": {},
   "source": [
    "- S1和|S2字符串是数据类型描述符; \n",
    "    - S1意味着数组包含长度为1的字符串\n",
    "    - S2意味着数组包含长度为2的字符串 \n",
    "    - |管道符号是byteorder标志, 在这种情况下，不需要字节顺序标志，因此它设置为|，这意味着不适用。"
   ]
  },
  {
   "cell_type": "code",
   "execution_count": 84,
   "id": "2baf6178",
   "metadata": {},
   "outputs": [
    {
     "data": {
      "text/plain": [
       "array([b'H', b'e', b'l', b'l', b'o', b' ', b'W', b'o', b'r', b'l', b'd'],\n",
       "      dtype='|S1')"
      ]
     },
     "execution_count": 84,
     "metadata": {},
     "output_type": "execute_result"
    }
   ],
   "source": [
    "s = b'Hello World'\n",
    "a = np.frombuffer(s, dtype='S1')\n",
    "a"
   ]
  },
  {
   "cell_type": "markdown",
   "id": "dd993156",
   "metadata": {},
   "source": [
    "### numpy.fromiter\n",
    "- numpy.fromiter 方法从可迭代对象中建立 ndarray 对象，返回一维数组。\n",
    "\n",
    "numpy.fromiter(iterable, dtype, count=-1)\n",
    "\n",
    "|  参数   | 描述  |\n",
    "|  :----:  |  :----  |\n",
    "| iterable  | 可迭代对象 |\n",
    "| dtype  | 返回数组的数据类型，可选  |\n",
    "| count  | 读取的数据数量，默认为-1，读取所有数据 |"
   ]
  },
  {
   "cell_type": "code",
   "execution_count": 88,
   "id": "d34a3c1d",
   "metadata": {},
   "outputs": [
    {
     "name": "stdout",
     "output_type": "stream",
     "text": [
      "[0. 1. 2. 3. 4.]\n"
     ]
    }
   ],
   "source": [
    "# 使用 range 函数创建列表对象  \n",
    "list = range(5)\n",
    "it=iter(list)\n",
    "\n",
    "# 使用迭代器创建 ndarray \n",
    "x=np.fromiter(it, dtype=float)\n",
    "print(x)"
   ]
  },
  {
   "cell_type": "markdown",
   "id": "908bdf21",
   "metadata": {},
   "source": [
    "## 3.2 - 从数值范围创建数组"
   ]
  },
  {
   "cell_type": "markdown",
   "id": "52b6c5a0",
   "metadata": {},
   "source": [
    "### numpy.arange\n",
    "- numpy 包中的使用 arange 函数创建数值范围并返回 ndarray 对象，函数格式如下：\n",
    "- 根据 start 与 stop 指定的范围以及 step 设定的步长，生成一个 ndarray。\n",
    "\n",
    "numpy.arange(start, stop, step, dtype)"
   ]
  },
  {
   "cell_type": "code",
   "execution_count": 90,
   "id": "1dc1897c",
   "metadata": {},
   "outputs": [
    {
     "data": {
      "text/plain": [
       "array([0, 1, 2, 3, 4])"
      ]
     },
     "execution_count": 90,
     "metadata": {},
     "output_type": "execute_result"
    }
   ],
   "source": [
    "x = np.arange(5)\n",
    "x"
   ]
  },
  {
   "cell_type": "code",
   "execution_count": 91,
   "id": "7df46900",
   "metadata": {},
   "outputs": [
    {
     "data": {
      "text/plain": [
       "array([0., 1., 2., 3., 4.])"
      ]
     },
     "execution_count": 91,
     "metadata": {},
     "output_type": "execute_result"
    }
   ],
   "source": [
    "# 设置数值类型\n",
    "x = np.arange(5, dtype=float)\n",
    "x"
   ]
  },
  {
   "cell_type": "code",
   "execution_count": 92,
   "id": "1947b320",
   "metadata": {},
   "outputs": [
    {
     "data": {
      "text/plain": [
       "array([10, 12, 14, 16, 18])"
      ]
     },
     "execution_count": 92,
     "metadata": {},
     "output_type": "execute_result"
    }
   ],
   "source": [
    "# 设置步长\n",
    "x = np.arange(10, 20, 2)\n",
    "x"
   ]
  },
  {
   "cell_type": "markdown",
   "id": "271a4751",
   "metadata": {},
   "source": [
    "### numpy.linspace\n",
    "- numpy.linspace 函数用于创建一个一维数组，数组是一个等差数列构成的，格式如下：\n",
    "\n",
    "np.linspace(start, stop, num=50, endpoint=True, retstep=False, dtype=None)\n",
    "\n",
    "|  参数   | 描述  |\n",
    "|  :----:  |  :----  |\n",
    "| start  | 序列的起始值 |\n",
    "| stop  | 序列的终止值，如果endpoint为true，该值包含于数列中  |\n",
    "| num  | 要生成的等步长的样本数量，默认为50 |\n",
    "| endpoint  | 该值为 true 时，数列中包含stop值，反之不包含，默认是True。 |\n",
    "| retstep  | 如果为 True 时，生成的数组中会显示间距，反之不显示。 |\n",
    "| dtype  | ndarray 的数据类型 |"
   ]
  },
  {
   "cell_type": "code",
   "execution_count": 94,
   "id": "00746ac5",
   "metadata": {},
   "outputs": [
    {
     "data": {
      "text/plain": [
       "array([ 1.,  2.,  3.,  4.,  5.,  6.,  7.,  8.,  9., 10.])"
      ]
     },
     "execution_count": 94,
     "metadata": {},
     "output_type": "execute_result"
    }
   ],
   "source": [
    "a = np.linspace(1, 10, 10)\n",
    "a"
   ]
  },
  {
   "cell_type": "code",
   "execution_count": 97,
   "id": "ccac57c7",
   "metadata": {},
   "outputs": [
    {
     "data": {
      "text/plain": [
       "array([ 1. ,  5.5, 10. ])"
      ]
     },
     "execution_count": 97,
     "metadata": {},
     "output_type": "execute_result"
    }
   ],
   "source": [
    "a = np.linspace(1, 10, 3)\n",
    "a"
   ]
  },
  {
   "cell_type": "code",
   "execution_count": 98,
   "id": "3fb41326",
   "metadata": {},
   "outputs": [
    {
     "data": {
      "text/plain": [
       "array([1., 1., 1., 1., 1., 1., 1., 1., 1., 1.])"
      ]
     },
     "execution_count": 98,
     "metadata": {},
     "output_type": "execute_result"
    }
   ],
   "source": [
    "# 设置元素全部是1的等差数列\n",
    "x = np.linspace(1, 1, 10)\n",
    "x"
   ]
  },
  {
   "cell_type": "code",
   "execution_count": 101,
   "id": "744d2b93",
   "metadata": {},
   "outputs": [
    {
     "data": {
      "text/plain": [
       "array([10., 12., 14., 16., 18.])"
      ]
     },
     "execution_count": 101,
     "metadata": {},
     "output_type": "execute_result"
    }
   ],
   "source": [
    "a = np.linspace(10, 20, 5, endpoint=False)\n",
    "a"
   ]
  },
  {
   "cell_type": "code",
   "execution_count": 102,
   "id": "69e850ff",
   "metadata": {},
   "outputs": [
    {
     "data": {
      "text/plain": [
       "(array([10., 15., 20., 25., 30.]), 5.0)"
      ]
     },
     "execution_count": 102,
     "metadata": {},
     "output_type": "execute_result"
    }
   ],
   "source": [
    "# 设置间距\n",
    "a = np.linspace(10, 30, 5, retstep=True)\n",
    "a"
   ]
  },
  {
   "cell_type": "code",
   "execution_count": 104,
   "id": "703ca26a",
   "metadata": {},
   "outputs": [
    {
     "data": {
      "text/plain": [
       "array([[ 1.],\n",
       "       [ 2.],\n",
       "       [ 3.],\n",
       "       [ 4.],\n",
       "       [ 5.],\n",
       "       [ 6.],\n",
       "       [ 7.],\n",
       "       [ 8.],\n",
       "       [ 9.],\n",
       "       [10.]])"
      ]
     },
     "execution_count": 104,
     "metadata": {},
     "output_type": "execute_result"
    }
   ],
   "source": [
    "b = np.linspace(1,10,10).reshape([10,1])\n",
    "b"
   ]
  },
  {
   "cell_type": "markdown",
   "id": "2740c5f8",
   "metadata": {},
   "source": [
    "### numpy.logspace\n",
    "- numpy.logspace 函数用于创建一个于等比数列。格式如下：\n",
    "\n",
    "np.logspace(start, stop, num=50, endpoint=True, base=10.0, dtype=None)\n",
    "\n",
    "|  参数   | 描述  |\n",
    "|  :----:  |  :----  |\n",
    "| start  | 序列的起始值 |\n",
    "| stop  | 序列的终止值，如果endpoint为true，该值包含于数列中  |\n",
    "| num  | 要生成的等步长的样本数量，默认为50 |\n",
    "| endpoint  | 该值为 true 时，数列中包含stop值，反之不包含，默认是True。 |\n",
    "| base  | 对数 log 的底数 |\n",
    "| dtype  | ndarray 的数据类型 |"
   ]
  },
  {
   "cell_type": "code",
   "execution_count": 105,
   "id": "0fd269cf",
   "metadata": {},
   "outputs": [
    {
     "data": {
      "text/plain": [
       "array([ 10.        ,  12.91549665,  16.68100537,  21.5443469 ,\n",
       "        27.82559402,  35.93813664,  46.41588834,  59.94842503,\n",
       "        77.42636827, 100.        ])"
      ]
     },
     "execution_count": 105,
     "metadata": {},
     "output_type": "execute_result"
    }
   ],
   "source": [
    "a = np.logspace(1.0,  2.0, num =  10) \n",
    "a"
   ]
  },
  {
   "cell_type": "code",
   "execution_count": 106,
   "id": "a4cfaca9",
   "metadata": {},
   "outputs": [
    {
     "data": {
      "text/plain": [
       "array([  1.,   2.,   4.,   8.,  16.,  32.,  64., 128., 256., 512.])"
      ]
     },
     "execution_count": 106,
     "metadata": {},
     "output_type": "execute_result"
    }
   ],
   "source": [
    "a = np.logspace(0,9,10,base=2)\n",
    "a"
   ]
  },
  {
   "cell_type": "markdown",
   "id": "905688e4",
   "metadata": {},
   "source": [
    "# 4 - 切片和索引"
   ]
  },
  {
   "cell_type": "markdown",
   "id": "c614a734",
   "metadata": {},
   "source": [
    "- ndarray对象的内容可以通过索引或切片来访问和修改，与 Python 中 list 的切片操作一样。\n",
    "- ndarray 数组可以基于0 - n的下标进行索引，切片对象可以通过内置的 slice 函数，并设置 start, stop 及 step 参数进行，从原数组中切割出一个新数组。"
   ]
  },
  {
   "cell_type": "code",
   "execution_count": 108,
   "id": "48a29057",
   "metadata": {},
   "outputs": [
    {
     "data": {
      "text/plain": [
       "array([2, 4, 6])"
      ]
     },
     "execution_count": 108,
     "metadata": {},
     "output_type": "execute_result"
    }
   ],
   "source": [
    "# slice函数\n",
    "a = np.arange(10)\n",
    "a\n",
    "s = slice(2, 7, 2)  # 从索引 2 开始到索引 7 停止，间隔为2\n",
    "a[s]"
   ]
  },
  {
   "cell_type": "code",
   "execution_count": 119,
   "id": "ce3246db",
   "metadata": {},
   "outputs": [
    {
     "data": {
      "text/plain": [
       "array([2, 4, 6])"
      ]
     },
     "execution_count": 119,
     "metadata": {},
     "output_type": "execute_result"
    }
   ],
   "source": [
    "# start:stop:step\n",
    "a = np.arange(10)\n",
    "b = a[2:7:2]\n",
    "b"
   ]
  },
  {
   "cell_type": "code",
   "execution_count": 112,
   "id": "368fed42",
   "metadata": {},
   "outputs": [
    {
     "data": {
      "text/plain": [
       "array([2, 3, 4, 5, 6])"
      ]
     },
     "execution_count": 112,
     "metadata": {},
     "output_type": "execute_result"
    }
   ],
   "source": [
    "# 和列表的切片一样\n",
    "a = np.arange(10)\n",
    "b = a[2:]\n",
    "b = a[2:7]\n",
    "b"
   ]
  },
  {
   "cell_type": "code",
   "execution_count": 114,
   "id": "15c2cd0d",
   "metadata": {},
   "outputs": [
    {
     "data": {
      "text/plain": [
       "array([[4, 5, 6],\n",
       "       [7, 8, 9]])"
      ]
     },
     "execution_count": 114,
     "metadata": {},
     "output_type": "execute_result"
    }
   ],
   "source": [
    "# 多维数组\n",
    "a = np.array([[1,2,3],[4,5,6],[7,8,9]])\n",
    "a[1:]"
   ]
  },
  {
   "cell_type": "code",
   "execution_count": 127,
   "id": "35548a20",
   "metadata": {},
   "outputs": [
    {
     "data": {
      "text/plain": [
       "array([[2, 3],\n",
       "       [4, 5],\n",
       "       [5, 6]])"
      ]
     },
     "execution_count": 127,
     "metadata": {},
     "output_type": "execute_result"
    }
   ],
   "source": [
    "a = np.array([[1,2,3],[3,4,5],[4,5,6]])  \n",
    "# 选择第2列元素\n",
    "a[...,1]\n",
    "# 选择第2行元素\n",
    "a[1,...]\n",
    "# # 第2列及剩下的所有元素\n",
    "a[...,1:]"
   ]
  },
  {
   "cell_type": "markdown",
   "id": "ef50d1eb",
   "metadata": {},
   "source": [
    "# 5 - 高级索引"
   ]
  },
  {
   "cell_type": "markdown",
   "id": "54d68666",
   "metadata": {},
   "source": [
    "NumPy 比一般的 Python 序列提供更多的索引方式。除了之前看到的用整数和切片的索引外，数组可以由整数数组索引、布尔索引及花式索引。"
   ]
  },
  {
   "cell_type": "markdown",
   "id": "b28408ed",
   "metadata": {},
   "source": [
    "## 5.1 - 整数数组索引"
   ]
  },
  {
   "cell_type": "code",
   "execution_count": 124,
   "id": "608d6b24",
   "metadata": {},
   "outputs": [
    {
     "data": {
      "text/plain": [
       "array([1, 4, 5])"
      ]
     },
     "execution_count": 124,
     "metadata": {},
     "output_type": "execute_result"
    }
   ],
   "source": [
    "# 获取数组中(0,0)，(1,1)和(2,0)位置处的元素\n",
    "x = np.array([[1,2],[3,4],[5,6]])\n",
    "y = x[[0,1,2],[0,1,0]]\n",
    "y"
   ]
  },
  {
   "cell_type": "code",
   "execution_count": 128,
   "id": "b11ecd00",
   "metadata": {},
   "outputs": [
    {
     "name": "stdout",
     "output_type": "stream",
     "text": [
      "我们的数组是：\n"
     ]
    },
    {
     "data": {
      "text/plain": [
       "array([[ 0,  1,  2],\n",
       "       [ 3,  4,  5],\n",
       "       [ 6,  7,  8],\n",
       "       [ 9, 10, 11]])"
      ]
     },
     "execution_count": 128,
     "metadata": {},
     "output_type": "execute_result"
    }
   ],
   "source": [
    "#  获取 4X3 数组中的四个角的元素\n",
    "x = np.array([[  0,  1,  2],[  3,  4,  5],[  6,  7,  8],[  9,  10,  11]])  \n",
    "print ('我们的数组是：' )\n",
    "x"
   ]
  },
  {
   "cell_type": "code",
   "execution_count": 132,
   "id": "b3a1cdd9",
   "metadata": {},
   "outputs": [
    {
     "name": "stdout",
     "output_type": "stream",
     "text": [
      "这个数组的四个角元素是：\n"
     ]
    },
    {
     "data": {
      "text/plain": [
       "array([[ 0,  2],\n",
       "       [ 9, 11]])"
      ]
     },
     "execution_count": 132,
     "metadata": {},
     "output_type": "execute_result"
    }
   ],
   "source": [
    "rows = np.array([[0,0],[3,3]]) \n",
    "cols = np.array([[0,2],[0,2]]) \n",
    "y = x[rows, cols]\n",
    "print  ('这个数组的四个角元素是：')\n",
    "y"
   ]
  },
  {
   "cell_type": "code",
   "execution_count": 143,
   "id": "47a21b48",
   "metadata": {},
   "outputs": [
    {
     "name": "stdout",
     "output_type": "stream",
     "text": [
      "[[1 2 3]\n",
      " [4 5 6]\n",
      " [7 8 9]]\n",
      "[[5 6]\n",
      " [8 9]]\n",
      "[[5 6]\n",
      " [8 9]]\n",
      "[[2 3]\n",
      " [5 6]\n",
      " [8 9]]\n"
     ]
    }
   ],
   "source": [
    "# 可以借助切片 : 或 … 与索引数组组合\n",
    "a = np.array([[1,2,3],[4,5,6],[7,8,9]])\n",
    "b = a[1:3, 1:3]\n",
    "c = a[1:3,[1,2]]\n",
    "d = a[...,1:]\n",
    "print(a)\n",
    "print(b)\n",
    "print(c)\n",
    "print(d)"
   ]
  },
  {
   "cell_type": "markdown",
   "id": "1e1e66c0",
   "metadata": {},
   "source": [
    "## 5.2 - 布尔索引"
   ]
  },
  {
   "cell_type": "markdown",
   "id": "c18a8858",
   "metadata": {},
   "source": [
    "布尔索引通过布尔运算（如：比较运算符）来获取符合指定条件的元素的数组。"
   ]
  },
  {
   "cell_type": "code",
   "execution_count": 145,
   "id": "34625ecd",
   "metadata": {},
   "outputs": [
    {
     "name": "stdout",
     "output_type": "stream",
     "text": [
      "我们的数组是：\n",
      "[[ 0  1  2]\n",
      " [ 3  4  5]\n",
      " [ 6  7  8]\n",
      " [ 9 10 11]]\n",
      "\n",
      "\n"
     ]
    },
    {
     "data": {
      "text/plain": [
       "array([ 6,  7,  8,  9, 10, 11])"
      ]
     },
     "execution_count": 145,
     "metadata": {},
     "output_type": "execute_result"
    }
   ],
   "source": [
    "x = np.array([[  0,  1,  2],[  3,  4,  5],[  6,  7,  8],[  9,  10,  11]])  \n",
    "print('我们的数组是：')\n",
    "print(x)\n",
    "print('\\n')\n",
    "# 现在我们会打印出大于 5 的元素 \n",
    "x [x > 5]"
   ]
  },
  {
   "cell_type": "code",
   "execution_count": 151,
   "id": "c6d093dd",
   "metadata": {},
   "outputs": [
    {
     "name": "stdout",
     "output_type": "stream",
     "text": [
      "[nan  1.  2. nan  3.  4.  5.]\n",
      "[1. 2. 3. 4. 5.]\n"
     ]
    }
   ],
   "source": [
    "a = np.array([np.nan,1,2,np.nan,3,4,5])\n",
    "print(a)\n",
    "# 使用~（取补运算符）来过滤 NaN\n",
    "b = a[~np.isnan(a)]\n",
    "print(b)"
   ]
  },
  {
   "cell_type": "code",
   "execution_count": 152,
   "id": "fb6c3db3",
   "metadata": {},
   "outputs": [
    {
     "name": "stdout",
     "output_type": "stream",
     "text": [
      "[2. +6.j 3.5+5.j]\n"
     ]
    }
   ],
   "source": [
    "# 过滤非复数元素\n",
    "a = np.array([1,  2+6j,  5,  3.5+5j])  \n",
    "print (a[np.iscomplex(a)])"
   ]
  },
  {
   "cell_type": "markdown",
   "id": "c2471555",
   "metadata": {},
   "source": [
    "### 关于多条件的布尔索引"
   ]
  },
  {
   "cell_type": "markdown",
   "id": "5f2ca710",
   "metadata": {},
   "source": [
    "使用 & 连接两个条件，输出大于 5 且小于 10 的元素 print(x[x>5 & x<10])，在 numpy 中会报错：\n",
    "\n",
    "The truth value of an array with more than one element is ambiguous\n",
    "\n",
    "三个实用的解决方法：\n",
    "- 条件加小括号\n",
    "- 使用 np.logical_and 方法\n",
    "- 使用 np.all 方法"
   ]
  },
  {
   "cell_type": "code",
   "execution_count": 174,
   "id": "dc183471",
   "metadata": {},
   "outputs": [
    {
     "name": "stdout",
     "output_type": "stream",
     "text": [
      "原数组：\n",
      " [[ 0  1  2]\n",
      " [ 3  4  5]\n",
      " [ 6  7  8]\n",
      " [ 9 10 11]]\n",
      "\n",
      "大于5且小于10的元素：\n",
      "[6 7 8 9]\n",
      "\n",
      "使用np.logical_and方法：\n",
      "[6 7 8 9]\n",
      "\n",
      "使用np.all方法：\n",
      "[6 7 8 9]\n"
     ]
    }
   ],
   "source": [
    "x = np.array([[0, 1, 2], [3, 4, 5], [6, 7, 8], [9, 10, 11]])\n",
    "print('原数组：\\n', x)\n",
    "print('\\n大于5且小于10的元素：')\n",
    "print(x[(x>5) & (x<10)])\n",
    "print('\\n使用np.logical_and方法：')\n",
    "print(x[np.logical_and(x>5, x<10)])\n",
    "print('\\n使用np.all方法：')\n",
    "print(x[np.all([x>5,x<10],axis=0)])"
   ]
  },
  {
   "cell_type": "markdown",
   "id": "782f01b2",
   "metadata": {},
   "source": [
    "另外，布尔索引不一定针对数组的所有元素，可以针对某一列的数据，进而提取需要的数组。"
   ]
  },
  {
   "cell_type": "code",
   "execution_count": 183,
   "id": "155f703e",
   "metadata": {},
   "outputs": [
    {
     "name": "stdout",
     "output_type": "stream",
     "text": [
      "[[1 1 0]\n",
      " [2 1 0]\n",
      " [3 2 0]\n",
      " [4 2 0]\n",
      " [5 3 0]]\n",
      "[[3 2 0]\n",
      " [4 2 0]\n",
      " [5 3 0]]\n",
      "[[3 2 0]\n",
      " [4 2 0]]\n"
     ]
    }
   ],
   "source": [
    "a = np.array([[1, 1, 0],[2, 1, 0],[3, 2, 0],[4, 2, 0],[5, 3, 0]])\n",
    "print(a)\n",
    "# 提取第一列大于2的行\n",
    "b = a[a[...,0]>2]\n",
    "print(b)\n",
    "# 提取第一列大于2,第二列小于3的行\n",
    "c = a[(a[...,0]>2) & (a[...,1]<3)]\n",
    "print(c)"
   ]
  },
  {
   "cell_type": "markdown",
   "id": "90759c90",
   "metadata": {},
   "source": [
    "## 5.2 - 花式索引"
   ]
  },
  {
   "cell_type": "markdown",
   "id": "5e12678f",
   "metadata": {},
   "source": [
    "- 花式索引指的是利用整数数组进行索引。\n",
    "- 花式索引根据索引数组的值作为目标数组的某个轴的下标来取值。对于使用一维整型数组作为索引，如果目标是一维数组，那么索引的结果就是对应下标的行，如果目标是二维数组，那么就是对应位置的元素。\n",
    "- 花式索引跟切片不一样，它总是将数据复制到新数组中。"
   ]
  },
  {
   "cell_type": "code",
   "execution_count": 160,
   "id": "2fbb20d6",
   "metadata": {},
   "outputs": [
    {
     "name": "stdout",
     "output_type": "stream",
     "text": [
      "[[ 0  1  2  3]\n",
      " [ 4  5  6  7]\n",
      " [ 8  9 10 11]\n",
      " [12 13 14 15]\n",
      " [16 17 18 19]\n",
      " [20 21 22 23]\n",
      " [24 25 26 27]\n",
      " [28 29 30 31]] \n",
      "\n",
      "[[16 17 18 19]\n",
      " [ 8  9 10 11]\n",
      " [ 4  5  6  7]\n",
      " [28 29 30 31]]\n"
     ]
    }
   ],
   "source": [
    "x = np.arange(32).reshape((8,4))\n",
    "print(x,'\\n')\n",
    "# 传入顺序索引数组\n",
    "print(x[[4,2,1,7]])"
   ]
  },
  {
   "cell_type": "code",
   "execution_count": 159,
   "id": "dd3c194d",
   "metadata": {
    "scrolled": true
   },
   "outputs": [
    {
     "name": "stdout",
     "output_type": "stream",
     "text": [
      "[[16 17 18 19]\n",
      " [24 25 26 27]\n",
      " [28 29 30 31]\n",
      " [ 4  5  6  7]]\n"
     ]
    }
   ],
   "source": [
    "# 传入倒序索引数组\n",
    "print(x[[-4,-2,-1,-7]])"
   ]
  },
  {
   "cell_type": "markdown",
   "id": "b95a1741",
   "metadata": {},
   "source": [
    "### np.ix_"
   ]
  },
  {
   "cell_type": "markdown",
   "id": "b651a8bb",
   "metadata": {},
   "source": [
    "如果 np.xi_ 中输入两个列表，则第一个列表存的是待提取元素的行标，第二个列表存的是待提取元素的列标，第一个列表中的每个元素都会遍历第二个列表中的每个值，构成新矩阵的一行元素。"
   ]
  },
  {
   "cell_type": "code",
   "execution_count": 165,
   "id": "8eca764c",
   "metadata": {},
   "outputs": [
    {
     "name": "stdout",
     "output_type": "stream",
     "text": [
      "[[ 4  7  5  6]\n",
      " [20 23 21 22]\n",
      " [28 31 29 30]\n",
      " [ 8 11  9 10]]\n"
     ]
    }
   ],
   "source": [
    "# 传入多个索引数组（要使用np.ix_）\n",
    "y = x[np.ix_([1,5,7,2],[0,3,1,2])]\n",
    "print(y)"
   ]
  },
  {
   "cell_type": "markdown",
   "id": "2fad2f01",
   "metadata": {},
   "source": [
    "# 6 - Numpy广播（Broadcast）"
   ]
  },
  {
   "cell_type": "markdown",
   "id": "8582be2e",
   "metadata": {},
   "source": [
    "- 广播(Broadcast)是 numpy 对不同形状(shape)的数组进行数值计算的方式， 对数组的算术运算通常在相应的元素上进行。\n",
    "- 如果两个数组 a 和 b 形状相同，即满足 a.shape == b.shape，那么 a*b 的结果就是 a 与 b 数组对应位相乘。这要求维数相同，且各维度的长度相同。\n",
    "- 广播的规则:\n",
    "    - 让所有输入数组都向其中形状最长的数组看齐，形状中不足的部分都通过在前面加 1 补齐。\n",
    "    - 输出数组的形状是输入数组形状的各个维度上的最大值。\n",
    "    - 如果输入数组的某个维度和输出数组的对应维度的长度相同或者其长度为 1 时，这个数组能够用来计算，否则出错。\n",
    "    - 当输入数组的某个维度的长度为 1 时，沿着此维度运算时都用此维度上的第一组值。\n",
    "    \n",
    "- **简单理解**：对两个数组，分别比较他们的每一个维度（若其中一个数组没有当前维度则忽略），满足：\n",
    "    - 数组拥有相同形状。\n",
    "    - 当前维度的值相等。\n",
    "    - 当前维度的值有一个是 1。\n",
    "  \n",
    "  若条件不满足，抛出 \"ValueError: frames are not aligned\" 异常。"
   ]
  },
  {
   "cell_type": "code",
   "execution_count": 184,
   "id": "97ed9d40",
   "metadata": {},
   "outputs": [
    {
     "data": {
      "text/plain": [
       "array([ 10,  40,  90, 160])"
      ]
     },
     "execution_count": 184,
     "metadata": {},
     "output_type": "execute_result"
    }
   ],
   "source": [
    "# 数组形状相同\n",
    "a = np.array([1,2,3,4])\n",
    "b = np.array([10,20,30,40])\n",
    "c = a * b\n",
    "c"
   ]
  },
  {
   "cell_type": "code",
   "execution_count": 196,
   "id": "53de14fc",
   "metadata": {},
   "outputs": [
    {
     "name": "stdout",
     "output_type": "stream",
     "text": [
      "[[ 0  0  0]\n",
      " [ 0 10 20]\n",
      " [ 0 20 40]\n",
      " [ 0 30 60]]\n",
      "[[ 0  1  2]\n",
      " [10 11 12]\n",
      " [20 21 22]\n",
      " [30 31 32]]\n"
     ]
    }
   ],
   "source": [
    "# 当运算中的 2 个数组的形状不同时，numpy 将自动触发广播机制\n",
    "a = np.array([[0,0,0],[10,10,10],[20,20,20],[30,30,30]])\n",
    "b = np.array([0,1,2])\n",
    "c = a * b\n",
    "d = a + b\n",
    "print(c)\n",
    "print(d)"
   ]
  },
  {
   "cell_type": "code",
   "execution_count": 200,
   "id": "edf4bf64",
   "metadata": {},
   "outputs": [
    {
     "name": "stdout",
     "output_type": "stream",
     "text": [
      "[[ 0  0  0]\n",
      " [10 10 10]\n",
      " [20 20 20]\n",
      " [30 30 30]]\n",
      "[[0 1 2]\n",
      " [0 1 2]\n",
      " [0 1 2]\n",
      " [0 1 2]]\n",
      "[[ 0  1  2]\n",
      " [10 11 12]\n",
      " [20 21 22]\n",
      " [30 31 32]]\n"
     ]
    }
   ],
   "source": [
    "a = np.array([[0,0,0],[10,10,10],[20,20,20],[30,30,30]])\n",
    "b = np.array([0,1,2])\n",
    "# np.tile重复数组的各个维度\n",
    "bb = np.tile(b, (4,1))\n",
    "print(a)\n",
    "print(bb)\n",
    "print(a + bb)"
   ]
  },
  {
   "cell_type": "markdown",
   "id": "bacc508a",
   "metadata": {},
   "source": [
    "# 7 - Numpy迭代数组"
   ]
  },
  {
   "cell_type": "markdown",
   "id": "0afbefde",
   "metadata": {},
   "source": [
    "NumPy 迭代器对象 numpy.nditer 提供了一种灵活访问一个或者多个数组元素的方式"
   ]
  },
  {
   "cell_type": "code",
   "execution_count": 219,
   "id": "f80ae91c",
   "metadata": {},
   "outputs": [
    {
     "name": "stdout",
     "output_type": "stream",
     "text": [
      "原始数组是\n",
      " [[0 1 2]\n",
      " [3 4 5]]\n",
      "\n",
      "迭代输出数组是：\n",
      "0,1,2,3,4,5,"
     ]
    }
   ],
   "source": [
    "a = np.arange(6).reshape(2,3)\n",
    "print(\"原始数组是\\n\", a)\n",
    "print(\"\\n迭代输出数组是：\")\n",
    "for i in np.nditer(a):\n",
    "    print(i, end=\",\")"
   ]
  },
  {
   "cell_type": "markdown",
   "id": "09e6bf4a",
   "metadata": {},
   "source": [
    "以上实例不是使用标准 C 或者 Fortran 顺序，选择的顺序是和数组内存布局一致的，这样做是为了提升访问的效率，默认是行序优先（row-major order，或者说是 C-order）。\n",
    "\n",
    "这反映了默认情况下只需访问每个元素，而无需考虑其特定顺序。我们可以通过迭代上述数组的转置来看到这一点，并与以 C 顺序访问数组转置的 copy 方式做对比，如下实例："
   ]
  },
  {
   "cell_type": "code",
   "execution_count": 218,
   "id": "82c4165f",
   "metadata": {},
   "outputs": [
    {
     "name": "stdout",
     "output_type": "stream",
     "text": [
      "[[0 1 2]\n",
      " [3 4 5]]\n",
      "[[0 3]\n",
      " [1 4]\n",
      " [2 5]]\n",
      "0,1,2,3,4,5,\n",
      "\n",
      "0,3,1,4,2,5,"
     ]
    }
   ],
   "source": [
    "# 顺序问题\n",
    "a = np.arange(6).reshape(2,3)\n",
    "print(a)\n",
    "print(a.T)\n",
    "for i in np.nditer(a.T):\n",
    "    print(i, end=\",\")\n",
    "print(\"\\n\")\n",
    "\n",
    "for i in np.nditer(a.T.copy(order='C')):\n",
    "    print(i, end=\",\")"
   ]
  },
  {
   "cell_type": "markdown",
   "id": "47b7d690",
   "metadata": {},
   "source": [
    "从上述例子可以看出，a 和 a.T 的遍历顺序是一样的，也就是他们在内存中的存储顺序也是一样的，但是 a.T.copy(order = 'C') 的遍历结果是不同的，那是因为它和前两种的存储方式是不一样的，默认是按行访问。"
   ]
  },
  {
   "cell_type": "markdown",
   "id": "6f70fd8e",
   "metadata": {},
   "source": [
    "## 7-1 控制遍历顺序"
   ]
  },
  {
   "cell_type": "markdown",
   "id": "7d5df7b6",
   "metadata": {},
   "source": [
    "- for x in np.nditer(a, order='F'):Fortran order，即是列序优先；\n",
    "- for x in np.nditer(a.T, order='C'):C order，即是行序优先；"
   ]
  },
  {
   "cell_type": "code",
   "execution_count": 230,
   "id": "38c7b3b1",
   "metadata": {
    "scrolled": false
   },
   "outputs": [
    {
     "name": "stdout",
     "output_type": "stream",
     "text": [
      "原始数组是：\n",
      "[[ 0  5 10 15]\n",
      " [20 25 30 35]\n",
      " [40 45 50 55]]\n",
      "\n",
      "\n",
      "原始数组的转置是：\n",
      "[[ 0 20 40]\n",
      " [ 5 25 45]\n",
      " [10 30 50]\n",
      " [15 35 55]]\n",
      "\n",
      "\n",
      "以 C 风格顺序排序：\n",
      "[[ 0 20 40]\n",
      " [ 5 25 45]\n",
      " [10 30 50]\n",
      " [15 35 55]] \n",
      "\n",
      "0,20,40,5,25,45,10,30,50,15,35,55,\n",
      "\n",
      "以 F 风格顺序排序：\n",
      "[[ 0 20 40]\n",
      " [ 5 25 45]\n",
      " [10 30 50]\n",
      " [15 35 55]] \n",
      "\n",
      "0,5,10,15,20,25,30,35,40,45,50,55,"
     ]
    }
   ],
   "source": [
    "a = np.arange(0,60,5)\n",
    "a = a.reshape(3,4)\n",
    "print ('原始数组是：') \n",
    "print (a) \n",
    "print ('\\n') \n",
    "print ('原始数组的转置是：') \n",
    "b = a.T \n",
    "print (b) \n",
    "print ('\\n') \n",
    "print ('以 C 风格顺序排序：') \n",
    "c = b.copy(order='C')\n",
    "print(c,'\\n')\n",
    "for i in np.nditer(c):\n",
    "    print(i, end=\",\")\n",
    "print ('\\n') \n",
    "print ('以 F 风格顺序排序：') \n",
    "c = b.copy(order='F')\n",
    "print(c,'\\n')\n",
    "for i in np.nditer(c):\n",
    "    print(i, end=\",\")\n"
   ]
  },
  {
   "cell_type": "code",
   "execution_count": 231,
   "id": "c74bbba3",
   "metadata": {},
   "outputs": [
    {
     "name": "stdout",
     "output_type": "stream",
     "text": [
      "原始数组是：\n",
      "[[ 0  5 10 15]\n",
      " [20 25 30 35]\n",
      " [40 45 50 55]]\n",
      "\n",
      "\n",
      "以 C 风格顺序排序：\n",
      "0, 5, 10, 15, 20, 25, 30, 35, 40, 45, 50, 55, \n",
      "\n",
      "以 F 风格顺序排序：\n",
      "0, 20, 40, 5, 25, 45, 10, 30, 50, 15, 35, 55, "
     ]
    }
   ],
   "source": [
    "# 可以通过显式设置，来强制 nditer 对象使用某种顺序\n",
    "a = np.arange(0,60,5) \n",
    "a = a.reshape(3,4)  \n",
    "print ('原始数组是：')\n",
    "print (a)\n",
    "print ('\\n')\n",
    "print ('以 C 风格顺序排序：')\n",
    "for x in np.nditer(a, order =  'C'):  \n",
    "    print (x, end=\", \" )\n",
    "print ('\\n')\n",
    "print ('以 F 风格顺序排序：')\n",
    "for x in np.nditer(a, order =  'F'):  \n",
    "    print (x, end=\", \" )"
   ]
  },
  {
   "cell_type": "markdown",
   "id": "e6161139",
   "metadata": {},
   "source": [
    "## 7-2 修改数组中元素的值"
   ]
  },
  {
   "cell_type": "markdown",
   "id": "53a181d8",
   "metadata": {},
   "source": [
    "nditer 对象有另一个可选参数 op_flags。 默认情况下，nditer 将视待迭代遍历的数组为只读对象（read-only），为了在遍历数组的同时，实现对数组元素值得修改，必须指定 read-write 或者 read-only 的模式。"
   ]
  },
  {
   "cell_type": "code",
   "execution_count": 243,
   "id": "5613b9f8",
   "metadata": {},
   "outputs": [
    {
     "name": "stdout",
     "output_type": "stream",
     "text": [
      "原始数组是：\n",
      "[[ 0  5 10 15]\n",
      " [20 25 30 35]\n",
      " [40 45 50 55]]\n",
      "\n",
      "\n",
      "修改后的数组是：\n",
      "[[  0  10  20  30]\n",
      " [ 40  50  60  70]\n",
      " [ 80  90 100 110]]\n"
     ]
    }
   ],
   "source": [
    "a = np.arange(0,60,5).reshape(3,4)\n",
    "print ('原始数组是：')\n",
    "print (a)\n",
    "print ('\\n')\n",
    "for i in np.nditer(a, op_flags=['readwrite']):\n",
    "    i[...]= 2*i\n",
    "print ('修改后的数组是：')\n",
    "print (a)"
   ]
  },
  {
   "cell_type": "markdown",
   "id": "76df0123",
   "metadata": {},
   "source": [
    "x[...] 是修改原 numpy 元素，x 只是个拷贝。\n",
    "\n",
    "order = 'C'，numpy 实例（也就是一个多维数组）本身的存储顺序不会因为转置或 order = 'C' 或 'F' 而改变。\n",
    "\n",
    "只是 numpy 实例中，存储了一个默认的访问顺序的字段。\n",
    "\n",
    "numpy.copy 做了特殊处理，它拷贝的时候不是直接把对方的内存复制，而是按照上面 order 指定的顺序逐一拷贝。\n",
    "\n",
    "for x in np.nditer(a, order = 'C'): 可以在循环中另外指定顺序，如果未指定，则按照上面数组的order顺序访问。"
   ]
  },
  {
   "cell_type": "code",
   "execution_count": 244,
   "id": "323a35fd",
   "metadata": {},
   "outputs": [
    {
     "name": "stdout",
     "output_type": "stream",
     "text": [
      "[ 0 40 80], [10 50 90], [ 20  60 100], [ 30  70 110], "
     ]
    }
   ],
   "source": [
    "for x in np.nditer(a, flags = ['external_loop'], order = 'F'): \n",
    "    print (x, end=\", \" )"
   ]
  },
  {
   "cell_type": "markdown",
   "id": "f2bc6a9d",
   "metadata": {},
   "source": [
    "flags = ['external_loop']，当数组的 order 与在循环中指定的 order 顺序不同时，打印为多个一维数组，当相同时，是整个一个一维数组。"
   ]
  },
  {
   "cell_type": "code",
   "execution_count": 245,
   "id": "b5cd92f3",
   "metadata": {},
   "outputs": [
    {
     "name": "stdout",
     "output_type": "stream",
     "text": [
      "[  0  10  20  30  40  50  60  70  80  90 100 110], "
     ]
    }
   ],
   "source": [
    "for x in np.nditer(a, flags = ['external_loop'], order = 'C'): \n",
    "    print (x, end=\", \" )"
   ]
  },
  {
   "cell_type": "markdown",
   "id": "372575a9",
   "metadata": {},
   "source": [
    "# 8 - Numpy数组操作"
   ]
  },
  {
   "cell_type": "markdown",
   "id": "f4336f32",
   "metadata": {},
   "source": [
    "## 8.1 - 修改数组形状"
   ]
  },
  {
   "cell_type": "markdown",
   "id": "6aabde7d",
   "metadata": {},
   "source": [
    "|  参数   | 描述  |\n",
    "|  :----:  |  :----  |\n",
    "| reshape  | 不改变数据的情况下修改形状 |\n",
    "| flat  | 数组元素迭代器  |\n",
    "| flatten  | 返回一份数组拷贝，对拷贝所做的修改不会影响原始数组 |\n",
    "| ravel  | 返回展开数组  |"
   ]
  },
  {
   "cell_type": "markdown",
   "id": "f4da2d5c",
   "metadata": {},
   "source": [
    "### numpy.reshape\n",
    "- numpy.reshape 函数可以在不改变数据的条件下修改形状，格式如下：\n",
    "\n",
    "numpy.reshape(arr, newshape, order='C')\n",
    "\n",
    "|  参数   | 描述  |\n",
    "|  :----:  |  :----  |\n",
    "| arr  | 要修改形状的数组 |\n",
    "| newshape  | 整数或者整数数组，新的形状应当兼容原有形状  |\n",
    "| order  | 'C' -- 按行，'F' -- 按列，'A' -- 原顺序，'k' -- 元素在内存中的出现顺序。 |"
   ]
  },
  {
   "cell_type": "code",
   "execution_count": 265,
   "id": "d52110f7",
   "metadata": {
    "scrolled": true
   },
   "outputs": [
    {
     "name": "stdout",
     "output_type": "stream",
     "text": [
      "原始数组： \n",
      "\n",
      "[0 1 2 3 4 5]\n",
      "修改后数组： \n",
      "\n",
      "[[0 1 2]\n",
      " [3 4 5]]\n"
     ]
    }
   ],
   "source": [
    "a = np.arange(6)\n",
    "print(\"原始数组：\",\"\\n\")\n",
    "print(a)\n",
    "a = a.reshape(2,3,order=\"C\")\n",
    "print(\"修改后数组：\", \"\\n\")\n",
    "print(a)"
   ]
  },
  {
   "cell_type": "code",
   "execution_count": 34,
   "id": "6c86df30",
   "metadata": {},
   "outputs": [
    {
     "name": "stdout",
     "output_type": "stream",
     "text": [
      "[[1 2]\n",
      " [3 4]]\n",
      "[1 2 3 4]\n"
     ]
    }
   ],
   "source": [
    "# np.reshape() 参数形式\n",
    "a = np.array([[1,2],[3,4]])\n",
    "print(a)\n",
    "size = a.reshape(4)\n",
    "print(size)"
   ]
  },
  {
   "cell_type": "markdown",
   "id": "332eb68b",
   "metadata": {},
   "source": [
    "### numpy.ndarray.flat\n",
    "- numpy.ndarray.flat 是一个数组元素迭代器，实例如下:"
   ]
  },
  {
   "cell_type": "code",
   "execution_count": 285,
   "id": "38246dc2",
   "metadata": {},
   "outputs": [
    {
     "name": "stdout",
     "output_type": "stream",
     "text": [
      "原始数组：\n",
      " [[0 1 2]\n",
      " [3 4 5]\n",
      " [6 7 8]] \n",
      "\n",
      "[0 1 2]\n",
      "[3 4 5]\n",
      "[6 7 8]\n",
      "\n",
      "迭代后的数组：\n",
      "0,1,2,3,4,5,6,7,8,"
     ]
    }
   ],
   "source": [
    "a = np.arange(9).reshape(3,3)\n",
    "print(\"原始数组：\\n\", a, \"\\n\")\n",
    "for row in a:\n",
    "    print(row)\n",
    "    \n",
    "#对数组中每个元素都进行处理，可以使用flat属性，该属性是一个数组元素迭代器：\n",
    "print ('\\n迭代后的数组：')\n",
    "for element in a.flat:\n",
    "    print (element, end=',')    "
   ]
  },
  {
   "cell_type": "markdown",
   "id": "b6cf9815",
   "metadata": {},
   "source": [
    "### numpy.ndarray.flatten\n",
    "- numpy.ndarray.flatten 返回一份数组拷贝，对拷贝所做的修改不会影响原始数组，格式如下：\n",
    "- 参数说明：\n",
    "    - order：'C' -- 按行，'F' -- 按列，'A' -- 原顺序，'K' -- 元素在内存中的出现顺序。\n",
    "    \n",
    "ndarray.flatten(order='C')"
   ]
  },
  {
   "cell_type": "code",
   "execution_count": 286,
   "id": "858c949f",
   "metadata": {},
   "outputs": [
    {
     "name": "stdout",
     "output_type": "stream",
     "text": [
      "原数组：\n",
      "[[0 1 2 3]\n",
      " [4 5 6 7]]\n",
      "\n",
      "\n",
      "展开的数组：\n",
      "[0 1 2 3 4 5 6 7]\n",
      "\n",
      "以 F 风格顺序展开的数组：\n",
      "[0 4 1 5 2 6 3 7]\n"
     ]
    }
   ],
   "source": [
    "a = np.arange(8).reshape(2,4)\n",
    "print ('原数组：')\n",
    "print (a)\n",
    "print ('\\n')\n",
    "# 默认按行\n",
    "print ('展开的数组：')\n",
    "print (a.flatten())\n",
    "print ('\\n以 F 风格顺序展开的数组：')\n",
    "print(a.flatten(order='F'))"
   ]
  },
  {
   "cell_type": "markdown",
   "id": "5d8ad0fe",
   "metadata": {},
   "source": [
    "### numpy.ravel\n",
    "- numpy.ravel() 展平的数组元素，顺序通常是\"C风格\"，返回的是数组视图（view，有点类似 C/C++引用reference的意味），修改会影响原始数组。\n",
    "- 参数说明：\n",
    "    - order：'C' -- 按行，'F' -- 按列，'A' -- 原顺序，'K' -- 元素在内存中的出现顺序。\n",
    "\n",
    "numpy.ravel(a, order='C')\n"
   ]
  },
  {
   "cell_type": "code",
   "execution_count": 288,
   "id": "84159dc7",
   "metadata": {},
   "outputs": [
    {
     "name": "stdout",
     "output_type": "stream",
     "text": [
      "原数组：\n",
      "[[0 1 2 3]\n",
      " [4 5 6 7]]\n",
      "\n",
      "\n",
      "调用 ravel 函数之后：\n",
      "[0 1 2 3 4 5 6 7]\n",
      "\n",
      "\n",
      "以 F 风格顺序调用 ravel 函数之后：\n",
      "[0 4 1 5 2 6 3 7]\n"
     ]
    }
   ],
   "source": [
    "a = np.arange(8).reshape(2,4)\n",
    " \n",
    "print ('原数组：')\n",
    "print (a)\n",
    "print ('\\n')\n",
    " \n",
    "print ('调用 ravel 函数之后：')\n",
    "print (a.ravel())\n",
    "print ('\\n')\n",
    "\n",
    "print ('以 F 风格顺序调用 ravel 函数之后：')\n",
    "print (a.ravel(order = 'F'))"
   ]
  },
  {
   "cell_type": "markdown",
   "id": "331ed665",
   "metadata": {},
   "source": [
    "## 8.2 - 翻转数组"
   ]
  },
  {
   "cell_type": "markdown",
   "id": "17aaecf8",
   "metadata": {},
   "source": [
    "### numpy.transpose\n",
    "- numpy.transpose 函数用于对换数组的维度，格式如下：\n",
    "\n",
    "numpy.transpose(arr, axes)\n",
    "- 参数说明:\n",
    "    - arr：要操作的数组\n",
    "    - axes：整数列表，对应维度，通常所有维度都会对换。"
   ]
  },
  {
   "cell_type": "code",
   "execution_count": 22,
   "id": "f0944918",
   "metadata": {
    "scrolled": true
   },
   "outputs": [
    {
     "name": "stdout",
     "output_type": "stream",
     "text": [
      "原数组：\n",
      "\n",
      "[[ 0  1  2  3]\n",
      " [ 4  5  6  7]\n",
      " [ 8  9 10 11]]\n",
      "对换数组：\n",
      "[[ 0  4  8]\n",
      " [ 1  5  9]\n",
      " [ 2  6 10]\n",
      " [ 3  7 11]]\n"
     ]
    }
   ],
   "source": [
    "a = np.arange(12).reshape(3,4)\n",
    "print(\"原数组：\\n\")\n",
    "print(a)\n",
    "\n",
    "print(\"对换数组：\")\n",
    "print(np.transpose(a))"
   ]
  },
  {
   "cell_type": "code",
   "execution_count": 29,
   "id": "4a135194",
   "metadata": {},
   "outputs": [
    {
     "name": "stdout",
     "output_type": "stream",
     "text": [
      "[[[ 0  1  2]\n",
      "  [ 3  4  5]]\n",
      "\n",
      " [[ 6  7  8]\n",
      "  [ 9 10 11]]]\n",
      "(array([1], dtype=int64), array([0], dtype=int64), array([0], dtype=int64))\n",
      "(2, 3, 2)\n",
      "(array([0], dtype=int64), array([0], dtype=int64), array([1], dtype=int64))\n"
     ]
    }
   ],
   "source": [
    "# transpose 函数可以指定 axis 进行交换\n",
    "a = np.arange(0,12).reshape(2,2,3)\n",
    "print(a)\n",
    "print(np.where(a==6))\n",
    "\n",
    "a_t = np.transpose(a, axes=(1,2,0))\n",
    "print(a_t.shape)\n",
    "print(np.where(a_t==6))"
   ]
  },
  {
   "cell_type": "markdown",
   "id": "4204b287",
   "metadata": {},
   "source": [
    "### numpy.ndarray.T \n",
    "- 类似于numpy.transpose"
   ]
  },
  {
   "cell_type": "code",
   "execution_count": 296,
   "id": "55d54e7d",
   "metadata": {},
   "outputs": [
    {
     "name": "stdout",
     "output_type": "stream",
     "text": [
      "原数组：\n",
      "\n",
      "[[ 0  1  2  3]\n",
      " [ 4  5  6  7]\n",
      " [ 8  9 10 11]]\n",
      "转置数组：\n",
      "[[ 0  4  8]\n",
      " [ 1  5  9]\n",
      " [ 2  6 10]\n",
      " [ 3  7 11]]\n"
     ]
    }
   ],
   "source": [
    "a = np.arange(12).reshape(3,4)\n",
    "print(\"原数组：\\n\")\n",
    "print(a)\n",
    "\n",
    "print(\"转置数组：\")\n",
    "print(a.T)"
   ]
  },
  {
   "cell_type": "markdown",
   "id": "2e57ce27",
   "metadata": {},
   "source": [
    "### numpy.rollaxis\n",
    "- numpy.rollaxis 函数向后滚动特定的轴到一个特定位置，格式如下：\n",
    "- 参数说明：\n",
    "    - arr：数组\n",
    "    - axis：要向后滚动的轴，其它轴的相对位置不会改变\n",
    "    - start：默认为零，表示完整的滚动。会滚动到特定位置。\n",
    "\n",
    "numpy.rollaxis(arr, axis, start)\n",
    "\n",
    "\n"
   ]
  },
  {
   "cell_type": "code",
   "execution_count": 307,
   "id": "f0536252",
   "metadata": {},
   "outputs": [
    {
     "name": "stdout",
     "output_type": "stream",
     "text": [
      "原数组：\n",
      "[[[0 1]\n",
      "  [2 3]]\n",
      "\n",
      " [[4 5]\n",
      "  [6 7]]]\n",
      "\n",
      "获取数组中一个值：\n",
      "(array([1], dtype=int64), array([1], dtype=int64), array([0], dtype=int64))\n",
      "6\n"
     ]
    }
   ],
   "source": [
    "# 创建三维数组\n",
    "a = np.arange(8).reshape(2,2,2)\n",
    "print ('原数组：')\n",
    "print (a)\n",
    "print ('\\n获取数组中一个值：')\n",
    "print(np.where(a==6))\n",
    "print(a[1,1,0])"
   ]
  },
  {
   "cell_type": "code",
   "execution_count": 310,
   "id": "e83e5a74",
   "metadata": {},
   "outputs": [
    {
     "name": "stdout",
     "output_type": "stream",
     "text": [
      "调用 rollaxis 函数：\n",
      "[[[0 2]\n",
      "  [4 6]]\n",
      "\n",
      " [[1 3]\n",
      "  [5 7]]]\n",
      "\n",
      "\n",
      "(array([0], dtype=int64), array([1], dtype=int64), array([1], dtype=int64))\n"
     ]
    }
   ],
   "source": [
    "# 将轴 2 滚动到轴 0（宽度到深度）\n",
    "print ('调用 rollaxis 函数：')\n",
    "b = np.rollaxis(a, 2, 0) \n",
    "print (b)\n",
    "# 查看元素 a[1,1,0]，即 6 的坐标，变成 [0, 1, 1]\n",
    "# 最后一个 0 移动到最前面\n",
    "print ('\\n')\n",
    "print(np.where(b==6))   "
   ]
  },
  {
   "cell_type": "code",
   "execution_count": 312,
   "id": "d9ff027e",
   "metadata": {},
   "outputs": [
    {
     "name": "stdout",
     "output_type": "stream",
     "text": [
      "调用 rollaxis 函数：\n",
      "[[[0 2]\n",
      "  [1 3]]\n",
      "\n",
      " [[4 6]\n",
      "  [5 7]]]\n",
      "\n",
      "\n",
      "(array([1], dtype=int64), array([0], dtype=int64), array([1], dtype=int64))\n"
     ]
    }
   ],
   "source": [
    "# 将轴 2 滚动到轴 1：（宽度到高度）\n",
    "print ('调用 rollaxis 函数：')\n",
    "c = np.rollaxis(a,2,1)\n",
    "print (c)\n",
    "# 查看元素 a[1,1,0]，即 6 的坐标，变成 [1, 0, 1]\n",
    "# 最后的 0 和 它前面的 1 对换位置\n",
    "print ('\\n')\n",
    "print(np.where(c==6))   "
   ]
  },
  {
   "cell_type": "markdown",
   "id": "338afbb2",
   "metadata": {},
   "source": [
    "### np.swapaxes\n",
    "- numpy.swapaxes 函数用于交换数组的两个轴，格式如下：\n",
    "- 参数说明：\n",
    "    - arr：输入的数组\n",
    "    - axis1：对应第一个轴的整数\n",
    "    - axis2：对应第二个轴的整数\n",
    "    \n",
    "numpy.swapaxes(arr, axis1, axis2)"
   ]
  },
  {
   "cell_type": "code",
   "execution_count": 313,
   "id": "78188edc",
   "metadata": {},
   "outputs": [
    {
     "name": "stdout",
     "output_type": "stream",
     "text": [
      "原数组：\n",
      "[[[0 1]\n",
      "  [2 3]]\n",
      "\n",
      " [[4 5]\n",
      "  [6 7]]]\n",
      "\n",
      "\n",
      "调用 swapaxes 函数后的数组：\n",
      "[[[0 4]\n",
      "  [2 6]]\n",
      "\n",
      " [[1 5]\n",
      "  [3 7]]]\n"
     ]
    }
   ],
   "source": [
    "# 创建了三维的 ndarray\n",
    "a = np.arange(8).reshape(2,2,2)\n",
    " \n",
    "print ('原数组：')\n",
    "print (a)\n",
    "print ('\\n')\n",
    "# 现在交换轴 0（深度方向）到轴 2（宽度方向）\n",
    "\n",
    "print ('调用 swapaxes 函数后的数组：')\n",
    "print (np.swapaxes(a, 2, 0))"
   ]
  },
  {
   "cell_type": "markdown",
   "id": "92fb3953",
   "metadata": {},
   "source": [
    "## 8.3 - 修改数组维度"
   ]
  },
  {
   "cell_type": "markdown",
   "id": "5ea629ba",
   "metadata": {},
   "source": [
    "### numpy.broadcast\n",
    "numpy.broadcast 用于模仿广播的对象，它返回一个对象，该对象封装了将一个数组广播到另一个数组的结果。\n",
    "\n",
    "该函数使用两个数组作为输入参数，如下实例："
   ]
  },
  {
   "cell_type": "code",
   "execution_count": 343,
   "id": "7658c082",
   "metadata": {},
   "outputs": [
    {
     "name": "stdout",
     "output_type": "stream",
     "text": [
      "[[1]\n",
      " [2]\n",
      " [3]]\n",
      "[4 5 6]\n"
     ]
    }
   ],
   "source": [
    "x = np.array([[1],[2],[3]])\n",
    "y = np.array([4,5,6])\n",
    "print(x)\n",
    "print(y)"
   ]
  },
  {
   "cell_type": "code",
   "execution_count": 344,
   "id": "cc8de1e3",
   "metadata": {},
   "outputs": [
    {
     "name": "stdout",
     "output_type": "stream",
     "text": [
      "\n",
      "对y广播x：\n",
      "1 4\n",
      "1 5\n"
     ]
    }
   ],
   "source": [
    "# 对y广播x\n",
    "b = np. broadcast(x,y)  # 它拥有 iterator 属性，基于自身组件的迭代器元组\n",
    "# for i in  b:\n",
    "#     print(i)\n",
    "    \n",
    "print(\"\\n对y广播x：\")\n",
    "r, c = b.iters\n",
    "print (next(r), next(c))\n",
    "print (next(r), next(c))"
   ]
  },
  {
   "cell_type": "code",
   "execution_count": 345,
   "id": "e71c2985",
   "metadata": {},
   "outputs": [
    {
     "name": "stdout",
     "output_type": "stream",
     "text": [
      "广播对象的形状：\n",
      "(3, 3)\n"
     ]
    }
   ],
   "source": [
    "print ('广播对象的形状：')\n",
    "print(b.shape)"
   ]
  },
  {
   "cell_type": "code",
   "execution_count": 348,
   "id": "4c173433",
   "metadata": {},
   "outputs": [
    {
     "name": "stdout",
     "output_type": "stream",
     "text": [
      "\n",
      "手动使用 broadcast 将 x 与 y 相加：\n",
      "调用 flat 函数：\n",
      "[[5. 6. 7.]\n",
      " [6. 7. 8.]\n",
      " [7. 8. 9.]]\n",
      "x 与 y 的和：\n",
      "[[5 6 7]\n",
      " [6 7 8]\n",
      " [7 8 9]]\n"
     ]
    }
   ],
   "source": [
    "# 手动使用 broadcast 将 x 与 y 相加\n",
    "b = np.broadcast(x,y)\n",
    "c = np.empty(b.shape)\n",
    "print ('\\n手动使用 broadcast 将 x 与 y 相加：')\n",
    "c.flat = [u+v for u,v in b]\n",
    "print ('调用 flat 函数：')\n",
    "print(c)\n",
    "# 获得了和 NumPy 内建的广播支持相同的结果\n",
    " \n",
    "print ('x 与 y 的和：')\n",
    "print (x + y)"
   ]
  },
  {
   "cell_type": "markdown",
   "id": "85d0c645",
   "metadata": {},
   "source": [
    "### numpy.broadcast_to\n",
    "\n",
    "numpy.broadcast_to 函数将数组广播到新形状。它在原始数组上返回只读视图。 它通常不连续。 如果新形状不符合 NumPy 的广播规则，该函数可能会抛出ValueError。\n",
    "\n",
    "numpy.broadcast_to(array, shape, subok)"
   ]
  },
  {
   "cell_type": "code",
   "execution_count": 353,
   "id": "e2d1cb3a",
   "metadata": {},
   "outputs": [
    {
     "name": "stdout",
     "output_type": "stream",
     "text": [
      "原数组：\n",
      "[[0 1 2 3]]\n"
     ]
    }
   ],
   "source": [
    "a = np.arange(4).reshape(1,4)\n",
    "print(\"原数组：\")\n",
    "print(a)"
   ]
  },
  {
   "cell_type": "code",
   "execution_count": 354,
   "id": "a70878cc",
   "metadata": {
    "scrolled": true
   },
   "outputs": [
    {
     "name": "stdout",
     "output_type": "stream",
     "text": [
      "调用 broadcast_to 函数之后：\n",
      "[[0 1 2 3]\n",
      " [0 1 2 3]\n",
      " [0 1 2 3]\n",
      " [0 1 2 3]]\n"
     ]
    }
   ],
   "source": [
    "print ('调用 broadcast_to 函数之后：')\n",
    "print(np.broadcast_to(a, (4,4)))"
   ]
  },
  {
   "cell_type": "markdown",
   "id": "e8cb7178",
   "metadata": {},
   "source": [
    "### numpy.expand_dims\n",
    "- numpy.expand_dims 函数通过在指定位置插入新的轴来扩展数组形状，函数格式如下:\n",
    "- 参数说明：\n",
    "    - arr：输入数组\n",
    "    - axis：新轴插入的位置\n",
    " \n",
    "numpy.expand_dims(arr, axis)"
   ]
  },
  {
   "cell_type": "code",
   "execution_count": 369,
   "id": "669ef494",
   "metadata": {},
   "outputs": [
    {
     "name": "stdout",
     "output_type": "stream",
     "text": [
      "数组x:\n",
      "[[1 2]\n",
      " [3 4]]\n",
      "\n",
      "数组 y：\n",
      "[[[1 2]\n",
      "  [3 4]]]\n",
      "\n",
      "数组 x 和 y 的形状：\n",
      "(2, 2) (1, 2, 2)\n"
     ]
    }
   ],
   "source": [
    "x = np.array([[1,2],[3,4]])\n",
    "print(\"数组x:\")\n",
    "print(x)\n",
    "y = np.expand_dims(x, axis=0)\n",
    "print ('\\n数组 y：')\n",
    "print (y)\n",
    "print ('\\n数组 x 和 y 的形状：')\n",
    "print(x.shape, y.shape)"
   ]
  },
  {
   "cell_type": "code",
   "execution_count": 372,
   "id": "2430a22d",
   "metadata": {},
   "outputs": [
    {
     "name": "stdout",
     "output_type": "stream",
     "text": [
      "在位置 1 插入轴之后的数组 y：\n",
      "[[[1 2]]\n",
      "\n",
      " [[3 4]]]\n",
      "\n",
      "x.ndim 和 y.ndim：\n",
      "2 3\n",
      "\n",
      "x.shape 和 y.shape：\n",
      "(2, 2) (2, 1, 2)\n"
     ]
    }
   ],
   "source": [
    "# 在位置 1 插入轴\n",
    "y = np.expand_dims(x, axis = 1)\n",
    "print ('在位置 1 插入轴之后的数组 y：')\n",
    "print (y)\n",
    "print ('\\nx.ndim 和 y.ndim：')\n",
    "print (x.ndim,y.ndim)\n",
    "print ('\\nx.shape 和 y.shape：')\n",
    "print (x.shape, y.shape)"
   ]
  },
  {
   "cell_type": "markdown",
   "id": "63bea86e",
   "metadata": {},
   "source": [
    "### numpy.squeeze\n",
    "- numpy.squeeze 函数从给定数组的形状中删除一维的条目，函数格式如下：\n",
    "- 参数说明：\n",
    "    - arr：输入数组\n",
    "    - axis：整数或整数元组，用于选择形状中一维条目的子集\n",
    "\n",
    "numpy.squeeze(arr, axis)"
   ]
  },
  {
   "cell_type": "code",
   "execution_count": 373,
   "id": "57bc9c12",
   "metadata": {},
   "outputs": [
    {
     "name": "stdout",
     "output_type": "stream",
     "text": [
      "数组 x：\n",
      "[[[0 1 2]\n",
      "  [3 4 5]\n",
      "  [6 7 8]]]\n",
      "\n",
      "数组 y：\n",
      "[[0 1 2]\n",
      " [3 4 5]\n",
      " [6 7 8]]\n",
      "\n",
      "数组 x 和 y 的形状：\n",
      "(1, 3, 3) (3, 3)\n"
     ]
    }
   ],
   "source": [
    "x = np.arange(9).reshape(1,3,3)\n",
    " \n",
    "print ('数组 x：')\n",
    "print (x)\n",
    "\n",
    "print ('\\n数组 y：')\n",
    "y = np.squeeze(x)\n",
    "print (y)\n",
    "\n",
    "print ('\\n数组 x 和 y 的形状：')\n",
    "print (x.shape, y.shape)"
   ]
  },
  {
   "cell_type": "markdown",
   "id": "074e569b",
   "metadata": {},
   "source": [
    "## 8.4 - 连接数组"
   ]
  },
  {
   "cell_type": "markdown",
   "id": "f933c434",
   "metadata": {},
   "source": [
    "### numpy.concatenate\n",
    "- numpy.concatenate 函数用于沿指定轴连接相同形状的两个或多个数组，格式如下：\n",
    "- 参数说明：\n",
    "    - a1, a2, ...：相同类型的数组\n",
    "    - axis：沿着它连接数组的轴，默认为 0\n",
    "\n",
    "numpy.concatenate((a1, a2, ...), axis)"
   ]
  },
  {
   "cell_type": "code",
   "execution_count": 378,
   "id": "5ae23834",
   "metadata": {},
   "outputs": [
    {
     "name": "stdout",
     "output_type": "stream",
     "text": [
      "[[1 2]\n",
      " [3 4]]\n",
      "[[5 6]\n",
      " [7 8]]\n",
      "[[1 2]\n",
      " [3 4]\n",
      " [5 6]\n",
      " [7 8]]\n",
      "[[1 2 5 6]\n",
      " [3 4 7 8]]\n"
     ]
    }
   ],
   "source": [
    "# axis的重点在于方向，而不是行和列。1表示横轴，方向从左到右；0表示纵轴，方向从上到下。\n",
    "a = np.array([[1,2],[3,4]])\n",
    "print(a)\n",
    "b = np.array([[5,6],[7,8]])\n",
    "print(b)\n",
    "c = np.concatenate((a,b),axis=0)\n",
    "print(c)\n",
    "d = np.concatenate((a,b),axis=1)\n",
    "print(d)"
   ]
  },
  {
   "cell_type": "markdown",
   "id": "4b4f5ed6",
   "metadata": {},
   "source": [
    "### numpy.stack\n",
    "- numpy.stack 函数用于沿新轴连接数组序列，格式如下：\n",
    "- 参数说明：\n",
    "    - arrays相同形状的数组序列\n",
    "    - axis：返回数组中的轴，输入数组沿着它来堆叠\n",
    "\n",
    "numpy.stack(arrays, axis)"
   ]
  },
  {
   "cell_type": "code",
   "execution_count": 380,
   "id": "3b99adc1",
   "metadata": {},
   "outputs": [
    {
     "name": "stdout",
     "output_type": "stream",
     "text": [
      "[[1 2]\n",
      " [3 4]]\n",
      "[[5 6]\n",
      " [7 8]]\n",
      "[[[1 2]\n",
      "  [3 4]]\n",
      "\n",
      " [[5 6]\n",
      "  [7 8]]]\n",
      "[[[1 2]\n",
      "  [5 6]]\n",
      "\n",
      " [[3 4]\n",
      "  [7 8]]]\n"
     ]
    }
   ],
   "source": [
    "a = np.array([[1,2],[3,4]])\n",
    "print(a)\n",
    "b = np.array([[5,6],[7,8]])\n",
    "print(b)\n",
    "c = np.stack((a,b),axis=0)\n",
    "print(c)\n",
    "d = np.stack((a,b),axis=1)\n",
    "print(d)"
   ]
  },
  {
   "cell_type": "markdown",
   "id": "a17cb29c",
   "metadata": {},
   "source": [
    "### numpy.hstack\n",
    "numpy.hstack 是 numpy.stack 函数的变体，它通过水平堆叠来生成数组。"
   ]
  },
  {
   "cell_type": "code",
   "execution_count": 381,
   "id": "508bcfbc",
   "metadata": {},
   "outputs": [
    {
     "name": "stdout",
     "output_type": "stream",
     "text": [
      "[[1 2]\n",
      " [3 4]]\n",
      "[[5 6]\n",
      " [7 8]]\n",
      "[[1 2 5 6]\n",
      " [3 4 7 8]]\n"
     ]
    }
   ],
   "source": [
    "a = np.array([[1,2],[3,4]])\n",
    "print(a)\n",
    "b = np.array([[5,6],[7,8]])\n",
    "print(b)\n",
    "c = np.hstack((a,b))\n",
    "print(c)"
   ]
  },
  {
   "cell_type": "markdown",
   "id": "99d077a7",
   "metadata": {},
   "source": [
    "### numpy.vstack\n",
    "numpy.vstack 是 numpy.stack 函数的变体，它通过垂直堆叠来生成数组。"
   ]
  },
  {
   "cell_type": "code",
   "execution_count": 382,
   "id": "c747f741",
   "metadata": {},
   "outputs": [
    {
     "name": "stdout",
     "output_type": "stream",
     "text": [
      "[[1 2]\n",
      " [3 4]]\n",
      "[[5 6]\n",
      " [7 8]]\n",
      "[[1 2]\n",
      " [3 4]\n",
      " [5 6]\n",
      " [7 8]]\n"
     ]
    }
   ],
   "source": [
    "a = np.array([[1,2],[3,4]])\n",
    "print(a)\n",
    "b = np.array([[5,6],[7,8]])\n",
    "print(b)\n",
    "c = np.vstack((a,b))\n",
    "print(c)"
   ]
  },
  {
   "cell_type": "markdown",
   "id": "a466d0ba",
   "metadata": {},
   "source": [
    "## 8.4 - 分割数组"
   ]
  },
  {
   "cell_type": "markdown",
   "id": "9aaeb62a",
   "metadata": {},
   "source": [
    "### numpy.split\n",
    "- numpy.split 函数沿特定的轴将数组分割为子数组，格式如下：\n",
    "- 参数说明：\n",
    "    - ary：被分割的数组\n",
    "    - indices_or_sections：如果是一个整数，就用该数平均切分，如果是一个数组，为沿轴切分的位置（左开右闭）\n",
    "    - axis：设置沿着哪个方向进行切分，默认为 0，横向切分，即水平方向。为 1 时，纵向切分，即竖直方向。\n",
    "\n",
    "numpy.split(ary, indices_or_sections, axis)"
   ]
  },
  {
   "cell_type": "code",
   "execution_count": 385,
   "id": "e0eb8949",
   "metadata": {},
   "outputs": [
    {
     "name": "stdout",
     "output_type": "stream",
     "text": [
      "[0 1 2 3 4 5 6 7 8]\n",
      "[array([0, 1, 2]), array([3, 4, 5]), array([6, 7, 8])]\n",
      "[array([0, 1, 2, 3]), array([4, 5, 6]), array([7, 8])]\n"
     ]
    }
   ],
   "source": [
    "a = np.arange(9)\n",
    "print(a)\n",
    "# 将数组分为三个大小相等的子数组\n",
    "b = np.split(a,3)\n",
    "print(b)\n",
    "# 将数组在一维数组中表明的位置分割\n",
    "c = np.split(a, [4,7])\n",
    "print(c)"
   ]
  },
  {
   "cell_type": "code",
   "execution_count": 388,
   "id": "c5fd5ad5",
   "metadata": {},
   "outputs": [
    {
     "name": "stdout",
     "output_type": "stream",
     "text": [
      "[[ 0  1  2  3]\n",
      " [ 4  5  6  7]\n",
      " [ 8  9 10 11]\n",
      " [12 13 14 15]]\n",
      "[array([[0, 1, 2, 3],\n",
      "       [4, 5, 6, 7]]), array([[ 8,  9, 10, 11],\n",
      "       [12, 13, 14, 15]])]\n",
      "[array([[ 0,  1],\n",
      "       [ 4,  5],\n",
      "       [ 8,  9],\n",
      "       [12, 13]]), array([[ 2,  3],\n",
      "       [ 6,  7],\n",
      "       [10, 11],\n",
      "       [14, 15]])]\n"
     ]
    }
   ],
   "source": [
    "# 按轴分割\n",
    "a = np.arange(16).reshape(4,4)\n",
    "print(a)\n",
    "b = np.split(a,2,axis=0)\n",
    "print(b)\n",
    "c = np.split(a,2,axis=1)\n",
    "print(c)"
   ]
  },
  {
   "cell_type": "markdown",
   "id": "542b768a",
   "metadata": {},
   "source": [
    "### numpy.hsplit\n",
    "numpy.hsplit 函数用于水平分割数组，通过指定要返回的相同形状的数组数量来拆分原数组。"
   ]
  },
  {
   "cell_type": "code",
   "execution_count": 394,
   "id": "53ade1e0",
   "metadata": {
    "scrolled": true
   },
   "outputs": [
    {
     "name": "stdout",
     "output_type": "stream",
     "text": [
      "[[2. 7. 7. 5. 6. 4.]\n",
      " [0. 1. 7. 2. 3. 5.]]\n",
      "[array([[2., 7., 7.],\n",
      "       [0., 1., 7.]]), array([[5., 6., 4.],\n",
      "       [2., 3., 5.]])]\n"
     ]
    }
   ],
   "source": [
    "harr = np.floor(10 * np.random.random((2, 6)))\n",
    "print(harr)\n",
    "harr_split = np.hsplit(harr,2)\n",
    "print(harr_split)"
   ]
  },
  {
   "cell_type": "markdown",
   "id": "1db716ef",
   "metadata": {},
   "source": [
    "### numpy.vsplit\n",
    "numpy.vsplit 沿着垂直轴分割，其分割方式与hsplit用法相同。"
   ]
  },
  {
   "cell_type": "code",
   "execution_count": 395,
   "id": "ad64db1b",
   "metadata": {},
   "outputs": [
    {
     "name": "stdout",
     "output_type": "stream",
     "text": [
      "[[7. 3. 2. 3. 0. 5.]\n",
      " [8. 8. 5. 0. 3. 7.]]\n",
      "[array([[7., 3., 2., 3., 0., 5.]]), array([[8., 8., 5., 0., 3., 7.]])]\n"
     ]
    }
   ],
   "source": [
    "harr = np.floor(10 * np.random.random((2, 6)))\n",
    "print(harr)\n",
    "harr_split = np.vsplit(harr,2)\n",
    "print(harr_split)"
   ]
  },
  {
   "cell_type": "markdown",
   "id": "a6187a39",
   "metadata": {},
   "source": [
    "## 8.5 - 数组元素的添加与删除"
   ]
  },
  {
   "cell_type": "markdown",
   "id": "0183d5aa",
   "metadata": {},
   "source": [
    "### numpy.resize\n",
    "- numpy.resize 函数返回指定大小的新数组。\n",
    "- 如果新数组大小大于原始大小，则包含原始数组中的元素的副本。\n",
    "- 参数说明：\n",
    "    - arr：要修改大小的数组\n",
    "    - shape：返回数组的新形状\n",
    "    \n",
    "numpy.resize(arr, shape)"
   ]
  },
  {
   "cell_type": "code",
   "execution_count": 404,
   "id": "a39accba",
   "metadata": {},
   "outputs": [
    {
     "name": "stdout",
     "output_type": "stream",
     "text": [
      "[[1 2 3]\n",
      " [4 5 6]]\n",
      "[[1 2]\n",
      " [3 4]\n",
      " [5 6]]\n",
      "[[1 2 3]\n",
      " [4 5 6]\n",
      " [1 2 3]]\n",
      "[[1 2 3 4]\n",
      " [5 6 1 2]\n",
      " [3 4 5 6]]\n"
     ]
    }
   ],
   "source": [
    "a = np.array([[1,2,3],[4,5,6]])\n",
    "print(a)\n",
    "b = np.resize(a, (3,2))\n",
    "print(b)\n",
    "c = np.resize(a, (3,3))\n",
    "print(c)\n",
    "d = np.resize(a, (3,4))\n",
    "print(d)"
   ]
  },
  {
   "cell_type": "markdown",
   "id": "fc3c7015",
   "metadata": {},
   "source": [
    "### numpy.append\n",
    "- numpy.append 函数在数组的末尾添加值。 追加操作会分配整个数组，并把原来的数组复制到新数组中。 此外，输入数组的维度必须匹配否则将生成ValueError。\n",
    "- append 函数返回的始终是一个一维数组。\n",
    "- 参数说明：\n",
    "    - arr：输入数组\n",
    "    - values：要向arr添加的值，需要和arr形状相同（除了要添加的轴）\n",
    "    - axis：默认为 None。当axis无定义时，是横向加成，返回总是为一维数组！当axis有定义的时候，分别为0和1的时候。当axis有定义的时候，分别为0和1的时候（列数要相同）。当axis为1时，数组是加在右边（行数要相同）。\n",
    "\n",
    "numpy.append(arr, values, axis=None)"
   ]
  },
  {
   "cell_type": "code",
   "execution_count": 417,
   "id": "f6066269",
   "metadata": {},
   "outputs": [
    {
     "name": "stdout",
     "output_type": "stream",
     "text": [
      "[[1 2 3]\n",
      " [4 5 6]]\n",
      "[1 2 3 4 5 6 7 8 9]\n",
      "[[1 2 3]\n",
      " [4 5 6]\n",
      " [7 8 9]]\n",
      "[[1 2 3 7 7 7]\n",
      " [4 5 6 8 8 8]]\n"
     ]
    }
   ],
   "source": [
    "a = np.array([[1,2,3],[4,5,6]])\n",
    "print(a)\n",
    "# 向数组添加元素(返回一维数组)\n",
    "b = np.append(a, [7,8,9])\n",
    "print(b)\n",
    "# 纵向添加\n",
    "c = np.append(a, [[7,8,9]],axis=0)\n",
    "print(c)\n",
    "# 横向添加\n",
    "d = np.append(a, [[7,7,7],[8,8,8]],axis=1)\n",
    "print(d)"
   ]
  },
  {
   "cell_type": "markdown",
   "id": "89f98351",
   "metadata": {},
   "source": [
    "### numpy.insert\n",
    "- numpy.insert 函数在给定索引之前，沿给定轴在输入数组中插入值。\n",
    "- 如果值的类型转换为要插入，则它与输入数组不同。 插入没有原地的，函数会返回一个新数组。 此外，如果未提供轴，则输入数组会被展开。\n",
    "- 参数说明：\n",
    "    - arr：输入数组\n",
    "    - obj：在其之前插入值的索引\n",
    "    - values：要插入的值\n",
    "    - axis：沿着它插入的轴，如果未提供，则输入数组会被展开\n",
    "\n",
    "numpy.insert(arr, obj, values, axis)"
   ]
  },
  {
   "cell_type": "code",
   "execution_count": 3,
   "id": "4f989df9",
   "metadata": {
    "scrolled": true
   },
   "outputs": [
    {
     "name": "stdout",
     "output_type": "stream",
     "text": [
      "[[1 2]\n",
      " [3 4]\n",
      " [5 6]]\n",
      "[1 2 7 8 3 4 5 6]\n",
      "[[1 2]\n",
      " [3 4]\n",
      " [7 7]\n",
      " [5 6]]\n",
      "[[ 1  2  8]\n",
      " [ 3  4  9]\n",
      " [ 5  6 10]]\n",
      "[[ 1  2 11]\n",
      " [ 3  4 11]\n",
      " [ 5  6 11]]\n",
      "[[ 1  2  8  9 10]\n",
      " [ 3  4  8  9 10]\n",
      " [ 5  6  8  9 10]]\n"
     ]
    }
   ],
   "source": [
    "a = np.array([[1,2],[3,4],[5,6]])\n",
    "print(a)\n",
    "# 未传递axis\n",
    "b = np.insert(a, 2, [7,8])\n",
    "print(b)\n",
    "# 传递了 Axis 参数。 会广播值数组来配输入数组\n",
    "c = np.insert(a, 2, [7,7], axis=0)\n",
    "print(c)\n",
    "d = np.insert(a, 2, [8,9,10], axis=1)\n",
    "print(d)\n",
    "e = np.insert(a, 2, 11, axis=1)\n",
    "print(e)\n",
    "f = np.insert(a, 2, [[8],[9],[10]], axis=1)\n",
    "print(f)"
   ]
  },
  {
   "cell_type": "markdown",
   "id": "17e0b0b4",
   "metadata": {},
   "source": [
    "### numpy.delete\n",
    "- numpy.delete 函数返回从输入数组中删除指定子数组的新数组。 与 insert() 函数的情况一样，如果未提供轴参数，则输入数组将展开。\n",
    "- 参数说明：\n",
    "    - arr：输入数组\n",
    "    - obj：可以被切片，整数或者整数数组，表明要从输入数组删除的子数组\n",
    "    - axis：沿着它删除给定子数组的轴，如果未提供，则输入数组会被展开\n",
    "\n",
    "Numpy.delete(arr, obj, axis)"
   ]
  },
  {
   "cell_type": "code",
   "execution_count": 11,
   "id": "fc4f24d1",
   "metadata": {},
   "outputs": [
    {
     "name": "stdout",
     "output_type": "stream",
     "text": [
      "[[ 0  1  2  3]\n",
      " [ 4  5  6  7]\n",
      " [ 8  9 10 11]]\n",
      "[ 0  1  2  3  4  6  7  8  9 10 11]\n",
      "[[ 0  2  3]\n",
      " [ 4  6  7]\n",
      " [ 8 10 11]]\n",
      "[[ 0  1  2  3]\n",
      " [ 8  9 10 11]]\n",
      "[ 2  4  6  8 10]\n"
     ]
    }
   ],
   "source": [
    "a = np.arange(12).reshape(3,4)\n",
    "print(a)\n",
    "# 未传递 Axis 参数。 在插入之前输入数组会被展开。\n",
    "b = np.delete(a, 5)\n",
    "print(b)\n",
    "# 删除第2列\n",
    "c = np.delete(a,1,axis=1)\n",
    "print(c)\n",
    "# 删除第2行\n",
    "d = np.delete(a,1,axis=0)\n",
    "print(d)\n",
    "# 包含从数组中删除的替代值的切片\n",
    "a = np.array([1,2,3,4,5,6,7,8,9,10])\n",
    "print (np.delete(a, np.s_[::2]))   # slice()切片函数（start:end:step）"
   ]
  },
  {
   "cell_type": "markdown",
   "id": "49e7bf4f",
   "metadata": {},
   "source": [
    "### numpy.unique\n",
    "- numpy.unique 函数用于去除数组中的重复元素。\n",
    "- 参数说明:\n",
    "    - arr：输入数组，如果不是一维数组则会展开\n",
    "    - return_index：如果为true，返回新列表元素在旧列表中的位置（下标），并以列表形式储\n",
    "    - return_inverse：如果为true，返回旧列表元素在新列表中的位置（下标），并以列表形式储\n",
    "    - return_counts：如果为true，返回去重数组中的元素在原数组中的出现次数\n",
    "\n",
    "numpy.unique(arr, return_index, return_inverse, return_counts)"
   ]
  },
  {
   "cell_type": "code",
   "execution_count": 35,
   "id": "900b54b9",
   "metadata": {},
   "outputs": [
    {
     "name": "stdout",
     "output_type": "stream",
     "text": [
      "原数组：\n",
      "[5 2 6 2 7 5 6 8 2 9]\n",
      "\n",
      "去重后：\n",
      "[2 5 6 7 8 9]\n",
      "\n",
      "去重数组的索引数组：\n",
      "(array([2, 5, 6, 7, 8, 9]), array([1, 0, 2, 4, 7, 9], dtype=int64))\n",
      "\n",
      "去重数组的下标：\n",
      "(array([2, 5, 6, 7, 8, 9]), array([1, 0, 2, 0, 3, 1, 2, 4, 0, 5], dtype=int64))\n",
      "\n",
      "使用下标重构原数组：\n",
      "[2 5 6 7 8 9] \n",
      " [1 0 2 0 3 1 2 4 0 5]\n",
      "[5 2 6 2 7 5 6 8 2 9]\n",
      "\n",
      "返回去重元素的重复数量：\n",
      "(array([2, 5, 6, 7, 8, 9]), array([3, 2, 2, 1, 1, 1], dtype=int64))\n"
     ]
    }
   ],
   "source": [
    "print(\"原数组：\")\n",
    "a = np.array([5,2,6,2,7,5,6,8,2,9])\n",
    "print(a)\n",
    "\n",
    "print(\"\\n去重后：\")\n",
    "b = np.unique(a)\n",
    "print(b)\n",
    "\n",
    "print(\"\\n去重数组的索引数组：\")\n",
    "c = np.unique(a, return_index=True)\n",
    "print(c)\n",
    "\n",
    "print(\"\\n去重数组的下标：\")\n",
    "d = np.unique(a, return_inverse=True)\n",
    "print(d)\n",
    "\n",
    "print(\"\\n使用下标重构原数组：\")\n",
    "u, indice = np.unique(a, return_inverse=True)\n",
    "print(u, '\\n', indice)\n",
    "print(u[indice])\n",
    "\n",
    "print ('\\n返回去重元素的重复数量：')\n",
    "e = np.unique(a,return_counts = True)\n",
    "print (e)"
   ]
  },
  {
   "cell_type": "markdown",
   "id": "09c4432b",
   "metadata": {},
   "source": [
    "# 9 - Numpy位运算"
   ]
  },
  {
   "cell_type": "markdown",
   "id": "2338aca3",
   "metadata": {},
   "source": [
    "NumPy \"bitwise_\" 开头的函数是位运算函数。\n",
    "\n",
    "NumPy 位运算包括以下几个函数：\n",
    "\n",
    "|  参数   | 描述  |\n",
    "|  :----:  |  :----  |\n",
    "| bitwise_and  | 对数组元素执行位与操作 |\n",
    "| bitwise_or  | 对数组元素执行位或操作  |\n",
    "| invert  | 按位取反 |\n",
    "| left_shift  | 向左移动二进制表示的位 |\n",
    "| right_shift  | 向右移动二进制表示的位 |\n",
    "\n",
    "<font color=#FF2121>**注：也可以使用 \"&\"、 \"~\"、 \"|\" 和 \"^\" 等操作符进行计算。**</font>"
   ]
  },
  {
   "cell_type": "markdown",
   "id": "0fa62d4e",
   "metadata": {},
   "source": [
    "### bitwise_and\n",
    "bitwise_and() 函数对数组中整数的二进制形式执行位与运算。"
   ]
  },
  {
   "cell_type": "code",
   "execution_count": 44,
   "id": "2d9fa180",
   "metadata": {},
   "outputs": [
    {
     "name": "stdout",
     "output_type": "stream",
     "text": [
      "13 和 17 的二进制形式：\n",
      "0b1101 0b10001\n",
      "\n",
      "13 和 17 的位与：\n",
      "1\n",
      "1\n"
     ]
    }
   ],
   "source": [
    "print ('13 和 17 的二进制形式：')\n",
    "a, b = 13, 17\n",
    "print(bin(a), bin(b))\n",
    "\n",
    "print ('\\n13 和 17 的位与：')\n",
    "print(np.bitwise_and(a,b))\n",
    "print(a&b)"
   ]
  },
  {
   "cell_type": "code",
   "execution_count": null,
   "id": "76a7ecab",
   "metadata": {},
   "outputs": [],
   "source": []
  }
 ],
 "metadata": {
  "kernelspec": {
   "display_name": "Python 3 (ipykernel)",
   "language": "python",
   "name": "python3"
  },
  "language_info": {
   "codemirror_mode": {
    "name": "ipython",
    "version": 3
   },
   "file_extension": ".py",
   "mimetype": "text/x-python",
   "name": "python",
   "nbconvert_exporter": "python",
   "pygments_lexer": "ipython3",
   "version": "3.9.12"
  }
 },
 "nbformat": 4,
 "nbformat_minor": 5
}
